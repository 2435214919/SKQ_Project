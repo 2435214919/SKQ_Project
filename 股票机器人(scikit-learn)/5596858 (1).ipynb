{
  "nbformat": 4,
  "nbformat_minor": 0,
  "metadata": {
    "colab": {
      "provenance": [],
      "toc_visible": true
    },
    "kernelspec": {
      "name": "python3",
      "display_name": "Python 3"
    },
    "language_info": {
      "name": "python"
    }
  },
  "cells": [
    {
      "cell_type": "markdown",
      "source": [
        "# <center>Individual Final Project</center>\n",
        "Using Machine Learning Technique to Trade in the Stock Market"
      ],
      "metadata": {
        "id": "pR0zDn0XyAHA"
      }
    },
    {
      "cell_type": "code",
      "source": [
        "# Calculating RSI, MACD and Bollinger Bands using the ta library.\n",
        "!pip install ta"
      ],
      "metadata": {
        "id": "mlE1Hp6okG3m",
        "colab": {
          "base_uri": "https://localhost:8080/"
        },
        "outputId": "77e4fccf-3bc3-4fca-fc9e-12aeec1da2b8"
      },
      "execution_count": null,
      "outputs": [
        {
          "output_type": "stream",
          "name": "stdout",
          "text": [
            "Looking in indexes: https://pypi.org/simple, https://us-python.pkg.dev/colab-wheels/public/simple/\n",
            "Collecting ta\n",
            "  Downloading ta-0.10.2.tar.gz (25 kB)\n",
            "  Preparing metadata (setup.py) ... \u001b[?25l\u001b[?25hdone\n",
            "Requirement already satisfied: numpy in /usr/local/lib/python3.10/dist-packages (from ta) (1.22.4)\n",
            "Requirement already satisfied: pandas in /usr/local/lib/python3.10/dist-packages (from ta) (1.5.3)\n",
            "Requirement already satisfied: python-dateutil>=2.8.1 in /usr/local/lib/python3.10/dist-packages (from pandas->ta) (2.8.2)\n",
            "Requirement already satisfied: pytz>=2020.1 in /usr/local/lib/python3.10/dist-packages (from pandas->ta) (2022.7.1)\n",
            "Requirement already satisfied: six>=1.5 in /usr/local/lib/python3.10/dist-packages (from python-dateutil>=2.8.1->pandas->ta) (1.16.0)\n",
            "Building wheels for collected packages: ta\n",
            "  Building wheel for ta (setup.py) ... \u001b[?25l\u001b[?25hdone\n",
            "  Created wheel for ta: filename=ta-0.10.2-py3-none-any.whl size=29103 sha256=22aaca495ef3bb742a7040f351eb98bb940e15b7e12631d14133f6de8f4b6ba7\n",
            "  Stored in directory: /root/.cache/pip/wheels/47/51/06/380dc516ea78621870b93ff65527c251afdfdc5fa9d7f4d248\n",
            "Successfully built ta\n",
            "Installing collected packages: ta\n",
            "Successfully installed ta-0.10.2\n"
          ]
        }
      ]
    },
    {
      "cell_type": "markdown",
      "source": [
        "# 1 Business Understanding"
      ],
      "metadata": {
        "id": "6eVww9OY960C"
      }
    },
    {
      "cell_type": "markdown",
      "source": [
        "Abstract: In this project, I have developed a smart trading bot that leverages machine learning models to predict stock price trends and generate buy and sell signals for optimal trading decisions. The primary motivation behind this trading bot is to simplify the stock market trading process and help investors maximize their returns.\n",
        "\n",
        "1. Problem Definition:\n",
        "The challenge of predicting stock price movements has always been a complex task, primarily due to the volatile nature of financial markets. Our goal is to build a trading bot that can successfully navigate this complexity and assist investors in making more informed decisions.\n",
        "\n",
        "2. Data Retrieval and Annotation:\n",
        "I collected Tencent stock data from 2015-2020 to train and test the model, including opening price, highest price, lowest price, closing price and trading volume, to analyze and predict trends. Characteristics used in our models include Moving Average, Moving Average Return, Relative Strength Index (RSI), Moving Average Convergence Divergence (MACD) and Bollinger Bands. I defined \"high\" and \"low\" in terms of local(10-day) extrema and created labels for our dataset accordingly.\n",
        "\n",
        "3. Machine Learning Models:\n",
        "I have employed four machine learning models, namely Random Forest (RF), XGBoost (XGB), Decision Tree (DT), and Multilayer Perceptron (MLP). These models were chosen based on their potential to capture complex patterns in financial data and their adaptability to new information.\n",
        "\n",
        "4. Model Training and Validation:\n",
        "The dataset was split into training and testing sets. Each model was trained using the training set, and their performance was evaluated using the testing set. Key performance metrics such as accuracy and F1-score were used to assess the models' effectiveness in predicting \"high\" and \"low\" price movements.\n",
        "\n",
        "5. Trading Mechanism:\n",
        "Use 2021 Tencent stock data to simulate real trading. I simulated trading scenarios using trained models for different investor types: short-term, medium-term, long-term and random investors. The trading mechanism buys and sells stocks based on buy and sell signals generated using models. Investor preferences, such as their profit targets and risk tolerance, are expressed through adjustable parameters such as \"g\" (gain), \"l\" (loss) and \"d\" (days). Finally, compare the four model profits in the bar chart."
      ],
      "metadata": {
        "id": "-naSOEPXe17S"
      }
    },
    {
      "cell_type": "markdown",
      "source": [
        "# 2 Data Acquisition and Processing"
      ],
      "metadata": {
        "id": "nIw20W7vyVBW"
      }
    },
    {
      "cell_type": "code",
      "source": [
        "#use pandas and yfinance library to get historical stock price data:\n",
        "import pandas as pd\n",
        "import yfinance as yf\n",
        "from scipy.signal import argrelextrema\n",
        "import numpy as np\n",
        "import matplotlib.pyplot as plt\n",
        "\n",
        "ticker = '0700.HK'\n",
        "start_date = '2015-01-01'\n",
        "end_date = '2021-01-01'\n",
        "\n",
        "# Get stock price data\n",
        "stock_data = yf.download(ticker, start=start_date, end=end_date)"
      ],
      "metadata": {
        "colab": {
          "base_uri": "https://localhost:8080/"
        },
        "id": "38PY87q9yTgZ",
        "outputId": "28147254-9f97-4f84-e88d-3056dd87ae4c"
      },
      "execution_count": null,
      "outputs": [
        {
          "output_type": "stream",
          "name": "stdout",
          "text": [
            "\r[*********************100%***********************]  1 of 1 completed\n"
          ]
        }
      ]
    },
    {
      "cell_type": "code",
      "source": [
        "# Calculate local maxima and minima\n",
        "n = 10\n",
        "local_max = argrelextrema(stock_data.Close.values, np.greater_equal, order=n)\n",
        "local_min = argrelextrema(stock_data.Close.values, np.less_equal, order=n)\n",
        "\n",
        "# Plot stock price trends and local extrema\n",
        "plt.plot(stock_data['Close'])\n",
        "plt.plot(stock_data.iloc[local_max]['Close'], 'o', color='orange')\n",
        "plt.plot(stock_data.iloc[local_min]['Close'], 'o', color='red')\n",
        "plt.show()"
      ],
      "metadata": {
        "colab": {
          "base_uri": "https://localhost:8080/",
          "height": 430
        },
        "id": "WVz_hF9RynWT",
        "outputId": "2de768e2-3c6b-49e4-f66c-de5023855f4f"
      },
      "execution_count": null,
      "outputs": [
        {
          "output_type": "display_data",
          "data": {
            "text/plain": [
              "<Figure size 640x480 with 1 Axes>"
            ],
            "image/png": "[encoded data removed]"
          },
          "metadata": {}
        }
      ]
    },
    {
      "cell_type": "markdown",
      "source": [
        "# 3 Feature Selection"
      ],
      "metadata": {
        "id": "wDY4WTQnywOW"
      }
    },
    {
      "cell_type": "markdown",
      "source": [
        "moving_avg: A moving average is a popular technical analysis tool used to smooth out price fluctuations and determine price trends. Moving averages help identify up and down trends in a market by calculating the average price over a period of time.\n",
        "\n",
        "moving_avg_return: The moving average return represents the moving average of stock returns over a certain time range. This helps assess the stock's earnings performance and identify potential investment opportunities.\n",
        "\n",
        "RSI (Relative Strength Index): RSI is a momentum indicator used to assess the speed at which the price of a stock or other financial asset is changing.\n",
        "\n",
        "MACD (Moving Average Convergence/Divergence Index): MACD is a trend-following momentum indicator that measures price momentum by comparing moving averages over different time spans.\n",
        "\n",
        "MACD_signal: The MACD signal line is a smoothing process of the original MACD line, usually obtained by calculating the moving average of the MACD line. When the MACD line crosses the signal line, it can be a signal to buy or sell.\n",
        "\n",
        "BB_upper, BB_middle, BB_lower (Bollinger Bands): When the price is close to the upper or lower limit of the Bollinger Bands, it may indicate that the market is overbought or oversold, and a price reversal may occur.\n",
        "\n",
        "These characteristics are widely adopted in technical analysis, so it is reasonable to use them as features when building machine learning models."
      ],
      "metadata": {
        "id": "EpxqNGNVqLTU"
      }
    },
    {
      "cell_type": "code",
      "source": [
        "def create_features(data, window=10):\n",
        "    data['moving_avg'] = data['Close'].rolling(window=window).mean()\n",
        "    data['moving_avg_return'] = (data['moving_avg'].pct_change() + 1).cumprod()\n",
        "    return data\n",
        "\n",
        "stock_data = create_features(stock_data)"
      ],
      "metadata": {
        "id": "0lT8by5Ay4Hj"
      },
      "execution_count": null,
      "outputs": []
    },
    {
      "cell_type": "code",
      "source": [
        "import pandas as pd\n",
        "import ta\n",
        "\n",
        "# Calculate RSI\n",
        "stock_data['RSI'] = ta.momentum.RSIIndicator(stock_data['Close']).rsi()\n",
        "\n",
        "# Calculation of MACD and its signal line\n",
        "macd_indicator = ta.trend.MACD(stock_data['Close'])\n",
        "stock_data['MACD'] = macd_indicator.macd()\n",
        "stock_data['MACD_signal'] = macd_indicator.macd_signal()\n",
        "\n",
        "# Calculate Bollinger Bands\n",
        "bollinger_indicator = ta.volatility.BollingerBands(stock_data['Close'])\n",
        "stock_data['BB_upper'] = bollinger_indicator.bollinger_hband()\n",
        "stock_data['BB_middle'] = bollinger_indicator.bollinger_mavg()\n",
        "stock_data['BB_lower'] = bollinger_indicator.bollinger_lband()"
      ],
      "metadata": {
        "id": "t8ZEmoZtkCgJ"
      },
      "execution_count": null,
      "outputs": []
    },
    {
      "cell_type": "code",
      "source": [
        "local_minima_indices = argrelextrema(stock_data.Close.values, np.less_equal, order=n)\n",
        "local_maxima_indices = argrelextrema(stock_data.Close.values, np.greater_equal, order=n)\n"
      ],
      "metadata": {
        "id": "-4R5fFW0y97A"
      },
      "execution_count": null,
      "outputs": []
    },
    {
      "cell_type": "code",
      "source": [
        "stock_data['label'] = np.zeros(len(stock_data))\n",
        "for i in local_minima_indices:\n",
        "  stock_data['label'][i] = 1\n",
        "for i in local_maxima_indices:\n",
        "  stock_data['label'][i] = 2  \n",
        "stock_data"
      ],
      "metadata": {
        "colab": {
          "base_uri": "https://localhost:8080/",
          "height": 872
        },
        "id": "nCg_WKe1zFrB",
        "outputId": "45174535-81f0-4d7f-d77d-98486c5dbabb"
      },
      "execution_count": null,
      "outputs": [
        {
          "output_type": "stream",
          "name": "stderr",
          "text": [
            "<ipython-input-7-d02629a8df72>:3: SettingWithCopyWarning: \n",
            "A value is trying to be set on a copy of a slice from a DataFrame\n",
            "\n",
            "See the caveats in the documentation: https://pandas.pydata.org/pandas-docs/stable/user_guide/indexing.html#returning-a-view-versus-a-copy\n",
            "  stock_data['label'][i] = 1\n",
            "<ipython-input-7-d02629a8df72>:5: SettingWithCopyWarning: \n",
            "A value is trying to be set on a copy of a slice from a DataFrame\n",
            "\n",
            "See the caveats in the documentation: https://pandas.pydata.org/pandas-docs/stable/user_guide/indexing.html#returning-a-view-versus-a-copy\n",
            "  stock_data['label'][i] = 2\n"
          ]
        },
        {
          "output_type": "execute_result",
          "data": {
            "text/plain": [
              "                  Open        High         Low       Close   Adj Close  \\\n",
              "Date                                                                     \n",
              "2015-01-02  113.599998  113.599998  111.300003  112.800003  110.276047   \n",
              "2015-01-05  113.500000  115.300003  112.800003  113.500000  110.960373   \n",
              "2015-01-06  114.000000  120.500000  113.599998  120.000000  117.314926   \n",
              "2015-01-07  123.500000  124.500000  122.599998  124.400002  121.616478   \n",
              "2015-01-08  127.500000  127.800003  125.599998  127.300003  124.451599   \n",
              "...                ...         ...         ...         ...         ...   \n",
              "2020-12-24  557.500000  557.500000  557.500000  557.500000  553.381592   \n",
              "2020-12-28  539.500000  542.000000  519.000000  519.000000  515.166016   \n",
              "2020-12-29  530.000000  539.000000  526.000000  530.500000  526.581116   \n",
              "2020-12-30  542.000000  563.000000  539.000000  559.500000  555.366882   \n",
              "2020-12-31  566.000000  566.000000  566.000000  566.000000  561.818848   \n",
              "\n",
              "              Volume  moving_avg  moving_avg_return        RSI      MACD  \\\n",
              "Date                                                                       \n",
              "2015-01-02  10862542         NaN                NaN        NaN       NaN   \n",
              "2015-01-05  21808993         NaN                NaN        NaN       NaN   \n",
              "2015-01-06  43678255         NaN                NaN        NaN       NaN   \n",
              "2015-01-07  40863410         NaN                NaN        NaN       NaN   \n",
              "2015-01-08  35638986         NaN                NaN        NaN       NaN   \n",
              "...              ...         ...                ...        ...       ...   \n",
              "2020-12-24         0      572.65           4.644363  41.917499 -3.119914   \n",
              "2020-12-28  60559725      565.75           4.588402  31.366537 -7.186281   \n",
              "2020-12-29  36250049      561.70           4.555556  36.507461 -9.372906   \n",
              "2020-12-30  29182959      561.65           4.555150  47.239844 -8.665871   \n",
              "2020-12-31         0      561.10           4.550689  49.308136 -7.494650   \n",
              "\n",
              "            MACD_signal    BB_upper  BB_middle    BB_lower  label  \n",
              "Date                                                               \n",
              "2015-01-02          NaN         NaN        NaN         NaN    1.0  \n",
              "2015-01-05          NaN         NaN        NaN         NaN    0.0  \n",
              "2015-01-06          NaN         NaN        NaN         NaN    0.0  \n",
              "2015-01-07          NaN         NaN        NaN         NaN    0.0  \n",
              "2015-01-08          NaN         NaN        NaN         NaN    0.0  \n",
              "...                 ...         ...        ...         ...    ...  \n",
              "2020-12-24    -1.174833  594.689290    576.575  558.460710    0.0  \n",
              "2020-12-28    -2.377122  604.065186    573.375  542.684814    1.0  \n",
              "2020-12-29    -3.776279  607.491433    571.750  536.008567    0.0  \n",
              "2020-12-30    -4.754198  606.828160    570.825  534.821840    0.0  \n",
              "2020-12-31    -5.302288  606.455924    570.425  534.394076    0.0  \n",
              "\n",
              "[1481 rows x 15 columns]"
            ],
            "text/html": [
              "\n",
              "  <div id=\"df-3e3028cf-9f92-4354-bb3d-571901cc811b\">\n",
              "    <div class=\"colab-df-container\">\n",
              "      <div>\n",
              "<style scoped>\n",
              "    .dataframe tbody tr th:only-of-type {\n",
              "        vertical-align: middle;\n",
              "    }\n",
              "\n",
              "    .dataframe tbody tr th {\n",
              "        vertical-align: top;\n",
              "    }\n",
              "\n",
              "    .dataframe thead th {\n",
              "        text-align: right;\n",
              "    }\n",
              "</style>\n",
              "<table border=\"1\" class=\"dataframe\">\n",
              "  <thead>\n",
              "    <tr style=\"text-align: right;\">\n",
              "      <th></th>\n",
              "      <th>Open</th>\n",
              "      <th>High</th>\n",
              "      <th>Low</th>\n",
              "      <th>Close</th>\n",
              "      <th>Adj Close</th>\n",
              "      <th>Volume</th>\n",
              "      <th>moving_avg</th>\n",
              "      <th>moving_avg_return</th>\n",
              "      <th>RSI</th>\n",
              "      <th>MACD</th>\n",
              "      <th>MACD_signal</th>\n",
              "      <th>BB_upper</th>\n",
              "      <th>BB_middle</th>\n",
              "      <th>BB_lower</th>\n",
              "      <th>label</th>\n",
              "    </tr>\n",
              "    <tr>\n",
              "      <th>Date</th>\n",
              "      <th></th>\n",
              "      <th></th>\n",
              "      <th></th>\n",
              "      <th></th>\n",
              "      <th></th>\n",
              "      <th></th>\n",
              "      <th></th>\n",
              "      <th></th>\n",
              "      <th></th>\n",
              "      <th></th>\n",
              "      <th></th>\n",
              "      <th></th>\n",
              "      <th></th>\n",
              "      <th></th>\n",
              "      <th></th>\n",
              "    </tr>\n",
              "  </thead>\n",
              "  <tbody>\n",
              "    <tr>\n",
              "      <th>2015-01-02</th>\n",
              "      <td>113.599998</td>\n",
              "      <td>113.599998</td>\n",
              "      <td>111.300003</td>\n",
              "      <td>112.800003</td>\n",
              "      <td>110.276047</td>\n",
              "      <td>10862542</td>\n",
              "      <td>NaN</td>\n",
              "      <td>NaN</td>\n",
              "      <td>NaN</td>\n",
              "      <td>NaN</td>\n",
              "      <td>NaN</td>\n",
              "      <td>NaN</td>\n",
              "      <td>NaN</td>\n",
              "      <td>NaN</td>\n",
              "      <td>1.0</td>\n",
              "    </tr>\n",
              "    <tr>\n",
              "      <th>2015-01-05</th>\n",
              "      <td>113.500000</td>\n",
              "      <td>115.300003</td>\n",
              "      <td>112.800003</td>\n",
              "      <td>113.500000</td>\n",
              "      <td>110.960373</td>\n",
              "      <td>21808993</td>\n",
              "      <td>NaN</td>\n",
              "      <td>NaN</td>\n",
              "      <td>NaN</td>\n",
              "      <td>NaN</td>\n",
              "      <td>NaN</td>\n",
              "      <td>NaN</td>\n",
              "      <td>NaN</td>\n",
              "      <td>NaN</td>\n",
              "      <td>0.0</td>\n",
              "    </tr>\n",
              "    <tr>\n",
              "      <th>2015-01-06</th>\n",
              "      <td>114.000000</td>\n",
              "      <td>120.500000</td>\n",
              "      <td>113.599998</td>\n",
              "      <td>120.000000</td>\n",
              "      <td>117.314926</td>\n",
              "      <td>43678255</td>\n",
              "      <td>NaN</td>\n",
              "      <td>NaN</td>\n",
              "      <td>NaN</td>\n",
              "      <td>NaN</td>\n",
              "      <td>NaN</td>\n",
              "      <td>NaN</td>\n",
              "      <td>NaN</td>\n",
              "      <td>NaN</td>\n",
              "      <td>0.0</td>\n",
              "    </tr>\n",
              "    <tr>\n",
              "      <th>2015-01-07</th>\n",
              "      <td>123.500000</td>\n",
              "      <td>124.500000</td>\n",
              "      <td>122.599998</td>\n",
              "      <td>124.400002</td>\n",
              "      <td>121.616478</td>\n",
              "      <td>40863410</td>\n",
              "      <td>NaN</td>\n",
              "      <td>NaN</td>\n",
              "      <td>NaN</td>\n",
              "      <td>NaN</td>\n",
              "      <td>NaN</td>\n",
              "      <td>NaN</td>\n",
              "      <td>NaN</td>\n",
              "      <td>NaN</td>\n",
              "      <td>0.0</td>\n",
              "    </tr>\n",
              "    <tr>\n",
              "      <th>2015-01-08</th>\n",
              "      <td>127.500000</td>\n",
              "      <td>127.800003</td>\n",
              "      <td>125.599998</td>\n",
              "      <td>127.300003</td>\n",
              "      <td>124.451599</td>\n",
              "      <td>35638986</td>\n",
              "      <td>NaN</td>\n",
              "      <td>NaN</td>\n",
              "      <td>NaN</td>\n",
              "      <td>NaN</td>\n",
              "      <td>NaN</td>\n",
              "      <td>NaN</td>\n",
              "      <td>NaN</td>\n",
              "      <td>NaN</td>\n",
              "      <td>0.0</td>\n",
              "    </tr>\n",
              "    <tr>\n",
              "      <th>...</th>\n",
              "      <td>...</td>\n",
              "      <td>...</td>\n",
              "      <td>...</td>\n",
              "      <td>...</td>\n",
              "      <td>...</td>\n",
              "      <td>...</td>\n",
              "      <td>...</td>\n",
              "      <td>...</td>\n",
              "      <td>...</td>\n",
              "      <td>...</td>\n",
              "      <td>...</td>\n",
              "      <td>...</td>\n",
              "      <td>...</td>\n",
              "      <td>...</td>\n",
              "      <td>...</td>\n",
              "    </tr>\n",
              "    <tr>\n",
              "      <th>2020-12-24</th>\n",
              "      <td>557.500000</td>\n",
              "      <td>557.500000</td>\n",
              "      <td>557.500000</td>\n",
              "      <td>557.500000</td>\n",
              "      <td>553.381592</td>\n",
              "      <td>0</td>\n",
              "      <td>572.65</td>\n",
              "      <td>4.644363</td>\n",
              "      <td>41.917499</td>\n",
              "      <td>-3.119914</td>\n",
              "      <td>-1.174833</td>\n",
              "      <td>594.689290</td>\n",
              "      <td>576.575</td>\n",
              "      <td>558.460710</td>\n",
              "      <td>0.0</td>\n",
              "    </tr>\n",
              "    <tr>\n",
              "      <th>2020-12-28</th>\n",
              "      <td>539.500000</td>\n",
              "      <td>542.000000</td>\n",
              "      <td>519.000000</td>\n",
              "      <td>519.000000</td>\n",
              "      <td>515.166016</td>\n",
              "      <td>60559725</td>\n",
              "      <td>565.75</td>\n",
              "      <td>4.588402</td>\n",
              "      <td>31.366537</td>\n",
              "      <td>-7.186281</td>\n",
              "      <td>-2.377122</td>\n",
              "      <td>604.065186</td>\n",
              "      <td>573.375</td>\n",
              "      <td>542.684814</td>\n",
              "      <td>1.0</td>\n",
              "    </tr>\n",
              "    <tr>\n",
              "      <th>2020-12-29</th>\n",
              "      <td>530.000000</td>\n",
              "      <td>539.000000</td>\n",
              "      <td>526.000000</td>\n",
              "      <td>530.500000</td>\n",
              "      <td>526.581116</td>\n",
              "      <td>36250049</td>\n",
              "      <td>561.70</td>\n",
              "      <td>4.555556</td>\n",
              "      <td>36.507461</td>\n",
              "      <td>-9.372906</td>\n",
              "      <td>-3.776279</td>\n",
              "      <td>607.491433</td>\n",
              "      <td>571.750</td>\n",
              "      <td>536.008567</td>\n",
              "      <td>0.0</td>\n",
              "    </tr>\n",
              "    <tr>\n",
              "      <th>2020-12-30</th>\n",
              "      <td>542.000000</td>\n",
              "      <td>563.000000</td>\n",
              "      <td>539.000000</td>\n",
              "      <td>559.500000</td>\n",
              "      <td>555.366882</td>\n",
              "      <td>29182959</td>\n",
              "      <td>561.65</td>\n",
              "      <td>4.555150</td>\n",
              "      <td>47.239844</td>\n",
              "      <td>-8.665871</td>\n",
              "      <td>-4.754198</td>\n",
              "      <td>606.828160</td>\n",
              "      <td>570.825</td>\n",
              "      <td>534.821840</td>\n",
              "      <td>0.0</td>\n",
              "    </tr>\n",
              "    <tr>\n",
              "      <th>2020-12-31</th>\n",
              "      <td>566.000000</td>\n",
              "      <td>566.000000</td>\n",
              "      <td>566.000000</td>\n",
              "      <td>566.000000</td>\n",
              "      <td>561.818848</td>\n",
              "      <td>0</td>\n",
              "      <td>561.10</td>\n",
              "      <td>4.550689</td>\n",
              "      <td>49.308136</td>\n",
              "      <td>-7.494650</td>\n",
              "      <td>-5.302288</td>\n",
              "      <td>606.455924</td>\n",
              "      <td>570.425</td>\n",
              "      <td>534.394076</td>\n",
              "      <td>0.0</td>\n",
              "    </tr>\n",
              "  </tbody>\n",
              "</table>\n",
              "<p>1481 rows × 15 columns</p>\n",
              "</div>\n",
              "      <button class=\"colab-df-convert\" onclick=\"convertToInteractive('df-3e3028cf-9f92-4354-bb3d-571901cc811b')\"\n",
              "              title=\"Convert this dataframe to an interactive table.\"\n",
              "              style=\"display:none;\">\n",
              "        \n",
              "  <svg xmlns=\"http://www.w3.org/2000/svg\" height=\"24px\"viewBox=\"0 0 24 24\"\n",
              "       width=\"24px\">\n",
              "    <path d=\"M0 0h24v24H0V0z\" fill=\"none\"/>\n",
              "    <path d=\"M18.56 5.44l.94 2.06.94-2.06 2.06-.94-2.06-.94-.94-2.06-.94 2.06-2.06.94zm-11 1L8.5 8.5l.94-2.06 2.06-.94-2.06-.94L8.5 2.5l-.94 2.06-2.06.94zm10 10l.94 2.06.94-2.06 2.06-.94-2.06-.94-.94-2.06-.94 2.06-2.06.94z\"/><path d=\"M17.41 7.96l-1.37-1.37c-.4-.4-.92-.59-1.43-.59-.52 0-1.04.2-1.43.59L10.3 9.45l-7.72 7.72c-.78.78-.78 2.05 0 2.83L4 21.41c.39.39.9.59 1.41.59.51 0 1.02-.2 1.41-.59l7.78-7.78 2.81-2.81c.8-.78.8-2.07 0-2.86zM5.41 20L4 18.59l7.72-7.72 1.47 1.35L5.41 20z\"/>\n",
              "  </svg>\n",
              "      </button>\n",
              "      \n",
              "  <style>\n",
              "    .colab-df-container {\n",
              "      display:flex;\n",
              "      flex-wrap:wrap;\n",
              "      gap: 12px;\n",
              "    }\n",
              "\n",
              "    .colab-df-convert {\n",
              "      background-color: #E8F0FE;\n",
              "      border: none;\n",
              "      border-radius: 50%;\n",
              "      cursor: pointer;\n",
              "      display: none;\n",
              "      fill: #1967D2;\n",
              "      height: 32px;\n",
              "      padding: 0 0 0 0;\n",
              "      width: 32px;\n",
              "    }\n",
              "\n",
              "    .colab-df-convert:hover {\n",
              "      background-color: #E2EBFA;\n",
              "      box-shadow: 0px 1px 2px rgba(60, 64, 67, 0.3), 0px 1px 3px 1px rgba(60, 64, 67, 0.15);\n",
              "      fill: #174EA6;\n",
              "    }\n",
              "\n",
              "    [theme=dark] .colab-df-convert {\n",
              "      background-color: #3B4455;\n",
              "      fill: #D2E3FC;\n",
              "    }\n",
              "\n",
              "    [theme=dark] .colab-df-convert:hover {\n",
              "      background-color: #434B5C;\n",
              "      box-shadow: 0px 1px 3px 1px rgba(0, 0, 0, 0.15);\n",
              "      filter: drop-shadow(0px 1px 2px rgba(0, 0, 0, 0.3));\n",
              "      fill: #FFFFFF;\n",
              "    }\n",
              "  </style>\n",
              "\n",
              "      <script>\n",
              "        const buttonEl =\n",
              "          document.querySelector('#df-3e3028cf-9f92-4354-bb3d-571901cc811b button.colab-df-convert');\n",
              "        buttonEl.style.display =\n",
              "          google.colab.kernel.accessAllowed ? 'block' : 'none';\n",
              "\n",
              "        async function convertToInteractive(key) {\n",
              "          const element = document.querySelector('#df-3e3028cf-9f92-4354-bb3d-571901cc811b');\n",
              "          const dataTable =\n",
              "            await google.colab.kernel.invokeFunction('convertToInteractive',\n",
              "                                                     [key], {});\n",
              "          if (!dataTable) return;\n",
              "\n",
              "          const docLinkHtml = 'Like what you see? Visit the ' +\n",
              "            '<a target=\"_blank\" href=https://colab.research.google.com/notebooks/data_table.ipynb>data table notebook</a>'\n",
              "            + ' to learn more about interactive tables.';\n",
              "          element.innerHTML = '';\n",
              "          dataTable['output_type'] = 'display_data';\n",
              "          await google.colab.output.renderOutput(dataTable, element);\n",
              "          const docLink = document.createElement('div');\n",
              "          docLink.innerHTML = docLinkHtml;\n",
              "          element.appendChild(docLink);\n",
              "        }\n",
              "      </script>\n",
              "    </div>\n",
              "  </div>\n",
              "  "
            ]
          },
          "metadata": {},
          "execution_count": 7
        }
      ]
    },
    {
      "cell_type": "markdown",
      "source": [
        "# 4 Modelling and evaluation"
      ],
      "metadata": {
        "id": "ZrxIaszi-EkW"
      }
    },
    {
      "cell_type": "markdown",
      "source": [
        "## 4.1 Random Forest"
      ],
      "metadata": {
        "id": "rXA-t3g6zOs1"
      }
    },
    {
      "cell_type": "markdown",
      "source": [
        "### Model Preparation"
      ],
      "metadata": {
        "id": "jkuqnlzKzaef"
      }
    },
    {
      "cell_type": "code",
      "source": [
        "from sklearn.ensemble import RandomForestClassifier\n",
        "from sklearn.model_selection import train_test_split\n",
        "from sklearn.metrics import accuracy_score, f1_score\n",
        "\n",
        "# prepare data\n",
        "stock_data = stock_data.dropna()\n",
        "X = stock_data[['moving_avg', 'moving_avg_return', 'RSI', 'MACD', 'MACD_signal', 'BB_upper', 'BB_middle', 'BB_lower']].values\n",
        "y = stock_data['label'].values\n",
        "\n",
        "# Divide training set and validation set\n",
        "X_train, X_val, y_train, y_val = train_test_split(X, y, test_size=0.3, random_state=42)"
      ],
      "metadata": {
        "id": "N5Ip4TxCzQBi"
      },
      "execution_count": null,
      "outputs": []
    },
    {
      "cell_type": "markdown",
      "source": [
        "### Training Model"
      ],
      "metadata": {
        "id": "jOYCX0MYzeom"
      }
    },
    {
      "cell_type": "code",
      "source": [
        "#rf = RandomForestClassifier(max_depth=3, min_samples_leaf=4, min_samples_split=5, n_estimators=10)\n",
        "rf = RandomForestClassifier(max_depth=10)\n",
        "rf.fit(X_train, y_train)"
      ],
      "metadata": {
        "colab": {
          "base_uri": "https://localhost:8080/",
          "height": 74
        },
        "id": "IUWDLJcbzkPn",
        "outputId": "aa2f3f68-f3cf-4edd-fff8-eb176afd40cd"
      },
      "execution_count": 47,
      "outputs": [
        {
          "output_type": "execute_result",
          "data": {
            "text/plain": [
              "RandomForestClassifier(max_depth=10)"
            ],
            "text/html": [
              "<style>#sk-container-id-14 {color: black;background-color: white;}#sk-container-id-14 pre{padding: 0;}#sk-container-id-14 div.sk-toggleable {background-color: white;}#sk-container-id-14 label.sk-toggleable__label {cursor: pointer;display: block;width: 100%;margin-bottom: 0;padding: 0.3em;box-sizing: border-box;text-align: center;}#sk-container-id-14 label.sk-toggleable__label-arrow:before {content: \"▸\";float: left;margin-right: 0.25em;color: #696969;}#sk-container-id-14 label.sk-toggleable__label-arrow:hover:before {color: black;}#sk-container-id-14 div.sk-estimator:hover label.sk-toggleable__label-arrow:before {color: black;}#sk-container-id-14 div.sk-toggleable__content {max-height: 0;max-width: 0;overflow: hidden;text-align: left;background-color: #f0f8ff;}#sk-container-id-14 div.sk-toggleable__content pre {margin: 0.2em;color: black;border-radius: 0.25em;background-color: #f0f8ff;}#sk-container-id-14 input.sk-toggleable__control:checked~div.sk-toggleable__content {max-height: 200px;max-width: 100%;overflow: auto;}#sk-container-id-14 input.sk-toggleable__control:checked~label.sk-toggleable__label-arrow:before {content: \"▾\";}#sk-container-id-14 div.sk-estimator input.sk-toggleable__control:checked~label.sk-toggleable__label {background-color: #d4ebff;}#sk-container-id-14 div.sk-label input.sk-toggleable__control:checked~label.sk-toggleable__label {background-color: #d4ebff;}#sk-container-id-14 input.sk-hidden--visually {border: 0;clip: rect(1px 1px 1px 1px);clip: rect(1px, 1px, 1px, 1px);height: 1px;margin: -1px;overflow: hidden;padding: 0;position: absolute;width: 1px;}#sk-container-id-14 div.sk-estimator {font-family: monospace;background-color: #f0f8ff;border: 1px dotted black;border-radius: 0.25em;box-sizing: border-box;margin-bottom: 0.5em;}#sk-container-id-14 div.sk-estimator:hover {background-color: #d4ebff;}#sk-container-id-14 div.sk-parallel-item::after {content: \"\";width: 100%;border-bottom: 1px solid gray;flex-grow: 1;}#sk-container-id-14 div.sk-label:hover label.sk-toggleable__label {background-color: #d4ebff;}#sk-container-id-14 div.sk-serial::before {content: \"\";position: absolute;border-left: 1px solid gray;box-sizing: border-box;top: 0;bottom: 0;left: 50%;z-index: 0;}#sk-container-id-14 div.sk-serial {display: flex;flex-direction: column;align-items: center;background-color: white;padding-right: 0.2em;padding-left: 0.2em;position: relative;}#sk-container-id-14 div.sk-item {position: relative;z-index: 1;}#sk-container-id-14 div.sk-parallel {display: flex;align-items: stretch;justify-content: center;background-color: white;position: relative;}#sk-container-id-14 div.sk-item::before, #sk-container-id-14 div.sk-parallel-item::before {content: \"\";position: absolute;border-left: 1px solid gray;box-sizing: border-box;top: 0;bottom: 0;left: 50%;z-index: -1;}#sk-container-id-14 div.sk-parallel-item {display: flex;flex-direction: column;z-index: 1;position: relative;background-color: white;}#sk-container-id-14 div.sk-parallel-item:first-child::after {align-self: flex-end;width: 50%;}#sk-container-id-14 div.sk-parallel-item:last-child::after {align-self: flex-start;width: 50%;}#sk-container-id-14 div.sk-parallel-item:only-child::after {width: 0;}#sk-container-id-14 div.sk-dashed-wrapped {border: 1px dashed gray;margin: 0 0.4em 0.5em 0.4em;box-sizing: border-box;padding-bottom: 0.4em;background-color: white;}#sk-container-id-14 div.sk-label label {font-family: monospace;font-weight: bold;display: inline-block;line-height: 1.2em;}#sk-container-id-14 div.sk-label-container {text-align: center;}#sk-container-id-14 div.sk-container {/* jupyter's `normalize.less` sets `[hidden] { display: none; }` but bootstrap.min.css set `[hidden] { display: none !important; }` so we also need the `!important` here to be able to override the default hidden behavior on the sphinx rendered scikit-learn.org. See: https://github.com/scikit-learn/scikit-learn/issues/21755 */display: inline-block !important;position: relative;}#sk-container-id-14 div.sk-text-repr-fallback {display: none;}</style><div id=\"sk-container-id-14\" class=\"sk-top-container\"><div class=\"sk-text-repr-fallback\"><pre>RandomForestClassifier(max_depth=10)</pre><b>In a Jupyter environment, please rerun this cell to show the HTML representation or trust the notebook. <br />On GitHub, the HTML representation is unable to render, please try loading this page with nbviewer.org.</b></div><div class=\"sk-container\" hidden><div class=\"sk-item\"><div class=\"sk-estimator sk-toggleable\"><input class=\"sk-toggleable__control sk-hidden--visually\" id=\"sk-estimator-id-14\" type=\"checkbox\" checked><label for=\"sk-estimator-id-14\" class=\"sk-toggleable__label sk-toggleable__label-arrow\">RandomForestClassifier</label><div class=\"sk-toggleable__content\"><pre>RandomForestClassifier(max_depth=10)</pre></div></div></div></div></div>"
            ]
          },
          "metadata": {},
          "execution_count": 47
        }
      ]
    },
    {
      "cell_type": "markdown",
      "source": [
        "### Evaluation Model"
      ],
      "metadata": {
        "id": "YBJE2ZXnzmWq"
      }
    },
    {
      "cell_type": "code",
      "source": [
        "y_pred = rf.predict(X_val)\n",
        "accuracy = accuracy_score(y_val, y_pred)\n",
        "f1 = f1_score(y_val, y_pred, average='weighted')\n",
        "\n",
        "print(\"Accuracy:\", accuracy)\n",
        "print(\"F1 Score:\", f1)"
      ],
      "metadata": {
        "colab": {
          "base_uri": "https://localhost:8080/"
        },
        "id": "IALtXSQwzsbL",
        "outputId": "f2239b97-5c75-4192-da0a-3a9b481633a6"
      },
      "execution_count": 44,
      "outputs": [
        {
          "output_type": "stream",
          "name": "stdout",
          "text": [
            "Accuracy: 0.9517241379310345\n",
            "F1 Score: 0.9304252467405871\n"
          ]
        }
      ]
    },
    {
      "cell_type": "markdown",
      "source": [
        "### Grid Search"
      ],
      "metadata": {
        "id": "6QWIJ4gwEhIi"
      }
    },
    {
      "cell_type": "code",
      "source": [
        "from sklearn.model_selection import GridSearchCV\n",
        "param_grid = {\n",
        "    'max_depth': [None, 10, 20, 30],\n",
        "}\n",
        "grid_search = GridSearchCV(estimator=rf, param_grid=param_grid, cv=5, scoring='accuracy', n_jobs=-1, verbose=2)\n",
        "grid_search.fit(X_train, y_train)\n",
        "best_params = grid_search.best_params_\n",
        "print(\"Best parameters found: \", best_params)"
      ],
      "metadata": {
        "colab": {
          "base_uri": "https://localhost:8080/"
        },
        "id": "R4Yt4bm_Egd8",
        "outputId": "5bf08a2e-acfd-4825-90ed-0c5071af7314"
      },
      "execution_count": null,
      "outputs": [
        {
          "output_type": "stream",
          "name": "stdout",
          "text": [
            "Fitting 5 folds for each of 4 candidates, totalling 20 fits\n",
            "Best parameters found:  {'max_depth': None}\n"
          ]
        }
      ]
    },
    {
      "cell_type": "code",
      "source": [
        "best_rf = grid_search.best_estimator_\n",
        "y_pred = best_rf.predict(X_val)\n",
        "accuracy = accuracy_score(y_val, y_pred)\n",
        "f1 = f1_score(y_val, y_pred, average='weighted')\n",
        "print(\"Accuracy with the best parameters: \", accuracy)\n",
        "print(\"F1 Score with the best parameters:\", f1)"
      ],
      "metadata": {
        "colab": {
          "base_uri": "https://localhost:8080/"
        },
        "id": "bCpl52v-E3b3",
        "outputId": "06ba23d1-ba1e-4c20-d350-a729e5079a9a"
      },
      "execution_count": null,
      "outputs": [
        {
          "output_type": "stream",
          "name": "stdout",
          "text": [
            "Accuracy with the best parameters:  0.9540229885057471\n",
            "F1 Score with the best parameters: 0.9357917402484741\n"
          ]
        }
      ]
    },
    {
      "cell_type": "markdown",
      "source": [
        "## 4.2 XGBoost"
      ],
      "metadata": {
        "id": "az7silr0A4l8"
      }
    },
    {
      "cell_type": "markdown",
      "source": [
        "### Model Preparation"
      ],
      "metadata": {
        "id": "S0iPGf2cA4l8"
      }
    },
    {
      "cell_type": "code",
      "source": [
        "from xgboost import XGBClassifier\n",
        "from sklearn.model_selection import train_test_split\n",
        "from sklearn.metrics import accuracy_score, f1_score\n",
        "\n",
        "# prepare data\n",
        "stock_data = stock_data.dropna()\n",
        "X = stock_data[['moving_avg', 'moving_avg_return', 'RSI', 'MACD', 'MACD_signal', 'BB_upper', 'BB_middle', 'BB_lower']].values\n",
        "\n",
        "y = stock_data['label'].values\n",
        "\n",
        "# Divide training set and validation set\n",
        "X_train, X_val, y_train, y_val = train_test_split(X, y, test_size=0.2, random_state=42)"
      ],
      "metadata": {
        "id": "WADeScTnA4l9"
      },
      "execution_count": null,
      "outputs": []
    },
    {
      "cell_type": "markdown",
      "source": [
        "### Training Model"
      ],
      "metadata": {
        "id": "FXs71hOtA4l9"
      }
    },
    {
      "cell_type": "code",
      "source": [
        "from xgboost import XGBClassifier\n",
        "xgb=XGBClassifier(max_depth=3)\n",
        "xgb.fit(X_train, y_train)"
      ],
      "metadata": {
        "colab": {
          "base_uri": "https://localhost:8080/",
          "height": 248
        },
        "outputId": "f8d62ec4-9e9c-447b-9545-4e4332a1ccc9",
        "id": "KyDUb72AA4l9"
      },
      "execution_count": null,
      "outputs": [
        {
          "output_type": "execute_result",
          "data": {
            "text/plain": [
              "XGBClassifier(base_score=None, booster=None, callbacks=None,\n",
              "              colsample_bylevel=None, colsample_bynode=None,\n",
              "              colsample_bytree=None, early_stopping_rounds=None,\n",
              "              enable_categorical=False, eval_metric=None, feature_types=None,\n",
              "              gamma=None, gpu_id=None, grow_policy=None, importance_type=None,\n",
              "              interaction_constraints=None, learning_rate=None, max_bin=None,\n",
              "              max_cat_threshold=None, max_cat_to_onehot=None,\n",
              "              max_delta_step=None, max_depth=3, max_leaves=None,\n",
              "              min_child_weight=None, missing=nan, monotone_constraints=None,\n",
              "              n_estimators=100, n_jobs=None, num_parallel_tree=None,\n",
              "              objective='multi:softprob', predictor=None, ...)"
            ],
            "text/html": [
              "<style>#sk-container-id-3 {color: black;background-color: white;}#sk-container-id-3 pre{padding: 0;}#sk-container-id-3 div.sk-toggleable {background-color: white;}#sk-container-id-3 label.sk-toggleable__label {cursor: pointer;display: block;width: 100%;margin-bottom: 0;padding: 0.3em;box-sizing: border-box;text-align: center;}#sk-container-id-3 label.sk-toggleable__label-arrow:before {content: \"▸\";float: left;margin-right: 0.25em;color: #696969;}#sk-container-id-3 label.sk-toggleable__label-arrow:hover:before {color: black;}#sk-container-id-3 div.sk-estimator:hover label.sk-toggleable__label-arrow:before {color: black;}#sk-container-id-3 div.sk-toggleable__content {max-height: 0;max-width: 0;overflow: hidden;text-align: left;background-color: #f0f8ff;}#sk-container-id-3 div.sk-toggleable__content pre {margin: 0.2em;color: black;border-radius: 0.25em;background-color: #f0f8ff;}#sk-container-id-3 input.sk-toggleable__control:checked~div.sk-toggleable__content {max-height: 200px;max-width: 100%;overflow: auto;}#sk-container-id-3 input.sk-toggleable__control:checked~label.sk-toggleable__label-arrow:before {content: \"▾\";}#sk-container-id-3 div.sk-estimator input.sk-toggleable__control:checked~label.sk-toggleable__label {background-color: #d4ebff;}#sk-container-id-3 div.sk-label input.sk-toggleable__control:checked~label.sk-toggleable__label {background-color: #d4ebff;}#sk-container-id-3 input.sk-hidden--visually {border: 0;clip: rect(1px 1px 1px 1px);clip: rect(1px, 1px, 1px, 1px);height: 1px;margin: -1px;overflow: hidden;padding: 0;position: absolute;width: 1px;}#sk-container-id-3 div.sk-estimator {font-family: monospace;background-color: #f0f8ff;border: 1px dotted black;border-radius: 0.25em;box-sizing: border-box;margin-bottom: 0.5em;}#sk-container-id-3 div.sk-estimator:hover {background-color: #d4ebff;}#sk-container-id-3 div.sk-parallel-item::after {content: \"\";width: 100%;border-bottom: 1px solid gray;flex-grow: 1;}#sk-container-id-3 div.sk-label:hover label.sk-toggleable__label {background-color: #d4ebff;}#sk-container-id-3 div.sk-serial::before {content: \"\";position: absolute;border-left: 1px solid gray;box-sizing: border-box;top: 0;bottom: 0;left: 50%;z-index: 0;}#sk-container-id-3 div.sk-serial {display: flex;flex-direction: column;align-items: center;background-color: white;padding-right: 0.2em;padding-left: 0.2em;position: relative;}#sk-container-id-3 div.sk-item {position: relative;z-index: 1;}#sk-container-id-3 div.sk-parallel {display: flex;align-items: stretch;justify-content: center;background-color: white;position: relative;}#sk-container-id-3 div.sk-item::before, #sk-container-id-3 div.sk-parallel-item::before {content: \"\";position: absolute;border-left: 1px solid gray;box-sizing: border-box;top: 0;bottom: 0;left: 50%;z-index: -1;}#sk-container-id-3 div.sk-parallel-item {display: flex;flex-direction: column;z-index: 1;position: relative;background-color: white;}#sk-container-id-3 div.sk-parallel-item:first-child::after {align-self: flex-end;width: 50%;}#sk-container-id-3 div.sk-parallel-item:last-child::after {align-self: flex-start;width: 50%;}#sk-container-id-3 div.sk-parallel-item:only-child::after {width: 0;}#sk-container-id-3 div.sk-dashed-wrapped {border: 1px dashed gray;margin: 0 0.4em 0.5em 0.4em;box-sizing: border-box;padding-bottom: 0.4em;background-color: white;}#sk-container-id-3 div.sk-label label {font-family: monospace;font-weight: bold;display: inline-block;line-height: 1.2em;}#sk-container-id-3 div.sk-label-container {text-align: center;}#sk-container-id-3 div.sk-container {/* jupyter's `normalize.less` sets `[hidden] { display: none; }` but bootstrap.min.css set `[hidden] { display: none !important; }` so we also need the `!important` here to be able to override the default hidden behavior on the sphinx rendered scikit-learn.org. See: https://github.com/scikit-learn/scikit-learn/issues/21755 */display: inline-block !important;position: relative;}#sk-container-id-3 div.sk-text-repr-fallback {display: none;}</style><div id=\"sk-container-id-3\" class=\"sk-top-container\"><div class=\"sk-text-repr-fallback\"><pre>XGBClassifier(base_score=None, booster=None, callbacks=None,\n",
              "              colsample_bylevel=None, colsample_bynode=None,\n",
              "              colsample_bytree=None, early_stopping_rounds=None,\n",
              "              enable_categorical=False, eval_metric=None, feature_types=None,\n",
              "              gamma=None, gpu_id=None, grow_policy=None, importance_type=None,\n",
              "              interaction_constraints=None, learning_rate=None, max_bin=None,\n",
              "              max_cat_threshold=None, max_cat_to_onehot=None,\n",
              "              max_delta_step=None, max_depth=3, max_leaves=None,\n",
              "              min_child_weight=None, missing=nan, monotone_constraints=None,\n",
              "              n_estimators=100, n_jobs=None, num_parallel_tree=None,\n",
              "              objective=&#x27;multi:softprob&#x27;, predictor=None, ...)</pre><b>In a Jupyter environment, please rerun this cell to show the HTML representation or trust the notebook. <br />On GitHub, the HTML representation is unable to render, please try loading this page with nbviewer.org.</b></div><div class=\"sk-container\" hidden><div class=\"sk-item\"><div class=\"sk-estimator sk-toggleable\"><input class=\"sk-toggleable__control sk-hidden--visually\" id=\"sk-estimator-id-3\" type=\"checkbox\" checked><label for=\"sk-estimator-id-3\" class=\"sk-toggleable__label sk-toggleable__label-arrow\">XGBClassifier</label><div class=\"sk-toggleable__content\"><pre>XGBClassifier(base_score=None, booster=None, callbacks=None,\n",
              "              colsample_bylevel=None, colsample_bynode=None,\n",
              "              colsample_bytree=None, early_stopping_rounds=None,\n",
              "              enable_categorical=False, eval_metric=None, feature_types=None,\n",
              "              gamma=None, gpu_id=None, grow_policy=None, importance_type=None,\n",
              "              interaction_constraints=None, learning_rate=None, max_bin=None,\n",
              "              max_cat_threshold=None, max_cat_to_onehot=None,\n",
              "              max_delta_step=None, max_depth=3, max_leaves=None,\n",
              "              min_child_weight=None, missing=nan, monotone_constraints=None,\n",
              "              n_estimators=100, n_jobs=None, num_parallel_tree=None,\n",
              "              objective=&#x27;multi:softprob&#x27;, predictor=None, ...)</pre></div></div></div></div></div>"
            ]
          },
          "metadata": {},
          "execution_count": 11
        }
      ]
    },
    {
      "cell_type": "markdown",
      "source": [
        "### Evaluation Model"
      ],
      "metadata": {
        "id": "MYNSXJrQA4l9"
      }
    },
    {
      "cell_type": "code",
      "source": [
        "y_pred = xgb.predict(X_val)\n",
        "accuracy = accuracy_score(y_val, y_pred)\n",
        "f1 = f1_score(y_val, y_pred, average='weighted')\n",
        "\n",
        "print(\"Accuracy:\", accuracy)\n",
        "print(\"F1 Score:\", f1)"
      ],
      "metadata": {
        "colab": {
          "base_uri": "https://localhost:8080/"
        },
        "outputId": "431ae154-5de0-4e92-847f-5f60e7e7633b",
        "id": "uztIJFxRA4l-"
      },
      "execution_count": null,
      "outputs": [
        {
          "output_type": "stream",
          "name": "stdout",
          "text": [
            "Accuracy: 0.9333333333333333\n",
            "F1 Score: 0.9243677856476344\n"
          ]
        }
      ]
    },
    {
      "cell_type": "markdown",
      "source": [
        "### Grid Search"
      ],
      "metadata": {
        "id": "OuJl3lFRWIwl"
      }
    },
    {
      "cell_type": "code",
      "source": [
        "from sklearn.model_selection import GridSearchCV\n",
        "xgb=XGBClassifier()\n",
        "param_grid = {\n",
        "    'max_depth': [3, 4, 5],\n",
        "}\n",
        "grid_search = GridSearchCV(estimator=xgb, param_grid=param_grid, cv=5, scoring='accuracy', n_jobs=-1, verbose=2)\n",
        "grid_search.fit(X_train, y_train)\n",
        "best_params = grid_search.best_params_\n",
        "print(\"Best parameters found: \", best_params)"
      ],
      "metadata": {
        "colab": {
          "base_uri": "https://localhost:8080/"
        },
        "outputId": "0f273214-62da-4696-b4ec-fb00c4b62426",
        "id": "Xrx7HpmvWIwl"
      },
      "execution_count": null,
      "outputs": [
        {
          "output_type": "stream",
          "name": "stdout",
          "text": [
            "Fitting 5 folds for each of 3 candidates, totalling 15 fits\n",
            "Best parameters found:  {'max_depth': 3}\n"
          ]
        }
      ]
    },
    {
      "cell_type": "code",
      "source": [
        "best_xgb = grid_search.best_estimator_\n",
        "y_pred = best_xgb.predict(X_val)\n",
        "accuracy = accuracy_score(y_val, y_pred)\n",
        "f1 = f1_score(y_val, y_pred, average='macro')\n",
        "print(\"Accuracy with the best parameters: \", accuracy)\n",
        "print(\"F1 Score with the best parameters:\", f1)"
      ],
      "metadata": {
        "id": "aRbKsZxGWIwl",
        "colab": {
          "base_uri": "https://localhost:8080/"
        },
        "outputId": "b56b8209-8565-4e50-e90f-183194f1b5a8"
      },
      "execution_count": null,
      "outputs": [
        {
          "output_type": "stream",
          "name": "stdout",
          "text": [
            "Accuracy with the best parameters:  0.9425287356321839\n",
            "F1 Score with the best parameters: 0.36511466982997237\n"
          ]
        }
      ]
    },
    {
      "cell_type": "markdown",
      "source": [
        "## 4.3 DecisionTree"
      ],
      "metadata": {
        "id": "jlV746BSBrKa"
      }
    },
    {
      "cell_type": "markdown",
      "source": [
        "### Model Preparation"
      ],
      "metadata": {
        "id": "yuQxAZj8BrKe"
      }
    },
    {
      "cell_type": "code",
      "source": [
        "\n",
        "from sklearn.model_selection import train_test_split\n",
        "from sklearn.metrics import accuracy_score, f1_score\n",
        "\n",
        "# prepare data\n",
        "stock_data = stock_data.dropna()\n",
        "X = stock_data[['moving_avg', 'moving_avg_return', 'RSI', 'MACD', 'MACD_signal', 'BB_upper', 'BB_middle', 'BB_lower']].values\n",
        "y = stock_data['label'].values\n",
        "\n",
        "# Divide training set and validation set\n",
        "X_train, X_val, y_train, y_val = train_test_split(X, y, test_size=0.3, random_state=42)"
      ],
      "metadata": {
        "id": "0bD4Q9Q-BrKe"
      },
      "execution_count": null,
      "outputs": []
    },
    {
      "cell_type": "markdown",
      "source": [
        "### Training Model"
      ],
      "metadata": {
        "id": "usMsapqRBrKe"
      }
    },
    {
      "cell_type": "code",
      "source": [
        "from sklearn import tree\n",
        "dt=tree.DecisionTreeClassifier()\n",
        "dt.fit(X_train, y_train)"
      ],
      "metadata": {
        "colab": {
          "base_uri": "https://localhost:8080/",
          "height": 74
        },
        "outputId": "a11781cc-5fc8-4fb4-f5e3-d660c9ba58e5",
        "id": "mFQl20iQBrKf"
      },
      "execution_count": null,
      "outputs": [
        {
          "output_type": "execute_result",
          "data": {
            "text/plain": [
              "DecisionTreeClassifier()"
            ],
            "text/html": [
              "<style>#sk-container-id-4 {color: black;background-color: white;}#sk-container-id-4 pre{padding: 0;}#sk-container-id-4 div.sk-toggleable {background-color: white;}#sk-container-id-4 label.sk-toggleable__label {cursor: pointer;display: block;width: 100%;margin-bottom: 0;padding: 0.3em;box-sizing: border-box;text-align: center;}#sk-container-id-4 label.sk-toggleable__label-arrow:before {content: \"▸\";float: left;margin-right: 0.25em;color: #696969;}#sk-container-id-4 label.sk-toggleable__label-arrow:hover:before {color: black;}#sk-container-id-4 div.sk-estimator:hover label.sk-toggleable__label-arrow:before {color: black;}#sk-container-id-4 div.sk-toggleable__content {max-height: 0;max-width: 0;overflow: hidden;text-align: left;background-color: #f0f8ff;}#sk-container-id-4 div.sk-toggleable__content pre {margin: 0.2em;color: black;border-radius: 0.25em;background-color: #f0f8ff;}#sk-container-id-4 input.sk-toggleable__control:checked~div.sk-toggleable__content {max-height: 200px;max-width: 100%;overflow: auto;}#sk-container-id-4 input.sk-toggleable__control:checked~label.sk-toggleable__label-arrow:before {content: \"▾\";}#sk-container-id-4 div.sk-estimator input.sk-toggleable__control:checked~label.sk-toggleable__label {background-color: #d4ebff;}#sk-container-id-4 div.sk-label input.sk-toggleable__control:checked~label.sk-toggleable__label {background-color: #d4ebff;}#sk-container-id-4 input.sk-hidden--visually {border: 0;clip: rect(1px 1px 1px 1px);clip: rect(1px, 1px, 1px, 1px);height: 1px;margin: -1px;overflow: hidden;padding: 0;position: absolute;width: 1px;}#sk-container-id-4 div.sk-estimator {font-family: monospace;background-color: #f0f8ff;border: 1px dotted black;border-radius: 0.25em;box-sizing: border-box;margin-bottom: 0.5em;}#sk-container-id-4 div.sk-estimator:hover {background-color: #d4ebff;}#sk-container-id-4 div.sk-parallel-item::after {content: \"\";width: 100%;border-bottom: 1px solid gray;flex-grow: 1;}#sk-container-id-4 div.sk-label:hover label.sk-toggleable__label {background-color: #d4ebff;}#sk-container-id-4 div.sk-serial::before {content: \"\";position: absolute;border-left: 1px solid gray;box-sizing: border-box;top: 0;bottom: 0;left: 50%;z-index: 0;}#sk-container-id-4 div.sk-serial {display: flex;flex-direction: column;align-items: center;background-color: white;padding-right: 0.2em;padding-left: 0.2em;position: relative;}#sk-container-id-4 div.sk-item {position: relative;z-index: 1;}#sk-container-id-4 div.sk-parallel {display: flex;align-items: stretch;justify-content: center;background-color: white;position: relative;}#sk-container-id-4 div.sk-item::before, #sk-container-id-4 div.sk-parallel-item::before {content: \"\";position: absolute;border-left: 1px solid gray;box-sizing: border-box;top: 0;bottom: 0;left: 50%;z-index: -1;}#sk-container-id-4 div.sk-parallel-item {display: flex;flex-direction: column;z-index: 1;position: relative;background-color: white;}#sk-container-id-4 div.sk-parallel-item:first-child::after {align-self: flex-end;width: 50%;}#sk-container-id-4 div.sk-parallel-item:last-child::after {align-self: flex-start;width: 50%;}#sk-container-id-4 div.sk-parallel-item:only-child::after {width: 0;}#sk-container-id-4 div.sk-dashed-wrapped {border: 1px dashed gray;margin: 0 0.4em 0.5em 0.4em;box-sizing: border-box;padding-bottom: 0.4em;background-color: white;}#sk-container-id-4 div.sk-label label {font-family: monospace;font-weight: bold;display: inline-block;line-height: 1.2em;}#sk-container-id-4 div.sk-label-container {text-align: center;}#sk-container-id-4 div.sk-container {/* jupyter's `normalize.less` sets `[hidden] { display: none; }` but bootstrap.min.css set `[hidden] { display: none !important; }` so we also need the `!important` here to be able to override the default hidden behavior on the sphinx rendered scikit-learn.org. See: https://github.com/scikit-learn/scikit-learn/issues/21755 */display: inline-block !important;position: relative;}#sk-container-id-4 div.sk-text-repr-fallback {display: none;}</style><div id=\"sk-container-id-4\" class=\"sk-top-container\"><div class=\"sk-text-repr-fallback\"><pre>DecisionTreeClassifier()</pre><b>In a Jupyter environment, please rerun this cell to show the HTML representation or trust the notebook. <br />On GitHub, the HTML representation is unable to render, please try loading this page with nbviewer.org.</b></div><div class=\"sk-container\" hidden><div class=\"sk-item\"><div class=\"sk-estimator sk-toggleable\"><input class=\"sk-toggleable__control sk-hidden--visually\" id=\"sk-estimator-id-4\" type=\"checkbox\" checked><label for=\"sk-estimator-id-4\" class=\"sk-toggleable__label sk-toggleable__label-arrow\">DecisionTreeClassifier</label><div class=\"sk-toggleable__content\"><pre>DecisionTreeClassifier()</pre></div></div></div></div></div>"
            ]
          },
          "metadata": {},
          "execution_count": 12
        }
      ]
    },
    {
      "cell_type": "markdown",
      "source": [
        "### Evaluation Model"
      ],
      "metadata": {
        "id": "v1cYrM6mBrKf"
      }
    },
    {
      "cell_type": "code",
      "source": [
        "y_pred = dt.predict(X_val)\n",
        "accuracy = accuracy_score(y_val, y_pred)\n",
        "f1 = f1_score(y_val, y_pred, average='weighted')\n",
        "\n",
        "print(\"Accuracy:\", accuracy)\n",
        "print(\"F1 Score:\", f1)"
      ],
      "metadata": {
        "colab": {
          "base_uri": "https://localhost:8080/"
        },
        "outputId": "e67d95d9-2bcb-4e2b-8837-1ea44ab1f105",
        "id": "dc8bi0yaBrKf"
      },
      "execution_count": null,
      "outputs": [
        {
          "output_type": "stream",
          "name": "stdout",
          "text": [
            "Accuracy: 0.7793103448275862\n",
            "F1 Score: 0.785620970277681\n"
          ]
        }
      ]
    },
    {
      "cell_type": "markdown",
      "source": [
        "## 4.4 Neural Networks -- MLP "
      ],
      "metadata": {
        "id": "XrSKOmkVe-hX"
      }
    },
    {
      "cell_type": "markdown",
      "source": [
        "### Model Preparation"
      ],
      "metadata": {
        "id": "f_kd8QB7e-hX"
      }
    },
    {
      "cell_type": "code",
      "source": [
        "from sklearn.model_selection import train_test_split\n",
        "from sklearn.metrics import accuracy_score, f1_score\n",
        "\n",
        "# prepare data\n",
        "stock_data = stock_data.dropna()\n",
        "\n",
        "X = stock_data[['moving_avg', 'moving_avg_return', 'RSI', 'MACD', 'MACD_signal', 'BB_upper', 'BB_middle', 'BB_lower']].values\n",
        "y = stock_data['label'].values\n",
        "\n",
        "# Divide training set and validation set\n",
        "X_train, X_val, y_train, y_val = train_test_split(X, y, test_size=0.3, random_state=42)"
      ],
      "metadata": {
        "id": "yU2YCGNTe-hX"
      },
      "execution_count": null,
      "outputs": []
    },
    {
      "cell_type": "markdown",
      "source": [
        "### Training Model"
      ],
      "metadata": {
        "id": "-Mbsnk4Ge-hX"
      }
    },
    {
      "cell_type": "code",
      "source": [
        "from sklearn.neural_network import MLPClassifier\n",
        "mlp=MLPClassifier()\n",
        "mlp.fit(X_train, y_train)"
      ],
      "metadata": {
        "colab": {
          "base_uri": "https://localhost:8080/",
          "height": 74
        },
        "outputId": "ff567c3b-f72e-457b-b3f8-1bbe933e065d",
        "id": "U785qcd6e-hX"
      },
      "execution_count": null,
      "outputs": [
        {
          "output_type": "execute_result",
          "data": {
            "text/plain": [
              "MLPClassifier()"
            ],
            "text/html": [
              "<style>#sk-container-id-5 {color: black;background-color: white;}#sk-container-id-5 pre{padding: 0;}#sk-container-id-5 div.sk-toggleable {background-color: white;}#sk-container-id-5 label.sk-toggleable__label {cursor: pointer;display: block;width: 100%;margin-bottom: 0;padding: 0.3em;box-sizing: border-box;text-align: center;}#sk-container-id-5 label.sk-toggleable__label-arrow:before {content: \"▸\";float: left;margin-right: 0.25em;color: #696969;}#sk-container-id-5 label.sk-toggleable__label-arrow:hover:before {color: black;}#sk-container-id-5 div.sk-estimator:hover label.sk-toggleable__label-arrow:before {color: black;}#sk-container-id-5 div.sk-toggleable__content {max-height: 0;max-width: 0;overflow: hidden;text-align: left;background-color: #f0f8ff;}#sk-container-id-5 div.sk-toggleable__content pre {margin: 0.2em;color: black;border-radius: 0.25em;background-color: #f0f8ff;}#sk-container-id-5 input.sk-toggleable__control:checked~div.sk-toggleable__content {max-height: 200px;max-width: 100%;overflow: auto;}#sk-container-id-5 input.sk-toggleable__control:checked~label.sk-toggleable__label-arrow:before {content: \"▾\";}#sk-container-id-5 div.sk-estimator input.sk-toggleable__control:checked~label.sk-toggleable__label {background-color: #d4ebff;}#sk-container-id-5 div.sk-label input.sk-toggleable__control:checked~label.sk-toggleable__label {background-color: #d4ebff;}#sk-container-id-5 input.sk-hidden--visually {border: 0;clip: rect(1px 1px 1px 1px);clip: rect(1px, 1px, 1px, 1px);height: 1px;margin: -1px;overflow: hidden;padding: 0;position: absolute;width: 1px;}#sk-container-id-5 div.sk-estimator {font-family: monospace;background-color: #f0f8ff;border: 1px dotted black;border-radius: 0.25em;box-sizing: border-box;margin-bottom: 0.5em;}#sk-container-id-5 div.sk-estimator:hover {background-color: #d4ebff;}#sk-container-id-5 div.sk-parallel-item::after {content: \"\";width: 100%;border-bottom: 1px solid gray;flex-grow: 1;}#sk-container-id-5 div.sk-label:hover label.sk-toggleable__label {background-color: #d4ebff;}#sk-container-id-5 div.sk-serial::before {content: \"\";position: absolute;border-left: 1px solid gray;box-sizing: border-box;top: 0;bottom: 0;left: 50%;z-index: 0;}#sk-container-id-5 div.sk-serial {display: flex;flex-direction: column;align-items: center;background-color: white;padding-right: 0.2em;padding-left: 0.2em;position: relative;}#sk-container-id-5 div.sk-item {position: relative;z-index: 1;}#sk-container-id-5 div.sk-parallel {display: flex;align-items: stretch;justify-content: center;background-color: white;position: relative;}#sk-container-id-5 div.sk-item::before, #sk-container-id-5 div.sk-parallel-item::before {content: \"\";position: absolute;border-left: 1px solid gray;box-sizing: border-box;top: 0;bottom: 0;left: 50%;z-index: -1;}#sk-container-id-5 div.sk-parallel-item {display: flex;flex-direction: column;z-index: 1;position: relative;background-color: white;}#sk-container-id-5 div.sk-parallel-item:first-child::after {align-self: flex-end;width: 50%;}#sk-container-id-5 div.sk-parallel-item:last-child::after {align-self: flex-start;width: 50%;}#sk-container-id-5 div.sk-parallel-item:only-child::after {width: 0;}#sk-container-id-5 div.sk-dashed-wrapped {border: 1px dashed gray;margin: 0 0.4em 0.5em 0.4em;box-sizing: border-box;padding-bottom: 0.4em;background-color: white;}#sk-container-id-5 div.sk-label label {font-family: monospace;font-weight: bold;display: inline-block;line-height: 1.2em;}#sk-container-id-5 div.sk-label-container {text-align: center;}#sk-container-id-5 div.sk-container {/* jupyter's `normalize.less` sets `[hidden] { display: none; }` but bootstrap.min.css set `[hidden] { display: none !important; }` so we also need the `!important` here to be able to override the default hidden behavior on the sphinx rendered scikit-learn.org. See: https://github.com/scikit-learn/scikit-learn/issues/21755 */display: inline-block !important;position: relative;}#sk-container-id-5 div.sk-text-repr-fallback {display: none;}</style><div id=\"sk-container-id-5\" class=\"sk-top-container\"><div class=\"sk-text-repr-fallback\"><pre>MLPClassifier()</pre><b>In a Jupyter environment, please rerun this cell to show the HTML representation or trust the notebook. <br />On GitHub, the HTML representation is unable to render, please try loading this page with nbviewer.org.</b></div><div class=\"sk-container\" hidden><div class=\"sk-item\"><div class=\"sk-estimator sk-toggleable\"><input class=\"sk-toggleable__control sk-hidden--visually\" id=\"sk-estimator-id-5\" type=\"checkbox\" checked><label for=\"sk-estimator-id-5\" class=\"sk-toggleable__label sk-toggleable__label-arrow\">MLPClassifier</label><div class=\"sk-toggleable__content\"><pre>MLPClassifier()</pre></div></div></div></div></div>"
            ]
          },
          "metadata": {},
          "execution_count": 13
        }
      ]
    },
    {
      "cell_type": "markdown",
      "source": [
        "### Evaluation Model"
      ],
      "metadata": {
        "id": "J8JKfO7oe-hY"
      }
    },
    {
      "cell_type": "code",
      "source": [
        "y_pred = mlp.predict(X_val)\n",
        "accuracy = accuracy_score(y_val, y_pred)\n",
        "f1 = f1_score(y_val, y_pred, average='weighted')\n",
        "\n",
        "print(\"Accuracy:\", accuracy)\n",
        "print(\"F1 Score:\", f1)"
      ],
      "metadata": {
        "colab": {
          "base_uri": "https://localhost:8080/"
        },
        "outputId": "e8f642cd-929d-488b-f35f-234982441480",
        "id": "Gt8h7HGhe-hY"
      },
      "execution_count": null,
      "outputs": [
        {
          "output_type": "stream",
          "name": "stdout",
          "text": [
            "Accuracy: 0.23908045977011494\n",
            "F1 Score: 0.3447815259021855\n"
          ]
        }
      ]
    },
    {
      "cell_type": "markdown",
      "source": [
        "# 5 Real Business Performance Delivery"
      ],
      "metadata": {
        "id": "CB4e1ddnzyCG"
      }
    },
    {
      "cell_type": "markdown",
      "source": [
        "This part is to simulate real stock trading to compare the returns of the four models. Since short selling is prohibited, the program is set to buy 100 shares for the first time, and the subsequent trading process is set to buy or sell 99 shares of stock each time. The simulation results of each model include the investment income of each type of investor in Tencent stocks in 2021."
      ],
      "metadata": {
        "id": "-weJiEEe6cOq"
      }
    },
    {
      "cell_type": "markdown",
      "source": [
        "## 5.1 Define the Transaction Process Function"
      ],
      "metadata": {
        "id": "Y3a80JBCz40M"
      }
    },
    {
      "cell_type": "code",
      "source": [
        "def trading_simulation(stock_data, model, buy_threshold, sell_threshold, g, l, d):\n",
        "    shares = 0\n",
        "    bought_price = 0\n",
        "    profit = 0\n",
        "    for i in range(len(stock_data)):\n",
        "        features = stock_data[['moving_avg', 'moving_avg_return', 'RSI', 'MACD', 'MACD_signal', 'BB_upper', 'BB_middle', 'BB_lower']].iloc[i].values.reshape(1, -1)\n",
        "        prediction = model.predict(features)\n",
        "        \n",
        "        if prediction == buy_threshold and shares == 0:\n",
        "            bought_price = stock_data['Close'].iloc[i]\n",
        "            shares += 100\n",
        "        elif prediction == buy_threshold and shares == 1:\n",
        "            bought_price = stock_data['Close'].iloc[i]\n",
        "            shares += 99\n",
        "        elif prediction == sell_threshold and shares > 1:\n",
        "            profit += (stock_data['Close'].iloc[i] - bought_price) * (shares-1)\n",
        "            shares = 1\n",
        "        elif i - d > 0 and shares > 1:\n",
        "            profit += (stock_data['Close'].iloc[i] - bought_price) * (shares-1)\n",
        "            shares = 1\n",
        "            \n",
        "    return profit"
      ],
      "metadata": {
        "id": "u1MPu6Zp2f-N"
      },
      "execution_count": null,
      "outputs": []
    },
    {
      "cell_type": "markdown",
      "source": [
        "## 5.2 Set Parameters for Different Investor Types"
      ],
      "metadata": {
        "id": "FgzomxjFz8pk"
      }
    },
    {
      "cell_type": "code",
      "source": [
        "# Define short-term, medium-term, and long-term consumers\n",
        "short_term_params = {'g': 0.03, 'l': 0.02, 'd': 5}\n",
        "medium_term_params = {'g': 0.05, 'l': 0.03, 'd': 10}\n",
        "long_term_params = {'g': 0.10, 'l': 0.06, 'd': 20}\n",
        "\n",
        "buy_threshold = 1\n",
        "sell_threshold = 2\n",
        "\n",
        "# Define Random Investor\n",
        "import random\n",
        "\n",
        "def random_trader(stock_data, model, buy_threshold, sell_threshold):\n",
        "    g = random.uniform(0.01, 0.1)\n",
        "    l = random.uniform(0.01, 0.1)\n",
        "    d = random.randint(1, 30)\n",
        "\n",
        "    return trading_simulation(stock_data, model, buy_threshold, sell_threshold, g, l, d)"
      ],
      "metadata": {
        "id": "TJFCGgDS0Gm3"
      },
      "execution_count": null,
      "outputs": []
    },
    {
      "cell_type": "markdown",
      "source": [
        "## 5.3 Get 2021 Tencent Stock Data"
      ],
      "metadata": {
        "id": "4xfPVL5j-8jK"
      }
    },
    {
      "cell_type": "code",
      "source": [
        "# Get Stock Data for 2021\n",
        "start_date = '2021-01-01'\n",
        "end_date = '2021-12-31'\n",
        "stock_data_2021 = yf.download('0700.HK', start=start_date, end=end_date)\n",
        "stock_data_2021"
      ],
      "metadata": {
        "colab": {
          "base_uri": "https://localhost:8080/",
          "height": 473
        },
        "outputId": "6fcc7d1a-6e28-40bb-ac4a-9d30ace52b2d",
        "id": "CjXw3Wmw_S_k"
      },
      "execution_count": null,
      "outputs": [
        {
          "output_type": "stream",
          "name": "stdout",
          "text": [
            "\r[*********************100%***********************]  1 of 1 completed\n"
          ]
        },
        {
          "output_type": "execute_result",
          "data": {
            "text/plain": [
              "                  Open        High         Low       Close   Adj Close  \\\n",
              "Date                                                                     \n",
              "2021-01-04  558.000000  583.000000  557.500000  572.500000  568.270813   \n",
              "2021-01-05  572.000000  586.500000  565.500000  583.500000  579.189575   \n",
              "2021-01-06  585.000000  599.000000  585.000000  596.500000  592.093506   \n",
              "2021-01-07  580.500000  584.500000  568.500000  568.500000  564.300415   \n",
              "2021-01-08  568.500000  578.000000  567.500000  573.000000  568.767151   \n",
              "...                ...         ...         ...         ...         ...   \n",
              "2021-12-23  454.000000  468.799988  449.200012  461.799988  459.638245   \n",
              "2021-12-24  460.799988  460.799988  460.799988  460.799988  458.642944   \n",
              "2021-12-28  457.799988  459.200012  445.000000  450.399994  448.291626   \n",
              "2021-12-29  443.600006  445.600006  440.399994  444.799988  442.717834   \n",
              "2021-12-30  446.399994  450.799988  442.000000  443.399994  441.324402   \n",
              "\n",
              "              Volume  \n",
              "Date                  \n",
              "2021-01-04  20784101  \n",
              "2021-01-05  18668061  \n",
              "2021-01-06  25712527  \n",
              "2021-01-07  39877643  \n",
              "2021-01-08  22863792  \n",
              "...              ...  \n",
              "2021-12-23  32952274  \n",
              "2021-12-24         0  \n",
              "2021-12-28  18949609  \n",
              "2021-12-29   9589399  \n",
              "2021-12-30   7664650  \n",
              "\n",
              "[246 rows x 6 columns]"
            ],
            "text/html": [
              "\n",
              "  <div id=\"df-4fe73d0c-8307-4c5d-ad7f-f0fe485151e2\">\n",
              "    <div class=\"colab-df-container\">\n",
              "      <div>\n",
              "<style scoped>\n",
              "    .dataframe tbody tr th:only-of-type {\n",
              "        vertical-align: middle;\n",
              "    }\n",
              "\n",
              "    .dataframe tbody tr th {\n",
              "        vertical-align: top;\n",
              "    }\n",
              "\n",
              "    .dataframe thead th {\n",
              "        text-align: right;\n",
              "    }\n",
              "</style>\n",
              "<table border=\"1\" class=\"dataframe\">\n",
              "  <thead>\n",
              "    <tr style=\"text-align: right;\">\n",
              "      <th></th>\n",
              "      <th>Open</th>\n",
              "      <th>High</th>\n",
              "      <th>Low</th>\n",
              "      <th>Close</th>\n",
              "      <th>Adj Close</th>\n",
              "      <th>Volume</th>\n",
              "    </tr>\n",
              "    <tr>\n",
              "      <th>Date</th>\n",
              "      <th></th>\n",
              "      <th></th>\n",
              "      <th></th>\n",
              "      <th></th>\n",
              "      <th></th>\n",
              "      <th></th>\n",
              "    </tr>\n",
              "  </thead>\n",
              "  <tbody>\n",
              "    <tr>\n",
              "      <th>2021-01-04</th>\n",
              "      <td>558.000000</td>\n",
              "      <td>583.000000</td>\n",
              "      <td>557.500000</td>\n",
              "      <td>572.500000</td>\n",
              "      <td>568.270813</td>\n",
              "      <td>20784101</td>\n",
              "    </tr>\n",
              "    <tr>\n",
              "      <th>2021-01-05</th>\n",
              "      <td>572.000000</td>\n",
              "      <td>586.500000</td>\n",
              "      <td>565.500000</td>\n",
              "      <td>583.500000</td>\n",
              "      <td>579.189575</td>\n",
              "      <td>18668061</td>\n",
              "    </tr>\n",
              "    <tr>\n",
              "      <th>2021-01-06</th>\n",
              "      <td>585.000000</td>\n",
              "      <td>599.000000</td>\n",
              "      <td>585.000000</td>\n",
              "      <td>596.500000</td>\n",
              "      <td>592.093506</td>\n",
              "      <td>25712527</td>\n",
              "    </tr>\n",
              "    <tr>\n",
              "      <th>2021-01-07</th>\n",
              "      <td>580.500000</td>\n",
              "      <td>584.500000</td>\n",
              "      <td>568.500000</td>\n",
              "      <td>568.500000</td>\n",
              "      <td>564.300415</td>\n",
              "      <td>39877643</td>\n",
              "    </tr>\n",
              "    <tr>\n",
              "      <th>2021-01-08</th>\n",
              "      <td>568.500000</td>\n",
              "      <td>578.000000</td>\n",
              "      <td>567.500000</td>\n",
              "      <td>573.000000</td>\n",
              "      <td>568.767151</td>\n",
              "      <td>22863792</td>\n",
              "    </tr>\n",
              "    <tr>\n",
              "      <th>...</th>\n",
              "      <td>...</td>\n",
              "      <td>...</td>\n",
              "      <td>...</td>\n",
              "      <td>...</td>\n",
              "      <td>...</td>\n",
              "      <td>...</td>\n",
              "    </tr>\n",
              "    <tr>\n",
              "      <th>2021-12-23</th>\n",
              "      <td>454.000000</td>\n",
              "      <td>468.799988</td>\n",
              "      <td>449.200012</td>\n",
              "      <td>461.799988</td>\n",
              "      <td>459.638245</td>\n",
              "      <td>32952274</td>\n",
              "    </tr>\n",
              "    <tr>\n",
              "      <th>2021-12-24</th>\n",
              "      <td>460.799988</td>\n",
              "      <td>460.799988</td>\n",
              "      <td>460.799988</td>\n",
              "      <td>460.799988</td>\n",
              "      <td>458.642944</td>\n",
              "      <td>0</td>\n",
              "    </tr>\n",
              "    <tr>\n",
              "      <th>2021-12-28</th>\n",
              "      <td>457.799988</td>\n",
              "      <td>459.200012</td>\n",
              "      <td>445.000000</td>\n",
              "      <td>450.399994</td>\n",
              "      <td>448.291626</td>\n",
              "      <td>18949609</td>\n",
              "    </tr>\n",
              "    <tr>\n",
              "      <th>2021-12-29</th>\n",
              "      <td>443.600006</td>\n",
              "      <td>445.600006</td>\n",
              "      <td>440.399994</td>\n",
              "      <td>444.799988</td>\n",
              "      <td>442.717834</td>\n",
              "      <td>9589399</td>\n",
              "    </tr>\n",
              "    <tr>\n",
              "      <th>2021-12-30</th>\n",
              "      <td>446.399994</td>\n",
              "      <td>450.799988</td>\n",
              "      <td>442.000000</td>\n",
              "      <td>443.399994</td>\n",
              "      <td>441.324402</td>\n",
              "      <td>7664650</td>\n",
              "    </tr>\n",
              "  </tbody>\n",
              "</table>\n",
              "<p>246 rows × 6 columns</p>\n",
              "</div>\n",
              "      <button class=\"colab-df-convert\" onclick=\"convertToInteractive('df-4fe73d0c-8307-4c5d-ad7f-f0fe485151e2')\"\n",
              "              title=\"Convert this dataframe to an interactive table.\"\n",
              "              style=\"display:none;\">\n",
              "        \n",
              "  <svg xmlns=\"http://www.w3.org/2000/svg\" height=\"24px\"viewBox=\"0 0 24 24\"\n",
              "       width=\"24px\">\n",
              "    <path d=\"M0 0h24v24H0V0z\" fill=\"none\"/>\n",
              "    <path d=\"M18.56 5.44l.94 2.06.94-2.06 2.06-.94-2.06-.94-.94-2.06-.94 2.06-2.06.94zm-11 1L8.5 8.5l.94-2.06 2.06-.94-2.06-.94L8.5 2.5l-.94 2.06-2.06.94zm10 10l.94 2.06.94-2.06 2.06-.94-2.06-.94-.94-2.06-.94 2.06-2.06.94z\"/><path d=\"M17.41 7.96l-1.37-1.37c-.4-.4-.92-.59-1.43-.59-.52 0-1.04.2-1.43.59L10.3 9.45l-7.72 7.72c-.78.78-.78 2.05 0 2.83L4 21.41c.39.39.9.59 1.41.59.51 0 1.02-.2 1.41-.59l7.78-7.78 2.81-2.81c.8-.78.8-2.07 0-2.86zM5.41 20L4 18.59l7.72-7.72 1.47 1.35L5.41 20z\"/>\n",
              "  </svg>\n",
              "      </button>\n",
              "      \n",
              "  <style>\n",
              "    .colab-df-container {\n",
              "      display:flex;\n",
              "      flex-wrap:wrap;\n",
              "      gap: 12px;\n",
              "    }\n",
              "\n",
              "    .colab-df-convert {\n",
              "      background-color: #E8F0FE;\n",
              "      border: none;\n",
              "      border-radius: 50%;\n",
              "      cursor: pointer;\n",
              "      display: none;\n",
              "      fill: #1967D2;\n",
              "      height: 32px;\n",
              "      padding: 0 0 0 0;\n",
              "      width: 32px;\n",
              "    }\n",
              "\n",
              "    .colab-df-convert:hover {\n",
              "      background-color: #E2EBFA;\n",
              "      box-shadow: 0px 1px 2px rgba(60, 64, 67, 0.3), 0px 1px 3px 1px rgba(60, 64, 67, 0.15);\n",
              "      fill: #174EA6;\n",
              "    }\n",
              "\n",
              "    [theme=dark] .colab-df-convert {\n",
              "      background-color: #3B4455;\n",
              "      fill: #D2E3FC;\n",
              "    }\n",
              "\n",
              "    [theme=dark] .colab-df-convert:hover {\n",
              "      background-color: #434B5C;\n",
              "      box-shadow: 0px 1px 3px 1px rgba(0, 0, 0, 0.15);\n",
              "      filter: drop-shadow(0px 1px 2px rgba(0, 0, 0, 0.3));\n",
              "      fill: #FFFFFF;\n",
              "    }\n",
              "  </style>\n",
              "\n",
              "      <script>\n",
              "        const buttonEl =\n",
              "          document.querySelector('#df-4fe73d0c-8307-4c5d-ad7f-f0fe485151e2 button.colab-df-convert');\n",
              "        buttonEl.style.display =\n",
              "          google.colab.kernel.accessAllowed ? 'block' : 'none';\n",
              "\n",
              "        async function convertToInteractive(key) {\n",
              "          const element = document.querySelector('#df-4fe73d0c-8307-4c5d-ad7f-f0fe485151e2');\n",
              "          const dataTable =\n",
              "            await google.colab.kernel.invokeFunction('convertToInteractive',\n",
              "                                                     [key], {});\n",
              "          if (!dataTable) return;\n",
              "\n",
              "          const docLinkHtml = 'Like what you see? Visit the ' +\n",
              "            '<a target=\"_blank\" href=https://colab.research.google.com/notebooks/data_table.ipynb>data table notebook</a>'\n",
              "            + ' to learn more about interactive tables.';\n",
              "          element.innerHTML = '';\n",
              "          dataTable['output_type'] = 'display_data';\n",
              "          await google.colab.output.renderOutput(dataTable, element);\n",
              "          const docLink = document.createElement('div');\n",
              "          docLink.innerHTML = docLinkHtml;\n",
              "          element.appendChild(docLink);\n",
              "        }\n",
              "      </script>\n",
              "    </div>\n",
              "  </div>\n",
              "  "
            ]
          },
          "metadata": {},
          "execution_count": 16
        }
      ]
    },
    {
      "cell_type": "code",
      "source": [
        "# Calculating moving averages and moving average returns for 2021\n",
        "stock_data_2021['moving_avg'] = stock_data_2021['Close'].rolling(window=10).mean()\n",
        "stock_data_2021['moving_avg_return'] = (stock_data_2021['Close'] / stock_data_2021['moving_avg']) - 1\n",
        "import pandas as pd\n",
        "import ta\n",
        "\n",
        "# Calculate RSI\n",
        "stock_data_2021['RSI'] = ta.momentum.RSIIndicator(stock_data_2021['Close']).rsi()\n",
        "\n",
        "# Calculation of MACD and its signal line\n",
        "macd_indicator = ta.trend.MACD(stock_data_2021['Close'])\n",
        "stock_data_2021['MACD'] = macd_indicator.macd()\n",
        "stock_data_2021['MACD_signal'] = macd_indicator.macd_signal()\n",
        "\n",
        "# Calculate Bollinger Bands\n",
        "bollinger_indicator = ta.volatility.BollingerBands(stock_data_2021['Close'])\n",
        "stock_data_2021['BB_upper'] = bollinger_indicator.bollinger_hband()\n",
        "stock_data_2021['BB_middle'] = bollinger_indicator.bollinger_mavg()\n",
        "stock_data_2021['BB_lower'] = bollinger_indicator.bollinger_lband()\n",
        "stock_data_2021 = stock_data_2021.dropna()"
      ],
      "metadata": {
        "id": "q7MdM7xK_LIf"
      },
      "execution_count": null,
      "outputs": []
    },
    {
      "cell_type": "code",
      "source": [
        "stock_data_2021"
      ],
      "metadata": {
        "id": "7pL1Qb4JAgwF",
        "outputId": "339e439a-8901-49b9-cf1b-917fd00849ee",
        "colab": {
          "base_uri": "https://localhost:8080/",
          "height": 692
        }
      },
      "execution_count": null,
      "outputs": [
        {
          "output_type": "execute_result",
          "data": {
            "text/plain": [
              "                  Open        High         Low       Close   Adj Close  \\\n",
              "Date                                                                     \n",
              "2021-02-22  749.500000  749.500000  711.000000  713.500000  708.229248   \n",
              "2021-02-23  697.000000  722.000000  697.000000  707.000000  701.777222   \n",
              "2021-02-24  709.500000  715.500000  680.000000  687.000000  681.924988   \n",
              "2021-02-25  700.000000  717.000000  691.500000  691.500000  686.391724   \n",
              "2021-02-26  669.000000  686.500000  662.500000  662.500000  657.605957   \n",
              "...                ...         ...         ...         ...         ...   \n",
              "2021-12-23  454.000000  468.799988  449.200012  461.799988  459.638245   \n",
              "2021-12-24  460.799988  460.799988  460.799988  460.799988  458.642944   \n",
              "2021-12-28  457.799988  459.200012  445.000000  450.399994  448.291626   \n",
              "2021-12-29  443.600006  445.600006  440.399994  444.799988  442.717834   \n",
              "2021-12-30  446.399994  450.799988  442.000000  443.399994  441.324402   \n",
              "\n",
              "              Volume  moving_avg  moving_avg_return        RSI       MACD  \\\n",
              "Date                                                                        \n",
              "2021-02-22  27296535  743.250000          -0.040027  52.500113  26.551069   \n",
              "2021-02-23  26933971  740.650000          -0.045433  50.511984  22.451905   \n",
              "2021-02-24  41585608  735.700000          -0.066195  44.880262  17.389005   \n",
              "2021-02-25  24008360  730.800000          -0.053777  46.330182  13.583154   \n",
              "2021-02-26  37077103  720.950000          -0.081074  39.177850   8.133178   \n",
              "...              ...         ...                ...        ...        ...   \n",
              "2021-12-23  32952274  451.179996           0.023538  50.203065  -8.224775   \n",
              "2021-12-24         0  450.919995           0.021911  49.743554  -6.968748   \n",
              "2021-12-28  18949609  449.299994           0.002448  45.118299  -6.734894   \n",
              "2021-12-29   9589399  447.799994          -0.006699  42.810039  -6.921649   \n",
              "2021-12-30   7664650  446.559995          -0.007076  42.228393  -7.100767   \n",
              "\n",
              "            MACD_signal    BB_upper   BB_middle    BB_lower  \n",
              "Date                                                         \n",
              "2021-02-22    32.461511  778.994466  729.025000  679.055534  \n",
              "2021-02-23    30.459590  777.806533  729.825000  681.843467  \n",
              "2021-02-24    27.845473  774.190563  725.850000  677.509437  \n",
              "2021-02-25    24.993009  775.044040  724.500000  673.955960  \n",
              "2021-02-26    21.621043  779.140547  722.550000  665.959453  \n",
              "...                 ...         ...         ...         ...  \n",
              "2021-12-23    -7.691376  480.987269  457.659996  434.332723  \n",
              "2021-12-24    -7.546850  480.756629  457.529996  434.303363  \n",
              "2021-12-28    -7.384459  480.242235  456.929996  433.617757  \n",
              "2021-12-29    -7.291897  480.064951  456.199995  432.335040  \n",
              "2021-12-30    -7.253671  478.680797  454.929996  431.179194  \n",
              "\n",
              "[213 rows x 14 columns]"
            ],
            "text/html": [
              "\n",
              "  <div id=\"df-80d38973-832f-4521-afc5-3a1582b1f557\">\n",
              "    <div class=\"colab-df-container\">\n",
              "      <div>\n",
              "<style scoped>\n",
              "    .dataframe tbody tr th:only-of-type {\n",
              "        vertical-align: middle;\n",
              "    }\n",
              "\n",
              "    .dataframe tbody tr th {\n",
              "        vertical-align: top;\n",
              "    }\n",
              "\n",
              "    .dataframe thead th {\n",
              "        text-align: right;\n",
              "    }\n",
              "</style>\n",
              "<table border=\"1\" class=\"dataframe\">\n",
              "  <thead>\n",
              "    <tr style=\"text-align: right;\">\n",
              "      <th></th>\n",
              "      <th>Open</th>\n",
              "      <th>High</th>\n",
              "      <th>Low</th>\n",
              "      <th>Close</th>\n",
              "      <th>Adj Close</th>\n",
              "      <th>Volume</th>\n",
              "      <th>moving_avg</th>\n",
              "      <th>moving_avg_return</th>\n",
              "      <th>RSI</th>\n",
              "      <th>MACD</th>\n",
              "      <th>MACD_signal</th>\n",
              "      <th>BB_upper</th>\n",
              "      <th>BB_middle</th>\n",
              "      <th>BB_lower</th>\n",
              "    </tr>\n",
              "    <tr>\n",
              "      <th>Date</th>\n",
              "      <th></th>\n",
              "      <th></th>\n",
              "      <th></th>\n",
              "      <th></th>\n",
              "      <th></th>\n",
              "      <th></th>\n",
              "      <th></th>\n",
              "      <th></th>\n",
              "      <th></th>\n",
              "      <th></th>\n",
              "      <th></th>\n",
              "      <th></th>\n",
              "      <th></th>\n",
              "      <th></th>\n",
              "    </tr>\n",
              "  </thead>\n",
              "  <tbody>\n",
              "    <tr>\n",
              "      <th>2021-02-22</th>\n",
              "      <td>749.500000</td>\n",
              "      <td>749.500000</td>\n",
              "      <td>711.000000</td>\n",
              "      <td>713.500000</td>\n",
              "      <td>708.229248</td>\n",
              "      <td>27296535</td>\n",
              "      <td>743.250000</td>\n",
              "      <td>-0.040027</td>\n",
              "      <td>52.500113</td>\n",
              "      <td>26.551069</td>\n",
              "      <td>32.461511</td>\n",
              "      <td>778.994466</td>\n",
              "      <td>729.025000</td>\n",
              "      <td>679.055534</td>\n",
              "    </tr>\n",
              "    <tr>\n",
              "      <th>2021-02-23</th>\n",
              "      <td>697.000000</td>\n",
              "      <td>722.000000</td>\n",
              "      <td>697.000000</td>\n",
              "      <td>707.000000</td>\n",
              "      <td>701.777222</td>\n",
              "      <td>26933971</td>\n",
              "      <td>740.650000</td>\n",
              "      <td>-0.045433</td>\n",
              "      <td>50.511984</td>\n",
              "      <td>22.451905</td>\n",
              "      <td>30.459590</td>\n",
              "      <td>777.806533</td>\n",
              "      <td>729.825000</td>\n",
              "      <td>681.843467</td>\n",
              "    </tr>\n",
              "    <tr>\n",
              "      <th>2021-02-24</th>\n",
              "      <td>709.500000</td>\n",
              "      <td>715.500000</td>\n",
              "      <td>680.000000</td>\n",
              "      <td>687.000000</td>\n",
              "      <td>681.924988</td>\n",
              "      <td>41585608</td>\n",
              "      <td>735.700000</td>\n",
              "      <td>-0.066195</td>\n",
              "      <td>44.880262</td>\n",
              "      <td>17.389005</td>\n",
              "      <td>27.845473</td>\n",
              "      <td>774.190563</td>\n",
              "      <td>725.850000</td>\n",
              "      <td>677.509437</td>\n",
              "    </tr>\n",
              "    <tr>\n",
              "      <th>2021-02-25</th>\n",
              "      <td>700.000000</td>\n",
              "      <td>717.000000</td>\n",
              "      <td>691.500000</td>\n",
              "      <td>691.500000</td>\n",
              "      <td>686.391724</td>\n",
              "      <td>24008360</td>\n",
              "      <td>730.800000</td>\n",
              "      <td>-0.053777</td>\n",
              "      <td>46.330182</td>\n",
              "      <td>13.583154</td>\n",
              "      <td>24.993009</td>\n",
              "      <td>775.044040</td>\n",
              "      <td>724.500000</td>\n",
              "      <td>673.955960</td>\n",
              "    </tr>\n",
              "    <tr>\n",
              "      <th>2021-02-26</th>\n",
              "      <td>669.000000</td>\n",
              "      <td>686.500000</td>\n",
              "      <td>662.500000</td>\n",
              "      <td>662.500000</td>\n",
              "      <td>657.605957</td>\n",
              "      <td>37077103</td>\n",
              "      <td>720.950000</td>\n",
              "      <td>-0.081074</td>\n",
              "      <td>39.177850</td>\n",
              "      <td>8.133178</td>\n",
              "      <td>21.621043</td>\n",
              "      <td>779.140547</td>\n",
              "      <td>722.550000</td>\n",
              "      <td>665.959453</td>\n",
              "    </tr>\n",
              "    <tr>\n",
              "      <th>...</th>\n",
              "      <td>...</td>\n",
              "      <td>...</td>\n",
              "      <td>...</td>\n",
              "      <td>...</td>\n",
              "      <td>...</td>\n",
              "      <td>...</td>\n",
              "      <td>...</td>\n",
              "      <td>...</td>\n",
              "      <td>...</td>\n",
              "      <td>...</td>\n",
              "      <td>...</td>\n",
              "      <td>...</td>\n",
              "      <td>...</td>\n",
              "      <td>...</td>\n",
              "    </tr>\n",
              "    <tr>\n",
              "      <th>2021-12-23</th>\n",
              "      <td>454.000000</td>\n",
              "      <td>468.799988</td>\n",
              "      <td>449.200012</td>\n",
              "      <td>461.799988</td>\n",
              "      <td>459.638245</td>\n",
              "      <td>32952274</td>\n",
              "      <td>451.179996</td>\n",
              "      <td>0.023538</td>\n",
              "      <td>50.203065</td>\n",
              "      <td>-8.224775</td>\n",
              "      <td>-7.691376</td>\n",
              "      <td>480.987269</td>\n",
              "      <td>457.659996</td>\n",
              "      <td>434.332723</td>\n",
              "    </tr>\n",
              "    <tr>\n",
              "      <th>2021-12-24</th>\n",
              "      <td>460.799988</td>\n",
              "      <td>460.799988</td>\n",
              "      <td>460.799988</td>\n",
              "      <td>460.799988</td>\n",
              "      <td>458.642944</td>\n",
              "      <td>0</td>\n",
              "      <td>450.919995</td>\n",
              "      <td>0.021911</td>\n",
              "      <td>49.743554</td>\n",
              "      <td>-6.968748</td>\n",
              "      <td>-7.546850</td>\n",
              "      <td>480.756629</td>\n",
              "      <td>457.529996</td>\n",
              "      <td>434.303363</td>\n",
              "    </tr>\n",
              "    <tr>\n",
              "      <th>2021-12-28</th>\n",
              "      <td>457.799988</td>\n",
              "      <td>459.200012</td>\n",
              "      <td>445.000000</td>\n",
              "      <td>450.399994</td>\n",
              "      <td>448.291626</td>\n",
              "      <td>18949609</td>\n",
              "      <td>449.299994</td>\n",
              "      <td>0.002448</td>\n",
              "      <td>45.118299</td>\n",
              "      <td>-6.734894</td>\n",
              "      <td>-7.384459</td>\n",
              "      <td>480.242235</td>\n",
              "      <td>456.929996</td>\n",
              "      <td>433.617757</td>\n",
              "    </tr>\n",
              "    <tr>\n",
              "      <th>2021-12-29</th>\n",
              "      <td>443.600006</td>\n",
              "      <td>445.600006</td>\n",
              "      <td>440.399994</td>\n",
              "      <td>444.799988</td>\n",
              "      <td>442.717834</td>\n",
              "      <td>9589399</td>\n",
              "      <td>447.799994</td>\n",
              "      <td>-0.006699</td>\n",
              "      <td>42.810039</td>\n",
              "      <td>-6.921649</td>\n",
              "      <td>-7.291897</td>\n",
              "      <td>480.064951</td>\n",
              "      <td>456.199995</td>\n",
              "      <td>432.335040</td>\n",
              "    </tr>\n",
              "    <tr>\n",
              "      <th>2021-12-30</th>\n",
              "      <td>446.399994</td>\n",
              "      <td>450.799988</td>\n",
              "      <td>442.000000</td>\n",
              "      <td>443.399994</td>\n",
              "      <td>441.324402</td>\n",
              "      <td>7664650</td>\n",
              "      <td>446.559995</td>\n",
              "      <td>-0.007076</td>\n",
              "      <td>42.228393</td>\n",
              "      <td>-7.100767</td>\n",
              "      <td>-7.253671</td>\n",
              "      <td>478.680797</td>\n",
              "      <td>454.929996</td>\n",
              "      <td>431.179194</td>\n",
              "    </tr>\n",
              "  </tbody>\n",
              "</table>\n",
              "<p>213 rows × 14 columns</p>\n",
              "</div>\n",
              "      <button class=\"colab-df-convert\" onclick=\"convertToInteractive('df-80d38973-832f-4521-afc5-3a1582b1f557')\"\n",
              "              title=\"Convert this dataframe to an interactive table.\"\n",
              "              style=\"display:none;\">\n",
              "        \n",
              "  <svg xmlns=\"http://www.w3.org/2000/svg\" height=\"24px\"viewBox=\"0 0 24 24\"\n",
              "       width=\"24px\">\n",
              "    <path d=\"M0 0h24v24H0V0z\" fill=\"none\"/>\n",
              "    <path d=\"M18.56 5.44l.94 2.06.94-2.06 2.06-.94-2.06-.94-.94-2.06-.94 2.06-2.06.94zm-11 1L8.5 8.5l.94-2.06 2.06-.94-2.06-.94L8.5 2.5l-.94 2.06-2.06.94zm10 10l.94 2.06.94-2.06 2.06-.94-2.06-.94-.94-2.06-.94 2.06-2.06.94z\"/><path d=\"M17.41 7.96l-1.37-1.37c-.4-.4-.92-.59-1.43-.59-.52 0-1.04.2-1.43.59L10.3 9.45l-7.72 7.72c-.78.78-.78 2.05 0 2.83L4 21.41c.39.39.9.59 1.41.59.51 0 1.02-.2 1.41-.59l7.78-7.78 2.81-2.81c.8-.78.8-2.07 0-2.86zM5.41 20L4 18.59l7.72-7.72 1.47 1.35L5.41 20z\"/>\n",
              "  </svg>\n",
              "      </button>\n",
              "      \n",
              "  <style>\n",
              "    .colab-df-container {\n",
              "      display:flex;\n",
              "      flex-wrap:wrap;\n",
              "      gap: 12px;\n",
              "    }\n",
              "\n",
              "    .colab-df-convert {\n",
              "      background-color: #E8F0FE;\n",
              "      border: none;\n",
              "      border-radius: 50%;\n",
              "      cursor: pointer;\n",
              "      display: none;\n",
              "      fill: #1967D2;\n",
              "      height: 32px;\n",
              "      padding: 0 0 0 0;\n",
              "      width: 32px;\n",
              "    }\n",
              "\n",
              "    .colab-df-convert:hover {\n",
              "      background-color: #E2EBFA;\n",
              "      box-shadow: 0px 1px 2px rgba(60, 64, 67, 0.3), 0px 1px 3px 1px rgba(60, 64, 67, 0.15);\n",
              "      fill: #174EA6;\n",
              "    }\n",
              "\n",
              "    [theme=dark] .colab-df-convert {\n",
              "      background-color: #3B4455;\n",
              "      fill: #D2E3FC;\n",
              "    }\n",
              "\n",
              "    [theme=dark] .colab-df-convert:hover {\n",
              "      background-color: #434B5C;\n",
              "      box-shadow: 0px 1px 3px 1px rgba(0, 0, 0, 0.15);\n",
              "      filter: drop-shadow(0px 1px 2px rgba(0, 0, 0, 0.3));\n",
              "      fill: #FFFFFF;\n",
              "    }\n",
              "  </style>\n",
              "\n",
              "      <script>\n",
              "        const buttonEl =\n",
              "          document.querySelector('#df-80d38973-832f-4521-afc5-3a1582b1f557 button.colab-df-convert');\n",
              "        buttonEl.style.display =\n",
              "          google.colab.kernel.accessAllowed ? 'block' : 'none';\n",
              "\n",
              "        async function convertToInteractive(key) {\n",
              "          const element = document.querySelector('#df-80d38973-832f-4521-afc5-3a1582b1f557');\n",
              "          const dataTable =\n",
              "            await google.colab.kernel.invokeFunction('convertToInteractive',\n",
              "                                                     [key], {});\n",
              "          if (!dataTable) return;\n",
              "\n",
              "          const docLinkHtml = 'Like what you see? Visit the ' +\n",
              "            '<a target=\"_blank\" href=https://colab.research.google.com/notebooks/data_table.ipynb>data table notebook</a>'\n",
              "            + ' to learn more about interactive tables.';\n",
              "          element.innerHTML = '';\n",
              "          dataTable['output_type'] = 'display_data';\n",
              "          await google.colab.output.renderOutput(dataTable, element);\n",
              "          const docLink = document.createElement('div');\n",
              "          docLink.innerHTML = docLinkHtml;\n",
              "          element.appendChild(docLink);\n",
              "        }\n",
              "      </script>\n",
              "    </div>\n",
              "  </div>\n",
              "  "
            ]
          },
          "metadata": {},
          "execution_count": 28
        }
      ]
    },
    {
      "cell_type": "markdown",
      "source": [
        "## 5.4 Calculate Profits"
      ],
      "metadata": {
        "id": "Vw7ipEGl0Hr7"
      }
    },
    {
      "cell_type": "markdown",
      "source": [
        "### Use Random Forest Model"
      ],
      "metadata": {
        "id": "Sq5w6FifEdJm"
      }
    },
    {
      "cell_type": "code",
      "source": [
        "# Calculate profits for various types of investors using 2021 data\n",
        "\n",
        "model = rf\n",
        "short_term_profit_2021_rf = trading_simulation(stock_data_2021, model, buy_threshold, sell_threshold, **short_term_params)\n",
        "medium_term_profit_2021_rf = trading_simulation(stock_data_2021, model, buy_threshold, sell_threshold, **medium_term_params)\n",
        "long_term_profit_2021_rf = trading_simulation(stock_data_2021, model, buy_threshold, sell_threshold, **long_term_params)\n",
        "random_trader_profit_2021_rf = random_trader(stock_data_2021, model, buy_threshold, sell_threshold)\n",
        "\n",
        "print(\"Short-term investor profits in 2021:\", short_term_profit_2021_rf)\n",
        "print(\"Medium-term investor profits in 2021:\", medium_term_profit_2021_rf)\n",
        "print(\"Long-term investor profits in 2021:\", long_term_profit_2021_rf)\n",
        "print(\"Random investor profits in 2021:\", random_trader_profit_2021_rf)"
      ],
      "metadata": {
        "colab": {
          "base_uri": "https://localhost:8080/"
        },
        "outputId": "dceb66fd-5958-4389-9a59-bb3edc6f6406",
        "id": "ykkWLXBlEdJq"
      },
      "execution_count": null,
      "outputs": [
        {
          "output_type": "stream",
          "name": "stdout",
          "text": [
            "Short-term investor profits in 2021: 7692.295166015625\n",
            "Medium-term investor profits in 2021: 2346.295166015625\n",
            "Long-term investor profits in 2021: 3138.295166015625\n",
            "Random investor profits in 2021: 2593.795166015625\n"
          ]
        }
      ]
    },
    {
      "cell_type": "markdown",
      "source": [
        "### Use XGBoost Model"
      ],
      "metadata": {
        "id": "tuty4cMe8JDb"
      }
    },
    {
      "cell_type": "code",
      "source": [
        "# Calculate profits for various types of investors using 2021 data\n",
        "\n",
        "model = xgb\n",
        "short_term_profit_2021_xgb = trading_simulation(stock_data_2021, model, buy_threshold, sell_threshold, **short_term_params)\n",
        "medium_term_profit_2021_xgb = trading_simulation(stock_data_2021, model, buy_threshold, sell_threshold, **medium_term_params)\n",
        "long_term_profit_2021_xgb = trading_simulation(stock_data_2021, model, buy_threshold, sell_threshold, **long_term_params)\n",
        "random_trader_profit_2021_xgb = random_trader(stock_data_2021, model, buy_threshold, sell_threshold)\n",
        "\n",
        "print(\"Short-term investor profits in 2021:\", short_term_profit_2021_xgb)\n",
        "print(\"Medium-term investor profits in 2021:\", medium_term_profit_2021_xgb)\n",
        "print(\"Long-term investor profits in 2021:\", long_term_profit_2021_xgb)\n",
        "print(\"Random investor profits in 2021:\", random_trader_profit_2021_xgb)"
      ],
      "metadata": {
        "colab": {
          "base_uri": "https://localhost:8080/"
        },
        "id": "90lesiSZtvhT",
        "outputId": "1025a17c-4e43-491d-8b07-6d14e905bad2"
      },
      "execution_count": null,
      "outputs": [
        {
          "output_type": "stream",
          "name": "stdout",
          "text": [
            "Short-term investor profits in 2021: -3554.1024169921875\n",
            "Medium-term investor profits in 2021: -9048.602416992188\n",
            "Long-term investor profits in 2021: -10583.102416992188\n",
            "Random investor profits in 2021: -3653.1024169921875\n"
          ]
        }
      ]
    },
    {
      "cell_type": "markdown",
      "source": [
        "### Use Decision Tree Model"
      ],
      "metadata": {
        "id": "Fep0rbVHBdwU"
      }
    },
    {
      "cell_type": "code",
      "source": [
        "# Calculate profits for various types of investors using 2021 data\n",
        "\n",
        "model = dt\n",
        "short_term_profit_2021_dt = trading_simulation(stock_data_2021, model, buy_threshold, sell_threshold, **short_term_params)\n",
        "medium_term_profit_2021_dt = trading_simulation(stock_data_2021, model, buy_threshold, sell_threshold, **medium_term_params)\n",
        "long_term_profit_2021_dt = trading_simulation(stock_data_2021, model, buy_threshold, sell_threshold, **long_term_params)\n",
        "random_trader_profit_2021_dt = random_trader(stock_data_2021, model, buy_threshold, sell_threshold)\n",
        "\n",
        "print(\"Short-term investor profits in 2021:\", short_term_profit_2021_dt)\n",
        "print(\"Medium-term investor profits in 2021:\", medium_term_profit_2021_dt)\n",
        "print(\"Long-term investor profits in 2021:\", long_term_profit_2021_dt)\n",
        "print(\"Random investor profits in 2021:\", random_trader_profit_2021_dt)"
      ],
      "metadata": {
        "colab": {
          "base_uri": "https://localhost:8080/"
        },
        "id": "3uhczxLct2BI",
        "outputId": "23371107-d8e0-43be-9504-ff3477df9dde"
      },
      "execution_count": null,
      "outputs": [
        {
          "output_type": "stream",
          "name": "stdout",
          "text": [
            "Short-term investor profits in 2021: 4732.198791503906\n",
            "Medium-term investor profits in 2021: -7692.301208496094\n",
            "Long-term investor profits in 2021: -6850.801208496094\n",
            "Random investor profits in 2021: -1851.3012084960938\n"
          ]
        }
      ]
    },
    {
      "cell_type": "markdown",
      "source": [
        "### Use MLP Model"
      ],
      "metadata": {
        "id": "NzvSUkyfBoez"
      }
    },
    {
      "cell_type": "code",
      "source": [
        "# Calculate profits for various types of investors using 2021 data\n",
        "\n",
        "model = mlp\n",
        "short_term_profit_2021_mlp = trading_simulation(stock_data_2021, model, buy_threshold, sell_threshold, **short_term_params)\n",
        "medium_term_profit_2021_mlp = trading_simulation(stock_data_2021, model, buy_threshold, sell_threshold, **medium_term_params)\n",
        "long_term_profit_2021_mlp = trading_simulation(stock_data_2021, model, buy_threshold, sell_threshold, **long_term_params)\n",
        "random_trader_profit_2021_mlp = random_trader(stock_data_2021, model, buy_threshold, sell_threshold)\n",
        "\n",
        "print(\"Short-term investor profits in 2021:\", short_term_profit_2021_mlp)\n",
        "print(\"Medium-term investor profits in 2021:\", medium_term_profit_2021_mlp)\n",
        "print(\"Long-term investor profits in 2021:\", long_term_profit_2021_mlp)\n",
        "print(\"Random investor profits in 2021:\", random_trader_profit_2021_mlp)"
      ],
      "metadata": {
        "colab": {
          "base_uri": "https://localhost:8080/"
        },
        "id": "VzU1B90at4X6",
        "outputId": "066fedd4-1059-4573-fbb1-16b2902b76dc"
      },
      "execution_count": null,
      "outputs": [
        {
          "output_type": "stream",
          "name": "stdout",
          "text": [
            "Short-term investor profits in 2021: 4692.599395751953\n",
            "Medium-term investor profits in 2021: 4692.599395751953\n",
            "Long-term investor profits in 2021: 4692.599395751953\n",
            "Random investor profits in 2021: 4692.599395751953\n"
          ]
        }
      ]
    },
    {
      "cell_type": "markdown",
      "source": [
        "# 6 Model Profits Comparison Visualization"
      ],
      "metadata": {
        "id": "U0Ai8vzF7ihP"
      }
    },
    {
      "cell_type": "markdown",
      "source": [
        "This part is the return performance of four investors in four models in a bar chart"
      ],
      "metadata": {
        "id": "I99MzF47uuC0"
      }
    },
    {
      "cell_type": "code",
      "source": [
        "import matplotlib.pyplot as plt\n",
        "import numpy as np\n",
        "\n",
        "profits = [\n",
        "    [short_term_profit_2021_rf, short_term_profit_2021_xgb, short_term_profit_2021_dt, short_term_profit_2021_mlp],\n",
        "    [medium_term_profit_2021_rf, medium_term_profit_2021_xgb, medium_term_profit_2021_dt, medium_term_profit_2021_mlp],\n",
        "    [long_term_profit_2021_rf, long_term_profit_2021_xgb, long_term_profit_2021_dt, long_term_profit_2021_mlp],\n",
        "    [random_trader_profit_2021_rf, random_trader_profit_2021_xgb, random_trader_profit_2021_dt, random_trader_profit_2021_mlp],\n",
        "]\n",
        "\n",
        "bar_width = 0.2\n",
        "opacity = 0.8\n",
        "x_labels = ['RF', 'XGB', 'DT', 'MLP']\n",
        "\n",
        "fig, ax = plt.subplots()\n",
        "index = np.arange(len(x_labels))\n",
        "\n",
        "for i, investor_type in enumerate(['Short-term', 'Medium-term', 'Long-term', 'Random Trader']):\n",
        "    ax.bar(index + i * bar_width, profits[i], bar_width, alpha=opacity, label=investor_type)\n",
        "\n",
        "ax.set_xlabel('Models')\n",
        "ax.set_ylabel('Profit')\n",
        "ax.set_title('Profits by Models and Investor Types')\n",
        "ax.set_xticks(index + bar_width * 1.5)\n",
        "ax.set_xticklabels(x_labels)\n",
        "ax.legend()\n",
        "\n",
        "plt.show()\n"
      ],
      "metadata": {
        "colab": {
          "base_uri": "https://localhost:8080/",
          "height": 472
        },
        "id": "Q8qqc_NebW2l",
        "outputId": "c5e1b2de-aa0d-4371-a2c2-46895651d040"
      },
      "execution_count": 50,
      "outputs": [
        {
          "output_type": "display_data",
          "data": {
            "text/plain": [
              "<Figure size 640x480 with 1 Axes>"
            ],
            "image/png": "[encoded data removed]"
          },
          "metadata": {}
        }
      ]
    },
    {
      "cell_type": "code",
      "source": [
        "profits = [[int(num) for num in inner_list] for inner_list in profits]\n",
        "profits"
      ],
      "metadata": {
        "colab": {
          "base_uri": "https://localhost:8080/"
        },
        "id": "Gk25BLC7_CUp",
        "outputId": "49295e1f-b06c-4b23-87c6-484debff5f3f"
      },
      "execution_count": 52,
      "outputs": [
        {
          "output_type": "execute_result",
          "data": {
            "text/plain": [
              "[[7692, -3554, 4732, 4692],\n",
              " [2346, -9048, -7692, 4692],\n",
              " [3138, -10583, -6850, 4692],\n",
              " [2593, -3653, -1851, 4692]]"
            ]
          },
          "metadata": {},
          "execution_count": 52
        }
      ]
    },
    {
      "cell_type": "markdown",
      "source": [
        "# 7 Summary"
      ],
      "metadata": {
        "id": "ZH7FZnC2qrNQ"
      }
    },
    {
      "cell_type": "markdown",
      "source": [
        "This project uses random forest, xgboost, decision tree, and MLP models to realize the stock trading robot system. Combined with the model evaluation and the situation based on the simulated real trading of Tencent stocks in 2021, the accuracy rate of the MLP model is 0.34 and the income obtained is 4962, but this result is not credible, indicating that the MLP model is completely invalid. The best performing model is the random forest model, with an accuracy rate of 0.95. Among the 'Short-term', 'Medium-term', 'Long-term' and 'Random Trader' investors, the returns are the highest among the four models:\n",
        "*   'Short-term' profits: 7692\n",
        "*   'Medium-term' profits: 2346\n",
        "*   'Long-term' profits: 3138\n",
        "*   'Random' profits: 2593\n",
        "\n",
        "This is enough to show that random forest is the best choice in the stock trading robot system."
      ],
      "metadata": {
        "id": "47Fk5pFFq_Sr"
      }
    }
  ]
}