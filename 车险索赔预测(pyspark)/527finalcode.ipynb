{
  "cells": [
    {
      "cell_type": "markdown",
      "source": [
        "# <center>CDS527 Group Project</center>\n",
        "\n",
        "Your group will be given a business dataset, with a standardized data splitting and evaluation metric. Your task is to develop a “good-performing” decision support system for fraud prediction. To achieve this, you will need to:\n",
        "1.\tBuild a baseline model (i.e., a model with basic setup and no fine-tuning, e.g., logistic regression)\n",
        "2.\tCompare with at least three other data analytics models (e.g., Gradient boosting tree, decision tree, etc) \n",
        "3.\tFine-Tune different hyper-parameter for each model above and report the best score\n",
        "4.\tVisualize with at least three data statistics. There are many ways that can describe patterns found in data include chart and figures (e.g., bar charts, line graphs, etc), as well as statistical metrics like central tendency (mean, mode and median) and dispersion (range, variance, maximum, minimum, quartiles), correlation and standard deviation. "
      ],
      "metadata": {
        "nteract": {
          "transient": {
            "deleting": false
          }
        },
        "id": "tF-4p6mfDMxP"
      }
    },
    {
      "cell_type": "markdown",
      "source": [
        "## 1 Install Pyspark"
      ],
      "metadata": {
        "id": "4rNyom1WEy2y"
      }
    },
    {
      "cell_type": "code",
      "source": [
        "!pip install pyspark"
      ],
      "metadata": {
        "id": "mYcPdYOxDR4y",
        "colab": {
          "base_uri": "https://localhost:8080/"
        },
        "outputId": "309ac00b-ea24-4315-b5e4-63f7a154d9f3"
      },
      "execution_count": null,
      "outputs": [
        {
          "output_type": "stream",
          "name": "stdout",
          "text": [
            "Looking in indexes: https://pypi.org/simple, https://us-python.pkg.dev/colab-wheels/public/simple/\n",
            "Requirement already satisfied: pyspark in /usr/local/lib/python3.9/dist-packages (3.4.0)\n",
            "Requirement already satisfied: py4j==0.10.9.7 in /usr/local/lib/python3.9/dist-packages (from pyspark) (0.10.9.7)\n"
          ]
        }
      ]
    },
    {
      "cell_type": "markdown",
      "source": [
        "## 2 Create SparkContext and SparkSession\n",
        "Remeber to create a session, which is an entry point to Spark"
      ],
      "metadata": {
        "nteract": {
          "transient": {
            "deleting": false
          }
        },
        "id": "9NAhVTPLDMxT"
      }
    },
    {
      "cell_type": "code",
      "source": [
        "# create entry points to spark\n",
        "from pyspark.sql import SparkSession\n",
        "\n",
        "ss  = SparkSession.builder \\\n",
        "                            .master(\"local[1]\")\\\n",
        "                            .appName(\"SparkByExamples.com\")\\\n",
        "                            .getOrCreate()\n",
        "spark = ss.sparkContext"
      ],
      "outputs": [],
      "execution_count": null,
      "metadata": {
        "jupyter": {
          "source_hidden": false,
          "outputs_hidden": false
        },
        "nteract": {
          "transient": {
            "deleting": false
          }
        },
        "gather": {
          "logged": 1639395104511
        },
        "id": "vFSyLSRKDMxU"
      }
    },
    {
      "cell_type": "markdown",
      "source": [
        "## 3 Import Data"
      ],
      "metadata": {
        "id": "MHdBnRK0pLLa"
      }
    },
    {
      "cell_type": "code",
      "source": [
        "## read txt file\n",
        "from google.colab import drive\n",
        "drive.mount('/content/drive/')\n",
        "#data_path = \"/content/drive/MyDrive/gp_527/\"\n",
        "data_path = \"/content/drive/MyDrive/ColabNotebooks/CDS527/GroupProject/\"  # this is your drive"
      ],
      "metadata": {
        "id": "XNnb93UxDWG1",
        "colab": {
          "base_uri": "https://localhost:8080/"
        },
        "outputId": "549ab62d-4f80-4ae9-eb17-31789e18f9a0"
      },
      "execution_count": null,
      "outputs": [
        {
          "output_type": "stream",
          "name": "stdout",
          "text": [
            "Drive already mounted at /content/drive/; to attempt to forcibly remount, call drive.mount(\"/content/drive/\", force_remount=True).\n"
          ]
        }
      ]
    },
    {
      "cell_type": "code",
      "source": [
        "# read .csv file\n",
        "df = ss.read.csv(data_path + 'Lab_Car_Insurance_Claim_Prediction_dataset.csv', inferSchema=True, header=True)\n",
        "df.show(3)"
      ],
      "metadata": {
        "colab": {
          "base_uri": "https://localhost:8080/"
        },
        "id": "j8171GYWoz8m",
        "outputId": "006bd347-30b6-4dce-e735-a6e1110de226"
      },
      "execution_count": null,
      "outputs": [
        {
          "output_type": "stream",
          "name": "stdout",
          "text": [
            "+---------+-----------------+----------+-------------------+------------+------------------+----+-------+-----+---------+-------------+-----------------+-------------+-------+------+----------------------+-------+------------------+-----------------+----------------+------------+--------+-----------------+--------+-------------+--------------+------+-----+------+------------+-------------------+--------------------+---------------------+-----------------------+---------------+-------------------+------------------+-----------------+--------------------------------+-----------------------------+------+--------------+-----------+--------+\n",
            "|policy_id|    policy_tenure|age_of_car|age_of_policyholder|area_cluster|population_density|make|segment|model|fuel_type|   max_torque|        max_power|  engine_type|airbags|is_esc|is_adjustable_steering|is_tpms|is_parking_sensors|is_parking_camera|rear_brakes_type|displacement|cylinder|transmission_type|gear_box|steering_type|turning_radius|length|width|height|gross_weight|is_front_fog_lights|is_rear_window_wiper|is_rear_window_washer|is_rear_window_defogger|is_brake_assist|is_power_door_locks|is_central_locking|is_power_steering|is_driver_seat_height_adjustable|is_day_night_rear_view_mirror|is_ecw|is_speed_alert|ncap_rating|is_claim|\n",
            "+---------+-----------------+----------+-------------------+------------+------------------+----+-------+-----+---------+-------------+-----------------+-------------+-------+------+----------------------+-------+------------------+-----------------+----------------+------------+--------+-----------------+--------+-------------+--------------+------+-----+------+------------+-------------------+--------------------+---------------------+-----------------------+---------------+-------------------+------------------+-----------------+--------------------------------+-----------------------------+------+--------------+-----------+--------+\n",
            "|  ID01699|0.631560391803943|      0.15|  0.490384615384615|          C8|              8794|   3|     C2|   M4|   Diesel|250Nm@2750rpm|113.45bhp@4000rpm|1.5 L U2 CRDi|      6|   Yes|                   Yes|    Yes|               Yes|              Yes|            Disc|        1493|       4|        Automatic|       6|        Power|           5.2|  4300| 1790|  1635|        1720|                Yes|                 Yes|                  Yes|                    Yes|            Yes|                Yes|               Yes|              Yes|                             Yes|                           No|   Yes|           Yes|          3|       0|\n",
            "|  ID00601| 1.18865543757249|      0.09|              0.375|          C8|              8794|   3|     C2|   M4|   Diesel|250Nm@2750rpm|113.45bhp@4000rpm|1.5 L U2 CRDi|      6|   Yes|                   Yes|    Yes|               Yes|              Yes|            Disc|        1493|       4|        Automatic|       6|        Power|           5.2|  4300| 1790|  1635|        1720|                Yes|                 Yes|                  Yes|                    Yes|            Yes|                Yes|               Yes|              Yes|                             Yes|                           No|   Yes|           Yes|          3|       0|\n",
            "|  ID00220| 1.00434518625804|      0.01|  0.413461538461538|          C5|             34738|   5|     C1|   M9|   Diesel|200Nm@1750rpm| 97.89bhp@3600rpm|       i-DTEC|      2|    No|                   Yes|     No|               Yes|              Yes|            Drum|        1498|       4|           Manual|       5|     Electric|           4.9|  3995| 1695|  1501|        1051|                Yes|                  No|                   No|                    Yes|             No|                Yes|               Yes|              Yes|                             Yes|                          Yes|   Yes|           Yes|          4|       0|\n",
            "+---------+-----------------+----------+-------------------+------------+------------------+----+-------+-----+---------+-------------+-----------------+-------------+-------+------+----------------------+-------+------------------+-----------------+----------------+------------+--------+-----------------+--------+-------------+--------------+------+-----+------+------------+-------------------+--------------------+---------------------+-----------------------+---------------+-------------------+------------------+-----------------+--------------------------------+-----------------------------+------+--------------+-----------+--------+\n",
            "only showing top 3 rows\n",
            "\n"
          ]
        }
      ]
    },
    {
      "cell_type": "markdown",
      "source": [
        "## 4 Data Preprocessing - 1"
      ],
      "metadata": {
        "id": "CyBkFodLGoLN"
      }
    },
    {
      "cell_type": "code",
      "source": [
        "import numpy as np\n",
        "import pandas as pd\n",
        "import matplotlib.pyplot as plt\n",
        "import seaborn as sns\n",
        "\n",
        "#from google.colab import files\n",
        "\n",
        "%matplotlib inline"
      ],
      "metadata": {
        "id": "vGZAlXHpM-Wj"
      },
      "execution_count": null,
      "outputs": []
    },
    {
      "cell_type": "code",
      "source": [
        "# Check data type of each column\n",
        "display(df.dtypes)"
      ],
      "metadata": {
        "colab": {
          "base_uri": "https://localhost:8080/",
          "height": 781
        },
        "id": "wcdyt_YiFjo0",
        "outputId": "49fbf000-256f-40ae-8469-27bf43a799a5"
      },
      "execution_count": null,
      "outputs": [
        {
          "output_type": "display_data",
          "data": {
            "text/plain": [
              "[('policy_id', 'string'),\n",
              " ('policy_tenure', 'double'),\n",
              " ('age_of_car', 'double'),\n",
              " ('age_of_policyholder', 'double'),\n",
              " ('area_cluster', 'string'),\n",
              " ('population_density', 'int'),\n",
              " ('make', 'int'),\n",
              " ('segment', 'string'),\n",
              " ('model', 'string'),\n",
              " ('fuel_type', 'string'),\n",
              " ('max_torque', 'string'),\n",
              " ('max_power', 'string'),\n",
              " ('engine_type', 'string'),\n",
              " ('airbags', 'int'),\n",
              " ('is_esc', 'string'),\n",
              " ('is_adjustable_steering', 'string'),\n",
              " ('is_tpms', 'string'),\n",
              " ('is_parking_sensors', 'string'),\n",
              " ('is_parking_camera', 'string'),\n",
              " ('rear_brakes_type', 'string'),\n",
              " ('displacement', 'int'),\n",
              " ('cylinder', 'int'),\n",
              " ('transmission_type', 'string'),\n",
              " ('gear_box', 'int'),\n",
              " ('steering_type', 'string'),\n",
              " ('turning_radius', 'double'),\n",
              " ('length', 'int'),\n",
              " ('width', 'int'),\n",
              " ('height', 'int'),\n",
              " ('gross_weight', 'int'),\n",
              " ('is_front_fog_lights', 'string'),\n",
              " ('is_rear_window_wiper', 'string'),\n",
              " ('is_rear_window_washer', 'string'),\n",
              " ('is_rear_window_defogger', 'string'),\n",
              " ('is_brake_assist', 'string'),\n",
              " ('is_power_door_locks', 'string'),\n",
              " ('is_central_locking', 'string'),\n",
              " ('is_power_steering', 'string'),\n",
              " ('is_driver_seat_height_adjustable', 'string'),\n",
              " ('is_day_night_rear_view_mirror', 'string'),\n",
              " ('is_ecw', 'string'),\n",
              " ('is_speed_alert', 'string'),\n",
              " ('ncap_rating', 'int'),\n",
              " ('is_claim', 'int')]"
            ]
          },
          "metadata": {}
        }
      ]
    },
    {
      "cell_type": "code",
      "source": [
        "# Remove column \"policy_id\" becuase it is useless for prediction modelling\n",
        "\n",
        "df = df.drop(df['policy_id'])\n",
        "df.show(3)"
      ],
      "metadata": {
        "colab": {
          "base_uri": "https://localhost:8080/"
        },
        "id": "_oZjwVWuzQBS",
        "outputId": "31ac9c45-d465-47a5-a9f7-cd97134b1093"
      },
      "execution_count": null,
      "outputs": [
        {
          "output_type": "stream",
          "name": "stdout",
          "text": [
            "+-----------------+----------+-------------------+------------+------------------+----+-------+-----+---------+-------------+-----------------+-------------+-------+------+----------------------+-------+------------------+-----------------+----------------+------------+--------+-----------------+--------+-------------+--------------+------+-----+------+------------+-------------------+--------------------+---------------------+-----------------------+---------------+-------------------+------------------+-----------------+--------------------------------+-----------------------------+------+--------------+-----------+--------+\n",
            "|    policy_tenure|age_of_car|age_of_policyholder|area_cluster|population_density|make|segment|model|fuel_type|   max_torque|        max_power|  engine_type|airbags|is_esc|is_adjustable_steering|is_tpms|is_parking_sensors|is_parking_camera|rear_brakes_type|displacement|cylinder|transmission_type|gear_box|steering_type|turning_radius|length|width|height|gross_weight|is_front_fog_lights|is_rear_window_wiper|is_rear_window_washer|is_rear_window_defogger|is_brake_assist|is_power_door_locks|is_central_locking|is_power_steering|is_driver_seat_height_adjustable|is_day_night_rear_view_mirror|is_ecw|is_speed_alert|ncap_rating|is_claim|\n",
            "+-----------------+----------+-------------------+------------+------------------+----+-------+-----+---------+-------------+-----------------+-------------+-------+------+----------------------+-------+------------------+-----------------+----------------+------------+--------+-----------------+--------+-------------+--------------+------+-----+------+------------+-------------------+--------------------+---------------------+-----------------------+---------------+-------------------+------------------+-----------------+--------------------------------+-----------------------------+------+--------------+-----------+--------+\n",
            "|0.631560391803943|      0.15|  0.490384615384615|          C8|              8794|   3|     C2|   M4|   Diesel|250Nm@2750rpm|113.45bhp@4000rpm|1.5 L U2 CRDi|      6|   Yes|                   Yes|    Yes|               Yes|              Yes|            Disc|        1493|       4|        Automatic|       6|        Power|           5.2|  4300| 1790|  1635|        1720|                Yes|                 Yes|                  Yes|                    Yes|            Yes|                Yes|               Yes|              Yes|                             Yes|                           No|   Yes|           Yes|          3|       0|\n",
            "| 1.18865543757249|      0.09|              0.375|          C8|              8794|   3|     C2|   M4|   Diesel|250Nm@2750rpm|113.45bhp@4000rpm|1.5 L U2 CRDi|      6|   Yes|                   Yes|    Yes|               Yes|              Yes|            Disc|        1493|       4|        Automatic|       6|        Power|           5.2|  4300| 1790|  1635|        1720|                Yes|                 Yes|                  Yes|                    Yes|            Yes|                Yes|               Yes|              Yes|                             Yes|                           No|   Yes|           Yes|          3|       0|\n",
            "| 1.00434518625804|      0.01|  0.413461538461538|          C5|             34738|   5|     C1|   M9|   Diesel|200Nm@1750rpm| 97.89bhp@3600rpm|       i-DTEC|      2|    No|                   Yes|     No|               Yes|              Yes|            Drum|        1498|       4|           Manual|       5|     Electric|           4.9|  3995| 1695|  1501|        1051|                Yes|                  No|                   No|                    Yes|             No|                Yes|               Yes|              Yes|                             Yes|                          Yes|   Yes|           Yes|          4|       0|\n",
            "+-----------------+----------+-------------------+------------+------------------+----+-------+-----+---------+-------------+-----------------+-------------+-------+------+----------------------+-------+------------------+-----------------+----------------+------------+--------+-----------------+--------+-------------+--------------+------+-----+------+------------+-------------------+--------------------+---------------------+-----------------------+---------------+-------------------+------------------+-----------------+--------------------------------+-----------------------------+------+--------------+-----------+--------+\n",
            "only showing top 3 rows\n",
            "\n"
          ]
        }
      ]
    },
    {
      "cell_type": "code",
      "source": [
        "# Change 'make' to string data type as it is categorical data\n",
        "df = df.withColumn(\"make\", df.make.cast(\"string\"))\n",
        "\n",
        "# Change 'ncap_rating' to string data type as it is categorical data\n",
        "df = df.withColumn(\"ncap_rating\", df.make.cast(\"string\"))"
      ],
      "metadata": {
        "id": "1pPEw_BacgNZ"
      },
      "execution_count": null,
      "outputs": []
    },
    {
      "cell_type": "code",
      "source": [
        "# Check if 'make' and 'ncap_rating' are changed to string data type\n",
        "display(df.dtypes)"
      ],
      "metadata": {
        "colab": {
          "base_uri": "https://localhost:8080/",
          "height": 764
        },
        "id": "K1gTgdB4c4Mn",
        "outputId": "741dc8e3-126c-41dd-cf09-266c0d6ce74d"
      },
      "execution_count": null,
      "outputs": [
        {
          "output_type": "display_data",
          "data": {
            "text/plain": [
              "[('policy_tenure', 'double'),\n",
              " ('age_of_car', 'double'),\n",
              " ('age_of_policyholder', 'double'),\n",
              " ('area_cluster', 'string'),\n",
              " ('population_density', 'int'),\n",
              " ('make', 'string'),\n",
              " ('segment', 'string'),\n",
              " ('model', 'string'),\n",
              " ('fuel_type', 'string'),\n",
              " ('max_torque', 'string'),\n",
              " ('max_power', 'string'),\n",
              " ('engine_type', 'string'),\n",
              " ('airbags', 'int'),\n",
              " ('is_esc', 'string'),\n",
              " ('is_adjustable_steering', 'string'),\n",
              " ('is_tpms', 'string'),\n",
              " ('is_parking_sensors', 'string'),\n",
              " ('is_parking_camera', 'string'),\n",
              " ('rear_brakes_type', 'string'),\n",
              " ('displacement', 'int'),\n",
              " ('cylinder', 'int'),\n",
              " ('transmission_type', 'string'),\n",
              " ('gear_box', 'int'),\n",
              " ('steering_type', 'string'),\n",
              " ('turning_radius', 'double'),\n",
              " ('length', 'int'),\n",
              " ('width', 'int'),\n",
              " ('height', 'int'),\n",
              " ('gross_weight', 'int'),\n",
              " ('is_front_fog_lights', 'string'),\n",
              " ('is_rear_window_wiper', 'string'),\n",
              " ('is_rear_window_washer', 'string'),\n",
              " ('is_rear_window_defogger', 'string'),\n",
              " ('is_brake_assist', 'string'),\n",
              " ('is_power_door_locks', 'string'),\n",
              " ('is_central_locking', 'string'),\n",
              " ('is_power_steering', 'string'),\n",
              " ('is_driver_seat_height_adjustable', 'string'),\n",
              " ('is_day_night_rear_view_mirror', 'string'),\n",
              " ('is_ecw', 'string'),\n",
              " ('is_speed_alert', 'string'),\n",
              " ('ncap_rating', 'string'),\n",
              " ('is_claim', 'int')]"
            ]
          },
          "metadata": {}
        }
      ]
    },
    {
      "cell_type": "code",
      "source": [
        "# Create a List of Column Names with data type is string only.\n",
        "\n",
        "stringColList = [i[0] for i in df.dtypes if i[1] == 'string']\n",
        "stringColList"
      ],
      "metadata": {
        "colab": {
          "base_uri": "https://localhost:8080/"
        },
        "id": "03w1RnLkZY03",
        "outputId": "c8ae4b4f-da76-418f-d575-3a1e8be6ff46"
      },
      "execution_count": null,
      "outputs": [
        {
          "output_type": "execute_result",
          "data": {
            "text/plain": [
              "['area_cluster',\n",
              " 'make',\n",
              " 'segment',\n",
              " 'model',\n",
              " 'fuel_type',\n",
              " 'max_torque',\n",
              " 'max_power',\n",
              " 'engine_type',\n",
              " 'is_esc',\n",
              " 'is_adjustable_steering',\n",
              " 'is_tpms',\n",
              " 'is_parking_sensors',\n",
              " 'is_parking_camera',\n",
              " 'rear_brakes_type',\n",
              " 'transmission_type',\n",
              " 'steering_type',\n",
              " 'is_front_fog_lights',\n",
              " 'is_rear_window_wiper',\n",
              " 'is_rear_window_washer',\n",
              " 'is_rear_window_defogger',\n",
              " 'is_brake_assist',\n",
              " 'is_power_door_locks',\n",
              " 'is_central_locking',\n",
              " 'is_power_steering',\n",
              " 'is_driver_seat_height_adjustable',\n",
              " 'is_day_night_rear_view_mirror',\n",
              " 'is_ecw',\n",
              " 'is_speed_alert',\n",
              " 'ncap_rating']"
            ]
          },
          "metadata": {},
          "execution_count": 115
        }
      ]
    },
    {
      "cell_type": "code",
      "source": [
        "# Create a List of Column Names with data type is numerical only.\n",
        "\n",
        "numericColList = [i[0] for i in df.dtypes if i[1] != 'string']\n",
        "numericColList"
      ],
      "metadata": {
        "colab": {
          "base_uri": "https://localhost:8080/"
        },
        "id": "V2qm_cwcWA0f",
        "outputId": "cb5aeae1-2326-42d5-fecc-3eb5867f6ee5"
      },
      "execution_count": null,
      "outputs": [
        {
          "output_type": "execute_result",
          "data": {
            "text/plain": [
              "['policy_tenure',\n",
              " 'age_of_car',\n",
              " 'age_of_policyholder',\n",
              " 'population_density',\n",
              " 'airbags',\n",
              " 'displacement',\n",
              " 'cylinder',\n",
              " 'gear_box',\n",
              " 'turning_radius',\n",
              " 'length',\n",
              " 'width',\n",
              " 'height',\n",
              " 'gross_weight',\n",
              " 'is_claim']"
            ]
          },
          "metadata": {},
          "execution_count": 116
        }
      ]
    },
    {
      "cell_type": "code",
      "source": [
        "# Remove label column 'is_claim' from numerical column list because it is label column.\n",
        "\n",
        "numericColList.remove('is_claim')\n",
        "numericColList"
      ],
      "metadata": {
        "colab": {
          "base_uri": "https://localhost:8080/"
        },
        "id": "3dMu80Ni1ddd",
        "outputId": "bb94341b-c2bd-4dbe-cbad-2246efb3324e"
      },
      "execution_count": null,
      "outputs": [
        {
          "output_type": "execute_result",
          "data": {
            "text/plain": [
              "['policy_tenure',\n",
              " 'age_of_car',\n",
              " 'age_of_policyholder',\n",
              " 'population_density',\n",
              " 'airbags',\n",
              " 'displacement',\n",
              " 'cylinder',\n",
              " 'gear_box',\n",
              " 'turning_radius',\n",
              " 'length',\n",
              " 'width',\n",
              " 'height',\n",
              " 'gross_weight']"
            ]
          },
          "metadata": {},
          "execution_count": 117
        }
      ]
    },
    {
      "cell_type": "code",
      "source": [
        "# Demonstrate numerical data statistical results\n",
        "df.select(numericColList).describe().show()"
      ],
      "metadata": {
        "colab": {
          "base_uri": "https://localhost:8080/"
        },
        "id": "aeMxJNu5Gg_I",
        "outputId": "faf79d5e-ea8f-4202-fd35-7bb07b8125c7"
      },
      "execution_count": null,
      "outputs": [
        {
          "output_type": "stream",
          "name": "stdout",
          "text": [
            "+-------+------------------+-------------------+-------------------+------------------+------------------+-----------------+-------------------+------------------+-------------------+-----------------+------------------+-----------------+------------------+\n",
            "|summary|     policy_tenure|         age_of_car|age_of_policyholder|population_density|           airbags|     displacement|           cylinder|          gear_box|     turning_radius|           length|             width|           height|      gross_weight|\n",
            "+-------+------------------+-------------------+-------------------+------------------+------------------+-----------------+-------------------+------------------+-------------------+-----------------+------------------+-----------------+------------------+\n",
            "|  count|              5000|               5000|               5000|              5000|              5000|             5000|               5000|              5000|               5000|             5000|              5000|             5000|              5000|\n",
            "|   mean|0.6785605250449052|0.06580799999999948|0.47585769230769176|        18378.7674|            3.1272|        1163.3676|              3.637|            5.2406|   4.85062999999992|        3850.6368|         1673.3212|         1552.742|         1386.1994|\n",
            "| stddev|0.4098651302837856|0.05458775595882405|0.12339952588481752|17093.995539966716|1.8294506109506121|265.0985686880714|0.48091293957543885|0.4274905725719887|0.22680033240309797|309.7732124868047|112.00211303910771|79.43697301972502|209.89959125096325|\n",
            "|    min| 0.002771917589332|                0.0|  0.288461538461538|               290|                 1|              796|                  3|                 5|                4.5|             3445|              1475|             1475|              1051|\n",
            "|    max|  1.33594500141957|               0.39|  0.951923076923077|             73430|                 6|             1498|                  4|                 6|                5.2|             4300|              1811|             1825|              1720|\n",
            "+-------+------------------+-------------------+-------------------+------------------+------------------+-----------------+-------------------+------------------+-------------------+-----------------+------------------+-----------------+------------------+\n",
            "\n"
          ]
        }
      ]
    },
    {
      "cell_type": "markdown",
      "source": [
        "## 5 Data Exploration"
      ],
      "metadata": {
        "id": "skikY39BCRXf"
      }
    },
    {
      "cell_type": "markdown",
      "source": [
        "### 5.1 General Info of Policies"
      ],
      "metadata": {
        "id": "yBBQz8a2HSgG"
      }
    },
    {
      "cell_type": "code",
      "source": [
        "plt.style.use('ggplot')\n",
        "\n",
        "# select the variable to be displayed in histogram\n",
        "data1 = df.select('policy_tenure').toPandas()\n",
        "data2 = df.select('age_of_car').toPandas()\n",
        "data3 = df.select('age_of_policyholder').toPandas()\n",
        "\n",
        "var1 = 'policy_tenure'\n",
        "var2 = 'age_of_car'\n",
        "var3 = 'age_of_policyholder'\n",
        "\n",
        "x1 = data1[var1]\n",
        "x2 = data2[var2]\n",
        "x3 = data3[var3]\n",
        "\n",
        "bins = np.arange(0, 1.5, 0.1) # the range for x-axis, 1 to 1.5, every 0.1 as a unit \n",
        "\n",
        "fig, axs = plt.subplots(1, 3, sharey=True, tight_layout=True, figsize=(12,6))\n",
        "\n",
        "axs[0].hist(x1, color='steelblue', edgecolor='white')\n",
        "axs[0].set_xlabel(var1)\n",
        "axs[1].hist(x2, color='orange', edgecolor='white')\n",
        "axs[1].set_xlabel(var2)\n",
        "axs[2].hist(x3, color='green', edgecolor='white')\n",
        "axs[2].set_xlabel(var3)\n",
        "\n",
        "#plt.savefig('policy.png', dpi=300)\n",
        "#files.download('policy.png')\n",
        "plt.show()"
      ],
      "metadata": {
        "colab": {
          "base_uri": "https://localhost:8080/",
          "height": 513
        },
        "id": "HeEtrJVsLuoF",
        "outputId": "c1f8ec1b-45b1-4d9d-a83b-12a6e6cf2334"
      },
      "execution_count": null,
      "outputs": [
        {
          "output_type": "display_data",
          "data": {
            "text/plain": [
              "<IPython.core.display.Javascript object>"
            ],
            "application/javascript": [
              "\n",
              "    async function download(id, filename, size) {\n",
              "      if (!google.colab.kernel.accessAllowed) {\n",
              "        return;\n",
              "      }\n",
              "      const div = document.createElement('div');\n",
              "      const label = document.createElement('label');\n",
              "      label.textContent = `Downloading \"${filename}\": `;\n",
              "      div.appendChild(label);\n",
              "      const progress = document.createElement('progress');\n",
              "      progress.max = size;\n",
              "      div.appendChild(progress);\n",
              "      document.body.appendChild(div);\n",
              "\n",
              "      const buffers = [];\n",
              "      let downloaded = 0;\n",
              "\n",
              "      const channel = await google.colab.kernel.comms.open(id);\n",
              "      // Send a message to notify the kernel that we're ready.\n",
              "      channel.send({})\n",
              "\n",
              "      for await (const message of channel.messages) {\n",
              "        // Send a message to notify the kernel that we're ready.\n",
              "        channel.send({})\n",
              "        if (message.buffers) {\n",
              "          for (const buffer of message.buffers) {\n",
              "            buffers.push(buffer);\n",
              "            downloaded += buffer.byteLength;\n",
              "            progress.value = downloaded;\n",
              "          }\n",
              "        }\n",
              "      }\n",
              "      const blob = new Blob(buffers, {type: 'application/binary'});\n",
              "      const a = document.createElement('a');\n",
              "      a.href = window.URL.createObjectURL(blob);\n",
              "      a.download = filename;\n",
              "      div.appendChild(a);\n",
              "      a.click();\n",
              "      div.remove();\n",
              "    }\n",
              "  "
            ]
          },
          "metadata": {}
        },
        {
          "output_type": "display_data",
          "data": {
            "text/plain": [
              "<IPython.core.display.Javascript object>"
            ],
            "application/javascript": [
              "download(\"download_5932bd40-f521-4041-a30c-538e1beca333\", \"policy.png\", 87195)"
            ]
          },
          "metadata": {}
        },
        {
          "output_type": "display_data",
          "data": {
            "text/plain": [
              "<Figure size 1200x600 with 3 Axes>"
            ],
            "image/png": "[encoded data removed]"
          },
          "metadata": {}
        }
      ]
    },
    {
      "cell_type": "markdown",
      "source": [
        "### 5.2 Each Area Population Density vs. Claim Cases"
      ],
      "metadata": {
        "id": "xbnSCPa3UdA8"
      }
    },
    {
      "cell_type": "code",
      "source": [
        "a = df.select('population_density', 'area_cluster').toPandas()\n",
        "a"
      ],
      "metadata": {
        "colab": {
          "base_uri": "https://localhost:8080/",
          "height": 423
        },
        "id": "Hln8Hpw4WIUk",
        "outputId": "8c65958a-9db1-4247-a1f5-16bf28588633"
      },
      "execution_count": null,
      "outputs": [
        {
          "output_type": "execute_result",
          "data": {
            "text/plain": [
              "      population_density area_cluster\n",
              "0                   8794           C8\n",
              "1                   8794           C8\n",
              "2                  34738           C5\n",
              "3                  34738           C5\n",
              "4                   4076           C3\n",
              "...                  ...          ...\n",
              "4995               73430          C10\n",
              "4996               73430          C10\n",
              "4997                4990           C1\n",
              "4998                6112           C7\n",
              "4999               34791          C12\n",
              "\n",
              "[5000 rows x 2 columns]"
            ],
            "text/html": [
              "\n",
              "  <div id=\"df-57efee4f-4ef3-437a-be3d-b162f865cd31\">\n",
              "    <div class=\"colab-df-container\">\n",
              "      <div>\n",
              "<style scoped>\n",
              "    .dataframe tbody tr th:only-of-type {\n",
              "        vertical-align: middle;\n",
              "    }\n",
              "\n",
              "    .dataframe tbody tr th {\n",
              "        vertical-align: top;\n",
              "    }\n",
              "\n",
              "    .dataframe thead th {\n",
              "        text-align: right;\n",
              "    }\n",
              "</style>\n",
              "<table border=\"1\" class=\"dataframe\">\n",
              "  <thead>\n",
              "    <tr style=\"text-align: right;\">\n",
              "      <th></th>\n",
              "      <th>population_density</th>\n",
              "      <th>area_cluster</th>\n",
              "    </tr>\n",
              "  </thead>\n",
              "  <tbody>\n",
              "    <tr>\n",
              "      <th>0</th>\n",
              "      <td>8794</td>\n",
              "      <td>C8</td>\n",
              "    </tr>\n",
              "    <tr>\n",
              "      <th>1</th>\n",
              "      <td>8794</td>\n",
              "      <td>C8</td>\n",
              "    </tr>\n",
              "    <tr>\n",
              "      <th>2</th>\n",
              "      <td>34738</td>\n",
              "      <td>C5</td>\n",
              "    </tr>\n",
              "    <tr>\n",
              "      <th>3</th>\n",
              "      <td>34738</td>\n",
              "      <td>C5</td>\n",
              "    </tr>\n",
              "    <tr>\n",
              "      <th>4</th>\n",
              "      <td>4076</td>\n",
              "      <td>C3</td>\n",
              "    </tr>\n",
              "    <tr>\n",
              "      <th>...</th>\n",
              "      <td>...</td>\n",
              "      <td>...</td>\n",
              "    </tr>\n",
              "    <tr>\n",
              "      <th>4995</th>\n",
              "      <td>73430</td>\n",
              "      <td>C10</td>\n",
              "    </tr>\n",
              "    <tr>\n",
              "      <th>4996</th>\n",
              "      <td>73430</td>\n",
              "      <td>C10</td>\n",
              "    </tr>\n",
              "    <tr>\n",
              "      <th>4997</th>\n",
              "      <td>4990</td>\n",
              "      <td>C1</td>\n",
              "    </tr>\n",
              "    <tr>\n",
              "      <th>4998</th>\n",
              "      <td>6112</td>\n",
              "      <td>C7</td>\n",
              "    </tr>\n",
              "    <tr>\n",
              "      <th>4999</th>\n",
              "      <td>34791</td>\n",
              "      <td>C12</td>\n",
              "    </tr>\n",
              "  </tbody>\n",
              "</table>\n",
              "<p>5000 rows × 2 columns</p>\n",
              "</div>\n",
              "      <button class=\"colab-df-convert\" onclick=\"convertToInteractive('df-57efee4f-4ef3-437a-be3d-b162f865cd31')\"\n",
              "              title=\"Convert this dataframe to an interactive table.\"\n",
              "              style=\"display:none;\">\n",
              "        \n",
              "  <svg xmlns=\"http://www.w3.org/2000/svg\" height=\"24px\"viewBox=\"0 0 24 24\"\n",
              "       width=\"24px\">\n",
              "    <path d=\"M0 0h24v24H0V0z\" fill=\"none\"/>\n",
              "    <path d=\"M18.56 5.44l.94 2.06.94-2.06 2.06-.94-2.06-.94-.94-2.06-.94 2.06-2.06.94zm-11 1L8.5 8.5l.94-2.06 2.06-.94-2.06-.94L8.5 2.5l-.94 2.06-2.06.94zm10 10l.94 2.06.94-2.06 2.06-.94-2.06-.94-.94-2.06-.94 2.06-2.06.94z\"/><path d=\"M17.41 7.96l-1.37-1.37c-.4-.4-.92-.59-1.43-.59-.52 0-1.04.2-1.43.59L10.3 9.45l-7.72 7.72c-.78.78-.78 2.05 0 2.83L4 21.41c.39.39.9.59 1.41.59.51 0 1.02-.2 1.41-.59l7.78-7.78 2.81-2.81c.8-.78.8-2.07 0-2.86zM5.41 20L4 18.59l7.72-7.72 1.47 1.35L5.41 20z\"/>\n",
              "  </svg>\n",
              "      </button>\n",
              "      \n",
              "  <style>\n",
              "    .colab-df-container {\n",
              "      display:flex;\n",
              "      flex-wrap:wrap;\n",
              "      gap: 12px;\n",
              "    }\n",
              "\n",
              "    .colab-df-convert {\n",
              "      background-color: #E8F0FE;\n",
              "      border: none;\n",
              "      border-radius: 50%;\n",
              "      cursor: pointer;\n",
              "      display: none;\n",
              "      fill: #1967D2;\n",
              "      height: 32px;\n",
              "      padding: 0 0 0 0;\n",
              "      width: 32px;\n",
              "    }\n",
              "\n",
              "    .colab-df-convert:hover {\n",
              "      background-color: #E2EBFA;\n",
              "      box-shadow: 0px 1px 2px rgba(60, 64, 67, 0.3), 0px 1px 3px 1px rgba(60, 64, 67, 0.15);\n",
              "      fill: #174EA6;\n",
              "    }\n",
              "\n",
              "    [theme=dark] .colab-df-convert {\n",
              "      background-color: #3B4455;\n",
              "      fill: #D2E3FC;\n",
              "    }\n",
              "\n",
              "    [theme=dark] .colab-df-convert:hover {\n",
              "      background-color: #434B5C;\n",
              "      box-shadow: 0px 1px 3px 1px rgba(0, 0, 0, 0.15);\n",
              "      filter: drop-shadow(0px 1px 2px rgba(0, 0, 0, 0.3));\n",
              "      fill: #FFFFFF;\n",
              "    }\n",
              "  </style>\n",
              "\n",
              "      <script>\n",
              "        const buttonEl =\n",
              "          document.querySelector('#df-57efee4f-4ef3-437a-be3d-b162f865cd31 button.colab-df-convert');\n",
              "        buttonEl.style.display =\n",
              "          google.colab.kernel.accessAllowed ? 'block' : 'none';\n",
              "\n",
              "        async function convertToInteractive(key) {\n",
              "          const element = document.querySelector('#df-57efee4f-4ef3-437a-be3d-b162f865cd31');\n",
              "          const dataTable =\n",
              "            await google.colab.kernel.invokeFunction('convertToInteractive',\n",
              "                                                     [key], {});\n",
              "          if (!dataTable) return;\n",
              "\n",
              "          const docLinkHtml = 'Like what you see? Visit the ' +\n",
              "            '<a target=\"_blank\" href=https://colab.research.google.com/notebooks/data_table.ipynb>data table notebook</a>'\n",
              "            + ' to learn more about interactive tables.';\n",
              "          element.innerHTML = '';\n",
              "          dataTable['output_type'] = 'display_data';\n",
              "          await google.colab.output.renderOutput(dataTable, element);\n",
              "          const docLink = document.createElement('div');\n",
              "          docLink.innerHTML = docLinkHtml;\n",
              "          element.appendChild(docLink);\n",
              "        }\n",
              "      </script>\n",
              "    </div>\n",
              "  </div>\n",
              "  "
            ]
          },
          "metadata": {},
          "execution_count": 175
        }
      ]
    },
    {
      "cell_type": "code",
      "source": [
        "b = a.groupby(['area_cluster']).mean()\n",
        "b.sort_values(by='population_density', ascending=False)"
      ],
      "metadata": {
        "colab": {
          "base_uri": "https://localhost:8080/",
          "height": 770
        },
        "id": "YFiTRTOJWIJW",
        "outputId": "8097a8eb-9a2f-49b6-9de6-222eee8413bb"
      },
      "execution_count": null,
      "outputs": [
        {
          "output_type": "execute_result",
          "data": {
            "text/plain": [
              "              population_density\n",
              "area_cluster                    \n",
              "C10                      73430.0\n",
              "C17                      65567.0\n",
              "C18                      35036.0\n",
              "C12                      34791.0\n",
              "C5                       34738.0\n",
              "C19                      27742.0\n",
              "C2                       27003.0\n",
              "C4                       21622.0\n",
              "C20                      20905.0\n",
              "C9                       17804.0\n",
              "C22                      16733.0\n",
              "C16                      16206.0\n",
              "C6                       13051.0\n",
              "C8                        8794.0\n",
              "C14                       7788.0\n",
              "C7                        6112.0\n",
              "C11                       6108.0\n",
              "C13                       5410.0\n",
              "C1                        4990.0\n",
              "C3                        4076.0\n",
              "C21                       3264.0\n",
              "C15                        290.0"
            ],
            "text/html": [
              "\n",
              "  <div id=\"df-51a0d5f3-b133-44c6-9798-9a382c0c662d\">\n",
              "    <div class=\"colab-df-container\">\n",
              "      <div>\n",
              "<style scoped>\n",
              "    .dataframe tbody tr th:only-of-type {\n",
              "        vertical-align: middle;\n",
              "    }\n",
              "\n",
              "    .dataframe tbody tr th {\n",
              "        vertical-align: top;\n",
              "    }\n",
              "\n",
              "    .dataframe thead th {\n",
              "        text-align: right;\n",
              "    }\n",
              "</style>\n",
              "<table border=\"1\" class=\"dataframe\">\n",
              "  <thead>\n",
              "    <tr style=\"text-align: right;\">\n",
              "      <th></th>\n",
              "      <th>population_density</th>\n",
              "    </tr>\n",
              "    <tr>\n",
              "      <th>area_cluster</th>\n",
              "      <th></th>\n",
              "    </tr>\n",
              "  </thead>\n",
              "  <tbody>\n",
              "    <tr>\n",
              "      <th>C10</th>\n",
              "      <td>73430.0</td>\n",
              "    </tr>\n",
              "    <tr>\n",
              "      <th>C17</th>\n",
              "      <td>65567.0</td>\n",
              "    </tr>\n",
              "    <tr>\n",
              "      <th>C18</th>\n",
              "      <td>35036.0</td>\n",
              "    </tr>\n",
              "    <tr>\n",
              "      <th>C12</th>\n",
              "      <td>34791.0</td>\n",
              "    </tr>\n",
              "    <tr>\n",
              "      <th>C5</th>\n",
              "      <td>34738.0</td>\n",
              "    </tr>\n",
              "    <tr>\n",
              "      <th>C19</th>\n",
              "      <td>27742.0</td>\n",
              "    </tr>\n",
              "    <tr>\n",
              "      <th>C2</th>\n",
              "      <td>27003.0</td>\n",
              "    </tr>\n",
              "    <tr>\n",
              "      <th>C4</th>\n",
              "      <td>21622.0</td>\n",
              "    </tr>\n",
              "    <tr>\n",
              "      <th>C20</th>\n",
              "      <td>20905.0</td>\n",
              "    </tr>\n",
              "    <tr>\n",
              "      <th>C9</th>\n",
              "      <td>17804.0</td>\n",
              "    </tr>\n",
              "    <tr>\n",
              "      <th>C22</th>\n",
              "      <td>16733.0</td>\n",
              "    </tr>\n",
              "    <tr>\n",
              "      <th>C16</th>\n",
              "      <td>16206.0</td>\n",
              "    </tr>\n",
              "    <tr>\n",
              "      <th>C6</th>\n",
              "      <td>13051.0</td>\n",
              "    </tr>\n",
              "    <tr>\n",
              "      <th>C8</th>\n",
              "      <td>8794.0</td>\n",
              "    </tr>\n",
              "    <tr>\n",
              "      <th>C14</th>\n",
              "      <td>7788.0</td>\n",
              "    </tr>\n",
              "    <tr>\n",
              "      <th>C7</th>\n",
              "      <td>6112.0</td>\n",
              "    </tr>\n",
              "    <tr>\n",
              "      <th>C11</th>\n",
              "      <td>6108.0</td>\n",
              "    </tr>\n",
              "    <tr>\n",
              "      <th>C13</th>\n",
              "      <td>5410.0</td>\n",
              "    </tr>\n",
              "    <tr>\n",
              "      <th>C1</th>\n",
              "      <td>4990.0</td>\n",
              "    </tr>\n",
              "    <tr>\n",
              "      <th>C3</th>\n",
              "      <td>4076.0</td>\n",
              "    </tr>\n",
              "    <tr>\n",
              "      <th>C21</th>\n",
              "      <td>3264.0</td>\n",
              "    </tr>\n",
              "    <tr>\n",
              "      <th>C15</th>\n",
              "      <td>290.0</td>\n",
              "    </tr>\n",
              "  </tbody>\n",
              "</table>\n",
              "</div>\n",
              "      <button class=\"colab-df-convert\" onclick=\"convertToInteractive('df-51a0d5f3-b133-44c6-9798-9a382c0c662d')\"\n",
              "              title=\"Convert this dataframe to an interactive table.\"\n",
              "              style=\"display:none;\">\n",
              "        \n",
              "  <svg xmlns=\"http://www.w3.org/2000/svg\" height=\"24px\"viewBox=\"0 0 24 24\"\n",
              "       width=\"24px\">\n",
              "    <path d=\"M0 0h24v24H0V0z\" fill=\"none\"/>\n",
              "    <path d=\"M18.56 5.44l.94 2.06.94-2.06 2.06-.94-2.06-.94-.94-2.06-.94 2.06-2.06.94zm-11 1L8.5 8.5l.94-2.06 2.06-.94-2.06-.94L8.5 2.5l-.94 2.06-2.06.94zm10 10l.94 2.06.94-2.06 2.06-.94-2.06-.94-.94-2.06-.94 2.06-2.06.94z\"/><path d=\"M17.41 7.96l-1.37-1.37c-.4-.4-.92-.59-1.43-.59-.52 0-1.04.2-1.43.59L10.3 9.45l-7.72 7.72c-.78.78-.78 2.05 0 2.83L4 21.41c.39.39.9.59 1.41.59.51 0 1.02-.2 1.41-.59l7.78-7.78 2.81-2.81c.8-.78.8-2.07 0-2.86zM5.41 20L4 18.59l7.72-7.72 1.47 1.35L5.41 20z\"/>\n",
              "  </svg>\n",
              "      </button>\n",
              "      \n",
              "  <style>\n",
              "    .colab-df-container {\n",
              "      display:flex;\n",
              "      flex-wrap:wrap;\n",
              "      gap: 12px;\n",
              "    }\n",
              "\n",
              "    .colab-df-convert {\n",
              "      background-color: #E8F0FE;\n",
              "      border: none;\n",
              "      border-radius: 50%;\n",
              "      cursor: pointer;\n",
              "      display: none;\n",
              "      fill: #1967D2;\n",
              "      height: 32px;\n",
              "      padding: 0 0 0 0;\n",
              "      width: 32px;\n",
              "    }\n",
              "\n",
              "    .colab-df-convert:hover {\n",
              "      background-color: #E2EBFA;\n",
              "      box-shadow: 0px 1px 2px rgba(60, 64, 67, 0.3), 0px 1px 3px 1px rgba(60, 64, 67, 0.15);\n",
              "      fill: #174EA6;\n",
              "    }\n",
              "\n",
              "    [theme=dark] .colab-df-convert {\n",
              "      background-color: #3B4455;\n",
              "      fill: #D2E3FC;\n",
              "    }\n",
              "\n",
              "    [theme=dark] .colab-df-convert:hover {\n",
              "      background-color: #434B5C;\n",
              "      box-shadow: 0px 1px 3px 1px rgba(0, 0, 0, 0.15);\n",
              "      filter: drop-shadow(0px 1px 2px rgba(0, 0, 0, 0.3));\n",
              "      fill: #FFFFFF;\n",
              "    }\n",
              "  </style>\n",
              "\n",
              "      <script>\n",
              "        const buttonEl =\n",
              "          document.querySelector('#df-51a0d5f3-b133-44c6-9798-9a382c0c662d button.colab-df-convert');\n",
              "        buttonEl.style.display =\n",
              "          google.colab.kernel.accessAllowed ? 'block' : 'none';\n",
              "\n",
              "        async function convertToInteractive(key) {\n",
              "          const element = document.querySelector('#df-51a0d5f3-b133-44c6-9798-9a382c0c662d');\n",
              "          const dataTable =\n",
              "            await google.colab.kernel.invokeFunction('convertToInteractive',\n",
              "                                                     [key], {});\n",
              "          if (!dataTable) return;\n",
              "\n",
              "          const docLinkHtml = 'Like what you see? Visit the ' +\n",
              "            '<a target=\"_blank\" href=https://colab.research.google.com/notebooks/data_table.ipynb>data table notebook</a>'\n",
              "            + ' to learn more about interactive tables.';\n",
              "          element.innerHTML = '';\n",
              "          dataTable['output_type'] = 'display_data';\n",
              "          await google.colab.output.renderOutput(dataTable, element);\n",
              "          const docLink = document.createElement('div');\n",
              "          docLink.innerHTML = docLinkHtml;\n",
              "          element.appendChild(docLink);\n",
              "        }\n",
              "      </script>\n",
              "    </div>\n",
              "  </div>\n",
              "  "
            ]
          },
          "metadata": {},
          "execution_count": 176
        }
      ]
    },
    {
      "cell_type": "code",
      "source": [
        "c = df.select('area_cluster', 'is_claim').toPandas()\n",
        "c"
      ],
      "metadata": {
        "colab": {
          "base_uri": "https://localhost:8080/",
          "height": 423
        },
        "id": "VPXh3VThYnb2",
        "outputId": "9452fc10-4adb-423f-f497-b956b014b133"
      },
      "execution_count": null,
      "outputs": [
        {
          "output_type": "execute_result",
          "data": {
            "text/plain": [
              "     area_cluster  is_claim\n",
              "0              C8         0\n",
              "1              C8         0\n",
              "2              C5         0\n",
              "3              C5         0\n",
              "4              C3         1\n",
              "...           ...       ...\n",
              "4995          C10         0\n",
              "4996          C10         1\n",
              "4997           C1         1\n",
              "4998           C7         0\n",
              "4999          C12         0\n",
              "\n",
              "[5000 rows x 2 columns]"
            ],
            "text/html": [
              "\n",
              "  <div id=\"df-153b79d5-1dce-4d04-9214-29e2278c29b0\">\n",
              "    <div class=\"colab-df-container\">\n",
              "      <div>\n",
              "<style scoped>\n",
              "    .dataframe tbody tr th:only-of-type {\n",
              "        vertical-align: middle;\n",
              "    }\n",
              "\n",
              "    .dataframe tbody tr th {\n",
              "        vertical-align: top;\n",
              "    }\n",
              "\n",
              "    .dataframe thead th {\n",
              "        text-align: right;\n",
              "    }\n",
              "</style>\n",
              "<table border=\"1\" class=\"dataframe\">\n",
              "  <thead>\n",
              "    <tr style=\"text-align: right;\">\n",
              "      <th></th>\n",
              "      <th>area_cluster</th>\n",
              "      <th>is_claim</th>\n",
              "    </tr>\n",
              "  </thead>\n",
              "  <tbody>\n",
              "    <tr>\n",
              "      <th>0</th>\n",
              "      <td>C8</td>\n",
              "      <td>0</td>\n",
              "    </tr>\n",
              "    <tr>\n",
              "      <th>1</th>\n",
              "      <td>C8</td>\n",
              "      <td>0</td>\n",
              "    </tr>\n",
              "    <tr>\n",
              "      <th>2</th>\n",
              "      <td>C5</td>\n",
              "      <td>0</td>\n",
              "    </tr>\n",
              "    <tr>\n",
              "      <th>3</th>\n",
              "      <td>C5</td>\n",
              "      <td>0</td>\n",
              "    </tr>\n",
              "    <tr>\n",
              "      <th>4</th>\n",
              "      <td>C3</td>\n",
              "      <td>1</td>\n",
              "    </tr>\n",
              "    <tr>\n",
              "      <th>...</th>\n",
              "      <td>...</td>\n",
              "      <td>...</td>\n",
              "    </tr>\n",
              "    <tr>\n",
              "      <th>4995</th>\n",
              "      <td>C10</td>\n",
              "      <td>0</td>\n",
              "    </tr>\n",
              "    <tr>\n",
              "      <th>4996</th>\n",
              "      <td>C10</td>\n",
              "      <td>1</td>\n",
              "    </tr>\n",
              "    <tr>\n",
              "      <th>4997</th>\n",
              "      <td>C1</td>\n",
              "      <td>1</td>\n",
              "    </tr>\n",
              "    <tr>\n",
              "      <th>4998</th>\n",
              "      <td>C7</td>\n",
              "      <td>0</td>\n",
              "    </tr>\n",
              "    <tr>\n",
              "      <th>4999</th>\n",
              "      <td>C12</td>\n",
              "      <td>0</td>\n",
              "    </tr>\n",
              "  </tbody>\n",
              "</table>\n",
              "<p>5000 rows × 2 columns</p>\n",
              "</div>\n",
              "      <button class=\"colab-df-convert\" onclick=\"convertToInteractive('df-153b79d5-1dce-4d04-9214-29e2278c29b0')\"\n",
              "              title=\"Convert this dataframe to an interactive table.\"\n",
              "              style=\"display:none;\">\n",
              "        \n",
              "  <svg xmlns=\"http://www.w3.org/2000/svg\" height=\"24px\"viewBox=\"0 0 24 24\"\n",
              "       width=\"24px\">\n",
              "    <path d=\"M0 0h24v24H0V0z\" fill=\"none\"/>\n",
              "    <path d=\"M18.56 5.44l.94 2.06.94-2.06 2.06-.94-2.06-.94-.94-2.06-.94 2.06-2.06.94zm-11 1L8.5 8.5l.94-2.06 2.06-.94-2.06-.94L8.5 2.5l-.94 2.06-2.06.94zm10 10l.94 2.06.94-2.06 2.06-.94-2.06-.94-.94-2.06-.94 2.06-2.06.94z\"/><path d=\"M17.41 7.96l-1.37-1.37c-.4-.4-.92-.59-1.43-.59-.52 0-1.04.2-1.43.59L10.3 9.45l-7.72 7.72c-.78.78-.78 2.05 0 2.83L4 21.41c.39.39.9.59 1.41.59.51 0 1.02-.2 1.41-.59l7.78-7.78 2.81-2.81c.8-.78.8-2.07 0-2.86zM5.41 20L4 18.59l7.72-7.72 1.47 1.35L5.41 20z\"/>\n",
              "  </svg>\n",
              "      </button>\n",
              "      \n",
              "  <style>\n",
              "    .colab-df-container {\n",
              "      display:flex;\n",
              "      flex-wrap:wrap;\n",
              "      gap: 12px;\n",
              "    }\n",
              "\n",
              "    .colab-df-convert {\n",
              "      background-color: #E8F0FE;\n",
              "      border: none;\n",
              "      border-radius: 50%;\n",
              "      cursor: pointer;\n",
              "      display: none;\n",
              "      fill: #1967D2;\n",
              "      height: 32px;\n",
              "      padding: 0 0 0 0;\n",
              "      width: 32px;\n",
              "    }\n",
              "\n",
              "    .colab-df-convert:hover {\n",
              "      background-color: #E2EBFA;\n",
              "      box-shadow: 0px 1px 2px rgba(60, 64, 67, 0.3), 0px 1px 3px 1px rgba(60, 64, 67, 0.15);\n",
              "      fill: #174EA6;\n",
              "    }\n",
              "\n",
              "    [theme=dark] .colab-df-convert {\n",
              "      background-color: #3B4455;\n",
              "      fill: #D2E3FC;\n",
              "    }\n",
              "\n",
              "    [theme=dark] .colab-df-convert:hover {\n",
              "      background-color: #434B5C;\n",
              "      box-shadow: 0px 1px 3px 1px rgba(0, 0, 0, 0.15);\n",
              "      filter: drop-shadow(0px 1px 2px rgba(0, 0, 0, 0.3));\n",
              "      fill: #FFFFFF;\n",
              "    }\n",
              "  </style>\n",
              "\n",
              "      <script>\n",
              "        const buttonEl =\n",
              "          document.querySelector('#df-153b79d5-1dce-4d04-9214-29e2278c29b0 button.colab-df-convert');\n",
              "        buttonEl.style.display =\n",
              "          google.colab.kernel.accessAllowed ? 'block' : 'none';\n",
              "\n",
              "        async function convertToInteractive(key) {\n",
              "          const element = document.querySelector('#df-153b79d5-1dce-4d04-9214-29e2278c29b0');\n",
              "          const dataTable =\n",
              "            await google.colab.kernel.invokeFunction('convertToInteractive',\n",
              "                                                     [key], {});\n",
              "          if (!dataTable) return;\n",
              "\n",
              "          const docLinkHtml = 'Like what you see? Visit the ' +\n",
              "            '<a target=\"_blank\" href=https://colab.research.google.com/notebooks/data_table.ipynb>data table notebook</a>'\n",
              "            + ' to learn more about interactive tables.';\n",
              "          element.innerHTML = '';\n",
              "          dataTable['output_type'] = 'display_data';\n",
              "          await google.colab.output.renderOutput(dataTable, element);\n",
              "          const docLink = document.createElement('div');\n",
              "          docLink.innerHTML = docLinkHtml;\n",
              "          element.appendChild(docLink);\n",
              "        }\n",
              "      </script>\n",
              "    </div>\n",
              "  </div>\n",
              "  "
            ]
          },
          "metadata": {},
          "execution_count": 177
        }
      ]
    },
    {
      "cell_type": "code",
      "source": [
        "d = c.groupby(['area_cluster']).sum()\n",
        "d"
      ],
      "metadata": {
        "colab": {
          "base_uri": "https://localhost:8080/",
          "height": 770
        },
        "id": "poo54L0QYnY5",
        "outputId": "80d9ff44-39b2-4368-de91-3051cd0cc0ae"
      },
      "execution_count": null,
      "outputs": [
        {
          "output_type": "execute_result",
          "data": {
            "text/plain": [
              "              is_claim\n",
              "area_cluster          \n",
              "C1                  50\n",
              "C10                 97\n",
              "C11                 48\n",
              "C12                 54\n",
              "C13                122\n",
              "C14                185\n",
              "C15                 27\n",
              "C16                 12\n",
              "C17                 14\n",
              "C18                 16\n",
              "C19                 44\n",
              "C2                 346\n",
              "C20                  3\n",
              "C21                 18\n",
              "C22                 14\n",
              "C3                 299\n",
              "C4                  40\n",
              "C5                 260\n",
              "C6                  36\n",
              "C7                  72\n",
              "C8                 650\n",
              "C9                  93"
            ],
            "text/html": [
              "\n",
              "  <div id=\"df-74992643-9344-4a21-8d81-109e0192fb18\">\n",
              "    <div class=\"colab-df-container\">\n",
              "      <div>\n",
              "<style scoped>\n",
              "    .dataframe tbody tr th:only-of-type {\n",
              "        vertical-align: middle;\n",
              "    }\n",
              "\n",
              "    .dataframe tbody tr th {\n",
              "        vertical-align: top;\n",
              "    }\n",
              "\n",
              "    .dataframe thead th {\n",
              "        text-align: right;\n",
              "    }\n",
              "</style>\n",
              "<table border=\"1\" class=\"dataframe\">\n",
              "  <thead>\n",
              "    <tr style=\"text-align: right;\">\n",
              "      <th></th>\n",
              "      <th>is_claim</th>\n",
              "    </tr>\n",
              "    <tr>\n",
              "      <th>area_cluster</th>\n",
              "      <th></th>\n",
              "    </tr>\n",
              "  </thead>\n",
              "  <tbody>\n",
              "    <tr>\n",
              "      <th>C1</th>\n",
              "      <td>50</td>\n",
              "    </tr>\n",
              "    <tr>\n",
              "      <th>C10</th>\n",
              "      <td>97</td>\n",
              "    </tr>\n",
              "    <tr>\n",
              "      <th>C11</th>\n",
              "      <td>48</td>\n",
              "    </tr>\n",
              "    <tr>\n",
              "      <th>C12</th>\n",
              "      <td>54</td>\n",
              "    </tr>\n",
              "    <tr>\n",
              "      <th>C13</th>\n",
              "      <td>122</td>\n",
              "    </tr>\n",
              "    <tr>\n",
              "      <th>C14</th>\n",
              "      <td>185</td>\n",
              "    </tr>\n",
              "    <tr>\n",
              "      <th>C15</th>\n",
              "      <td>27</td>\n",
              "    </tr>\n",
              "    <tr>\n",
              "      <th>C16</th>\n",
              "      <td>12</td>\n",
              "    </tr>\n",
              "    <tr>\n",
              "      <th>C17</th>\n",
              "      <td>14</td>\n",
              "    </tr>\n",
              "    <tr>\n",
              "      <th>C18</th>\n",
              "      <td>16</td>\n",
              "    </tr>\n",
              "    <tr>\n",
              "      <th>C19</th>\n",
              "      <td>44</td>\n",
              "    </tr>\n",
              "    <tr>\n",
              "      <th>C2</th>\n",
              "      <td>346</td>\n",
              "    </tr>\n",
              "    <tr>\n",
              "      <th>C20</th>\n",
              "      <td>3</td>\n",
              "    </tr>\n",
              "    <tr>\n",
              "      <th>C21</th>\n",
              "      <td>18</td>\n",
              "    </tr>\n",
              "    <tr>\n",
              "      <th>C22</th>\n",
              "      <td>14</td>\n",
              "    </tr>\n",
              "    <tr>\n",
              "      <th>C3</th>\n",
              "      <td>299</td>\n",
              "    </tr>\n",
              "    <tr>\n",
              "      <th>C4</th>\n",
              "      <td>40</td>\n",
              "    </tr>\n",
              "    <tr>\n",
              "      <th>C5</th>\n",
              "      <td>260</td>\n",
              "    </tr>\n",
              "    <tr>\n",
              "      <th>C6</th>\n",
              "      <td>36</td>\n",
              "    </tr>\n",
              "    <tr>\n",
              "      <th>C7</th>\n",
              "      <td>72</td>\n",
              "    </tr>\n",
              "    <tr>\n",
              "      <th>C8</th>\n",
              "      <td>650</td>\n",
              "    </tr>\n",
              "    <tr>\n",
              "      <th>C9</th>\n",
              "      <td>93</td>\n",
              "    </tr>\n",
              "  </tbody>\n",
              "</table>\n",
              "</div>\n",
              "      <button class=\"colab-df-convert\" onclick=\"convertToInteractive('df-74992643-9344-4a21-8d81-109e0192fb18')\"\n",
              "              title=\"Convert this dataframe to an interactive table.\"\n",
              "              style=\"display:none;\">\n",
              "        \n",
              "  <svg xmlns=\"http://www.w3.org/2000/svg\" height=\"24px\"viewBox=\"0 0 24 24\"\n",
              "       width=\"24px\">\n",
              "    <path d=\"M0 0h24v24H0V0z\" fill=\"none\"/>\n",
              "    <path d=\"M18.56 5.44l.94 2.06.94-2.06 2.06-.94-2.06-.94-.94-2.06-.94 2.06-2.06.94zm-11 1L8.5 8.5l.94-2.06 2.06-.94-2.06-.94L8.5 2.5l-.94 2.06-2.06.94zm10 10l.94 2.06.94-2.06 2.06-.94-2.06-.94-.94-2.06-.94 2.06-2.06.94z\"/><path d=\"M17.41 7.96l-1.37-1.37c-.4-.4-.92-.59-1.43-.59-.52 0-1.04.2-1.43.59L10.3 9.45l-7.72 7.72c-.78.78-.78 2.05 0 2.83L4 21.41c.39.39.9.59 1.41.59.51 0 1.02-.2 1.41-.59l7.78-7.78 2.81-2.81c.8-.78.8-2.07 0-2.86zM5.41 20L4 18.59l7.72-7.72 1.47 1.35L5.41 20z\"/>\n",
              "  </svg>\n",
              "      </button>\n",
              "      \n",
              "  <style>\n",
              "    .colab-df-container {\n",
              "      display:flex;\n",
              "      flex-wrap:wrap;\n",
              "      gap: 12px;\n",
              "    }\n",
              "\n",
              "    .colab-df-convert {\n",
              "      background-color: #E8F0FE;\n",
              "      border: none;\n",
              "      border-radius: 50%;\n",
              "      cursor: pointer;\n",
              "      display: none;\n",
              "      fill: #1967D2;\n",
              "      height: 32px;\n",
              "      padding: 0 0 0 0;\n",
              "      width: 32px;\n",
              "    }\n",
              "\n",
              "    .colab-df-convert:hover {\n",
              "      background-color: #E2EBFA;\n",
              "      box-shadow: 0px 1px 2px rgba(60, 64, 67, 0.3), 0px 1px 3px 1px rgba(60, 64, 67, 0.15);\n",
              "      fill: #174EA6;\n",
              "    }\n",
              "\n",
              "    [theme=dark] .colab-df-convert {\n",
              "      background-color: #3B4455;\n",
              "      fill: #D2E3FC;\n",
              "    }\n",
              "\n",
              "    [theme=dark] .colab-df-convert:hover {\n",
              "      background-color: #434B5C;\n",
              "      box-shadow: 0px 1px 3px 1px rgba(0, 0, 0, 0.15);\n",
              "      filter: drop-shadow(0px 1px 2px rgba(0, 0, 0, 0.3));\n",
              "      fill: #FFFFFF;\n",
              "    }\n",
              "  </style>\n",
              "\n",
              "      <script>\n",
              "        const buttonEl =\n",
              "          document.querySelector('#df-74992643-9344-4a21-8d81-109e0192fb18 button.colab-df-convert');\n",
              "        buttonEl.style.display =\n",
              "          google.colab.kernel.accessAllowed ? 'block' : 'none';\n",
              "\n",
              "        async function convertToInteractive(key) {\n",
              "          const element = document.querySelector('#df-74992643-9344-4a21-8d81-109e0192fb18');\n",
              "          const dataTable =\n",
              "            await google.colab.kernel.invokeFunction('convertToInteractive',\n",
              "                                                     [key], {});\n",
              "          if (!dataTable) return;\n",
              "\n",
              "          const docLinkHtml = 'Like what you see? Visit the ' +\n",
              "            '<a target=\"_blank\" href=https://colab.research.google.com/notebooks/data_table.ipynb>data table notebook</a>'\n",
              "            + ' to learn more about interactive tables.';\n",
              "          element.innerHTML = '';\n",
              "          dataTable['output_type'] = 'display_data';\n",
              "          await google.colab.output.renderOutput(dataTable, element);\n",
              "          const docLink = document.createElement('div');\n",
              "          docLink.innerHTML = docLinkHtml;\n",
              "          element.appendChild(docLink);\n",
              "        }\n",
              "      </script>\n",
              "    </div>\n",
              "  </div>\n",
              "  "
            ]
          },
          "metadata": {},
          "execution_count": 178
        }
      ]
    },
    {
      "cell_type": "code",
      "source": [
        "plt.style.use('ggplot')\n",
        "fig, axs = plt.subplots(2,1, figsize=(12,8))\n",
        "\n",
        "axs[0].bar(b.index, b['population_density'], color='steelblue', edgecolor='white')\n",
        "axs[0].set_ylabel('population_density')\n",
        "axs[1].plot(d.index, d['is_claim'], color='red')\n",
        "axs[1].set_xlabel('Area Cluster')\n",
        "axs[1].set_ylabel('Numbers of Claim')\n",
        "\n",
        "#plt.savefig('area.png', dpi=300)\n",
        "#files.download('area.png')\n",
        "plt.show()"
      ],
      "metadata": {
        "colab": {
          "base_uri": "https://localhost:8080/",
          "height": 682
        },
        "id": "tu6XffoMYnV6",
        "outputId": "ad6a9977-456a-4489-becd-22c06d92e2e5"
      },
      "execution_count": null,
      "outputs": [
        {
          "output_type": "display_data",
          "data": {
            "text/plain": [
              "<IPython.core.display.Javascript object>"
            ],
            "application/javascript": [
              "\n",
              "    async function download(id, filename, size) {\n",
              "      if (!google.colab.kernel.accessAllowed) {\n",
              "        return;\n",
              "      }\n",
              "      const div = document.createElement('div');\n",
              "      const label = document.createElement('label');\n",
              "      label.textContent = `Downloading \"${filename}\": `;\n",
              "      div.appendChild(label);\n",
              "      const progress = document.createElement('progress');\n",
              "      progress.max = size;\n",
              "      div.appendChild(progress);\n",
              "      document.body.appendChild(div);\n",
              "\n",
              "      const buffers = [];\n",
              "      let downloaded = 0;\n",
              "\n",
              "      const channel = await google.colab.kernel.comms.open(id);\n",
              "      // Send a message to notify the kernel that we're ready.\n",
              "      channel.send({})\n",
              "\n",
              "      for await (const message of channel.messages) {\n",
              "        // Send a message to notify the kernel that we're ready.\n",
              "        channel.send({})\n",
              "        if (message.buffers) {\n",
              "          for (const buffer of message.buffers) {\n",
              "            buffers.push(buffer);\n",
              "            downloaded += buffer.byteLength;\n",
              "            progress.value = downloaded;\n",
              "          }\n",
              "        }\n",
              "      }\n",
              "      const blob = new Blob(buffers, {type: 'application/binary'});\n",
              "      const a = document.createElement('a');\n",
              "      a.href = window.URL.createObjectURL(blob);\n",
              "      a.download = filename;\n",
              "      div.appendChild(a);\n",
              "      a.click();\n",
              "      div.remove();\n",
              "    }\n",
              "  "
            ]
          },
          "metadata": {}
        },
        {
          "output_type": "display_data",
          "data": {
            "text/plain": [
              "<IPython.core.display.Javascript object>"
            ],
            "application/javascript": [
              "download(\"download_5a06e538-98e0-49df-b399-6a6dccb15488\", \"area.png\", 226128)"
            ]
          },
          "metadata": {}
        },
        {
          "output_type": "display_data",
          "data": {
            "text/plain": [
              "<Figure size 1200x800 with 2 Axes>"
            ],
            "image/png": "[encoded data removed]"
          },
          "metadata": {}
        }
      ]
    },
    {
      "cell_type": "markdown",
      "source": [
        "### 5.3 Car Manufacturer vs. Claim Cases"
      ],
      "metadata": {
        "id": "qCC5wk28ftc4"
      }
    },
    {
      "cell_type": "code",
      "source": [
        "e = df.select('make', 'model', 'is_claim').toPandas()\n",
        "e"
      ],
      "metadata": {
        "colab": {
          "base_uri": "https://localhost:8080/",
          "height": 423
        },
        "id": "3kTc7z4lYnTx",
        "outputId": "bff81f2e-887a-4ba1-b8ba-371ca3c8eb4a"
      },
      "execution_count": null,
      "outputs": [
        {
          "output_type": "execute_result",
          "data": {
            "text/plain": [
              "     make model  is_claim\n",
              "0       3    M4         0\n",
              "1       3    M4         0\n",
              "2       5    M9         0\n",
              "3       3    M4         0\n",
              "4       1    M1         1\n",
              "...   ...   ...       ...\n",
              "4995    1    M6         0\n",
              "4996    1    M1         1\n",
              "4997    1    M1         1\n",
              "4998    5    M9         0\n",
              "4999    3    M4         0\n",
              "\n",
              "[5000 rows x 3 columns]"
            ],
            "text/html": [
              "\n",
              "  <div id=\"df-ffbb80fd-9713-4c4f-af7e-0e7551f25221\">\n",
              "    <div class=\"colab-df-container\">\n",
              "      <div>\n",
              "<style scoped>\n",
              "    .dataframe tbody tr th:only-of-type {\n",
              "        vertical-align: middle;\n",
              "    }\n",
              "\n",
              "    .dataframe tbody tr th {\n",
              "        vertical-align: top;\n",
              "    }\n",
              "\n",
              "    .dataframe thead th {\n",
              "        text-align: right;\n",
              "    }\n",
              "</style>\n",
              "<table border=\"1\" class=\"dataframe\">\n",
              "  <thead>\n",
              "    <tr style=\"text-align: right;\">\n",
              "      <th></th>\n",
              "      <th>make</th>\n",
              "      <th>model</th>\n",
              "      <th>is_claim</th>\n",
              "    </tr>\n",
              "  </thead>\n",
              "  <tbody>\n",
              "    <tr>\n",
              "      <th>0</th>\n",
              "      <td>3</td>\n",
              "      <td>M4</td>\n",
              "      <td>0</td>\n",
              "    </tr>\n",
              "    <tr>\n",
              "      <th>1</th>\n",
              "      <td>3</td>\n",
              "      <td>M4</td>\n",
              "      <td>0</td>\n",
              "    </tr>\n",
              "    <tr>\n",
              "      <th>2</th>\n",
              "      <td>5</td>\n",
              "      <td>M9</td>\n",
              "      <td>0</td>\n",
              "    </tr>\n",
              "    <tr>\n",
              "      <th>3</th>\n",
              "      <td>3</td>\n",
              "      <td>M4</td>\n",
              "      <td>0</td>\n",
              "    </tr>\n",
              "    <tr>\n",
              "      <th>4</th>\n",
              "      <td>1</td>\n",
              "      <td>M1</td>\n",
              "      <td>1</td>\n",
              "    </tr>\n",
              "    <tr>\n",
              "      <th>...</th>\n",
              "      <td>...</td>\n",
              "      <td>...</td>\n",
              "      <td>...</td>\n",
              "    </tr>\n",
              "    <tr>\n",
              "      <th>4995</th>\n",
              "      <td>1</td>\n",
              "      <td>M6</td>\n",
              "      <td>0</td>\n",
              "    </tr>\n",
              "    <tr>\n",
              "      <th>4996</th>\n",
              "      <td>1</td>\n",
              "      <td>M1</td>\n",
              "      <td>1</td>\n",
              "    </tr>\n",
              "    <tr>\n",
              "      <th>4997</th>\n",
              "      <td>1</td>\n",
              "      <td>M1</td>\n",
              "      <td>1</td>\n",
              "    </tr>\n",
              "    <tr>\n",
              "      <th>4998</th>\n",
              "      <td>5</td>\n",
              "      <td>M9</td>\n",
              "      <td>0</td>\n",
              "    </tr>\n",
              "    <tr>\n",
              "      <th>4999</th>\n",
              "      <td>3</td>\n",
              "      <td>M4</td>\n",
              "      <td>0</td>\n",
              "    </tr>\n",
              "  </tbody>\n",
              "</table>\n",
              "<p>5000 rows × 3 columns</p>\n",
              "</div>\n",
              "      <button class=\"colab-df-convert\" onclick=\"convertToInteractive('df-ffbb80fd-9713-4c4f-af7e-0e7551f25221')\"\n",
              "              title=\"Convert this dataframe to an interactive table.\"\n",
              "              style=\"display:none;\">\n",
              "        \n",
              "  <svg xmlns=\"http://www.w3.org/2000/svg\" height=\"24px\"viewBox=\"0 0 24 24\"\n",
              "       width=\"24px\">\n",
              "    <path d=\"M0 0h24v24H0V0z\" fill=\"none\"/>\n",
              "    <path d=\"M18.56 5.44l.94 2.06.94-2.06 2.06-.94-2.06-.94-.94-2.06-.94 2.06-2.06.94zm-11 1L8.5 8.5l.94-2.06 2.06-.94-2.06-.94L8.5 2.5l-.94 2.06-2.06.94zm10 10l.94 2.06.94-2.06 2.06-.94-2.06-.94-.94-2.06-.94 2.06-2.06.94z\"/><path d=\"M17.41 7.96l-1.37-1.37c-.4-.4-.92-.59-1.43-.59-.52 0-1.04.2-1.43.59L10.3 9.45l-7.72 7.72c-.78.78-.78 2.05 0 2.83L4 21.41c.39.39.9.59 1.41.59.51 0 1.02-.2 1.41-.59l7.78-7.78 2.81-2.81c.8-.78.8-2.07 0-2.86zM5.41 20L4 18.59l7.72-7.72 1.47 1.35L5.41 20z\"/>\n",
              "  </svg>\n",
              "      </button>\n",
              "      \n",
              "  <style>\n",
              "    .colab-df-container {\n",
              "      display:flex;\n",
              "      flex-wrap:wrap;\n",
              "      gap: 12px;\n",
              "    }\n",
              "\n",
              "    .colab-df-convert {\n",
              "      background-color: #E8F0FE;\n",
              "      border: none;\n",
              "      border-radius: 50%;\n",
              "      cursor: pointer;\n",
              "      display: none;\n",
              "      fill: #1967D2;\n",
              "      height: 32px;\n",
              "      padding: 0 0 0 0;\n",
              "      width: 32px;\n",
              "    }\n",
              "\n",
              "    .colab-df-convert:hover {\n",
              "      background-color: #E2EBFA;\n",
              "      box-shadow: 0px 1px 2px rgba(60, 64, 67, 0.3), 0px 1px 3px 1px rgba(60, 64, 67, 0.15);\n",
              "      fill: #174EA6;\n",
              "    }\n",
              "\n",
              "    [theme=dark] .colab-df-convert {\n",
              "      background-color: #3B4455;\n",
              "      fill: #D2E3FC;\n",
              "    }\n",
              "\n",
              "    [theme=dark] .colab-df-convert:hover {\n",
              "      background-color: #434B5C;\n",
              "      box-shadow: 0px 1px 3px 1px rgba(0, 0, 0, 0.15);\n",
              "      filter: drop-shadow(0px 1px 2px rgba(0, 0, 0, 0.3));\n",
              "      fill: #FFFFFF;\n",
              "    }\n",
              "  </style>\n",
              "\n",
              "      <script>\n",
              "        const buttonEl =\n",
              "          document.querySelector('#df-ffbb80fd-9713-4c4f-af7e-0e7551f25221 button.colab-df-convert');\n",
              "        buttonEl.style.display =\n",
              "          google.colab.kernel.accessAllowed ? 'block' : 'none';\n",
              "\n",
              "        async function convertToInteractive(key) {\n",
              "          const element = document.querySelector('#df-ffbb80fd-9713-4c4f-af7e-0e7551f25221');\n",
              "          const dataTable =\n",
              "            await google.colab.kernel.invokeFunction('convertToInteractive',\n",
              "                                                     [key], {});\n",
              "          if (!dataTable) return;\n",
              "\n",
              "          const docLinkHtml = 'Like what you see? Visit the ' +\n",
              "            '<a target=\"_blank\" href=https://colab.research.google.com/notebooks/data_table.ipynb>data table notebook</a>'\n",
              "            + ' to learn more about interactive tables.';\n",
              "          element.innerHTML = '';\n",
              "          dataTable['output_type'] = 'display_data';\n",
              "          await google.colab.output.renderOutput(dataTable, element);\n",
              "          const docLink = document.createElement('div');\n",
              "          docLink.innerHTML = docLinkHtml;\n",
              "          element.appendChild(docLink);\n",
              "        }\n",
              "      </script>\n",
              "    </div>\n",
              "  </div>\n",
              "  "
            ]
          },
          "metadata": {},
          "execution_count": 180
        }
      ]
    },
    {
      "cell_type": "code",
      "source": [
        "f = e.groupby(['make','model']).sum().reset_index()\n",
        "f"
      ],
      "metadata": {
        "colab": {
          "base_uri": "https://localhost:8080/",
          "height": 394
        },
        "id": "--aGXcudYnOb",
        "outputId": "ded03e52-059a-4ed3-b7f4-094935fbf088"
      },
      "execution_count": null,
      "outputs": [
        {
          "output_type": "execute_result",
          "data": {
            "text/plain": [
              "   make model  is_claim\n",
              "0     1    M1       615\n",
              "1     1   M10        50\n",
              "2     1    M2        55\n",
              "3     1    M6       628\n",
              "4     1    M7       133\n",
              "5     1    M8       161\n",
              "6     2    M3        75\n",
              "7     3    M4       602\n",
              "8     4   M11        10\n",
              "9     4    M5        84\n",
              "10    5    M9        87"
            ],
            "text/html": [
              "\n",
              "  <div id=\"df-549b2bab-8d1c-4e9a-9888-5a6fb38ab1d7\">\n",
              "    <div class=\"colab-df-container\">\n",
              "      <div>\n",
              "<style scoped>\n",
              "    .dataframe tbody tr th:only-of-type {\n",
              "        vertical-align: middle;\n",
              "    }\n",
              "\n",
              "    .dataframe tbody tr th {\n",
              "        vertical-align: top;\n",
              "    }\n",
              "\n",
              "    .dataframe thead th {\n",
              "        text-align: right;\n",
              "    }\n",
              "</style>\n",
              "<table border=\"1\" class=\"dataframe\">\n",
              "  <thead>\n",
              "    <tr style=\"text-align: right;\">\n",
              "      <th></th>\n",
              "      <th>make</th>\n",
              "      <th>model</th>\n",
              "      <th>is_claim</th>\n",
              "    </tr>\n",
              "  </thead>\n",
              "  <tbody>\n",
              "    <tr>\n",
              "      <th>0</th>\n",
              "      <td>1</td>\n",
              "      <td>M1</td>\n",
              "      <td>615</td>\n",
              "    </tr>\n",
              "    <tr>\n",
              "      <th>1</th>\n",
              "      <td>1</td>\n",
              "      <td>M10</td>\n",
              "      <td>50</td>\n",
              "    </tr>\n",
              "    <tr>\n",
              "      <th>2</th>\n",
              "      <td>1</td>\n",
              "      <td>M2</td>\n",
              "      <td>55</td>\n",
              "    </tr>\n",
              "    <tr>\n",
              "      <th>3</th>\n",
              "      <td>1</td>\n",
              "      <td>M6</td>\n",
              "      <td>628</td>\n",
              "    </tr>\n",
              "    <tr>\n",
              "      <th>4</th>\n",
              "      <td>1</td>\n",
              "      <td>M7</td>\n",
              "      <td>133</td>\n",
              "    </tr>\n",
              "    <tr>\n",
              "      <th>5</th>\n",
              "      <td>1</td>\n",
              "      <td>M8</td>\n",
              "      <td>161</td>\n",
              "    </tr>\n",
              "    <tr>\n",
              "      <th>6</th>\n",
              "      <td>2</td>\n",
              "      <td>M3</td>\n",
              "      <td>75</td>\n",
              "    </tr>\n",
              "    <tr>\n",
              "      <th>7</th>\n",
              "      <td>3</td>\n",
              "      <td>M4</td>\n",
              "      <td>602</td>\n",
              "    </tr>\n",
              "    <tr>\n",
              "      <th>8</th>\n",
              "      <td>4</td>\n",
              "      <td>M11</td>\n",
              "      <td>10</td>\n",
              "    </tr>\n",
              "    <tr>\n",
              "      <th>9</th>\n",
              "      <td>4</td>\n",
              "      <td>M5</td>\n",
              "      <td>84</td>\n",
              "    </tr>\n",
              "    <tr>\n",
              "      <th>10</th>\n",
              "      <td>5</td>\n",
              "      <td>M9</td>\n",
              "      <td>87</td>\n",
              "    </tr>\n",
              "  </tbody>\n",
              "</table>\n",
              "</div>\n",
              "      <button class=\"colab-df-convert\" onclick=\"convertToInteractive('df-549b2bab-8d1c-4e9a-9888-5a6fb38ab1d7')\"\n",
              "              title=\"Convert this dataframe to an interactive table.\"\n",
              "              style=\"display:none;\">\n",
              "        \n",
              "  <svg xmlns=\"http://www.w3.org/2000/svg\" height=\"24px\"viewBox=\"0 0 24 24\"\n",
              "       width=\"24px\">\n",
              "    <path d=\"M0 0h24v24H0V0z\" fill=\"none\"/>\n",
              "    <path d=\"M18.56 5.44l.94 2.06.94-2.06 2.06-.94-2.06-.94-.94-2.06-.94 2.06-2.06.94zm-11 1L8.5 8.5l.94-2.06 2.06-.94-2.06-.94L8.5 2.5l-.94 2.06-2.06.94zm10 10l.94 2.06.94-2.06 2.06-.94-2.06-.94-.94-2.06-.94 2.06-2.06.94z\"/><path d=\"M17.41 7.96l-1.37-1.37c-.4-.4-.92-.59-1.43-.59-.52 0-1.04.2-1.43.59L10.3 9.45l-7.72 7.72c-.78.78-.78 2.05 0 2.83L4 21.41c.39.39.9.59 1.41.59.51 0 1.02-.2 1.41-.59l7.78-7.78 2.81-2.81c.8-.78.8-2.07 0-2.86zM5.41 20L4 18.59l7.72-7.72 1.47 1.35L5.41 20z\"/>\n",
              "  </svg>\n",
              "      </button>\n",
              "      \n",
              "  <style>\n",
              "    .colab-df-container {\n",
              "      display:flex;\n",
              "      flex-wrap:wrap;\n",
              "      gap: 12px;\n",
              "    }\n",
              "\n",
              "    .colab-df-convert {\n",
              "      background-color: #E8F0FE;\n",
              "      border: none;\n",
              "      border-radius: 50%;\n",
              "      cursor: pointer;\n",
              "      display: none;\n",
              "      fill: #1967D2;\n",
              "      height: 32px;\n",
              "      padding: 0 0 0 0;\n",
              "      width: 32px;\n",
              "    }\n",
              "\n",
              "    .colab-df-convert:hover {\n",
              "      background-color: #E2EBFA;\n",
              "      box-shadow: 0px 1px 2px rgba(60, 64, 67, 0.3), 0px 1px 3px 1px rgba(60, 64, 67, 0.15);\n",
              "      fill: #174EA6;\n",
              "    }\n",
              "\n",
              "    [theme=dark] .colab-df-convert {\n",
              "      background-color: #3B4455;\n",
              "      fill: #D2E3FC;\n",
              "    }\n",
              "\n",
              "    [theme=dark] .colab-df-convert:hover {\n",
              "      background-color: #434B5C;\n",
              "      box-shadow: 0px 1px 3px 1px rgba(0, 0, 0, 0.15);\n",
              "      filter: drop-shadow(0px 1px 2px rgba(0, 0, 0, 0.3));\n",
              "      fill: #FFFFFF;\n",
              "    }\n",
              "  </style>\n",
              "\n",
              "      <script>\n",
              "        const buttonEl =\n",
              "          document.querySelector('#df-549b2bab-8d1c-4e9a-9888-5a6fb38ab1d7 button.colab-df-convert');\n",
              "        buttonEl.style.display =\n",
              "          google.colab.kernel.accessAllowed ? 'block' : 'none';\n",
              "\n",
              "        async function convertToInteractive(key) {\n",
              "          const element = document.querySelector('#df-549b2bab-8d1c-4e9a-9888-5a6fb38ab1d7');\n",
              "          const dataTable =\n",
              "            await google.colab.kernel.invokeFunction('convertToInteractive',\n",
              "                                                     [key], {});\n",
              "          if (!dataTable) return;\n",
              "\n",
              "          const docLinkHtml = 'Like what you see? Visit the ' +\n",
              "            '<a target=\"_blank\" href=https://colab.research.google.com/notebooks/data_table.ipynb>data table notebook</a>'\n",
              "            + ' to learn more about interactive tables.';\n",
              "          element.innerHTML = '';\n",
              "          dataTable['output_type'] = 'display_data';\n",
              "          await google.colab.output.renderOutput(dataTable, element);\n",
              "          const docLink = document.createElement('div');\n",
              "          docLink.innerHTML = docLinkHtml;\n",
              "          element.appendChild(docLink);\n",
              "        }\n",
              "      </script>\n",
              "    </div>\n",
              "  </div>\n",
              "  "
            ]
          },
          "metadata": {},
          "execution_count": 181
        }
      ]
    },
    {
      "cell_type": "code",
      "source": [
        "g = e.groupby(['make','model']).count().reset_index()\n",
        "g"
      ],
      "metadata": {
        "colab": {
          "base_uri": "https://localhost:8080/",
          "height": 394
        },
        "id": "RJR9mfUFYnK_",
        "outputId": "3750c35d-702a-4525-ffe3-c9fac719b59a"
      },
      "execution_count": null,
      "outputs": [
        {
          "output_type": "execute_result",
          "data": {
            "text/plain": [
              "   make model  is_claim\n",
              "0     1    M1      1274\n",
              "1     1   M10       108\n",
              "2     1    M2       107\n",
              "3     1    M6      1211\n",
              "4     1    M7       263\n",
              "5     1    M8       337\n",
              "6     2    M3       174\n",
              "7     3    M4      1173\n",
              "8     4   M11        30\n",
              "9     4    M5       156\n",
              "10    5    M9       167"
            ],
            "text/html": [
              "\n",
              "  <div id=\"df-20664a7d-f77c-448a-a9af-a0af44a88324\">\n",
              "    <div class=\"colab-df-container\">\n",
              "      <div>\n",
              "<style scoped>\n",
              "    .dataframe tbody tr th:only-of-type {\n",
              "        vertical-align: middle;\n",
              "    }\n",
              "\n",
              "    .dataframe tbody tr th {\n",
              "        vertical-align: top;\n",
              "    }\n",
              "\n",
              "    .dataframe thead th {\n",
              "        text-align: right;\n",
              "    }\n",
              "</style>\n",
              "<table border=\"1\" class=\"dataframe\">\n",
              "  <thead>\n",
              "    <tr style=\"text-align: right;\">\n",
              "      <th></th>\n",
              "      <th>make</th>\n",
              "      <th>model</th>\n",
              "      <th>is_claim</th>\n",
              "    </tr>\n",
              "  </thead>\n",
              "  <tbody>\n",
              "    <tr>\n",
              "      <th>0</th>\n",
              "      <td>1</td>\n",
              "      <td>M1</td>\n",
              "      <td>1274</td>\n",
              "    </tr>\n",
              "    <tr>\n",
              "      <th>1</th>\n",
              "      <td>1</td>\n",
              "      <td>M10</td>\n",
              "      <td>108</td>\n",
              "    </tr>\n",
              "    <tr>\n",
              "      <th>2</th>\n",
              "      <td>1</td>\n",
              "      <td>M2</td>\n",
              "      <td>107</td>\n",
              "    </tr>\n",
              "    <tr>\n",
              "      <th>3</th>\n",
              "      <td>1</td>\n",
              "      <td>M6</td>\n",
              "      <td>1211</td>\n",
              "    </tr>\n",
              "    <tr>\n",
              "      <th>4</th>\n",
              "      <td>1</td>\n",
              "      <td>M7</td>\n",
              "      <td>263</td>\n",
              "    </tr>\n",
              "    <tr>\n",
              "      <th>5</th>\n",
              "      <td>1</td>\n",
              "      <td>M8</td>\n",
              "      <td>337</td>\n",
              "    </tr>\n",
              "    <tr>\n",
              "      <th>6</th>\n",
              "      <td>2</td>\n",
              "      <td>M3</td>\n",
              "      <td>174</td>\n",
              "    </tr>\n",
              "    <tr>\n",
              "      <th>7</th>\n",
              "      <td>3</td>\n",
              "      <td>M4</td>\n",
              "      <td>1173</td>\n",
              "    </tr>\n",
              "    <tr>\n",
              "      <th>8</th>\n",
              "      <td>4</td>\n",
              "      <td>M11</td>\n",
              "      <td>30</td>\n",
              "    </tr>\n",
              "    <tr>\n",
              "      <th>9</th>\n",
              "      <td>4</td>\n",
              "      <td>M5</td>\n",
              "      <td>156</td>\n",
              "    </tr>\n",
              "    <tr>\n",
              "      <th>10</th>\n",
              "      <td>5</td>\n",
              "      <td>M9</td>\n",
              "      <td>167</td>\n",
              "    </tr>\n",
              "  </tbody>\n",
              "</table>\n",
              "</div>\n",
              "      <button class=\"colab-df-convert\" onclick=\"convertToInteractive('df-20664a7d-f77c-448a-a9af-a0af44a88324')\"\n",
              "              title=\"Convert this dataframe to an interactive table.\"\n",
              "              style=\"display:none;\">\n",
              "        \n",
              "  <svg xmlns=\"http://www.w3.org/2000/svg\" height=\"24px\"viewBox=\"0 0 24 24\"\n",
              "       width=\"24px\">\n",
              "    <path d=\"M0 0h24v24H0V0z\" fill=\"none\"/>\n",
              "    <path d=\"M18.56 5.44l.94 2.06.94-2.06 2.06-.94-2.06-.94-.94-2.06-.94 2.06-2.06.94zm-11 1L8.5 8.5l.94-2.06 2.06-.94-2.06-.94L8.5 2.5l-.94 2.06-2.06.94zm10 10l.94 2.06.94-2.06 2.06-.94-2.06-.94-.94-2.06-.94 2.06-2.06.94z\"/><path d=\"M17.41 7.96l-1.37-1.37c-.4-.4-.92-.59-1.43-.59-.52 0-1.04.2-1.43.59L10.3 9.45l-7.72 7.72c-.78.78-.78 2.05 0 2.83L4 21.41c.39.39.9.59 1.41.59.51 0 1.02-.2 1.41-.59l7.78-7.78 2.81-2.81c.8-.78.8-2.07 0-2.86zM5.41 20L4 18.59l7.72-7.72 1.47 1.35L5.41 20z\"/>\n",
              "  </svg>\n",
              "      </button>\n",
              "      \n",
              "  <style>\n",
              "    .colab-df-container {\n",
              "      display:flex;\n",
              "      flex-wrap:wrap;\n",
              "      gap: 12px;\n",
              "    }\n",
              "\n",
              "    .colab-df-convert {\n",
              "      background-color: #E8F0FE;\n",
              "      border: none;\n",
              "      border-radius: 50%;\n",
              "      cursor: pointer;\n",
              "      display: none;\n",
              "      fill: #1967D2;\n",
              "      height: 32px;\n",
              "      padding: 0 0 0 0;\n",
              "      width: 32px;\n",
              "    }\n",
              "\n",
              "    .colab-df-convert:hover {\n",
              "      background-color: #E2EBFA;\n",
              "      box-shadow: 0px 1px 2px rgba(60, 64, 67, 0.3), 0px 1px 3px 1px rgba(60, 64, 67, 0.15);\n",
              "      fill: #174EA6;\n",
              "    }\n",
              "\n",
              "    [theme=dark] .colab-df-convert {\n",
              "      background-color: #3B4455;\n",
              "      fill: #D2E3FC;\n",
              "    }\n",
              "\n",
              "    [theme=dark] .colab-df-convert:hover {\n",
              "      background-color: #434B5C;\n",
              "      box-shadow: 0px 1px 3px 1px rgba(0, 0, 0, 0.15);\n",
              "      filter: drop-shadow(0px 1px 2px rgba(0, 0, 0, 0.3));\n",
              "      fill: #FFFFFF;\n",
              "    }\n",
              "  </style>\n",
              "\n",
              "      <script>\n",
              "        const buttonEl =\n",
              "          document.querySelector('#df-20664a7d-f77c-448a-a9af-a0af44a88324 button.colab-df-convert');\n",
              "        buttonEl.style.display =\n",
              "          google.colab.kernel.accessAllowed ? 'block' : 'none';\n",
              "\n",
              "        async function convertToInteractive(key) {\n",
              "          const element = document.querySelector('#df-20664a7d-f77c-448a-a9af-a0af44a88324');\n",
              "          const dataTable =\n",
              "            await google.colab.kernel.invokeFunction('convertToInteractive',\n",
              "                                                     [key], {});\n",
              "          if (!dataTable) return;\n",
              "\n",
              "          const docLinkHtml = 'Like what you see? Visit the ' +\n",
              "            '<a target=\"_blank\" href=https://colab.research.google.com/notebooks/data_table.ipynb>data table notebook</a>'\n",
              "            + ' to learn more about interactive tables.';\n",
              "          element.innerHTML = '';\n",
              "          dataTable['output_type'] = 'display_data';\n",
              "          await google.colab.output.renderOutput(dataTable, element);\n",
              "          const docLink = document.createElement('div');\n",
              "          docLink.innerHTML = docLinkHtml;\n",
              "          element.appendChild(docLink);\n",
              "        }\n",
              "      </script>\n",
              "    </div>\n",
              "  </div>\n",
              "  "
            ]
          },
          "metadata": {},
          "execution_count": 182
        }
      ]
    },
    {
      "cell_type": "code",
      "source": [
        "h = f.merge(g, left_on='model', right_on='model')\n",
        "h"
      ],
      "metadata": {
        "colab": {
          "base_uri": "https://localhost:8080/",
          "height": 394
        },
        "id": "UD7ZoOomqcW9",
        "outputId": "c224dfd0-8317-4c13-8ee0-2b2dfac95d7e"
      },
      "execution_count": null,
      "outputs": [
        {
          "output_type": "execute_result",
          "data": {
            "text/plain": [
              "   make_x model  is_claim_x make_y  is_claim_y\n",
              "0       1    M1         615      1        1274\n",
              "1       1   M10          50      1         108\n",
              "2       1    M2          55      1         107\n",
              "3       1    M6         628      1        1211\n",
              "4       1    M7         133      1         263\n",
              "5       1    M8         161      1         337\n",
              "6       2    M3          75      2         174\n",
              "7       3    M4         602      3        1173\n",
              "8       4   M11          10      4          30\n",
              "9       4    M5          84      4         156\n",
              "10      5    M9          87      5         167"
            ],
            "text/html": [
              "\n",
              "  <div id=\"df-c492268c-6c91-4a94-8686-e1d9032d39ce\">\n",
              "    <div class=\"colab-df-container\">\n",
              "      <div>\n",
              "<style scoped>\n",
              "    .dataframe tbody tr th:only-of-type {\n",
              "        vertical-align: middle;\n",
              "    }\n",
              "\n",
              "    .dataframe tbody tr th {\n",
              "        vertical-align: top;\n",
              "    }\n",
              "\n",
              "    .dataframe thead th {\n",
              "        text-align: right;\n",
              "    }\n",
              "</style>\n",
              "<table border=\"1\" class=\"dataframe\">\n",
              "  <thead>\n",
              "    <tr style=\"text-align: right;\">\n",
              "      <th></th>\n",
              "      <th>make_x</th>\n",
              "      <th>model</th>\n",
              "      <th>is_claim_x</th>\n",
              "      <th>make_y</th>\n",
              "      <th>is_claim_y</th>\n",
              "    </tr>\n",
              "  </thead>\n",
              "  <tbody>\n",
              "    <tr>\n",
              "      <th>0</th>\n",
              "      <td>1</td>\n",
              "      <td>M1</td>\n",
              "      <td>615</td>\n",
              "      <td>1</td>\n",
              "      <td>1274</td>\n",
              "    </tr>\n",
              "    <tr>\n",
              "      <th>1</th>\n",
              "      <td>1</td>\n",
              "      <td>M10</td>\n",
              "      <td>50</td>\n",
              "      <td>1</td>\n",
              "      <td>108</td>\n",
              "    </tr>\n",
              "    <tr>\n",
              "      <th>2</th>\n",
              "      <td>1</td>\n",
              "      <td>M2</td>\n",
              "      <td>55</td>\n",
              "      <td>1</td>\n",
              "      <td>107</td>\n",
              "    </tr>\n",
              "    <tr>\n",
              "      <th>3</th>\n",
              "      <td>1</td>\n",
              "      <td>M6</td>\n",
              "      <td>628</td>\n",
              "      <td>1</td>\n",
              "      <td>1211</td>\n",
              "    </tr>\n",
              "    <tr>\n",
              "      <th>4</th>\n",
              "      <td>1</td>\n",
              "      <td>M7</td>\n",
              "      <td>133</td>\n",
              "      <td>1</td>\n",
              "      <td>263</td>\n",
              "    </tr>\n",
              "    <tr>\n",
              "      <th>5</th>\n",
              "      <td>1</td>\n",
              "      <td>M8</td>\n",
              "      <td>161</td>\n",
              "      <td>1</td>\n",
              "      <td>337</td>\n",
              "    </tr>\n",
              "    <tr>\n",
              "      <th>6</th>\n",
              "      <td>2</td>\n",
              "      <td>M3</td>\n",
              "      <td>75</td>\n",
              "      <td>2</td>\n",
              "      <td>174</td>\n",
              "    </tr>\n",
              "    <tr>\n",
              "      <th>7</th>\n",
              "      <td>3</td>\n",
              "      <td>M4</td>\n",
              "      <td>602</td>\n",
              "      <td>3</td>\n",
              "      <td>1173</td>\n",
              "    </tr>\n",
              "    <tr>\n",
              "      <th>8</th>\n",
              "      <td>4</td>\n",
              "      <td>M11</td>\n",
              "      <td>10</td>\n",
              "      <td>4</td>\n",
              "      <td>30</td>\n",
              "    </tr>\n",
              "    <tr>\n",
              "      <th>9</th>\n",
              "      <td>4</td>\n",
              "      <td>M5</td>\n",
              "      <td>84</td>\n",
              "      <td>4</td>\n",
              "      <td>156</td>\n",
              "    </tr>\n",
              "    <tr>\n",
              "      <th>10</th>\n",
              "      <td>5</td>\n",
              "      <td>M9</td>\n",
              "      <td>87</td>\n",
              "      <td>5</td>\n",
              "      <td>167</td>\n",
              "    </tr>\n",
              "  </tbody>\n",
              "</table>\n",
              "</div>\n",
              "      <button class=\"colab-df-convert\" onclick=\"convertToInteractive('df-c492268c-6c91-4a94-8686-e1d9032d39ce')\"\n",
              "              title=\"Convert this dataframe to an interactive table.\"\n",
              "              style=\"display:none;\">\n",
              "        \n",
              "  <svg xmlns=\"http://www.w3.org/2000/svg\" height=\"24px\"viewBox=\"0 0 24 24\"\n",
              "       width=\"24px\">\n",
              "    <path d=\"M0 0h24v24H0V0z\" fill=\"none\"/>\n",
              "    <path d=\"M18.56 5.44l.94 2.06.94-2.06 2.06-.94-2.06-.94-.94-2.06-.94 2.06-2.06.94zm-11 1L8.5 8.5l.94-2.06 2.06-.94-2.06-.94L8.5 2.5l-.94 2.06-2.06.94zm10 10l.94 2.06.94-2.06 2.06-.94-2.06-.94-.94-2.06-.94 2.06-2.06.94z\"/><path d=\"M17.41 7.96l-1.37-1.37c-.4-.4-.92-.59-1.43-.59-.52 0-1.04.2-1.43.59L10.3 9.45l-7.72 7.72c-.78.78-.78 2.05 0 2.83L4 21.41c.39.39.9.59 1.41.59.51 0 1.02-.2 1.41-.59l7.78-7.78 2.81-2.81c.8-.78.8-2.07 0-2.86zM5.41 20L4 18.59l7.72-7.72 1.47 1.35L5.41 20z\"/>\n",
              "  </svg>\n",
              "      </button>\n",
              "      \n",
              "  <style>\n",
              "    .colab-df-container {\n",
              "      display:flex;\n",
              "      flex-wrap:wrap;\n",
              "      gap: 12px;\n",
              "    }\n",
              "\n",
              "    .colab-df-convert {\n",
              "      background-color: #E8F0FE;\n",
              "      border: none;\n",
              "      border-radius: 50%;\n",
              "      cursor: pointer;\n",
              "      display: none;\n",
              "      fill: #1967D2;\n",
              "      height: 32px;\n",
              "      padding: 0 0 0 0;\n",
              "      width: 32px;\n",
              "    }\n",
              "\n",
              "    .colab-df-convert:hover {\n",
              "      background-color: #E2EBFA;\n",
              "      box-shadow: 0px 1px 2px rgba(60, 64, 67, 0.3), 0px 1px 3px 1px rgba(60, 64, 67, 0.15);\n",
              "      fill: #174EA6;\n",
              "    }\n",
              "\n",
              "    [theme=dark] .colab-df-convert {\n",
              "      background-color: #3B4455;\n",
              "      fill: #D2E3FC;\n",
              "    }\n",
              "\n",
              "    [theme=dark] .colab-df-convert:hover {\n",
              "      background-color: #434B5C;\n",
              "      box-shadow: 0px 1px 3px 1px rgba(0, 0, 0, 0.15);\n",
              "      filter: drop-shadow(0px 1px 2px rgba(0, 0, 0, 0.3));\n",
              "      fill: #FFFFFF;\n",
              "    }\n",
              "  </style>\n",
              "\n",
              "      <script>\n",
              "        const buttonEl =\n",
              "          document.querySelector('#df-c492268c-6c91-4a94-8686-e1d9032d39ce button.colab-df-convert');\n",
              "        buttonEl.style.display =\n",
              "          google.colab.kernel.accessAllowed ? 'block' : 'none';\n",
              "\n",
              "        async function convertToInteractive(key) {\n",
              "          const element = document.querySelector('#df-c492268c-6c91-4a94-8686-e1d9032d39ce');\n",
              "          const dataTable =\n",
              "            await google.colab.kernel.invokeFunction('convertToInteractive',\n",
              "                                                     [key], {});\n",
              "          if (!dataTable) return;\n",
              "\n",
              "          const docLinkHtml = 'Like what you see? Visit the ' +\n",
              "            '<a target=\"_blank\" href=https://colab.research.google.com/notebooks/data_table.ipynb>data table notebook</a>'\n",
              "            + ' to learn more about interactive tables.';\n",
              "          element.innerHTML = '';\n",
              "          dataTable['output_type'] = 'display_data';\n",
              "          await google.colab.output.renderOutput(dataTable, element);\n",
              "          const docLink = document.createElement('div');\n",
              "          docLink.innerHTML = docLinkHtml;\n",
              "          element.appendChild(docLink);\n",
              "        }\n",
              "      </script>\n",
              "    </div>\n",
              "  </div>\n",
              "  "
            ]
          },
          "metadata": {},
          "execution_count": 183
        }
      ]
    },
    {
      "cell_type": "code",
      "source": [
        "h['pres_claim'] = h.is_claim_x / h.is_claim_y\n",
        "h"
      ],
      "metadata": {
        "colab": {
          "base_uri": "https://localhost:8080/",
          "height": 394
        },
        "id": "DMkQ9nQlyHKf",
        "outputId": "bb3b2f1d-6efd-4eac-e0ba-a549a968717c"
      },
      "execution_count": null,
      "outputs": [
        {
          "output_type": "execute_result",
          "data": {
            "text/plain": [
              "   make_x model  is_claim_x make_y  is_claim_y  pres_claim\n",
              "0       1    M1         615      1        1274    0.482732\n",
              "1       1   M10          50      1         108    0.462963\n",
              "2       1    M2          55      1         107    0.514019\n",
              "3       1    M6         628      1        1211    0.518580\n",
              "4       1    M7         133      1         263    0.505703\n",
              "5       1    M8         161      1         337    0.477745\n",
              "6       2    M3          75      2         174    0.431034\n",
              "7       3    M4         602      3        1173    0.513214\n",
              "8       4   M11          10      4          30    0.333333\n",
              "9       4    M5          84      4         156    0.538462\n",
              "10      5    M9          87      5         167    0.520958"
            ],
            "text/html": [
              "\n",
              "  <div id=\"df-c7714dcf-48d4-4188-b7a2-264dfb25f166\">\n",
              "    <div class=\"colab-df-container\">\n",
              "      <div>\n",
              "<style scoped>\n",
              "    .dataframe tbody tr th:only-of-type {\n",
              "        vertical-align: middle;\n",
              "    }\n",
              "\n",
              "    .dataframe tbody tr th {\n",
              "        vertical-align: top;\n",
              "    }\n",
              "\n",
              "    .dataframe thead th {\n",
              "        text-align: right;\n",
              "    }\n",
              "</style>\n",
              "<table border=\"1\" class=\"dataframe\">\n",
              "  <thead>\n",
              "    <tr style=\"text-align: right;\">\n",
              "      <th></th>\n",
              "      <th>make_x</th>\n",
              "      <th>model</th>\n",
              "      <th>is_claim_x</th>\n",
              "      <th>make_y</th>\n",
              "      <th>is_claim_y</th>\n",
              "      <th>pres_claim</th>\n",
              "    </tr>\n",
              "  </thead>\n",
              "  <tbody>\n",
              "    <tr>\n",
              "      <th>0</th>\n",
              "      <td>1</td>\n",
              "      <td>M1</td>\n",
              "      <td>615</td>\n",
              "      <td>1</td>\n",
              "      <td>1274</td>\n",
              "      <td>0.482732</td>\n",
              "    </tr>\n",
              "    <tr>\n",
              "      <th>1</th>\n",
              "      <td>1</td>\n",
              "      <td>M10</td>\n",
              "      <td>50</td>\n",
              "      <td>1</td>\n",
              "      <td>108</td>\n",
              "      <td>0.462963</td>\n",
              "    </tr>\n",
              "    <tr>\n",
              "      <th>2</th>\n",
              "      <td>1</td>\n",
              "      <td>M2</td>\n",
              "      <td>55</td>\n",
              "      <td>1</td>\n",
              "      <td>107</td>\n",
              "      <td>0.514019</td>\n",
              "    </tr>\n",
              "    <tr>\n",
              "      <th>3</th>\n",
              "      <td>1</td>\n",
              "      <td>M6</td>\n",
              "      <td>628</td>\n",
              "      <td>1</td>\n",
              "      <td>1211</td>\n",
              "      <td>0.518580</td>\n",
              "    </tr>\n",
              "    <tr>\n",
              "      <th>4</th>\n",
              "      <td>1</td>\n",
              "      <td>M7</td>\n",
              "      <td>133</td>\n",
              "      <td>1</td>\n",
              "      <td>263</td>\n",
              "      <td>0.505703</td>\n",
              "    </tr>\n",
              "    <tr>\n",
              "      <th>5</th>\n",
              "      <td>1</td>\n",
              "      <td>M8</td>\n",
              "      <td>161</td>\n",
              "      <td>1</td>\n",
              "      <td>337</td>\n",
              "      <td>0.477745</td>\n",
              "    </tr>\n",
              "    <tr>\n",
              "      <th>6</th>\n",
              "      <td>2</td>\n",
              "      <td>M3</td>\n",
              "      <td>75</td>\n",
              "      <td>2</td>\n",
              "      <td>174</td>\n",
              "      <td>0.431034</td>\n",
              "    </tr>\n",
              "    <tr>\n",
              "      <th>7</th>\n",
              "      <td>3</td>\n",
              "      <td>M4</td>\n",
              "      <td>602</td>\n",
              "      <td>3</td>\n",
              "      <td>1173</td>\n",
              "      <td>0.513214</td>\n",
              "    </tr>\n",
              "    <tr>\n",
              "      <th>8</th>\n",
              "      <td>4</td>\n",
              "      <td>M11</td>\n",
              "      <td>10</td>\n",
              "      <td>4</td>\n",
              "      <td>30</td>\n",
              "      <td>0.333333</td>\n",
              "    </tr>\n",
              "    <tr>\n",
              "      <th>9</th>\n",
              "      <td>4</td>\n",
              "      <td>M5</td>\n",
              "      <td>84</td>\n",
              "      <td>4</td>\n",
              "      <td>156</td>\n",
              "      <td>0.538462</td>\n",
              "    </tr>\n",
              "    <tr>\n",
              "      <th>10</th>\n",
              "      <td>5</td>\n",
              "      <td>M9</td>\n",
              "      <td>87</td>\n",
              "      <td>5</td>\n",
              "      <td>167</td>\n",
              "      <td>0.520958</td>\n",
              "    </tr>\n",
              "  </tbody>\n",
              "</table>\n",
              "</div>\n",
              "      <button class=\"colab-df-convert\" onclick=\"convertToInteractive('df-c7714dcf-48d4-4188-b7a2-264dfb25f166')\"\n",
              "              title=\"Convert this dataframe to an interactive table.\"\n",
              "              style=\"display:none;\">\n",
              "        \n",
              "  <svg xmlns=\"http://www.w3.org/2000/svg\" height=\"24px\"viewBox=\"0 0 24 24\"\n",
              "       width=\"24px\">\n",
              "    <path d=\"M0 0h24v24H0V0z\" fill=\"none\"/>\n",
              "    <path d=\"M18.56 5.44l.94 2.06.94-2.06 2.06-.94-2.06-.94-.94-2.06-.94 2.06-2.06.94zm-11 1L8.5 8.5l.94-2.06 2.06-.94-2.06-.94L8.5 2.5l-.94 2.06-2.06.94zm10 10l.94 2.06.94-2.06 2.06-.94-2.06-.94-.94-2.06-.94 2.06-2.06.94z\"/><path d=\"M17.41 7.96l-1.37-1.37c-.4-.4-.92-.59-1.43-.59-.52 0-1.04.2-1.43.59L10.3 9.45l-7.72 7.72c-.78.78-.78 2.05 0 2.83L4 21.41c.39.39.9.59 1.41.59.51 0 1.02-.2 1.41-.59l7.78-7.78 2.81-2.81c.8-.78.8-2.07 0-2.86zM5.41 20L4 18.59l7.72-7.72 1.47 1.35L5.41 20z\"/>\n",
              "  </svg>\n",
              "      </button>\n",
              "      \n",
              "  <style>\n",
              "    .colab-df-container {\n",
              "      display:flex;\n",
              "      flex-wrap:wrap;\n",
              "      gap: 12px;\n",
              "    }\n",
              "\n",
              "    .colab-df-convert {\n",
              "      background-color: #E8F0FE;\n",
              "      border: none;\n",
              "      border-radius: 50%;\n",
              "      cursor: pointer;\n",
              "      display: none;\n",
              "      fill: #1967D2;\n",
              "      height: 32px;\n",
              "      padding: 0 0 0 0;\n",
              "      width: 32px;\n",
              "    }\n",
              "\n",
              "    .colab-df-convert:hover {\n",
              "      background-color: #E2EBFA;\n",
              "      box-shadow: 0px 1px 2px rgba(60, 64, 67, 0.3), 0px 1px 3px 1px rgba(60, 64, 67, 0.15);\n",
              "      fill: #174EA6;\n",
              "    }\n",
              "\n",
              "    [theme=dark] .colab-df-convert {\n",
              "      background-color: #3B4455;\n",
              "      fill: #D2E3FC;\n",
              "    }\n",
              "\n",
              "    [theme=dark] .colab-df-convert:hover {\n",
              "      background-color: #434B5C;\n",
              "      box-shadow: 0px 1px 3px 1px rgba(0, 0, 0, 0.15);\n",
              "      filter: drop-shadow(0px 1px 2px rgba(0, 0, 0, 0.3));\n",
              "      fill: #FFFFFF;\n",
              "    }\n",
              "  </style>\n",
              "\n",
              "      <script>\n",
              "        const buttonEl =\n",
              "          document.querySelector('#df-c7714dcf-48d4-4188-b7a2-264dfb25f166 button.colab-df-convert');\n",
              "        buttonEl.style.display =\n",
              "          google.colab.kernel.accessAllowed ? 'block' : 'none';\n",
              "\n",
              "        async function convertToInteractive(key) {\n",
              "          const element = document.querySelector('#df-c7714dcf-48d4-4188-b7a2-264dfb25f166');\n",
              "          const dataTable =\n",
              "            await google.colab.kernel.invokeFunction('convertToInteractive',\n",
              "                                                     [key], {});\n",
              "          if (!dataTable) return;\n",
              "\n",
              "          const docLinkHtml = 'Like what you see? Visit the ' +\n",
              "            '<a target=\"_blank\" href=https://colab.research.google.com/notebooks/data_table.ipynb>data table notebook</a>'\n",
              "            + ' to learn more about interactive tables.';\n",
              "          element.innerHTML = '';\n",
              "          dataTable['output_type'] = 'display_data';\n",
              "          await google.colab.output.renderOutput(dataTable, element);\n",
              "          const docLink = document.createElement('div');\n",
              "          docLink.innerHTML = docLinkHtml;\n",
              "          element.appendChild(docLink);\n",
              "        }\n",
              "      </script>\n",
              "    </div>\n",
              "  </div>\n",
              "  "
            ]
          },
          "metadata": {},
          "execution_count": 184
        }
      ]
    },
    {
      "cell_type": "code",
      "source": [
        "plt.style.use('ggplot')\n",
        "\n",
        "plt.figure(figsize=(12,6))\n",
        "plt.bar(h['model'], h['is_claim_y'], color='steelblue', edgecolor='white', label='All Policies of Each Model')\n",
        "plt.bar(h['model'], h['is_claim_x'], color='orange', edgecolor='white', label='Claims of Each Model')\n",
        "plt.plot(h['model'], h['pres_claim']*1000, color='red', marker='.', label='% of Claim in All Policies')\n",
        "plt.xlabel('Model')\n",
        "plt.ylabel('Count')\n",
        "plt.legend()\n",
        "\n",
        "#plt.savefig('model.png', dpi=300)\n",
        "#files.download('model.png')\n",
        "\n",
        "plt.show()"
      ],
      "metadata": {
        "colab": {
          "base_uri": "https://localhost:8080/",
          "height": 537
        },
        "id": "IY2ypElLw-sq",
        "outputId": "54e4e380-48ff-4586-988e-f6c94e7a6975"
      },
      "execution_count": null,
      "outputs": [
        {
          "output_type": "display_data",
          "data": {
            "text/plain": [
              "<IPython.core.display.Javascript object>"
            ],
            "application/javascript": [
              "\n",
              "    async function download(id, filename, size) {\n",
              "      if (!google.colab.kernel.accessAllowed) {\n",
              "        return;\n",
              "      }\n",
              "      const div = document.createElement('div');\n",
              "      const label = document.createElement('label');\n",
              "      label.textContent = `Downloading \"${filename}\": `;\n",
              "      div.appendChild(label);\n",
              "      const progress = document.createElement('progress');\n",
              "      progress.max = size;\n",
              "      div.appendChild(progress);\n",
              "      document.body.appendChild(div);\n",
              "\n",
              "      const buffers = [];\n",
              "      let downloaded = 0;\n",
              "\n",
              "      const channel = await google.colab.kernel.comms.open(id);\n",
              "      // Send a message to notify the kernel that we're ready.\n",
              "      channel.send({})\n",
              "\n",
              "      for await (const message of channel.messages) {\n",
              "        // Send a message to notify the kernel that we're ready.\n",
              "        channel.send({})\n",
              "        if (message.buffers) {\n",
              "          for (const buffer of message.buffers) {\n",
              "            buffers.push(buffer);\n",
              "            downloaded += buffer.byteLength;\n",
              "            progress.value = downloaded;\n",
              "          }\n",
              "        }\n",
              "      }\n",
              "      const blob = new Blob(buffers, {type: 'application/binary'});\n",
              "      const a = document.createElement('a');\n",
              "      a.href = window.URL.createObjectURL(blob);\n",
              "      a.download = filename;\n",
              "      div.appendChild(a);\n",
              "      a.click();\n",
              "      div.remove();\n",
              "    }\n",
              "  "
            ]
          },
          "metadata": {}
        },
        {
          "output_type": "display_data",
          "data": {
            "text/plain": [
              "<IPython.core.display.Javascript object>"
            ],
            "application/javascript": [
              "download(\"download_5bbc1211-7f98-4f90-84a4-7ec90df73d60\", \"model.png\", 131285)"
            ]
          },
          "metadata": {}
        },
        {
          "output_type": "display_data",
          "data": {
            "text/plain": [
              "<Figure size 1200x600 with 1 Axes>"
            ],
            "image/png": "[encoded data removed]"
          },
          "metadata": {}
        }
      ]
    },
    {
      "cell_type": "markdown",
      "source": [
        "### 5.4 Rear Brake Type vs. Claim Cases"
      ],
      "metadata": {
        "id": "Yj7ogyWx3rn3"
      }
    },
    {
      "cell_type": "code",
      "source": [
        "j = df.select('rear_brakes_type', 'is_claim').toPandas()\n",
        "j"
      ],
      "metadata": {
        "id": "jmiR-OsdTt0E",
        "colab": {
          "base_uri": "https://localhost:8080/",
          "height": 423
        },
        "outputId": "b3cc6caa-b18a-4671-b71c-f56b3ff4b52a"
      },
      "execution_count": null,
      "outputs": [
        {
          "output_type": "execute_result",
          "data": {
            "text/plain": [
              "     rear_brakes_type  is_claim\n",
              "0                Disc         0\n",
              "1                Disc         0\n",
              "2                Drum         0\n",
              "3                Disc         0\n",
              "4                Drum         1\n",
              "...               ...       ...\n",
              "4995             Drum         0\n",
              "4996             Drum         1\n",
              "4997             Drum         1\n",
              "4998             Drum         0\n",
              "4999             Disc         0\n",
              "\n",
              "[5000 rows x 2 columns]"
            ],
            "text/html": [
              "\n",
              "  <div id=\"df-2f4691f6-8d82-41da-ac0b-2f15701349e0\">\n",
              "    <div class=\"colab-df-container\">\n",
              "      <div>\n",
              "<style scoped>\n",
              "    .dataframe tbody tr th:only-of-type {\n",
              "        vertical-align: middle;\n",
              "    }\n",
              "\n",
              "    .dataframe tbody tr th {\n",
              "        vertical-align: top;\n",
              "    }\n",
              "\n",
              "    .dataframe thead th {\n",
              "        text-align: right;\n",
              "    }\n",
              "</style>\n",
              "<table border=\"1\" class=\"dataframe\">\n",
              "  <thead>\n",
              "    <tr style=\"text-align: right;\">\n",
              "      <th></th>\n",
              "      <th>rear_brakes_type</th>\n",
              "      <th>is_claim</th>\n",
              "    </tr>\n",
              "  </thead>\n",
              "  <tbody>\n",
              "    <tr>\n",
              "      <th>0</th>\n",
              "      <td>Disc</td>\n",
              "      <td>0</td>\n",
              "    </tr>\n",
              "    <tr>\n",
              "      <th>1</th>\n",
              "      <td>Disc</td>\n",
              "      <td>0</td>\n",
              "    </tr>\n",
              "    <tr>\n",
              "      <th>2</th>\n",
              "      <td>Drum</td>\n",
              "      <td>0</td>\n",
              "    </tr>\n",
              "    <tr>\n",
              "      <th>3</th>\n",
              "      <td>Disc</td>\n",
              "      <td>0</td>\n",
              "    </tr>\n",
              "    <tr>\n",
              "      <th>4</th>\n",
              "      <td>Drum</td>\n",
              "      <td>1</td>\n",
              "    </tr>\n",
              "    <tr>\n",
              "      <th>...</th>\n",
              "      <td>...</td>\n",
              "      <td>...</td>\n",
              "    </tr>\n",
              "    <tr>\n",
              "      <th>4995</th>\n",
              "      <td>Drum</td>\n",
              "      <td>0</td>\n",
              "    </tr>\n",
              "    <tr>\n",
              "      <th>4996</th>\n",
              "      <td>Drum</td>\n",
              "      <td>1</td>\n",
              "    </tr>\n",
              "    <tr>\n",
              "      <th>4997</th>\n",
              "      <td>Drum</td>\n",
              "      <td>1</td>\n",
              "    </tr>\n",
              "    <tr>\n",
              "      <th>4998</th>\n",
              "      <td>Drum</td>\n",
              "      <td>0</td>\n",
              "    </tr>\n",
              "    <tr>\n",
              "      <th>4999</th>\n",
              "      <td>Disc</td>\n",
              "      <td>0</td>\n",
              "    </tr>\n",
              "  </tbody>\n",
              "</table>\n",
              "<p>5000 rows × 2 columns</p>\n",
              "</div>\n",
              "      <button class=\"colab-df-convert\" onclick=\"convertToInteractive('df-2f4691f6-8d82-41da-ac0b-2f15701349e0')\"\n",
              "              title=\"Convert this dataframe to an interactive table.\"\n",
              "              style=\"display:none;\">\n",
              "        \n",
              "  <svg xmlns=\"http://www.w3.org/2000/svg\" height=\"24px\"viewBox=\"0 0 24 24\"\n",
              "       width=\"24px\">\n",
              "    <path d=\"M0 0h24v24H0V0z\" fill=\"none\"/>\n",
              "    <path d=\"M18.56 5.44l.94 2.06.94-2.06 2.06-.94-2.06-.94-.94-2.06-.94 2.06-2.06.94zm-11 1L8.5 8.5l.94-2.06 2.06-.94-2.06-.94L8.5 2.5l-.94 2.06-2.06.94zm10 10l.94 2.06.94-2.06 2.06-.94-2.06-.94-.94-2.06-.94 2.06-2.06.94z\"/><path d=\"M17.41 7.96l-1.37-1.37c-.4-.4-.92-.59-1.43-.59-.52 0-1.04.2-1.43.59L10.3 9.45l-7.72 7.72c-.78.78-.78 2.05 0 2.83L4 21.41c.39.39.9.59 1.41.59.51 0 1.02-.2 1.41-.59l7.78-7.78 2.81-2.81c.8-.78.8-2.07 0-2.86zM5.41 20L4 18.59l7.72-7.72 1.47 1.35L5.41 20z\"/>\n",
              "  </svg>\n",
              "      </button>\n",
              "      \n",
              "  <style>\n",
              "    .colab-df-container {\n",
              "      display:flex;\n",
              "      flex-wrap:wrap;\n",
              "      gap: 12px;\n",
              "    }\n",
              "\n",
              "    .colab-df-convert {\n",
              "      background-color: #E8F0FE;\n",
              "      border: none;\n",
              "      border-radius: 50%;\n",
              "      cursor: pointer;\n",
              "      display: none;\n",
              "      fill: #1967D2;\n",
              "      height: 32px;\n",
              "      padding: 0 0 0 0;\n",
              "      width: 32px;\n",
              "    }\n",
              "\n",
              "    .colab-df-convert:hover {\n",
              "      background-color: #E2EBFA;\n",
              "      box-shadow: 0px 1px 2px rgba(60, 64, 67, 0.3), 0px 1px 3px 1px rgba(60, 64, 67, 0.15);\n",
              "      fill: #174EA6;\n",
              "    }\n",
              "\n",
              "    [theme=dark] .colab-df-convert {\n",
              "      background-color: #3B4455;\n",
              "      fill: #D2E3FC;\n",
              "    }\n",
              "\n",
              "    [theme=dark] .colab-df-convert:hover {\n",
              "      background-color: #434B5C;\n",
              "      box-shadow: 0px 1px 3px 1px rgba(0, 0, 0, 0.15);\n",
              "      filter: drop-shadow(0px 1px 2px rgba(0, 0, 0, 0.3));\n",
              "      fill: #FFFFFF;\n",
              "    }\n",
              "  </style>\n",
              "\n",
              "      <script>\n",
              "        const buttonEl =\n",
              "          document.querySelector('#df-2f4691f6-8d82-41da-ac0b-2f15701349e0 button.colab-df-convert');\n",
              "        buttonEl.style.display =\n",
              "          google.colab.kernel.accessAllowed ? 'block' : 'none';\n",
              "\n",
              "        async function convertToInteractive(key) {\n",
              "          const element = document.querySelector('#df-2f4691f6-8d82-41da-ac0b-2f15701349e0');\n",
              "          const dataTable =\n",
              "            await google.colab.kernel.invokeFunction('convertToInteractive',\n",
              "                                                     [key], {});\n",
              "          if (!dataTable) return;\n",
              "\n",
              "          const docLinkHtml = 'Like what you see? Visit the ' +\n",
              "            '<a target=\"_blank\" href=https://colab.research.google.com/notebooks/data_table.ipynb>data table notebook</a>'\n",
              "            + ' to learn more about interactive tables.';\n",
              "          element.innerHTML = '';\n",
              "          dataTable['output_type'] = 'display_data';\n",
              "          await google.colab.output.renderOutput(dataTable, element);\n",
              "          const docLink = document.createElement('div');\n",
              "          docLink.innerHTML = docLinkHtml;\n",
              "          element.appendChild(docLink);\n",
              "        }\n",
              "      </script>\n",
              "    </div>\n",
              "  </div>\n",
              "  "
            ]
          },
          "metadata": {},
          "execution_count": 187
        }
      ]
    },
    {
      "cell_type": "code",
      "source": [
        "j.groupby('rear_brakes_type').sum()"
      ],
      "metadata": {
        "colab": {
          "base_uri": "https://localhost:8080/",
          "height": 143
        },
        "id": "9CQ4fZIjrOK6",
        "outputId": "e6602cbf-98e7-4198-c45a-f3decb3c9b6f"
      },
      "execution_count": null,
      "outputs": [
        {
          "output_type": "execute_result",
          "data": {
            "text/plain": [
              "                  is_claim\n",
              "rear_brakes_type          \n",
              "Disc                   602\n",
              "Drum                  1898"
            ],
            "text/html": [
              "\n",
              "  <div id=\"df-07ebc9e8-63f9-4026-b982-be5ae1ba669f\">\n",
              "    <div class=\"colab-df-container\">\n",
              "      <div>\n",
              "<style scoped>\n",
              "    .dataframe tbody tr th:only-of-type {\n",
              "        vertical-align: middle;\n",
              "    }\n",
              "\n",
              "    .dataframe tbody tr th {\n",
              "        vertical-align: top;\n",
              "    }\n",
              "\n",
              "    .dataframe thead th {\n",
              "        text-align: right;\n",
              "    }\n",
              "</style>\n",
              "<table border=\"1\" class=\"dataframe\">\n",
              "  <thead>\n",
              "    <tr style=\"text-align: right;\">\n",
              "      <th></th>\n",
              "      <th>is_claim</th>\n",
              "    </tr>\n",
              "    <tr>\n",
              "      <th>rear_brakes_type</th>\n",
              "      <th></th>\n",
              "    </tr>\n",
              "  </thead>\n",
              "  <tbody>\n",
              "    <tr>\n",
              "      <th>Disc</th>\n",
              "      <td>602</td>\n",
              "    </tr>\n",
              "    <tr>\n",
              "      <th>Drum</th>\n",
              "      <td>1898</td>\n",
              "    </tr>\n",
              "  </tbody>\n",
              "</table>\n",
              "</div>\n",
              "      <button class=\"colab-df-convert\" onclick=\"convertToInteractive('df-07ebc9e8-63f9-4026-b982-be5ae1ba669f')\"\n",
              "              title=\"Convert this dataframe to an interactive table.\"\n",
              "              style=\"display:none;\">\n",
              "        \n",
              "  <svg xmlns=\"http://www.w3.org/2000/svg\" height=\"24px\"viewBox=\"0 0 24 24\"\n",
              "       width=\"24px\">\n",
              "    <path d=\"M0 0h24v24H0V0z\" fill=\"none\"/>\n",
              "    <path d=\"M18.56 5.44l.94 2.06.94-2.06 2.06-.94-2.06-.94-.94-2.06-.94 2.06-2.06.94zm-11 1L8.5 8.5l.94-2.06 2.06-.94-2.06-.94L8.5 2.5l-.94 2.06-2.06.94zm10 10l.94 2.06.94-2.06 2.06-.94-2.06-.94-.94-2.06-.94 2.06-2.06.94z\"/><path d=\"M17.41 7.96l-1.37-1.37c-.4-.4-.92-.59-1.43-.59-.52 0-1.04.2-1.43.59L10.3 9.45l-7.72 7.72c-.78.78-.78 2.05 0 2.83L4 21.41c.39.39.9.59 1.41.59.51 0 1.02-.2 1.41-.59l7.78-7.78 2.81-2.81c.8-.78.8-2.07 0-2.86zM5.41 20L4 18.59l7.72-7.72 1.47 1.35L5.41 20z\"/>\n",
              "  </svg>\n",
              "      </button>\n",
              "      \n",
              "  <style>\n",
              "    .colab-df-container {\n",
              "      display:flex;\n",
              "      flex-wrap:wrap;\n",
              "      gap: 12px;\n",
              "    }\n",
              "\n",
              "    .colab-df-convert {\n",
              "      background-color: #E8F0FE;\n",
              "      border: none;\n",
              "      border-radius: 50%;\n",
              "      cursor: pointer;\n",
              "      display: none;\n",
              "      fill: #1967D2;\n",
              "      height: 32px;\n",
              "      padding: 0 0 0 0;\n",
              "      width: 32px;\n",
              "    }\n",
              "\n",
              "    .colab-df-convert:hover {\n",
              "      background-color: #E2EBFA;\n",
              "      box-shadow: 0px 1px 2px rgba(60, 64, 67, 0.3), 0px 1px 3px 1px rgba(60, 64, 67, 0.15);\n",
              "      fill: #174EA6;\n",
              "    }\n",
              "\n",
              "    [theme=dark] .colab-df-convert {\n",
              "      background-color: #3B4455;\n",
              "      fill: #D2E3FC;\n",
              "    }\n",
              "\n",
              "    [theme=dark] .colab-df-convert:hover {\n",
              "      background-color: #434B5C;\n",
              "      box-shadow: 0px 1px 3px 1px rgba(0, 0, 0, 0.15);\n",
              "      filter: drop-shadow(0px 1px 2px rgba(0, 0, 0, 0.3));\n",
              "      fill: #FFFFFF;\n",
              "    }\n",
              "  </style>\n",
              "\n",
              "      <script>\n",
              "        const buttonEl =\n",
              "          document.querySelector('#df-07ebc9e8-63f9-4026-b982-be5ae1ba669f button.colab-df-convert');\n",
              "        buttonEl.style.display =\n",
              "          google.colab.kernel.accessAllowed ? 'block' : 'none';\n",
              "\n",
              "        async function convertToInteractive(key) {\n",
              "          const element = document.querySelector('#df-07ebc9e8-63f9-4026-b982-be5ae1ba669f');\n",
              "          const dataTable =\n",
              "            await google.colab.kernel.invokeFunction('convertToInteractive',\n",
              "                                                     [key], {});\n",
              "          if (!dataTable) return;\n",
              "\n",
              "          const docLinkHtml = 'Like what you see? Visit the ' +\n",
              "            '<a target=\"_blank\" href=https://colab.research.google.com/notebooks/data_table.ipynb>data table notebook</a>'\n",
              "            + ' to learn more about interactive tables.';\n",
              "          element.innerHTML = '';\n",
              "          dataTable['output_type'] = 'display_data';\n",
              "          await google.colab.output.renderOutput(dataTable, element);\n",
              "          const docLink = document.createElement('div');\n",
              "          docLink.innerHTML = docLinkHtml;\n",
              "          element.appendChild(docLink);\n",
              "        }\n",
              "      </script>\n",
              "    </div>\n",
              "  </div>\n",
              "  "
            ]
          },
          "metadata": {},
          "execution_count": 191
        }
      ]
    },
    {
      "cell_type": "code",
      "source": [
        "j.groupby('rear_brakes_type').count()"
      ],
      "metadata": {
        "colab": {
          "base_uri": "https://localhost:8080/",
          "height": 143
        },
        "id": "qrs2dNdxrYjG",
        "outputId": "5fca3f76-854b-4d85-ced4-ad253d5573ab"
      },
      "execution_count": null,
      "outputs": [
        {
          "output_type": "execute_result",
          "data": {
            "text/plain": [
              "                  is_claim\n",
              "rear_brakes_type          \n",
              "Disc                  1173\n",
              "Drum                  3827"
            ],
            "text/html": [
              "\n",
              "  <div id=\"df-b8d17140-367f-469c-a413-25df0e02f911\">\n",
              "    <div class=\"colab-df-container\">\n",
              "      <div>\n",
              "<style scoped>\n",
              "    .dataframe tbody tr th:only-of-type {\n",
              "        vertical-align: middle;\n",
              "    }\n",
              "\n",
              "    .dataframe tbody tr th {\n",
              "        vertical-align: top;\n",
              "    }\n",
              "\n",
              "    .dataframe thead th {\n",
              "        text-align: right;\n",
              "    }\n",
              "</style>\n",
              "<table border=\"1\" class=\"dataframe\">\n",
              "  <thead>\n",
              "    <tr style=\"text-align: right;\">\n",
              "      <th></th>\n",
              "      <th>is_claim</th>\n",
              "    </tr>\n",
              "    <tr>\n",
              "      <th>rear_brakes_type</th>\n",
              "      <th></th>\n",
              "    </tr>\n",
              "  </thead>\n",
              "  <tbody>\n",
              "    <tr>\n",
              "      <th>Disc</th>\n",
              "      <td>1173</td>\n",
              "    </tr>\n",
              "    <tr>\n",
              "      <th>Drum</th>\n",
              "      <td>3827</td>\n",
              "    </tr>\n",
              "  </tbody>\n",
              "</table>\n",
              "</div>\n",
              "      <button class=\"colab-df-convert\" onclick=\"convertToInteractive('df-b8d17140-367f-469c-a413-25df0e02f911')\"\n",
              "              title=\"Convert this dataframe to an interactive table.\"\n",
              "              style=\"display:none;\">\n",
              "        \n",
              "  <svg xmlns=\"http://www.w3.org/2000/svg\" height=\"24px\"viewBox=\"0 0 24 24\"\n",
              "       width=\"24px\">\n",
              "    <path d=\"M0 0h24v24H0V0z\" fill=\"none\"/>\n",
              "    <path d=\"M18.56 5.44l.94 2.06.94-2.06 2.06-.94-2.06-.94-.94-2.06-.94 2.06-2.06.94zm-11 1L8.5 8.5l.94-2.06 2.06-.94-2.06-.94L8.5 2.5l-.94 2.06-2.06.94zm10 10l.94 2.06.94-2.06 2.06-.94-2.06-.94-.94-2.06-.94 2.06-2.06.94z\"/><path d=\"M17.41 7.96l-1.37-1.37c-.4-.4-.92-.59-1.43-.59-.52 0-1.04.2-1.43.59L10.3 9.45l-7.72 7.72c-.78.78-.78 2.05 0 2.83L4 21.41c.39.39.9.59 1.41.59.51 0 1.02-.2 1.41-.59l7.78-7.78 2.81-2.81c.8-.78.8-2.07 0-2.86zM5.41 20L4 18.59l7.72-7.72 1.47 1.35L5.41 20z\"/>\n",
              "  </svg>\n",
              "      </button>\n",
              "      \n",
              "  <style>\n",
              "    .colab-df-container {\n",
              "      display:flex;\n",
              "      flex-wrap:wrap;\n",
              "      gap: 12px;\n",
              "    }\n",
              "\n",
              "    .colab-df-convert {\n",
              "      background-color: #E8F0FE;\n",
              "      border: none;\n",
              "      border-radius: 50%;\n",
              "      cursor: pointer;\n",
              "      display: none;\n",
              "      fill: #1967D2;\n",
              "      height: 32px;\n",
              "      padding: 0 0 0 0;\n",
              "      width: 32px;\n",
              "    }\n",
              "\n",
              "    .colab-df-convert:hover {\n",
              "      background-color: #E2EBFA;\n",
              "      box-shadow: 0px 1px 2px rgba(60, 64, 67, 0.3), 0px 1px 3px 1px rgba(60, 64, 67, 0.15);\n",
              "      fill: #174EA6;\n",
              "    }\n",
              "\n",
              "    [theme=dark] .colab-df-convert {\n",
              "      background-color: #3B4455;\n",
              "      fill: #D2E3FC;\n",
              "    }\n",
              "\n",
              "    [theme=dark] .colab-df-convert:hover {\n",
              "      background-color: #434B5C;\n",
              "      box-shadow: 0px 1px 3px 1px rgba(0, 0, 0, 0.15);\n",
              "      filter: drop-shadow(0px 1px 2px rgba(0, 0, 0, 0.3));\n",
              "      fill: #FFFFFF;\n",
              "    }\n",
              "  </style>\n",
              "\n",
              "      <script>\n",
              "        const buttonEl =\n",
              "          document.querySelector('#df-b8d17140-367f-469c-a413-25df0e02f911 button.colab-df-convert');\n",
              "        buttonEl.style.display =\n",
              "          google.colab.kernel.accessAllowed ? 'block' : 'none';\n",
              "\n",
              "        async function convertToInteractive(key) {\n",
              "          const element = document.querySelector('#df-b8d17140-367f-469c-a413-25df0e02f911');\n",
              "          const dataTable =\n",
              "            await google.colab.kernel.invokeFunction('convertToInteractive',\n",
              "                                                     [key], {});\n",
              "          if (!dataTable) return;\n",
              "\n",
              "          const docLinkHtml = 'Like what you see? Visit the ' +\n",
              "            '<a target=\"_blank\" href=https://colab.research.google.com/notebooks/data_table.ipynb>data table notebook</a>'\n",
              "            + ' to learn more about interactive tables.';\n",
              "          element.innerHTML = '';\n",
              "          dataTable['output_type'] = 'display_data';\n",
              "          await google.colab.output.renderOutput(dataTable, element);\n",
              "          const docLink = document.createElement('div');\n",
              "          docLink.innerHTML = docLinkHtml;\n",
              "          element.appendChild(docLink);\n",
              "        }\n",
              "      </script>\n",
              "    </div>\n",
              "  </div>\n",
              "  "
            ]
          },
          "metadata": {},
          "execution_count": 192
        }
      ]
    },
    {
      "cell_type": "code",
      "source": [
        "from plotly.offline import plot, iplot, init_notebook_mode\n",
        "import plotly.graph_objs as go\n",
        "from plotly.subplots import make_subplots\n",
        "import plotly.express as px\n",
        "from statsmodels.formula.api import ols\n",
        "import plotly.graph_objs as gobj"
      ],
      "metadata": {
        "id": "PcPPiNg3pUYl"
      },
      "execution_count": null,
      "outputs": []
    },
    {
      "cell_type": "code",
      "source": [
        "Drum = j[j[\"rear_brakes_type\"]=='Drum']\n",
        "Disc = j[j[\"rear_brakes_type\"]=='Disc']\n",
        "\n",
        "Drum_0 = Drum[j[\"is_claim\"]==0]\n",
        "Drum_1 = Drum[j[\"is_claim\"]==1]\n",
        "Disc_0 = Disc[j[\"is_claim\"]==0]\n",
        "Disc_1 = Disc[j[\"is_claim\"]==1]\n",
        "\n",
        "labels = ['Drum_0','Drum_1', \"Disc_0\", \"Disc_1\"]\n",
        "values = [len(Drum[j[\"is_claim\"]==0]),len(Drum[j[\"is_claim\"]==1]),\n",
        "         len(Disc[j[\"is_claim\"]==0]),len(Disc[j[\"is_claim\"]==1])]\n",
        "fig = go.Figure(data=[go.Pie(labels=labels, values=values, hole=.4)])\n",
        "\n",
        "#plt.savefig('rear_brake.png', dpi=300)\n",
        "#files.download('rear_brake.png')\n",
        "\n",
        "fig.show()"
      ],
      "metadata": {
        "colab": {
          "base_uri": "https://localhost:8080/",
          "height": 976
        },
        "id": "Ghkx4hDqngu6",
        "outputId": "50baaa94-7c57-40c4-873e-76339f655824"
      },
      "execution_count": null,
      "outputs": [
        {
          "output_type": "stream",
          "name": "stderr",
          "text": [
            "<ipython-input-204-4d265559c7df>:4: UserWarning:\n",
            "\n",
            "Boolean Series key will be reindexed to match DataFrame index.\n",
            "\n",
            "<ipython-input-204-4d265559c7df>:5: UserWarning:\n",
            "\n",
            "Boolean Series key will be reindexed to match DataFrame index.\n",
            "\n",
            "<ipython-input-204-4d265559c7df>:6: UserWarning:\n",
            "\n",
            "Boolean Series key will be reindexed to match DataFrame index.\n",
            "\n",
            "<ipython-input-204-4d265559c7df>:7: UserWarning:\n",
            "\n",
            "Boolean Series key will be reindexed to match DataFrame index.\n",
            "\n",
            "<ipython-input-204-4d265559c7df>:10: UserWarning:\n",
            "\n",
            "Boolean Series key will be reindexed to match DataFrame index.\n",
            "\n",
            "<ipython-input-204-4d265559c7df>:11: UserWarning:\n",
            "\n",
            "Boolean Series key will be reindexed to match DataFrame index.\n",
            "\n"
          ]
        },
        {
          "output_type": "display_data",
          "data": {
            "text/plain": [
              "<IPython.core.display.Javascript object>"
            ],
            "application/javascript": [
              "\n",
              "    async function download(id, filename, size) {\n",
              "      if (!google.colab.kernel.accessAllowed) {\n",
              "        return;\n",
              "      }\n",
              "      const div = document.createElement('div');\n",
              "      const label = document.createElement('label');\n",
              "      label.textContent = `Downloading \"${filename}\": `;\n",
              "      div.appendChild(label);\n",
              "      const progress = document.createElement('progress');\n",
              "      progress.max = size;\n",
              "      div.appendChild(progress);\n",
              "      document.body.appendChild(div);\n",
              "\n",
              "      const buffers = [];\n",
              "      let downloaded = 0;\n",
              "\n",
              "      const channel = await google.colab.kernel.comms.open(id);\n",
              "      // Send a message to notify the kernel that we're ready.\n",
              "      channel.send({})\n",
              "\n",
              "      for await (const message of channel.messages) {\n",
              "        // Send a message to notify the kernel that we're ready.\n",
              "        channel.send({})\n",
              "        if (message.buffers) {\n",
              "          for (const buffer of message.buffers) {\n",
              "            buffers.push(buffer);\n",
              "            downloaded += buffer.byteLength;\n",
              "            progress.value = downloaded;\n",
              "          }\n",
              "        }\n",
              "      }\n",
              "      const blob = new Blob(buffers, {type: 'application/binary'});\n",
              "      const a = document.createElement('a');\n",
              "      a.href = window.URL.createObjectURL(blob);\n",
              "      a.download = filename;\n",
              "      div.appendChild(a);\n",
              "      a.click();\n",
              "      div.remove();\n",
              "    }\n",
              "  "
            ]
          },
          "metadata": {}
        },
        {
          "output_type": "display_data",
          "data": {
            "text/plain": [
              "<IPython.core.display.Javascript object>"
            ],
            "application/javascript": [
              "download(\"download_2bd7678f-e54d-4617-80e3-7cea5f246bb6\", \"rear_brake.png\", 14190)"
            ]
          },
          "metadata": {}
        },
        {
          "output_type": "display_data",
          "data": {
            "text/html": [
              "<html>\n",
              "<head><meta charset=\"utf-8\" /></head>\n",
              "<body>\n",
              "    <div>            <script src=\"https://cdnjs.cloudflare.com/ajax/libs/mathjax/2.7.5/MathJax.js?config=TeX-AMS-MML_SVG\"></script><script type=\"text/javascript\">if (window.MathJax && window.MathJax.Hub && window.MathJax.Hub.Config) {window.MathJax.Hub.Config({SVG: {font: \"STIX-Web\"}});}</script>                <script type=\"text/javascript\">window.PlotlyConfig = {MathJaxConfig: 'local'};</script>\n",
              "        <script src=\"https://cdn.plot.ly/plotly-2.18.2.min.js\"></script>                <div id=\"56666b61-e308-4c6f-aa3e-fb24d910f075\" class=\"plotly-graph-div\" style=\"height:525px; width:100%;\"></div>            <script type=\"text/javascript\">                                    window.PLOTLYENV=window.PLOTLYENV || {};                                    if (document.getElementById(\"56666b61-e308-4c6f-aa3e-fb24d910f075\")) {                    Plotly.newPlot(                        \"56666b61-e308-4c6f-aa3e-fb24d910f075\",                        [{\"hole\":0.4,\"labels\":[\"Drum_0\",\"Drum_1\",\"Disc_0\",\"Disc_1\"],\"values\":[1929,1898,571,602],\"type\":\"pie\"}],                        {\"template\":{\"data\":{\"histogram2dcontour\":[{\"type\":\"histogram2dcontour\",\"colorbar\":{\"outlinewidth\":0,\"ticks\":\"\"},\"colorscale\":[[0.0,\"#0d0887\"],[0.1111111111111111,\"#46039f\"],[0.2222222222222222,\"#7201a8\"],[0.3333333333333333,\"#9c179e\"],[0.4444444444444444,\"#bd3786\"],[0.5555555555555556,\"#d8576b\"],[0.6666666666666666,\"#ed7953\"],[0.7777777777777778,\"#fb9f3a\"],[0.8888888888888888,\"#fdca26\"],[1.0,\"#f0f921\"]]}],\"choropleth\":[{\"type\":\"choropleth\",\"colorbar\":{\"outlinewidth\":0,\"ticks\":\"\"}}],\"histogram2d\":[{\"type\":\"histogram2d\",\"colorbar\":{\"outlinewidth\":0,\"ticks\":\"\"},\"colorscale\":[[0.0,\"#0d0887\"],[0.1111111111111111,\"#46039f\"],[0.2222222222222222,\"#7201a8\"],[0.3333333333333333,\"#9c179e\"],[0.4444444444444444,\"#bd3786\"],[0.5555555555555556,\"#d8576b\"],[0.6666666666666666,\"#ed7953\"],[0.7777777777777778,\"#fb9f3a\"],[0.8888888888888888,\"#fdca26\"],[1.0,\"#f0f921\"]]}],\"heatmap\":[{\"type\":\"heatmap\",\"colorbar\":{\"outlinewidth\":0,\"ticks\":\"\"},\"colorscale\":[[0.0,\"#0d0887\"],[0.1111111111111111,\"#46039f\"],[0.2222222222222222,\"#7201a8\"],[0.3333333333333333,\"#9c179e\"],[0.4444444444444444,\"#bd3786\"],[0.5555555555555556,\"#d8576b\"],[0.6666666666666666,\"#ed7953\"],[0.7777777777777778,\"#fb9f3a\"],[0.8888888888888888,\"#fdca26\"],[1.0,\"#f0f921\"]]}],\"heatmapgl\":[{\"type\":\"heatmapgl\",\"colorbar\":{\"outlinewidth\":0,\"ticks\":\"\"},\"colorscale\":[[0.0,\"#0d0887\"],[0.1111111111111111,\"#46039f\"],[0.2222222222222222,\"#7201a8\"],[0.3333333333333333,\"#9c179e\"],[0.4444444444444444,\"#bd3786\"],[0.5555555555555556,\"#d8576b\"],[0.6666666666666666,\"#ed7953\"],[0.7777777777777778,\"#fb9f3a\"],[0.8888888888888888,\"#fdca26\"],[1.0,\"#f0f921\"]]}],\"contourcarpet\":[{\"type\":\"contourcarpet\",\"colorbar\":{\"outlinewidth\":0,\"ticks\":\"\"}}],\"contour\":[{\"type\":\"contour\",\"colorbar\":{\"outlinewidth\":0,\"ticks\":\"\"},\"colorscale\":[[0.0,\"#0d0887\"],[0.1111111111111111,\"#46039f\"],[0.2222222222222222,\"#7201a8\"],[0.3333333333333333,\"#9c179e\"],[0.4444444444444444,\"#bd3786\"],[0.5555555555555556,\"#d8576b\"],[0.6666666666666666,\"#ed7953\"],[0.7777777777777778,\"#fb9f3a\"],[0.8888888888888888,\"#fdca26\"],[1.0,\"#f0f921\"]]}],\"surface\":[{\"type\":\"surface\",\"colorbar\":{\"outlinewidth\":0,\"ticks\":\"\"},\"colorscale\":[[0.0,\"#0d0887\"],[0.1111111111111111,\"#46039f\"],[0.2222222222222222,\"#7201a8\"],[0.3333333333333333,\"#9c179e\"],[0.4444444444444444,\"#bd3786\"],[0.5555555555555556,\"#d8576b\"],[0.6666666666666666,\"#ed7953\"],[0.7777777777777778,\"#fb9f3a\"],[0.8888888888888888,\"#fdca26\"],[1.0,\"#f0f921\"]]}],\"mesh3d\":[{\"type\":\"mesh3d\",\"colorbar\":{\"outlinewidth\":0,\"ticks\":\"\"}}],\"scatter\":[{\"fillpattern\":{\"fillmode\":\"overlay\",\"size\":10,\"solidity\":0.2},\"type\":\"scatter\"}],\"parcoords\":[{\"type\":\"parcoords\",\"line\":{\"colorbar\":{\"outlinewidth\":0,\"ticks\":\"\"}}}],\"scatterpolargl\":[{\"type\":\"scatterpolargl\",\"marker\":{\"colorbar\":{\"outlinewidth\":0,\"ticks\":\"\"}}}],\"bar\":[{\"error_x\":{\"color\":\"#2a3f5f\"},\"error_y\":{\"color\":\"#2a3f5f\"},\"marker\":{\"line\":{\"color\":\"#E5ECF6\",\"width\":0.5},\"pattern\":{\"fillmode\":\"overlay\",\"size\":10,\"solidity\":0.2}},\"type\":\"bar\"}],\"scattergeo\":[{\"type\":\"scattergeo\",\"marker\":{\"colorbar\":{\"outlinewidth\":0,\"ticks\":\"\"}}}],\"scatterpolar\":[{\"type\":\"scatterpolar\",\"marker\":{\"colorbar\":{\"outlinewidth\":0,\"ticks\":\"\"}}}],\"histogram\":[{\"marker\":{\"pattern\":{\"fillmode\":\"overlay\",\"size\":10,\"solidity\":0.2}},\"type\":\"histogram\"}],\"scattergl\":[{\"type\":\"scattergl\",\"marker\":{\"colorbar\":{\"outlinewidth\":0,\"ticks\":\"\"}}}],\"scatter3d\":[{\"type\":\"scatter3d\",\"line\":{\"colorbar\":{\"outlinewidth\":0,\"ticks\":\"\"}},\"marker\":{\"colorbar\":{\"outlinewidth\":0,\"ticks\":\"\"}}}],\"scattermapbox\":[{\"type\":\"scattermapbox\",\"marker\":{\"colorbar\":{\"outlinewidth\":0,\"ticks\":\"\"}}}],\"scatterternary\":[{\"type\":\"scatterternary\",\"marker\":{\"colorbar\":{\"outlinewidth\":0,\"ticks\":\"\"}}}],\"scattercarpet\":[{\"type\":\"scattercarpet\",\"marker\":{\"colorbar\":{\"outlinewidth\":0,\"ticks\":\"\"}}}],\"carpet\":[{\"aaxis\":{\"endlinecolor\":\"#2a3f5f\",\"gridcolor\":\"white\",\"linecolor\":\"white\",\"minorgridcolor\":\"white\",\"startlinecolor\":\"#2a3f5f\"},\"baxis\":{\"endlinecolor\":\"#2a3f5f\",\"gridcolor\":\"white\",\"linecolor\":\"white\",\"minorgridcolor\":\"white\",\"startlinecolor\":\"#2a3f5f\"},\"type\":\"carpet\"}],\"table\":[{\"cells\":{\"fill\":{\"color\":\"#EBF0F8\"},\"line\":{\"color\":\"white\"}},\"header\":{\"fill\":{\"color\":\"#C8D4E3\"},\"line\":{\"color\":\"white\"}},\"type\":\"table\"}],\"barpolar\":[{\"marker\":{\"line\":{\"color\":\"#E5ECF6\",\"width\":0.5},\"pattern\":{\"fillmode\":\"overlay\",\"size\":10,\"solidity\":0.2}},\"type\":\"barpolar\"}],\"pie\":[{\"automargin\":true,\"type\":\"pie\"}]},\"layout\":{\"autotypenumbers\":\"strict\",\"colorway\":[\"#636efa\",\"#EF553B\",\"#00cc96\",\"#ab63fa\",\"#FFA15A\",\"#19d3f3\",\"#FF6692\",\"#B6E880\",\"#FF97FF\",\"#FECB52\"],\"font\":{\"color\":\"#2a3f5f\"},\"hovermode\":\"closest\",\"hoverlabel\":{\"align\":\"left\"},\"paper_bgcolor\":\"white\",\"plot_bgcolor\":\"#E5ECF6\",\"polar\":{\"bgcolor\":\"#E5ECF6\",\"angularaxis\":{\"gridcolor\":\"white\",\"linecolor\":\"white\",\"ticks\":\"\"},\"radialaxis\":{\"gridcolor\":\"white\",\"linecolor\":\"white\",\"ticks\":\"\"}},\"ternary\":{\"bgcolor\":\"#E5ECF6\",\"aaxis\":{\"gridcolor\":\"white\",\"linecolor\":\"white\",\"ticks\":\"\"},\"baxis\":{\"gridcolor\":\"white\",\"linecolor\":\"white\",\"ticks\":\"\"},\"caxis\":{\"gridcolor\":\"white\",\"linecolor\":\"white\",\"ticks\":\"\"}},\"coloraxis\":{\"colorbar\":{\"outlinewidth\":0,\"ticks\":\"\"}},\"colorscale\":{\"sequential\":[[0.0,\"#0d0887\"],[0.1111111111111111,\"#46039f\"],[0.2222222222222222,\"#7201a8\"],[0.3333333333333333,\"#9c179e\"],[0.4444444444444444,\"#bd3786\"],[0.5555555555555556,\"#d8576b\"],[0.6666666666666666,\"#ed7953\"],[0.7777777777777778,\"#fb9f3a\"],[0.8888888888888888,\"#fdca26\"],[1.0,\"#f0f921\"]],\"sequentialminus\":[[0.0,\"#0d0887\"],[0.1111111111111111,\"#46039f\"],[0.2222222222222222,\"#7201a8\"],[0.3333333333333333,\"#9c179e\"],[0.4444444444444444,\"#bd3786\"],[0.5555555555555556,\"#d8576b\"],[0.6666666666666666,\"#ed7953\"],[0.7777777777777778,\"#fb9f3a\"],[0.8888888888888888,\"#fdca26\"],[1.0,\"#f0f921\"]],\"diverging\":[[0,\"#8e0152\"],[0.1,\"#c51b7d\"],[0.2,\"#de77ae\"],[0.3,\"#f1b6da\"],[0.4,\"#fde0ef\"],[0.5,\"#f7f7f7\"],[0.6,\"#e6f5d0\"],[0.7,\"#b8e186\"],[0.8,\"#7fbc41\"],[0.9,\"#4d9221\"],[1,\"#276419\"]]},\"xaxis\":{\"gridcolor\":\"white\",\"linecolor\":\"white\",\"ticks\":\"\",\"title\":{\"standoff\":15},\"zerolinecolor\":\"white\",\"automargin\":true,\"zerolinewidth\":2},\"yaxis\":{\"gridcolor\":\"white\",\"linecolor\":\"white\",\"ticks\":\"\",\"title\":{\"standoff\":15},\"zerolinecolor\":\"white\",\"automargin\":true,\"zerolinewidth\":2},\"scene\":{\"xaxis\":{\"backgroundcolor\":\"#E5ECF6\",\"gridcolor\":\"white\",\"linecolor\":\"white\",\"showbackground\":true,\"ticks\":\"\",\"zerolinecolor\":\"white\",\"gridwidth\":2},\"yaxis\":{\"backgroundcolor\":\"#E5ECF6\",\"gridcolor\":\"white\",\"linecolor\":\"white\",\"showbackground\":true,\"ticks\":\"\",\"zerolinecolor\":\"white\",\"gridwidth\":2},\"zaxis\":{\"backgroundcolor\":\"#E5ECF6\",\"gridcolor\":\"white\",\"linecolor\":\"white\",\"showbackground\":true,\"ticks\":\"\",\"zerolinecolor\":\"white\",\"gridwidth\":2}},\"shapedefaults\":{\"line\":{\"color\":\"#2a3f5f\"}},\"annotationdefaults\":{\"arrowcolor\":\"#2a3f5f\",\"arrowhead\":0,\"arrowwidth\":1},\"geo\":{\"bgcolor\":\"white\",\"landcolor\":\"#E5ECF6\",\"subunitcolor\":\"white\",\"showland\":true,\"showlakes\":true,\"lakecolor\":\"white\"},\"title\":{\"x\":0.05},\"mapbox\":{\"style\":\"light\"}}}},                        {\"responsive\": true}                    ).then(function(){\n",
              "                            \n",
              "var gd = document.getElementById('56666b61-e308-4c6f-aa3e-fb24d910f075');\n",
              "var x = new MutationObserver(function (mutations, observer) {{\n",
              "        var display = window.getComputedStyle(gd).display;\n",
              "        if (!display || display === 'none') {{\n",
              "            console.log([gd, 'removed!']);\n",
              "            Plotly.purge(gd);\n",
              "            observer.disconnect();\n",
              "        }}\n",
              "}});\n",
              "\n",
              "// Listen for the removal of the full notebook cells\n",
              "var notebookContainer = gd.closest('#notebook-container');\n",
              "if (notebookContainer) {{\n",
              "    x.observe(notebookContainer, {childList: true});\n",
              "}}\n",
              "\n",
              "// Listen for the clearing of the current output cell\n",
              "var outputEl = gd.closest('.output');\n",
              "if (outputEl) {{\n",
              "    x.observe(outputEl, {childList: true});\n",
              "}}\n",
              "\n",
              "                        })                };                            </script>        </div>\n",
              "</body>\n",
              "</html>"
            ]
          },
          "metadata": {}
        },
        {
          "output_type": "display_data",
          "data": {
            "text/plain": [
              "<Figure size 640x480 with 0 Axes>"
            ]
          },
          "metadata": {}
        }
      ]
    },
    {
      "cell_type": "code",
      "source": [],
      "metadata": {
        "id": "MyqRpW09AbeY"
      },
      "execution_count": null,
      "outputs": []
    },
    {
      "cell_type": "markdown",
      "source": [
        "### 5.5 Cylinder vs. Claim Cases"
      ],
      "metadata": {
        "id": "V-9kYC2i0F7x"
      }
    },
    {
      "cell_type": "code",
      "source": [
        "k = df.select('cylinder', 'is_claim').toPandas()\n",
        "k"
      ],
      "metadata": {
        "id": "j4rDIT6U-nze",
        "colab": {
          "base_uri": "https://localhost:8080/",
          "height": 423
        },
        "outputId": "18c3ba7b-01dd-4bee-b092-30cd39294011"
      },
      "execution_count": null,
      "outputs": [
        {
          "output_type": "execute_result",
          "data": {
            "text/plain": [
              "      cylinder  is_claim\n",
              "0            4         0\n",
              "1            4         0\n",
              "2            4         0\n",
              "3            4         0\n",
              "4            3         1\n",
              "...        ...       ...\n",
              "4995         4         0\n",
              "4996         3         1\n",
              "4997         3         1\n",
              "4998         4         0\n",
              "4999         4         0\n",
              "\n",
              "[5000 rows x 2 columns]"
            ],
            "text/html": [
              "\n",
              "  <div id=\"df-6a6e8822-e6f0-4a2f-baaa-5dc21a322548\">\n",
              "    <div class=\"colab-df-container\">\n",
              "      <div>\n",
              "<style scoped>\n",
              "    .dataframe tbody tr th:only-of-type {\n",
              "        vertical-align: middle;\n",
              "    }\n",
              "\n",
              "    .dataframe tbody tr th {\n",
              "        vertical-align: top;\n",
              "    }\n",
              "\n",
              "    .dataframe thead th {\n",
              "        text-align: right;\n",
              "    }\n",
              "</style>\n",
              "<table border=\"1\" class=\"dataframe\">\n",
              "  <thead>\n",
              "    <tr style=\"text-align: right;\">\n",
              "      <th></th>\n",
              "      <th>cylinder</th>\n",
              "      <th>is_claim</th>\n",
              "    </tr>\n",
              "  </thead>\n",
              "  <tbody>\n",
              "    <tr>\n",
              "      <th>0</th>\n",
              "      <td>4</td>\n",
              "      <td>0</td>\n",
              "    </tr>\n",
              "    <tr>\n",
              "      <th>1</th>\n",
              "      <td>4</td>\n",
              "      <td>0</td>\n",
              "    </tr>\n",
              "    <tr>\n",
              "      <th>2</th>\n",
              "      <td>4</td>\n",
              "      <td>0</td>\n",
              "    </tr>\n",
              "    <tr>\n",
              "      <th>3</th>\n",
              "      <td>4</td>\n",
              "      <td>0</td>\n",
              "    </tr>\n",
              "    <tr>\n",
              "      <th>4</th>\n",
              "      <td>3</td>\n",
              "      <td>1</td>\n",
              "    </tr>\n",
              "    <tr>\n",
              "      <th>...</th>\n",
              "      <td>...</td>\n",
              "      <td>...</td>\n",
              "    </tr>\n",
              "    <tr>\n",
              "      <th>4995</th>\n",
              "      <td>4</td>\n",
              "      <td>0</td>\n",
              "    </tr>\n",
              "    <tr>\n",
              "      <th>4996</th>\n",
              "      <td>3</td>\n",
              "      <td>1</td>\n",
              "    </tr>\n",
              "    <tr>\n",
              "      <th>4997</th>\n",
              "      <td>3</td>\n",
              "      <td>1</td>\n",
              "    </tr>\n",
              "    <tr>\n",
              "      <th>4998</th>\n",
              "      <td>4</td>\n",
              "      <td>0</td>\n",
              "    </tr>\n",
              "    <tr>\n",
              "      <th>4999</th>\n",
              "      <td>4</td>\n",
              "      <td>0</td>\n",
              "    </tr>\n",
              "  </tbody>\n",
              "</table>\n",
              "<p>5000 rows × 2 columns</p>\n",
              "</div>\n",
              "      <button class=\"colab-df-convert\" onclick=\"convertToInteractive('df-6a6e8822-e6f0-4a2f-baaa-5dc21a322548')\"\n",
              "              title=\"Convert this dataframe to an interactive table.\"\n",
              "              style=\"display:none;\">\n",
              "        \n",
              "  <svg xmlns=\"http://www.w3.org/2000/svg\" height=\"24px\"viewBox=\"0 0 24 24\"\n",
              "       width=\"24px\">\n",
              "    <path d=\"M0 0h24v24H0V0z\" fill=\"none\"/>\n",
              "    <path d=\"M18.56 5.44l.94 2.06.94-2.06 2.06-.94-2.06-.94-.94-2.06-.94 2.06-2.06.94zm-11 1L8.5 8.5l.94-2.06 2.06-.94-2.06-.94L8.5 2.5l-.94 2.06-2.06.94zm10 10l.94 2.06.94-2.06 2.06-.94-2.06-.94-.94-2.06-.94 2.06-2.06.94z\"/><path d=\"M17.41 7.96l-1.37-1.37c-.4-.4-.92-.59-1.43-.59-.52 0-1.04.2-1.43.59L10.3 9.45l-7.72 7.72c-.78.78-.78 2.05 0 2.83L4 21.41c.39.39.9.59 1.41.59.51 0 1.02-.2 1.41-.59l7.78-7.78 2.81-2.81c.8-.78.8-2.07 0-2.86zM5.41 20L4 18.59l7.72-7.72 1.47 1.35L5.41 20z\"/>\n",
              "  </svg>\n",
              "      </button>\n",
              "      \n",
              "  <style>\n",
              "    .colab-df-container {\n",
              "      display:flex;\n",
              "      flex-wrap:wrap;\n",
              "      gap: 12px;\n",
              "    }\n",
              "\n",
              "    .colab-df-convert {\n",
              "      background-color: #E8F0FE;\n",
              "      border: none;\n",
              "      border-radius: 50%;\n",
              "      cursor: pointer;\n",
              "      display: none;\n",
              "      fill: #1967D2;\n",
              "      height: 32px;\n",
              "      padding: 0 0 0 0;\n",
              "      width: 32px;\n",
              "    }\n",
              "\n",
              "    .colab-df-convert:hover {\n",
              "      background-color: #E2EBFA;\n",
              "      box-shadow: 0px 1px 2px rgba(60, 64, 67, 0.3), 0px 1px 3px 1px rgba(60, 64, 67, 0.15);\n",
              "      fill: #174EA6;\n",
              "    }\n",
              "\n",
              "    [theme=dark] .colab-df-convert {\n",
              "      background-color: #3B4455;\n",
              "      fill: #D2E3FC;\n",
              "    }\n",
              "\n",
              "    [theme=dark] .colab-df-convert:hover {\n",
              "      background-color: #434B5C;\n",
              "      box-shadow: 0px 1px 3px 1px rgba(0, 0, 0, 0.15);\n",
              "      filter: drop-shadow(0px 1px 2px rgba(0, 0, 0, 0.3));\n",
              "      fill: #FFFFFF;\n",
              "    }\n",
              "  </style>\n",
              "\n",
              "      <script>\n",
              "        const buttonEl =\n",
              "          document.querySelector('#df-6a6e8822-e6f0-4a2f-baaa-5dc21a322548 button.colab-df-convert');\n",
              "        buttonEl.style.display =\n",
              "          google.colab.kernel.accessAllowed ? 'block' : 'none';\n",
              "\n",
              "        async function convertToInteractive(key) {\n",
              "          const element = document.querySelector('#df-6a6e8822-e6f0-4a2f-baaa-5dc21a322548');\n",
              "          const dataTable =\n",
              "            await google.colab.kernel.invokeFunction('convertToInteractive',\n",
              "                                                     [key], {});\n",
              "          if (!dataTable) return;\n",
              "\n",
              "          const docLinkHtml = 'Like what you see? Visit the ' +\n",
              "            '<a target=\"_blank\" href=https://colab.research.google.com/notebooks/data_table.ipynb>data table notebook</a>'\n",
              "            + ' to learn more about interactive tables.';\n",
              "          element.innerHTML = '';\n",
              "          dataTable['output_type'] = 'display_data';\n",
              "          await google.colab.output.renderOutput(dataTable, element);\n",
              "          const docLink = document.createElement('div');\n",
              "          docLink.innerHTML = docLinkHtml;\n",
              "          element.appendChild(docLink);\n",
              "        }\n",
              "      </script>\n",
              "    </div>\n",
              "  </div>\n",
              "  "
            ]
          },
          "metadata": {},
          "execution_count": 198
        }
      ]
    },
    {
      "cell_type": "code",
      "source": [
        "k.groupby('cylinder').sum()"
      ],
      "metadata": {
        "id": "lNVnfBx6-nr1",
        "colab": {
          "base_uri": "https://localhost:8080/",
          "height": 143
        },
        "outputId": "4631420d-a7de-40f4-c861-eb84fa250049"
      },
      "execution_count": null,
      "outputs": [
        {
          "output_type": "execute_result",
          "data": {
            "text/plain": [
              "          is_claim\n",
              "cylinder          \n",
              "3              861\n",
              "4             1639"
            ],
            "text/html": [
              "\n",
              "  <div id=\"df-9f904737-e688-4c2d-a930-fb1d4984b9d3\">\n",
              "    <div class=\"colab-df-container\">\n",
              "      <div>\n",
              "<style scoped>\n",
              "    .dataframe tbody tr th:only-of-type {\n",
              "        vertical-align: middle;\n",
              "    }\n",
              "\n",
              "    .dataframe tbody tr th {\n",
              "        vertical-align: top;\n",
              "    }\n",
              "\n",
              "    .dataframe thead th {\n",
              "        text-align: right;\n",
              "    }\n",
              "</style>\n",
              "<table border=\"1\" class=\"dataframe\">\n",
              "  <thead>\n",
              "    <tr style=\"text-align: right;\">\n",
              "      <th></th>\n",
              "      <th>is_claim</th>\n",
              "    </tr>\n",
              "    <tr>\n",
              "      <th>cylinder</th>\n",
              "      <th></th>\n",
              "    </tr>\n",
              "  </thead>\n",
              "  <tbody>\n",
              "    <tr>\n",
              "      <th>3</th>\n",
              "      <td>861</td>\n",
              "    </tr>\n",
              "    <tr>\n",
              "      <th>4</th>\n",
              "      <td>1639</td>\n",
              "    </tr>\n",
              "  </tbody>\n",
              "</table>\n",
              "</div>\n",
              "      <button class=\"colab-df-convert\" onclick=\"convertToInteractive('df-9f904737-e688-4c2d-a930-fb1d4984b9d3')\"\n",
              "              title=\"Convert this dataframe to an interactive table.\"\n",
              "              style=\"display:none;\">\n",
              "        \n",
              "  <svg xmlns=\"http://www.w3.org/2000/svg\" height=\"24px\"viewBox=\"0 0 24 24\"\n",
              "       width=\"24px\">\n",
              "    <path d=\"M0 0h24v24H0V0z\" fill=\"none\"/>\n",
              "    <path d=\"M18.56 5.44l.94 2.06.94-2.06 2.06-.94-2.06-.94-.94-2.06-.94 2.06-2.06.94zm-11 1L8.5 8.5l.94-2.06 2.06-.94-2.06-.94L8.5 2.5l-.94 2.06-2.06.94zm10 10l.94 2.06.94-2.06 2.06-.94-2.06-.94-.94-2.06-.94 2.06-2.06.94z\"/><path d=\"M17.41 7.96l-1.37-1.37c-.4-.4-.92-.59-1.43-.59-.52 0-1.04.2-1.43.59L10.3 9.45l-7.72 7.72c-.78.78-.78 2.05 0 2.83L4 21.41c.39.39.9.59 1.41.59.51 0 1.02-.2 1.41-.59l7.78-7.78 2.81-2.81c.8-.78.8-2.07 0-2.86zM5.41 20L4 18.59l7.72-7.72 1.47 1.35L5.41 20z\"/>\n",
              "  </svg>\n",
              "      </button>\n",
              "      \n",
              "  <style>\n",
              "    .colab-df-container {\n",
              "      display:flex;\n",
              "      flex-wrap:wrap;\n",
              "      gap: 12px;\n",
              "    }\n",
              "\n",
              "    .colab-df-convert {\n",
              "      background-color: #E8F0FE;\n",
              "      border: none;\n",
              "      border-radius: 50%;\n",
              "      cursor: pointer;\n",
              "      display: none;\n",
              "      fill: #1967D2;\n",
              "      height: 32px;\n",
              "      padding: 0 0 0 0;\n",
              "      width: 32px;\n",
              "    }\n",
              "\n",
              "    .colab-df-convert:hover {\n",
              "      background-color: #E2EBFA;\n",
              "      box-shadow: 0px 1px 2px rgba(60, 64, 67, 0.3), 0px 1px 3px 1px rgba(60, 64, 67, 0.15);\n",
              "      fill: #174EA6;\n",
              "    }\n",
              "\n",
              "    [theme=dark] .colab-df-convert {\n",
              "      background-color: #3B4455;\n",
              "      fill: #D2E3FC;\n",
              "    }\n",
              "\n",
              "    [theme=dark] .colab-df-convert:hover {\n",
              "      background-color: #434B5C;\n",
              "      box-shadow: 0px 1px 3px 1px rgba(0, 0, 0, 0.15);\n",
              "      filter: drop-shadow(0px 1px 2px rgba(0, 0, 0, 0.3));\n",
              "      fill: #FFFFFF;\n",
              "    }\n",
              "  </style>\n",
              "\n",
              "      <script>\n",
              "        const buttonEl =\n",
              "          document.querySelector('#df-9f904737-e688-4c2d-a930-fb1d4984b9d3 button.colab-df-convert');\n",
              "        buttonEl.style.display =\n",
              "          google.colab.kernel.accessAllowed ? 'block' : 'none';\n",
              "\n",
              "        async function convertToInteractive(key) {\n",
              "          const element = document.querySelector('#df-9f904737-e688-4c2d-a930-fb1d4984b9d3');\n",
              "          const dataTable =\n",
              "            await google.colab.kernel.invokeFunction('convertToInteractive',\n",
              "                                                     [key], {});\n",
              "          if (!dataTable) return;\n",
              "\n",
              "          const docLinkHtml = 'Like what you see? Visit the ' +\n",
              "            '<a target=\"_blank\" href=https://colab.research.google.com/notebooks/data_table.ipynb>data table notebook</a>'\n",
              "            + ' to learn more about interactive tables.';\n",
              "          element.innerHTML = '';\n",
              "          dataTable['output_type'] = 'display_data';\n",
              "          await google.colab.output.renderOutput(dataTable, element);\n",
              "          const docLink = document.createElement('div');\n",
              "          docLink.innerHTML = docLinkHtml;\n",
              "          element.appendChild(docLink);\n",
              "        }\n",
              "      </script>\n",
              "    </div>\n",
              "  </div>\n",
              "  "
            ]
          },
          "metadata": {},
          "execution_count": 199
        }
      ]
    },
    {
      "cell_type": "code",
      "source": [
        "k.groupby('cylinder').count()"
      ],
      "metadata": {
        "id": "ltPbxdmg8KwD",
        "colab": {
          "base_uri": "https://localhost:8080/",
          "height": 143
        },
        "outputId": "215352f6-8d7c-41b2-f8a8-fd78cc92a695"
      },
      "execution_count": null,
      "outputs": [
        {
          "output_type": "execute_result",
          "data": {
            "text/plain": [
              "          is_claim\n",
              "cylinder          \n",
              "3             1815\n",
              "4             3185"
            ],
            "text/html": [
              "\n",
              "  <div id=\"df-4212535a-61b2-4444-97f3-b912464054cf\">\n",
              "    <div class=\"colab-df-container\">\n",
              "      <div>\n",
              "<style scoped>\n",
              "    .dataframe tbody tr th:only-of-type {\n",
              "        vertical-align: middle;\n",
              "    }\n",
              "\n",
              "    .dataframe tbody tr th {\n",
              "        vertical-align: top;\n",
              "    }\n",
              "\n",
              "    .dataframe thead th {\n",
              "        text-align: right;\n",
              "    }\n",
              "</style>\n",
              "<table border=\"1\" class=\"dataframe\">\n",
              "  <thead>\n",
              "    <tr style=\"text-align: right;\">\n",
              "      <th></th>\n",
              "      <th>is_claim</th>\n",
              "    </tr>\n",
              "    <tr>\n",
              "      <th>cylinder</th>\n",
              "      <th></th>\n",
              "    </tr>\n",
              "  </thead>\n",
              "  <tbody>\n",
              "    <tr>\n",
              "      <th>3</th>\n",
              "      <td>1815</td>\n",
              "    </tr>\n",
              "    <tr>\n",
              "      <th>4</th>\n",
              "      <td>3185</td>\n",
              "    </tr>\n",
              "  </tbody>\n",
              "</table>\n",
              "</div>\n",
              "      <button class=\"colab-df-convert\" onclick=\"convertToInteractive('df-4212535a-61b2-4444-97f3-b912464054cf')\"\n",
              "              title=\"Convert this dataframe to an interactive table.\"\n",
              "              style=\"display:none;\">\n",
              "        \n",
              "  <svg xmlns=\"http://www.w3.org/2000/svg\" height=\"24px\"viewBox=\"0 0 24 24\"\n",
              "       width=\"24px\">\n",
              "    <path d=\"M0 0h24v24H0V0z\" fill=\"none\"/>\n",
              "    <path d=\"M18.56 5.44l.94 2.06.94-2.06 2.06-.94-2.06-.94-.94-2.06-.94 2.06-2.06.94zm-11 1L8.5 8.5l.94-2.06 2.06-.94-2.06-.94L8.5 2.5l-.94 2.06-2.06.94zm10 10l.94 2.06.94-2.06 2.06-.94-2.06-.94-.94-2.06-.94 2.06-2.06.94z\"/><path d=\"M17.41 7.96l-1.37-1.37c-.4-.4-.92-.59-1.43-.59-.52 0-1.04.2-1.43.59L10.3 9.45l-7.72 7.72c-.78.78-.78 2.05 0 2.83L4 21.41c.39.39.9.59 1.41.59.51 0 1.02-.2 1.41-.59l7.78-7.78 2.81-2.81c.8-.78.8-2.07 0-2.86zM5.41 20L4 18.59l7.72-7.72 1.47 1.35L5.41 20z\"/>\n",
              "  </svg>\n",
              "      </button>\n",
              "      \n",
              "  <style>\n",
              "    .colab-df-container {\n",
              "      display:flex;\n",
              "      flex-wrap:wrap;\n",
              "      gap: 12px;\n",
              "    }\n",
              "\n",
              "    .colab-df-convert {\n",
              "      background-color: #E8F0FE;\n",
              "      border: none;\n",
              "      border-radius: 50%;\n",
              "      cursor: pointer;\n",
              "      display: none;\n",
              "      fill: #1967D2;\n",
              "      height: 32px;\n",
              "      padding: 0 0 0 0;\n",
              "      width: 32px;\n",
              "    }\n",
              "\n",
              "    .colab-df-convert:hover {\n",
              "      background-color: #E2EBFA;\n",
              "      box-shadow: 0px 1px 2px rgba(60, 64, 67, 0.3), 0px 1px 3px 1px rgba(60, 64, 67, 0.15);\n",
              "      fill: #174EA6;\n",
              "    }\n",
              "\n",
              "    [theme=dark] .colab-df-convert {\n",
              "      background-color: #3B4455;\n",
              "      fill: #D2E3FC;\n",
              "    }\n",
              "\n",
              "    [theme=dark] .colab-df-convert:hover {\n",
              "      background-color: #434B5C;\n",
              "      box-shadow: 0px 1px 3px 1px rgba(0, 0, 0, 0.15);\n",
              "      filter: drop-shadow(0px 1px 2px rgba(0, 0, 0, 0.3));\n",
              "      fill: #FFFFFF;\n",
              "    }\n",
              "  </style>\n",
              "\n",
              "      <script>\n",
              "        const buttonEl =\n",
              "          document.querySelector('#df-4212535a-61b2-4444-97f3-b912464054cf button.colab-df-convert');\n",
              "        buttonEl.style.display =\n",
              "          google.colab.kernel.accessAllowed ? 'block' : 'none';\n",
              "\n",
              "        async function convertToInteractive(key) {\n",
              "          const element = document.querySelector('#df-4212535a-61b2-4444-97f3-b912464054cf');\n",
              "          const dataTable =\n",
              "            await google.colab.kernel.invokeFunction('convertToInteractive',\n",
              "                                                     [key], {});\n",
              "          if (!dataTable) return;\n",
              "\n",
              "          const docLinkHtml = 'Like what you see? Visit the ' +\n",
              "            '<a target=\"_blank\" href=https://colab.research.google.com/notebooks/data_table.ipynb>data table notebook</a>'\n",
              "            + ' to learn more about interactive tables.';\n",
              "          element.innerHTML = '';\n",
              "          dataTable['output_type'] = 'display_data';\n",
              "          await google.colab.output.renderOutput(dataTable, element);\n",
              "          const docLink = document.createElement('div');\n",
              "          docLink.innerHTML = docLinkHtml;\n",
              "          element.appendChild(docLink);\n",
              "        }\n",
              "      </script>\n",
              "    </div>\n",
              "  </div>\n",
              "  "
            ]
          },
          "metadata": {},
          "execution_count": 200
        }
      ]
    },
    {
      "cell_type": "code",
      "source": [
        "cyl3 = k[k[\"cylinder\"]==3]\n",
        "cyl4 = k[k[\"cylinder\"]==4]\n",
        "\n",
        "cylinder3_0 = cyl3[k[\"is_claim\"]==0]\n",
        "cylinder3_1 = cyl3[j[\"is_claim\"]==1]\n",
        "cylinder4_0 = cyl4[j[\"is_claim\"]==0]\n",
        "cylinder4_1 = cyl4[j[\"is_claim\"]==1]\n",
        "\n",
        "labels = ['Cylinder_3_0','Cylinder_3_1', \"Cylinder_4_0\", \"Cylinder_4_1\"]\n",
        "values = [len(cyl3[k[\"is_claim\"]==0]),len(cyl3[k[\"is_claim\"]==1]),\n",
        "         len(cyl4[k[\"is_claim\"]==0]),len(cyl4[k[\"is_claim\"]==1])]\n",
        "fig = go.Figure(data=[go.Pie(labels=labels, values=values, hole=.4)])\n",
        "\n",
        "#plt.savefig('cylinder.png', dpi=300)\n",
        "#files.download('cylinder.png')\n",
        "\n",
        "fig.show()\n",
        "plt.show()"
      ],
      "metadata": {
        "id": "VsKaYx8b8KtA",
        "colab": {
          "base_uri": "https://localhost:8080/",
          "height": 976
        },
        "outputId": "f6cdddf5-17a2-449d-d289-0db5d3abede6"
      },
      "execution_count": null,
      "outputs": [
        {
          "output_type": "stream",
          "name": "stderr",
          "text": [
            "<ipython-input-206-fb6b02972bce>:4: UserWarning:\n",
            "\n",
            "Boolean Series key will be reindexed to match DataFrame index.\n",
            "\n",
            "<ipython-input-206-fb6b02972bce>:5: UserWarning:\n",
            "\n",
            "Boolean Series key will be reindexed to match DataFrame index.\n",
            "\n",
            "<ipython-input-206-fb6b02972bce>:6: UserWarning:\n",
            "\n",
            "Boolean Series key will be reindexed to match DataFrame index.\n",
            "\n",
            "<ipython-input-206-fb6b02972bce>:7: UserWarning:\n",
            "\n",
            "Boolean Series key will be reindexed to match DataFrame index.\n",
            "\n",
            "<ipython-input-206-fb6b02972bce>:10: UserWarning:\n",
            "\n",
            "Boolean Series key will be reindexed to match DataFrame index.\n",
            "\n",
            "<ipython-input-206-fb6b02972bce>:11: UserWarning:\n",
            "\n",
            "Boolean Series key will be reindexed to match DataFrame index.\n",
            "\n"
          ]
        },
        {
          "output_type": "display_data",
          "data": {
            "text/plain": [
              "<IPython.core.display.Javascript object>"
            ],
            "application/javascript": [
              "\n",
              "    async function download(id, filename, size) {\n",
              "      if (!google.colab.kernel.accessAllowed) {\n",
              "        return;\n",
              "      }\n",
              "      const div = document.createElement('div');\n",
              "      const label = document.createElement('label');\n",
              "      label.textContent = `Downloading \"${filename}\": `;\n",
              "      div.appendChild(label);\n",
              "      const progress = document.createElement('progress');\n",
              "      progress.max = size;\n",
              "      div.appendChild(progress);\n",
              "      document.body.appendChild(div);\n",
              "\n",
              "      const buffers = [];\n",
              "      let downloaded = 0;\n",
              "\n",
              "      const channel = await google.colab.kernel.comms.open(id);\n",
              "      // Send a message to notify the kernel that we're ready.\n",
              "      channel.send({})\n",
              "\n",
              "      for await (const message of channel.messages) {\n",
              "        // Send a message to notify the kernel that we're ready.\n",
              "        channel.send({})\n",
              "        if (message.buffers) {\n",
              "          for (const buffer of message.buffers) {\n",
              "            buffers.push(buffer);\n",
              "            downloaded += buffer.byteLength;\n",
              "            progress.value = downloaded;\n",
              "          }\n",
              "        }\n",
              "      }\n",
              "      const blob = new Blob(buffers, {type: 'application/binary'});\n",
              "      const a = document.createElement('a');\n",
              "      a.href = window.URL.createObjectURL(blob);\n",
              "      a.download = filename;\n",
              "      div.appendChild(a);\n",
              "      a.click();\n",
              "      div.remove();\n",
              "    }\n",
              "  "
            ]
          },
          "metadata": {}
        },
        {
          "output_type": "display_data",
          "data": {
            "text/plain": [
              "<IPython.core.display.Javascript object>"
            ],
            "application/javascript": [
              "download(\"download_49d29f20-326c-41d6-b444-09ed327e11a8\", \"cylinder.png\", 14190)"
            ]
          },
          "metadata": {}
        },
        {
          "output_type": "display_data",
          "data": {
            "text/html": [
              "<html>\n",
              "<head><meta charset=\"utf-8\" /></head>\n",
              "<body>\n",
              "    <div>            <script src=\"https://cdnjs.cloudflare.com/ajax/libs/mathjax/2.7.5/MathJax.js?config=TeX-AMS-MML_SVG\"></script><script type=\"text/javascript\">if (window.MathJax && window.MathJax.Hub && window.MathJax.Hub.Config) {window.MathJax.Hub.Config({SVG: {font: \"STIX-Web\"}});}</script>                <script type=\"text/javascript\">window.PlotlyConfig = {MathJaxConfig: 'local'};</script>\n",
              "        <script src=\"https://cdn.plot.ly/plotly-2.18.2.min.js\"></script>                <div id=\"35d89a43-af82-4d13-abd1-22d46fba7cb9\" class=\"plotly-graph-div\" style=\"height:525px; width:100%;\"></div>            <script type=\"text/javascript\">                                    window.PLOTLYENV=window.PLOTLYENV || {};                                    if (document.getElementById(\"35d89a43-af82-4d13-abd1-22d46fba7cb9\")) {                    Plotly.newPlot(                        \"35d89a43-af82-4d13-abd1-22d46fba7cb9\",                        [{\"hole\":0.4,\"labels\":[\"Cylinder_3_0\",\"Cylinder_3_1\",\"Cylinder_4_0\",\"Cylinder_4_1\"],\"values\":[954,861,1546,1639],\"type\":\"pie\"}],                        {\"template\":{\"data\":{\"histogram2dcontour\":[{\"type\":\"histogram2dcontour\",\"colorbar\":{\"outlinewidth\":0,\"ticks\":\"\"},\"colorscale\":[[0.0,\"#0d0887\"],[0.1111111111111111,\"#46039f\"],[0.2222222222222222,\"#7201a8\"],[0.3333333333333333,\"#9c179e\"],[0.4444444444444444,\"#bd3786\"],[0.5555555555555556,\"#d8576b\"],[0.6666666666666666,\"#ed7953\"],[0.7777777777777778,\"#fb9f3a\"],[0.8888888888888888,\"#fdca26\"],[1.0,\"#f0f921\"]]}],\"choropleth\":[{\"type\":\"choropleth\",\"colorbar\":{\"outlinewidth\":0,\"ticks\":\"\"}}],\"histogram2d\":[{\"type\":\"histogram2d\",\"colorbar\":{\"outlinewidth\":0,\"ticks\":\"\"},\"colorscale\":[[0.0,\"#0d0887\"],[0.1111111111111111,\"#46039f\"],[0.2222222222222222,\"#7201a8\"],[0.3333333333333333,\"#9c179e\"],[0.4444444444444444,\"#bd3786\"],[0.5555555555555556,\"#d8576b\"],[0.6666666666666666,\"#ed7953\"],[0.7777777777777778,\"#fb9f3a\"],[0.8888888888888888,\"#fdca26\"],[1.0,\"#f0f921\"]]}],\"heatmap\":[{\"type\":\"heatmap\",\"colorbar\":{\"outlinewidth\":0,\"ticks\":\"\"},\"colorscale\":[[0.0,\"#0d0887\"],[0.1111111111111111,\"#46039f\"],[0.2222222222222222,\"#7201a8\"],[0.3333333333333333,\"#9c179e\"],[0.4444444444444444,\"#bd3786\"],[0.5555555555555556,\"#d8576b\"],[0.6666666666666666,\"#ed7953\"],[0.7777777777777778,\"#fb9f3a\"],[0.8888888888888888,\"#fdca26\"],[1.0,\"#f0f921\"]]}],\"heatmapgl\":[{\"type\":\"heatmapgl\",\"colorbar\":{\"outlinewidth\":0,\"ticks\":\"\"},\"colorscale\":[[0.0,\"#0d0887\"],[0.1111111111111111,\"#46039f\"],[0.2222222222222222,\"#7201a8\"],[0.3333333333333333,\"#9c179e\"],[0.4444444444444444,\"#bd3786\"],[0.5555555555555556,\"#d8576b\"],[0.6666666666666666,\"#ed7953\"],[0.7777777777777778,\"#fb9f3a\"],[0.8888888888888888,\"#fdca26\"],[1.0,\"#f0f921\"]]}],\"contourcarpet\":[{\"type\":\"contourcarpet\",\"colorbar\":{\"outlinewidth\":0,\"ticks\":\"\"}}],\"contour\":[{\"type\":\"contour\",\"colorbar\":{\"outlinewidth\":0,\"ticks\":\"\"},\"colorscale\":[[0.0,\"#0d0887\"],[0.1111111111111111,\"#46039f\"],[0.2222222222222222,\"#7201a8\"],[0.3333333333333333,\"#9c179e\"],[0.4444444444444444,\"#bd3786\"],[0.5555555555555556,\"#d8576b\"],[0.6666666666666666,\"#ed7953\"],[0.7777777777777778,\"#fb9f3a\"],[0.8888888888888888,\"#fdca26\"],[1.0,\"#f0f921\"]]}],\"surface\":[{\"type\":\"surface\",\"colorbar\":{\"outlinewidth\":0,\"ticks\":\"\"},\"colorscale\":[[0.0,\"#0d0887\"],[0.1111111111111111,\"#46039f\"],[0.2222222222222222,\"#7201a8\"],[0.3333333333333333,\"#9c179e\"],[0.4444444444444444,\"#bd3786\"],[0.5555555555555556,\"#d8576b\"],[0.6666666666666666,\"#ed7953\"],[0.7777777777777778,\"#fb9f3a\"],[0.8888888888888888,\"#fdca26\"],[1.0,\"#f0f921\"]]}],\"mesh3d\":[{\"type\":\"mesh3d\",\"colorbar\":{\"outlinewidth\":0,\"ticks\":\"\"}}],\"scatter\":[{\"fillpattern\":{\"fillmode\":\"overlay\",\"size\":10,\"solidity\":0.2},\"type\":\"scatter\"}],\"parcoords\":[{\"type\":\"parcoords\",\"line\":{\"colorbar\":{\"outlinewidth\":0,\"ticks\":\"\"}}}],\"scatterpolargl\":[{\"type\":\"scatterpolargl\",\"marker\":{\"colorbar\":{\"outlinewidth\":0,\"ticks\":\"\"}}}],\"bar\":[{\"error_x\":{\"color\":\"#2a3f5f\"},\"error_y\":{\"color\":\"#2a3f5f\"},\"marker\":{\"line\":{\"color\":\"#E5ECF6\",\"width\":0.5},\"pattern\":{\"fillmode\":\"overlay\",\"size\":10,\"solidity\":0.2}},\"type\":\"bar\"}],\"scattergeo\":[{\"type\":\"scattergeo\",\"marker\":{\"colorbar\":{\"outlinewidth\":0,\"ticks\":\"\"}}}],\"scatterpolar\":[{\"type\":\"scatterpolar\",\"marker\":{\"colorbar\":{\"outlinewidth\":0,\"ticks\":\"\"}}}],\"histogram\":[{\"marker\":{\"pattern\":{\"fillmode\":\"overlay\",\"size\":10,\"solidity\":0.2}},\"type\":\"histogram\"}],\"scattergl\":[{\"type\":\"scattergl\",\"marker\":{\"colorbar\":{\"outlinewidth\":0,\"ticks\":\"\"}}}],\"scatter3d\":[{\"type\":\"scatter3d\",\"line\":{\"colorbar\":{\"outlinewidth\":0,\"ticks\":\"\"}},\"marker\":{\"colorbar\":{\"outlinewidth\":0,\"ticks\":\"\"}}}],\"scattermapbox\":[{\"type\":\"scattermapbox\",\"marker\":{\"colorbar\":{\"outlinewidth\":0,\"ticks\":\"\"}}}],\"scatterternary\":[{\"type\":\"scatterternary\",\"marker\":{\"colorbar\":{\"outlinewidth\":0,\"ticks\":\"\"}}}],\"scattercarpet\":[{\"type\":\"scattercarpet\",\"marker\":{\"colorbar\":{\"outlinewidth\":0,\"ticks\":\"\"}}}],\"carpet\":[{\"aaxis\":{\"endlinecolor\":\"#2a3f5f\",\"gridcolor\":\"white\",\"linecolor\":\"white\",\"minorgridcolor\":\"white\",\"startlinecolor\":\"#2a3f5f\"},\"baxis\":{\"endlinecolor\":\"#2a3f5f\",\"gridcolor\":\"white\",\"linecolor\":\"white\",\"minorgridcolor\":\"white\",\"startlinecolor\":\"#2a3f5f\"},\"type\":\"carpet\"}],\"table\":[{\"cells\":{\"fill\":{\"color\":\"#EBF0F8\"},\"line\":{\"color\":\"white\"}},\"header\":{\"fill\":{\"color\":\"#C8D4E3\"},\"line\":{\"color\":\"white\"}},\"type\":\"table\"}],\"barpolar\":[{\"marker\":{\"line\":{\"color\":\"#E5ECF6\",\"width\":0.5},\"pattern\":{\"fillmode\":\"overlay\",\"size\":10,\"solidity\":0.2}},\"type\":\"barpolar\"}],\"pie\":[{\"automargin\":true,\"type\":\"pie\"}]},\"layout\":{\"autotypenumbers\":\"strict\",\"colorway\":[\"#636efa\",\"#EF553B\",\"#00cc96\",\"#ab63fa\",\"#FFA15A\",\"#19d3f3\",\"#FF6692\",\"#B6E880\",\"#FF97FF\",\"#FECB52\"],\"font\":{\"color\":\"#2a3f5f\"},\"hovermode\":\"closest\",\"hoverlabel\":{\"align\":\"left\"},\"paper_bgcolor\":\"white\",\"plot_bgcolor\":\"#E5ECF6\",\"polar\":{\"bgcolor\":\"#E5ECF6\",\"angularaxis\":{\"gridcolor\":\"white\",\"linecolor\":\"white\",\"ticks\":\"\"},\"radialaxis\":{\"gridcolor\":\"white\",\"linecolor\":\"white\",\"ticks\":\"\"}},\"ternary\":{\"bgcolor\":\"#E5ECF6\",\"aaxis\":{\"gridcolor\":\"white\",\"linecolor\":\"white\",\"ticks\":\"\"},\"baxis\":{\"gridcolor\":\"white\",\"linecolor\":\"white\",\"ticks\":\"\"},\"caxis\":{\"gridcolor\":\"white\",\"linecolor\":\"white\",\"ticks\":\"\"}},\"coloraxis\":{\"colorbar\":{\"outlinewidth\":0,\"ticks\":\"\"}},\"colorscale\":{\"sequential\":[[0.0,\"#0d0887\"],[0.1111111111111111,\"#46039f\"],[0.2222222222222222,\"#7201a8\"],[0.3333333333333333,\"#9c179e\"],[0.4444444444444444,\"#bd3786\"],[0.5555555555555556,\"#d8576b\"],[0.6666666666666666,\"#ed7953\"],[0.7777777777777778,\"#fb9f3a\"],[0.8888888888888888,\"#fdca26\"],[1.0,\"#f0f921\"]],\"sequentialminus\":[[0.0,\"#0d0887\"],[0.1111111111111111,\"#46039f\"],[0.2222222222222222,\"#7201a8\"],[0.3333333333333333,\"#9c179e\"],[0.4444444444444444,\"#bd3786\"],[0.5555555555555556,\"#d8576b\"],[0.6666666666666666,\"#ed7953\"],[0.7777777777777778,\"#fb9f3a\"],[0.8888888888888888,\"#fdca26\"],[1.0,\"#f0f921\"]],\"diverging\":[[0,\"#8e0152\"],[0.1,\"#c51b7d\"],[0.2,\"#de77ae\"],[0.3,\"#f1b6da\"],[0.4,\"#fde0ef\"],[0.5,\"#f7f7f7\"],[0.6,\"#e6f5d0\"],[0.7,\"#b8e186\"],[0.8,\"#7fbc41\"],[0.9,\"#4d9221\"],[1,\"#276419\"]]},\"xaxis\":{\"gridcolor\":\"white\",\"linecolor\":\"white\",\"ticks\":\"\",\"title\":{\"standoff\":15},\"zerolinecolor\":\"white\",\"automargin\":true,\"zerolinewidth\":2},\"yaxis\":{\"gridcolor\":\"white\",\"linecolor\":\"white\",\"ticks\":\"\",\"title\":{\"standoff\":15},\"zerolinecolor\":\"white\",\"automargin\":true,\"zerolinewidth\":2},\"scene\":{\"xaxis\":{\"backgroundcolor\":\"#E5ECF6\",\"gridcolor\":\"white\",\"linecolor\":\"white\",\"showbackground\":true,\"ticks\":\"\",\"zerolinecolor\":\"white\",\"gridwidth\":2},\"yaxis\":{\"backgroundcolor\":\"#E5ECF6\",\"gridcolor\":\"white\",\"linecolor\":\"white\",\"showbackground\":true,\"ticks\":\"\",\"zerolinecolor\":\"white\",\"gridwidth\":2},\"zaxis\":{\"backgroundcolor\":\"#E5ECF6\",\"gridcolor\":\"white\",\"linecolor\":\"white\",\"showbackground\":true,\"ticks\":\"\",\"zerolinecolor\":\"white\",\"gridwidth\":2}},\"shapedefaults\":{\"line\":{\"color\":\"#2a3f5f\"}},\"annotationdefaults\":{\"arrowcolor\":\"#2a3f5f\",\"arrowhead\":0,\"arrowwidth\":1},\"geo\":{\"bgcolor\":\"white\",\"landcolor\":\"#E5ECF6\",\"subunitcolor\":\"white\",\"showland\":true,\"showlakes\":true,\"lakecolor\":\"white\"},\"title\":{\"x\":0.05},\"mapbox\":{\"style\":\"light\"}}}},                        {\"responsive\": true}                    ).then(function(){\n",
              "                            \n",
              "var gd = document.getElementById('35d89a43-af82-4d13-abd1-22d46fba7cb9');\n",
              "var x = new MutationObserver(function (mutations, observer) {{\n",
              "        var display = window.getComputedStyle(gd).display;\n",
              "        if (!display || display === 'none') {{\n",
              "            console.log([gd, 'removed!']);\n",
              "            Plotly.purge(gd);\n",
              "            observer.disconnect();\n",
              "        }}\n",
              "}});\n",
              "\n",
              "// Listen for the removal of the full notebook cells\n",
              "var notebookContainer = gd.closest('#notebook-container');\n",
              "if (notebookContainer) {{\n",
              "    x.observe(notebookContainer, {childList: true});\n",
              "}}\n",
              "\n",
              "// Listen for the clearing of the current output cell\n",
              "var outputEl = gd.closest('.output');\n",
              "if (outputEl) {{\n",
              "    x.observe(outputEl, {childList: true});\n",
              "}}\n",
              "\n",
              "                        })                };                            </script>        </div>\n",
              "</body>\n",
              "</html>"
            ]
          },
          "metadata": {}
        },
        {
          "output_type": "display_data",
          "data": {
            "text/plain": [
              "<Figure size 640x480 with 0 Axes>"
            ]
          },
          "metadata": {}
        }
      ]
    },
    {
      "cell_type": "markdown",
      "source": [
        "### 5.6 Safety rating given by NCAP vs. Claim Cases"
      ],
      "metadata": {
        "id": "gv-tFs295gCf"
      }
    },
    {
      "cell_type": "code",
      "source": [
        "df_ra = df.select('ncap_rating', 'is_claim').toPandas()\n",
        "df_ra"
      ],
      "metadata": {
        "colab": {
          "base_uri": "https://localhost:8080/",
          "height": 423
        },
        "id": "_POawqkC9v1L",
        "outputId": "ed70d803-cdda-4488-f637-57dd3b7f0917"
      },
      "execution_count": null,
      "outputs": [
        {
          "output_type": "execute_result",
          "data": {
            "text/plain": [
              "     ncap_rating  is_claim\n",
              "0              3         0\n",
              "1              3         0\n",
              "2              5         0\n",
              "3              3         0\n",
              "4              1         1\n",
              "...          ...       ...\n",
              "4995           1         0\n",
              "4996           1         1\n",
              "4997           1         1\n",
              "4998           5         0\n",
              "4999           3         0\n",
              "\n",
              "[5000 rows x 2 columns]"
            ],
            "text/html": [
              "\n",
              "  <div id=\"df-59676227-6bac-4793-bc52-1fa32675df0c\">\n",
              "    <div class=\"colab-df-container\">\n",
              "      <div>\n",
              "<style scoped>\n",
              "    .dataframe tbody tr th:only-of-type {\n",
              "        vertical-align: middle;\n",
              "    }\n",
              "\n",
              "    .dataframe tbody tr th {\n",
              "        vertical-align: top;\n",
              "    }\n",
              "\n",
              "    .dataframe thead th {\n",
              "        text-align: right;\n",
              "    }\n",
              "</style>\n",
              "<table border=\"1\" class=\"dataframe\">\n",
              "  <thead>\n",
              "    <tr style=\"text-align: right;\">\n",
              "      <th></th>\n",
              "      <th>ncap_rating</th>\n",
              "      <th>is_claim</th>\n",
              "    </tr>\n",
              "  </thead>\n",
              "  <tbody>\n",
              "    <tr>\n",
              "      <th>0</th>\n",
              "      <td>3</td>\n",
              "      <td>0</td>\n",
              "    </tr>\n",
              "    <tr>\n",
              "      <th>1</th>\n",
              "      <td>3</td>\n",
              "      <td>0</td>\n",
              "    </tr>\n",
              "    <tr>\n",
              "      <th>2</th>\n",
              "      <td>5</td>\n",
              "      <td>0</td>\n",
              "    </tr>\n",
              "    <tr>\n",
              "      <th>3</th>\n",
              "      <td>3</td>\n",
              "      <td>0</td>\n",
              "    </tr>\n",
              "    <tr>\n",
              "      <th>4</th>\n",
              "      <td>1</td>\n",
              "      <td>1</td>\n",
              "    </tr>\n",
              "    <tr>\n",
              "      <th>...</th>\n",
              "      <td>...</td>\n",
              "      <td>...</td>\n",
              "    </tr>\n",
              "    <tr>\n",
              "      <th>4995</th>\n",
              "      <td>1</td>\n",
              "      <td>0</td>\n",
              "    </tr>\n",
              "    <tr>\n",
              "      <th>4996</th>\n",
              "      <td>1</td>\n",
              "      <td>1</td>\n",
              "    </tr>\n",
              "    <tr>\n",
              "      <th>4997</th>\n",
              "      <td>1</td>\n",
              "      <td>1</td>\n",
              "    </tr>\n",
              "    <tr>\n",
              "      <th>4998</th>\n",
              "      <td>5</td>\n",
              "      <td>0</td>\n",
              "    </tr>\n",
              "    <tr>\n",
              "      <th>4999</th>\n",
              "      <td>3</td>\n",
              "      <td>0</td>\n",
              "    </tr>\n",
              "  </tbody>\n",
              "</table>\n",
              "<p>5000 rows × 2 columns</p>\n",
              "</div>\n",
              "      <button class=\"colab-df-convert\" onclick=\"convertToInteractive('df-59676227-6bac-4793-bc52-1fa32675df0c')\"\n",
              "              title=\"Convert this dataframe to an interactive table.\"\n",
              "              style=\"display:none;\">\n",
              "        \n",
              "  <svg xmlns=\"http://www.w3.org/2000/svg\" height=\"24px\"viewBox=\"0 0 24 24\"\n",
              "       width=\"24px\">\n",
              "    <path d=\"M0 0h24v24H0V0z\" fill=\"none\"/>\n",
              "    <path d=\"M18.56 5.44l.94 2.06.94-2.06 2.06-.94-2.06-.94-.94-2.06-.94 2.06-2.06.94zm-11 1L8.5 8.5l.94-2.06 2.06-.94-2.06-.94L8.5 2.5l-.94 2.06-2.06.94zm10 10l.94 2.06.94-2.06 2.06-.94-2.06-.94-.94-2.06-.94 2.06-2.06.94z\"/><path d=\"M17.41 7.96l-1.37-1.37c-.4-.4-.92-.59-1.43-.59-.52 0-1.04.2-1.43.59L10.3 9.45l-7.72 7.72c-.78.78-.78 2.05 0 2.83L4 21.41c.39.39.9.59 1.41.59.51 0 1.02-.2 1.41-.59l7.78-7.78 2.81-2.81c.8-.78.8-2.07 0-2.86zM5.41 20L4 18.59l7.72-7.72 1.47 1.35L5.41 20z\"/>\n",
              "  </svg>\n",
              "      </button>\n",
              "      \n",
              "  <style>\n",
              "    .colab-df-container {\n",
              "      display:flex;\n",
              "      flex-wrap:wrap;\n",
              "      gap: 12px;\n",
              "    }\n",
              "\n",
              "    .colab-df-convert {\n",
              "      background-color: #E8F0FE;\n",
              "      border: none;\n",
              "      border-radius: 50%;\n",
              "      cursor: pointer;\n",
              "      display: none;\n",
              "      fill: #1967D2;\n",
              "      height: 32px;\n",
              "      padding: 0 0 0 0;\n",
              "      width: 32px;\n",
              "    }\n",
              "\n",
              "    .colab-df-convert:hover {\n",
              "      background-color: #E2EBFA;\n",
              "      box-shadow: 0px 1px 2px rgba(60, 64, 67, 0.3), 0px 1px 3px 1px rgba(60, 64, 67, 0.15);\n",
              "      fill: #174EA6;\n",
              "    }\n",
              "\n",
              "    [theme=dark] .colab-df-convert {\n",
              "      background-color: #3B4455;\n",
              "      fill: #D2E3FC;\n",
              "    }\n",
              "\n",
              "    [theme=dark] .colab-df-convert:hover {\n",
              "      background-color: #434B5C;\n",
              "      box-shadow: 0px 1px 3px 1px rgba(0, 0, 0, 0.15);\n",
              "      filter: drop-shadow(0px 1px 2px rgba(0, 0, 0, 0.3));\n",
              "      fill: #FFFFFF;\n",
              "    }\n",
              "  </style>\n",
              "\n",
              "      <script>\n",
              "        const buttonEl =\n",
              "          document.querySelector('#df-59676227-6bac-4793-bc52-1fa32675df0c button.colab-df-convert');\n",
              "        buttonEl.style.display =\n",
              "          google.colab.kernel.accessAllowed ? 'block' : 'none';\n",
              "\n",
              "        async function convertToInteractive(key) {\n",
              "          const element = document.querySelector('#df-59676227-6bac-4793-bc52-1fa32675df0c');\n",
              "          const dataTable =\n",
              "            await google.colab.kernel.invokeFunction('convertToInteractive',\n",
              "                                                     [key], {});\n",
              "          if (!dataTable) return;\n",
              "\n",
              "          const docLinkHtml = 'Like what you see? Visit the ' +\n",
              "            '<a target=\"_blank\" href=https://colab.research.google.com/notebooks/data_table.ipynb>data table notebook</a>'\n",
              "            + ' to learn more about interactive tables.';\n",
              "          element.innerHTML = '';\n",
              "          dataTable['output_type'] = 'display_data';\n",
              "          await google.colab.output.renderOutput(dataTable, element);\n",
              "          const docLink = document.createElement('div');\n",
              "          docLink.innerHTML = docLinkHtml;\n",
              "          element.appendChild(docLink);\n",
              "        }\n",
              "      </script>\n",
              "    </div>\n",
              "  </div>\n",
              "  "
            ]
          },
          "metadata": {},
          "execution_count": 245
        }
      ]
    },
    {
      "cell_type": "code",
      "source": [
        "n = df_ra.groupby('ncap_rating').sum().reset_index()\n",
        "n"
      ],
      "metadata": {
        "colab": {
          "base_uri": "https://localhost:8080/",
          "height": 206
        },
        "id": "QWZO6WAkHirv",
        "outputId": "caf103ba-c395-42e6-8e11-b763981f0617"
      },
      "execution_count": null,
      "outputs": [
        {
          "output_type": "execute_result",
          "data": {
            "text/plain": [
              "  ncap_rating  is_claim\n",
              "0           1      1642\n",
              "1           2        75\n",
              "2           3       602\n",
              "3           4        94\n",
              "4           5        87"
            ],
            "text/html": [
              "\n",
              "  <div id=\"df-d454dfa3-8881-4923-9e5e-66c73e1be08e\">\n",
              "    <div class=\"colab-df-container\">\n",
              "      <div>\n",
              "<style scoped>\n",
              "    .dataframe tbody tr th:only-of-type {\n",
              "        vertical-align: middle;\n",
              "    }\n",
              "\n",
              "    .dataframe tbody tr th {\n",
              "        vertical-align: top;\n",
              "    }\n",
              "\n",
              "    .dataframe thead th {\n",
              "        text-align: right;\n",
              "    }\n",
              "</style>\n",
              "<table border=\"1\" class=\"dataframe\">\n",
              "  <thead>\n",
              "    <tr style=\"text-align: right;\">\n",
              "      <th></th>\n",
              "      <th>ncap_rating</th>\n",
              "      <th>is_claim</th>\n",
              "    </tr>\n",
              "  </thead>\n",
              "  <tbody>\n",
              "    <tr>\n",
              "      <th>0</th>\n",
              "      <td>1</td>\n",
              "      <td>1642</td>\n",
              "    </tr>\n",
              "    <tr>\n",
              "      <th>1</th>\n",
              "      <td>2</td>\n",
              "      <td>75</td>\n",
              "    </tr>\n",
              "    <tr>\n",
              "      <th>2</th>\n",
              "      <td>3</td>\n",
              "      <td>602</td>\n",
              "    </tr>\n",
              "    <tr>\n",
              "      <th>3</th>\n",
              "      <td>4</td>\n",
              "      <td>94</td>\n",
              "    </tr>\n",
              "    <tr>\n",
              "      <th>4</th>\n",
              "      <td>5</td>\n",
              "      <td>87</td>\n",
              "    </tr>\n",
              "  </tbody>\n",
              "</table>\n",
              "</div>\n",
              "      <button class=\"colab-df-convert\" onclick=\"convertToInteractive('df-d454dfa3-8881-4923-9e5e-66c73e1be08e')\"\n",
              "              title=\"Convert this dataframe to an interactive table.\"\n",
              "              style=\"display:none;\">\n",
              "        \n",
              "  <svg xmlns=\"http://www.w3.org/2000/svg\" height=\"24px\"viewBox=\"0 0 24 24\"\n",
              "       width=\"24px\">\n",
              "    <path d=\"M0 0h24v24H0V0z\" fill=\"none\"/>\n",
              "    <path d=\"M18.56 5.44l.94 2.06.94-2.06 2.06-.94-2.06-.94-.94-2.06-.94 2.06-2.06.94zm-11 1L8.5 8.5l.94-2.06 2.06-.94-2.06-.94L8.5 2.5l-.94 2.06-2.06.94zm10 10l.94 2.06.94-2.06 2.06-.94-2.06-.94-.94-2.06-.94 2.06-2.06.94z\"/><path d=\"M17.41 7.96l-1.37-1.37c-.4-.4-.92-.59-1.43-.59-.52 0-1.04.2-1.43.59L10.3 9.45l-7.72 7.72c-.78.78-.78 2.05 0 2.83L4 21.41c.39.39.9.59 1.41.59.51 0 1.02-.2 1.41-.59l7.78-7.78 2.81-2.81c.8-.78.8-2.07 0-2.86zM5.41 20L4 18.59l7.72-7.72 1.47 1.35L5.41 20z\"/>\n",
              "  </svg>\n",
              "      </button>\n",
              "      \n",
              "  <style>\n",
              "    .colab-df-container {\n",
              "      display:flex;\n",
              "      flex-wrap:wrap;\n",
              "      gap: 12px;\n",
              "    }\n",
              "\n",
              "    .colab-df-convert {\n",
              "      background-color: #E8F0FE;\n",
              "      border: none;\n",
              "      border-radius: 50%;\n",
              "      cursor: pointer;\n",
              "      display: none;\n",
              "      fill: #1967D2;\n",
              "      height: 32px;\n",
              "      padding: 0 0 0 0;\n",
              "      width: 32px;\n",
              "    }\n",
              "\n",
              "    .colab-df-convert:hover {\n",
              "      background-color: #E2EBFA;\n",
              "      box-shadow: 0px 1px 2px rgba(60, 64, 67, 0.3), 0px 1px 3px 1px rgba(60, 64, 67, 0.15);\n",
              "      fill: #174EA6;\n",
              "    }\n",
              "\n",
              "    [theme=dark] .colab-df-convert {\n",
              "      background-color: #3B4455;\n",
              "      fill: #D2E3FC;\n",
              "    }\n",
              "\n",
              "    [theme=dark] .colab-df-convert:hover {\n",
              "      background-color: #434B5C;\n",
              "      box-shadow: 0px 1px 3px 1px rgba(0, 0, 0, 0.15);\n",
              "      filter: drop-shadow(0px 1px 2px rgba(0, 0, 0, 0.3));\n",
              "      fill: #FFFFFF;\n",
              "    }\n",
              "  </style>\n",
              "\n",
              "      <script>\n",
              "        const buttonEl =\n",
              "          document.querySelector('#df-d454dfa3-8881-4923-9e5e-66c73e1be08e button.colab-df-convert');\n",
              "        buttonEl.style.display =\n",
              "          google.colab.kernel.accessAllowed ? 'block' : 'none';\n",
              "\n",
              "        async function convertToInteractive(key) {\n",
              "          const element = document.querySelector('#df-d454dfa3-8881-4923-9e5e-66c73e1be08e');\n",
              "          const dataTable =\n",
              "            await google.colab.kernel.invokeFunction('convertToInteractive',\n",
              "                                                     [key], {});\n",
              "          if (!dataTable) return;\n",
              "\n",
              "          const docLinkHtml = 'Like what you see? Visit the ' +\n",
              "            '<a target=\"_blank\" href=https://colab.research.google.com/notebooks/data_table.ipynb>data table notebook</a>'\n",
              "            + ' to learn more about interactive tables.';\n",
              "          element.innerHTML = '';\n",
              "          dataTable['output_type'] = 'display_data';\n",
              "          await google.colab.output.renderOutput(dataTable, element);\n",
              "          const docLink = document.createElement('div');\n",
              "          docLink.innerHTML = docLinkHtml;\n",
              "          element.appendChild(docLink);\n",
              "        }\n",
              "      </script>\n",
              "    </div>\n",
              "  </div>\n",
              "  "
            ]
          },
          "metadata": {},
          "execution_count": 251
        }
      ]
    },
    {
      "cell_type": "code",
      "source": [
        "\n",
        "explode = (0.1, 0, 0.1, 0, 0)  # only \"explode\" the 2nd slice (i.e. 'Hogs')\n",
        "\n",
        "fig, ax = plt.subplots()\n",
        "ax.pie(n['is_claim'], explode=explode, labels=n['ncap_rating'], autopct='%1.1f%%',\n",
        "        shadow=False, startangle=90,\n",
        "       pctdistance=1.25, labeldistance=.6\n",
        "       )\n",
        "\n",
        "plt.legend(bbox_to_anchor=(0, 1))\n",
        "\n",
        "#plt.savefig('ncapRating.png', dpi=300)\n",
        "#files.download('ncapRating.png')\n",
        "plt.show()"
      ],
      "metadata": {
        "colab": {
          "base_uri": "https://localhost:8080/",
          "height": 412
        },
        "id": "96IVzVoOLb9W",
        "outputId": "e589f22b-4347-46c7-d32b-375a2fdde836"
      },
      "execution_count": null,
      "outputs": [
        {
          "output_type": "display_data",
          "data": {
            "text/plain": [
              "<IPython.core.display.Javascript object>"
            ],
            "application/javascript": [
              "\n",
              "    async function download(id, filename, size) {\n",
              "      if (!google.colab.kernel.accessAllowed) {\n",
              "        return;\n",
              "      }\n",
              "      const div = document.createElement('div');\n",
              "      const label = document.createElement('label');\n",
              "      label.textContent = `Downloading \"${filename}\": `;\n",
              "      div.appendChild(label);\n",
              "      const progress = document.createElement('progress');\n",
              "      progress.max = size;\n",
              "      div.appendChild(progress);\n",
              "      document.body.appendChild(div);\n",
              "\n",
              "      const buffers = [];\n",
              "      let downloaded = 0;\n",
              "\n",
              "      const channel = await google.colab.kernel.comms.open(id);\n",
              "      // Send a message to notify the kernel that we're ready.\n",
              "      channel.send({})\n",
              "\n",
              "      for await (const message of channel.messages) {\n",
              "        // Send a message to notify the kernel that we're ready.\n",
              "        channel.send({})\n",
              "        if (message.buffers) {\n",
              "          for (const buffer of message.buffers) {\n",
              "            buffers.push(buffer);\n",
              "            downloaded += buffer.byteLength;\n",
              "            progress.value = downloaded;\n",
              "          }\n",
              "        }\n",
              "      }\n",
              "      const blob = new Blob(buffers, {type: 'application/binary'});\n",
              "      const a = document.createElement('a');\n",
              "      a.href = window.URL.createObjectURL(blob);\n",
              "      a.download = filename;\n",
              "      div.appendChild(a);\n",
              "      a.click();\n",
              "      div.remove();\n",
              "    }\n",
              "  "
            ]
          },
          "metadata": {}
        },
        {
          "output_type": "display_data",
          "data": {
            "text/plain": [
              "<IPython.core.display.Javascript object>"
            ],
            "application/javascript": [
              "download(\"download_9db61651-06f1-47fc-a6ac-51d4841c15a5\", \"ncapRating.png\", 106642)"
            ]
          },
          "metadata": {}
        },
        {
          "output_type": "display_data",
          "data": {
            "text/plain": [
              "<Figure size 640x480 with 1 Axes>"
            ],
            "image/png": "[encoded data removed]"
          },
          "metadata": {}
        }
      ]
    },
    {
      "cell_type": "markdown",
      "source": [
        "### 5.7 Label Distribution"
      ],
      "metadata": {
        "id": "wuNeqj2E2TXd"
      }
    },
    {
      "cell_type": "code",
      "source": [
        "df_label = df.select('is_claim').toPandas()\n",
        "df_label"
      ],
      "metadata": {
        "colab": {
          "base_uri": "https://localhost:8080/",
          "height": 423
        },
        "id": "Qb9PTldX2bOt",
        "outputId": "a44f082b-3ab2-4bad-faa1-50757fdc518d"
      },
      "execution_count": null,
      "outputs": [
        {
          "output_type": "execute_result",
          "data": {
            "text/plain": [
              "      is_claim\n",
              "0            0\n",
              "1            0\n",
              "2            0\n",
              "3            0\n",
              "4            1\n",
              "...        ...\n",
              "4995         0\n",
              "4996         1\n",
              "4997         1\n",
              "4998         0\n",
              "4999         0\n",
              "\n",
              "[5000 rows x 1 columns]"
            ],
            "text/html": [
              "\n",
              "  <div id=\"df-dc48c890-ec8a-4462-a7c2-f84d4d70ab7a\">\n",
              "    <div class=\"colab-df-container\">\n",
              "      <div>\n",
              "<style scoped>\n",
              "    .dataframe tbody tr th:only-of-type {\n",
              "        vertical-align: middle;\n",
              "    }\n",
              "\n",
              "    .dataframe tbody tr th {\n",
              "        vertical-align: top;\n",
              "    }\n",
              "\n",
              "    .dataframe thead th {\n",
              "        text-align: right;\n",
              "    }\n",
              "</style>\n",
              "<table border=\"1\" class=\"dataframe\">\n",
              "  <thead>\n",
              "    <tr style=\"text-align: right;\">\n",
              "      <th></th>\n",
              "      <th>is_claim</th>\n",
              "    </tr>\n",
              "  </thead>\n",
              "  <tbody>\n",
              "    <tr>\n",
              "      <th>0</th>\n",
              "      <td>0</td>\n",
              "    </tr>\n",
              "    <tr>\n",
              "      <th>1</th>\n",
              "      <td>0</td>\n",
              "    </tr>\n",
              "    <tr>\n",
              "      <th>2</th>\n",
              "      <td>0</td>\n",
              "    </tr>\n",
              "    <tr>\n",
              "      <th>3</th>\n",
              "      <td>0</td>\n",
              "    </tr>\n",
              "    <tr>\n",
              "      <th>4</th>\n",
              "      <td>1</td>\n",
              "    </tr>\n",
              "    <tr>\n",
              "      <th>...</th>\n",
              "      <td>...</td>\n",
              "    </tr>\n",
              "    <tr>\n",
              "      <th>4995</th>\n",
              "      <td>0</td>\n",
              "    </tr>\n",
              "    <tr>\n",
              "      <th>4996</th>\n",
              "      <td>1</td>\n",
              "    </tr>\n",
              "    <tr>\n",
              "      <th>4997</th>\n",
              "      <td>1</td>\n",
              "    </tr>\n",
              "    <tr>\n",
              "      <th>4998</th>\n",
              "      <td>0</td>\n",
              "    </tr>\n",
              "    <tr>\n",
              "      <th>4999</th>\n",
              "      <td>0</td>\n",
              "    </tr>\n",
              "  </tbody>\n",
              "</table>\n",
              "<p>5000 rows × 1 columns</p>\n",
              "</div>\n",
              "      <button class=\"colab-df-convert\" onclick=\"convertToInteractive('df-dc48c890-ec8a-4462-a7c2-f84d4d70ab7a')\"\n",
              "              title=\"Convert this dataframe to an interactive table.\"\n",
              "              style=\"display:none;\">\n",
              "        \n",
              "  <svg xmlns=\"http://www.w3.org/2000/svg\" height=\"24px\"viewBox=\"0 0 24 24\"\n",
              "       width=\"24px\">\n",
              "    <path d=\"M0 0h24v24H0V0z\" fill=\"none\"/>\n",
              "    <path d=\"M18.56 5.44l.94 2.06.94-2.06 2.06-.94-2.06-.94-.94-2.06-.94 2.06-2.06.94zm-11 1L8.5 8.5l.94-2.06 2.06-.94-2.06-.94L8.5 2.5l-.94 2.06-2.06.94zm10 10l.94 2.06.94-2.06 2.06-.94-2.06-.94-.94-2.06-.94 2.06-2.06.94z\"/><path d=\"M17.41 7.96l-1.37-1.37c-.4-.4-.92-.59-1.43-.59-.52 0-1.04.2-1.43.59L10.3 9.45l-7.72 7.72c-.78.78-.78 2.05 0 2.83L4 21.41c.39.39.9.59 1.41.59.51 0 1.02-.2 1.41-.59l7.78-7.78 2.81-2.81c.8-.78.8-2.07 0-2.86zM5.41 20L4 18.59l7.72-7.72 1.47 1.35L5.41 20z\"/>\n",
              "  </svg>\n",
              "      </button>\n",
              "      \n",
              "  <style>\n",
              "    .colab-df-container {\n",
              "      display:flex;\n",
              "      flex-wrap:wrap;\n",
              "      gap: 12px;\n",
              "    }\n",
              "\n",
              "    .colab-df-convert {\n",
              "      background-color: #E8F0FE;\n",
              "      border: none;\n",
              "      border-radius: 50%;\n",
              "      cursor: pointer;\n",
              "      display: none;\n",
              "      fill: #1967D2;\n",
              "      height: 32px;\n",
              "      padding: 0 0 0 0;\n",
              "      width: 32px;\n",
              "    }\n",
              "\n",
              "    .colab-df-convert:hover {\n",
              "      background-color: #E2EBFA;\n",
              "      box-shadow: 0px 1px 2px rgba(60, 64, 67, 0.3), 0px 1px 3px 1px rgba(60, 64, 67, 0.15);\n",
              "      fill: #174EA6;\n",
              "    }\n",
              "\n",
              "    [theme=dark] .colab-df-convert {\n",
              "      background-color: #3B4455;\n",
              "      fill: #D2E3FC;\n",
              "    }\n",
              "\n",
              "    [theme=dark] .colab-df-convert:hover {\n",
              "      background-color: #434B5C;\n",
              "      box-shadow: 0px 1px 3px 1px rgba(0, 0, 0, 0.15);\n",
              "      filter: drop-shadow(0px 1px 2px rgba(0, 0, 0, 0.3));\n",
              "      fill: #FFFFFF;\n",
              "    }\n",
              "  </style>\n",
              "\n",
              "      <script>\n",
              "        const buttonEl =\n",
              "          document.querySelector('#df-dc48c890-ec8a-4462-a7c2-f84d4d70ab7a button.colab-df-convert');\n",
              "        buttonEl.style.display =\n",
              "          google.colab.kernel.accessAllowed ? 'block' : 'none';\n",
              "\n",
              "        async function convertToInteractive(key) {\n",
              "          const element = document.querySelector('#df-dc48c890-ec8a-4462-a7c2-f84d4d70ab7a');\n",
              "          const dataTable =\n",
              "            await google.colab.kernel.invokeFunction('convertToInteractive',\n",
              "                                                     [key], {});\n",
              "          if (!dataTable) return;\n",
              "\n",
              "          const docLinkHtml = 'Like what you see? Visit the ' +\n",
              "            '<a target=\"_blank\" href=https://colab.research.google.com/notebooks/data_table.ipynb>data table notebook</a>'\n",
              "            + ' to learn more about interactive tables.';\n",
              "          element.innerHTML = '';\n",
              "          dataTable['output_type'] = 'display_data';\n",
              "          await google.colab.output.renderOutput(dataTable, element);\n",
              "          const docLink = document.createElement('div');\n",
              "          docLink.innerHTML = docLinkHtml;\n",
              "          element.appendChild(docLink);\n",
              "        }\n",
              "      </script>\n",
              "    </div>\n",
              "  </div>\n",
              "  "
            ]
          },
          "metadata": {},
          "execution_count": 208
        }
      ]
    },
    {
      "cell_type": "code",
      "source": [
        "plt.style.use('ggplot')\n",
        "plt.figure(figsize=(6,4))\n",
        "sns.countplot(data=df_label, x=\"is_claim\", palette=\"seismic\")\n",
        "\n",
        "#plt.savefig('labelDis.png', dpi=300)\n",
        "#files.download('labelDis.png')\n",
        "plt.show()"
      ],
      "metadata": {
        "colab": {
          "base_uri": "https://localhost:8080/",
          "height": 392
        },
        "id": "0L1x2o_62kLG",
        "outputId": "3ec48b93-36e3-4b25-f4b2-1afb280c83f9"
      },
      "execution_count": null,
      "outputs": [
        {
          "output_type": "display_data",
          "data": {
            "text/plain": [
              "<IPython.core.display.Javascript object>"
            ],
            "application/javascript": [
              "\n",
              "    async function download(id, filename, size) {\n",
              "      if (!google.colab.kernel.accessAllowed) {\n",
              "        return;\n",
              "      }\n",
              "      const div = document.createElement('div');\n",
              "      const label = document.createElement('label');\n",
              "      label.textContent = `Downloading \"${filename}\": `;\n",
              "      div.appendChild(label);\n",
              "      const progress = document.createElement('progress');\n",
              "      progress.max = size;\n",
              "      div.appendChild(progress);\n",
              "      document.body.appendChild(div);\n",
              "\n",
              "      const buffers = [];\n",
              "      let downloaded = 0;\n",
              "\n",
              "      const channel = await google.colab.kernel.comms.open(id);\n",
              "      // Send a message to notify the kernel that we're ready.\n",
              "      channel.send({})\n",
              "\n",
              "      for await (const message of channel.messages) {\n",
              "        // Send a message to notify the kernel that we're ready.\n",
              "        channel.send({})\n",
              "        if (message.buffers) {\n",
              "          for (const buffer of message.buffers) {\n",
              "            buffers.push(buffer);\n",
              "            downloaded += buffer.byteLength;\n",
              "            progress.value = downloaded;\n",
              "          }\n",
              "        }\n",
              "      }\n",
              "      const blob = new Blob(buffers, {type: 'application/binary'});\n",
              "      const a = document.createElement('a');\n",
              "      a.href = window.URL.createObjectURL(blob);\n",
              "      a.download = filename;\n",
              "      div.appendChild(a);\n",
              "      a.click();\n",
              "      div.remove();\n",
              "    }\n",
              "  "
            ]
          },
          "metadata": {}
        },
        {
          "output_type": "display_data",
          "data": {
            "text/plain": [
              "<IPython.core.display.Javascript object>"
            ],
            "application/javascript": [
              "download(\"download_037eb7ad-6fda-41f8-96a6-f4b340dbf0f8\", \"labelDis.png\", 37030)"
            ]
          },
          "metadata": {}
        },
        {
          "output_type": "display_data",
          "data": {
            "text/plain": [
              "<Figure size 600x400 with 1 Axes>"
            ],
            "image/png": "[encoded data removed]"
          },
          "metadata": {}
        }
      ]
    },
    {
      "cell_type": "markdown",
      "source": [
        "### 5.8 Correlation matrix between numerical features and label"
      ],
      "metadata": {
        "id": "QW7p8i8EqyW2"
      }
    },
    {
      "cell_type": "code",
      "source": [
        "# Demonstrate the correlation matrix between numerical features and label\n",
        "\n",
        "from pyspark.mllib.stat import Statistics\n",
        "import pandas as pd\n",
        "from pyspark.ml.stat import Correlation\n",
        "from pyspark.ml.feature import VectorAssembler\n",
        "\n",
        "\n",
        "# Get the column for creating the column for display\n",
        "num_cols = ['policy_tenure',\n",
        " 'age_of_car',\n",
        " 'age_of_policyholder',\n",
        " 'population_density',\n",
        " 'airbags',\n",
        " 'displacement',\n",
        " 'cylinder',\n",
        " 'gear_box',\n",
        " 'turning_radius',\n",
        " 'length',\n",
        " 'width',\n",
        " 'height',\n",
        " 'gross_weight',\n",
        " 'is_claim']  # get the credit balance and no. of card columns from the data\n",
        "corr_data = df.select(num_cols)\n",
        "\n",
        "# merge columns to fit into the .corr function \n",
        "assembler = VectorAssembler(\n",
        "    inputCols=corr_data.columns, \n",
        "    outputCol=\"indexed_features\")\n",
        "transformed_df = assembler.transform(df).select(\"indexed_features\")\n",
        "\n",
        "# Pyspark .corr turn a sparse 3-d matrix, we convert it back to a 2-d array \n",
        "pearsonCorr = Correlation.corr(transformed_df, \"indexed_features\", 'pearson').collect()[0][0].toArray()\n",
        "\n",
        "## we output peasonCorr using Panda Dataframe, since Pyspark Dataframe don't display index and col name\n",
        "corr_df = pd.DataFrame(pearsonCorr, index=num_cols, columns=num_cols)\n",
        "print(corr_df.to_string())"
      ],
      "metadata": {
        "colab": {
          "base_uri": "https://localhost:8080/"
        },
        "id": "EJzwpFD9PY-7",
        "outputId": "299836a1-2aff-4a8d-bbba-5a91f5e63b7e"
      },
      "execution_count": null,
      "outputs": [
        {
          "output_type": "stream",
          "name": "stdout",
          "text": [
            "                     policy_tenure  age_of_car  age_of_policyholder  population_density   airbags  displacement  cylinder  gear_box  turning_radius    length     width    height  gross_weight  is_claim\n",
            "policy_tenure             1.000000    0.175126             0.173972           -0.115305  0.143068      0.266100  0.258233  0.130889        0.227439  0.259946  0.282586  0.151898      0.191966  0.159749\n",
            "age_of_car                0.175126    1.000000            -0.010738           -0.065521  0.202865      0.415142  0.403415  0.202502        0.341770  0.400339  0.436167  0.279373      0.314316 -0.062731\n",
            "age_of_policyholder       0.173972   -0.010738             1.000000           -0.014116  0.011799      0.003910  0.029135  0.012379        0.009949  0.008394  0.020598 -0.039549      0.009597  0.038247\n",
            "population_density       -0.115305   -0.065521            -0.014116            1.000000 -0.064467     -0.112898 -0.118554 -0.058158       -0.090554 -0.109070 -0.117996 -0.070156     -0.089070 -0.053931\n",
            "airbags                   0.143068    0.202865             0.011799           -0.064467  1.000000      0.651075  0.465165  0.853283        0.808245  0.802677  0.628993  0.414415      0.821965  0.015744\n",
            "displacement              0.266100    0.415142             0.003910           -0.112898  0.651075      1.000000  0.865008  0.684400        0.877772  0.960489  0.897143  0.553048      0.782848  0.030371\n",
            "cylinder                  0.258233    0.403415             0.029135           -0.118554  0.465165      0.865008  1.000000  0.395718        0.617323  0.804673  0.861435  0.351682      0.602263  0.038680\n",
            "gear_box                  0.130889    0.202502             0.012379           -0.058158  0.853283      0.684400  0.395718  1.000000        0.860968  0.802688  0.589070  0.577798      0.891211  0.009826\n",
            "turning_radius            0.227439    0.341770             0.009949           -0.090554  0.808245      0.877772  0.617323  0.860968        1.000000  0.945838  0.827799  0.458267      0.831178  0.018123\n",
            "length                    0.259946    0.400339             0.008394           -0.109070  0.802677      0.960489  0.804673  0.802688        0.945838  1.000000  0.914460  0.549438      0.865150  0.026374\n",
            "width                     0.282586    0.436167             0.020598           -0.117996  0.628993      0.897143  0.861435  0.589070        0.827799  0.914460  1.000000  0.374397      0.729792  0.032438\n",
            "height                    0.151898    0.279373            -0.039549           -0.070156  0.414415      0.553048  0.351682  0.577798        0.458267  0.549438  0.374397  1.000000      0.726257  0.002311\n",
            "gross_weight              0.191966    0.314316             0.009597           -0.089070  0.821965      0.782848  0.602263  0.891211        0.831178  0.865150  0.729792  0.726257      1.000000  0.017369\n",
            "is_claim                  0.159749   -0.062731             0.038247           -0.053931  0.015744      0.030371  0.038680  0.009826        0.018123  0.026374  0.032438  0.002311      0.017369  1.000000\n"
          ]
        }
      ]
    },
    {
      "cell_type": "markdown",
      "source": [
        "## 6 Model00 - Logistic Regression (Baseline)"
      ],
      "metadata": {
        "id": "Nb9fpsGJ7-Cj"
      }
    },
    {
      "cell_type": "markdown",
      "source": [
        "### 6.1 Data Preprocessing - 2"
      ],
      "metadata": {
        "id": "EagwENcZa820"
      }
    },
    {
      "cell_type": "code",
      "source": [
        "from pyspark.ml.feature import StringIndexer, OneHotEncoder, VectorAssembler\n",
        "from pyspark.ml import Pipeline\n",
        "\n",
        "# Build StringIndexer stages to convert categorical columns to numeric by StringIndexer.\n",
        "stringindexer_stages = [StringIndexer(inputCol=c, outputCol='strindexed_' + c) for c in stringColList]\n",
        "\n",
        "# encode label column and add it to stringindexer_stages\n",
        "stringindexer_stages += [StringIndexer(inputCol='is_claim', outputCol='label')]\n",
        "\n",
        "# Build OneHotEncoder stages\n",
        "onehotencoder_stages = [OneHotEncoder(inputCol='strindexed_' + c, outputCol='onehot_' + c) for c in stringColList]\n"
      ],
      "metadata": {
        "id": "kyPKT-3ox7es"
      },
      "execution_count": null,
      "outputs": []
    },
    {
      "cell_type": "code",
      "source": [
        "# Build VectorAssembler stage for categorical columns - 1 \n",
        "\n",
        "feature_columns_str = ['onehot_' + c for c in stringColList]\n",
        "vectorassembler_stage_str = VectorAssembler(inputCols=feature_columns_str, outputCol='features_str')"
      ],
      "metadata": {
        "id": "KxD18ICHEDrb"
      },
      "execution_count": null,
      "outputs": []
    },
    {
      "cell_type": "code",
      "source": [
        "# Build VectorAssembler stage for numerical columns - 2\n",
        "\n",
        "vectorassembler_stage_num = VectorAssembler(inputCols=numericColList, outputCol='features_num')            "
      ],
      "metadata": {
        "id": "ENx6jRObJfxh"
      },
      "execution_count": null,
      "outputs": []
    },
    {
      "cell_type": "code",
      "source": [
        "# assemble stages - 1\n",
        "stages01 = stringindexer_stages + onehotencoder_stages  + [vectorassembler_stage_str] + [vectorassembler_stage_num]\n",
        "pipeline01 = Pipeline(stages=stages01)\n",
        "\n",
        "# fit and transform data - 1\n",
        "pipeline_model01 = pipeline01.fit(df)\n",
        "\n",
        "asm_columns01 = ['features_str', 'features_num', 'label']\n",
        "df01 = pipeline_model01.transform(df).\\\n",
        "            select(asm_columns01)\n",
        "            \n",
        "df01.show(3, truncate=False)"
      ],
      "metadata": {
        "id": "c8oRXpTQRfO9",
        "colab": {
          "base_uri": "https://localhost:8080/"
        },
        "outputId": "dedfc844-0fff-43cf-b6d9-5fdfd50c3c8f"
      },
      "execution_count": null,
      "outputs": [
        {
          "output_type": "stream",
          "name": "stdout",
          "text": [
            "+-----------------------------------------------------------------------------------------------------------------------------------------------------------------+----------------------------------------------------------------------------------------------------+-----+\n",
            "|features_str                                                                                                                                                     |features_num                                                                                        |label|\n",
            "+-----------------------------------------------------------------------------------------------------------------------------------------------------------------+----------------------------------------------------------------------------------------------------+-----+\n",
            "|(93,[0,22,27,32,44,52,60,69,71,75,77,81,82,83,84,85,86,87,88,90],[1.0,1.0,1.0,1.0,1.0,1.0,1.0,1.0,1.0,1.0,1.0,1.0,1.0,1.0,1.0,1.0,1.0,1.0,1.0,1.0])              |[0.631560391803943,0.15,0.490384615384615,8794.0,6.0,1493.0,4.0,6.0,5.2,4300.0,1790.0,1635.0,1720.0]|0.0  |\n",
            "|(93,[0,22,27,32,44,52,60,69,71,75,77,81,82,83,84,85,86,87,88,90],[1.0,1.0,1.0,1.0,1.0,1.0,1.0,1.0,1.0,1.0,1.0,1.0,1.0,1.0,1.0,1.0,1.0,1.0,1.0,1.0])              |[1.18865543757249,0.09,0.375,8794.0,6.0,1493.0,4.0,6.0,5.2,4300.0,1790.0,1635.0,1720.0]             |0.0  |\n",
            "|(93,[2,29,36,47,55,64,68,69,70,71,73,74,76,77,78,79,82,83,84,85,87,88],[1.0,1.0,1.0,1.0,1.0,1.0,1.0,1.0,1.0,1.0,1.0,1.0,1.0,1.0,1.0,1.0,1.0,1.0,1.0,1.0,1.0,1.0])|[1.00434518625804,0.01,0.413461538461538,34738.0,2.0,1498.0,4.0,5.0,4.9,3995.0,1695.0,1501.0,1051.0]|0.0  |\n",
            "+-----------------------------------------------------------------------------------------------------------------------------------------------------------------+----------------------------------------------------------------------------------------------------+-----+\n",
            "only showing top 3 rows\n",
            "\n"
          ]
        }
      ]
    },
    {
      "cell_type": "code",
      "source": [
        "# Build VectorAssembler stage - 3\n",
        "feature_columns = ['features_str', 'features_num']\n",
        "vectorassembler_stage = VectorAssembler(inputCols=feature_columns, outputCol='features')"
      ],
      "metadata": {
        "id": "Dts2oN_5Uyu6"
      },
      "execution_count": null,
      "outputs": []
    },
    {
      "cell_type": "code",
      "source": [
        "# assemble stages - 2\n",
        "\n",
        "pipeline02 = Pipeline(stages=[vectorassembler_stage])\n",
        "\n",
        "# fit and transform data - 2\n",
        "pipeline_model02 = pipeline02.fit(df01)\n",
        "\n",
        "asm_columns02 = ['features', 'label']\n",
        "df02 = pipeline_model02.transform(df01).\\\n",
        "            select(asm_columns02)\n",
        "            \n",
        "df02.show(3, truncate=False)"
      ],
      "metadata": {
        "colab": {
          "base_uri": "https://localhost:8080/"
        },
        "id": "7DSbi40bUY33",
        "outputId": "3af7a238-0b13-41a0-a605-c2f468276083"
      },
      "execution_count": null,
      "outputs": [
        {
          "output_type": "stream",
          "name": "stdout",
          "text": [
            "+------------------------------------------------------------------------------------------------------------------------------------------------------------------------------------------------------------------------------------------------------------------------------------------------------------------+-----+\n",
            "|features                                                                                                                                                                                                                                                                                                          |label|\n",
            "+------------------------------------------------------------------------------------------------------------------------------------------------------------------------------------------------------------------------------------------------------------------------------------------------------------------+-----+\n",
            "|(106,[0,22,27,32,44,52,60,69,71,75,77,81,82,83,84,85,86,87,88,90,93,94,95,96,97,98,99,100,101,102,103,104,105],[1.0,1.0,1.0,1.0,1.0,1.0,1.0,1.0,1.0,1.0,1.0,1.0,1.0,1.0,1.0,1.0,1.0,1.0,1.0,1.0,0.631560391803943,0.15,0.490384615384615,8794.0,6.0,1493.0,4.0,6.0,5.2,4300.0,1790.0,1635.0,1720.0])              |0.0  |\n",
            "|(106,[0,22,27,32,44,52,60,69,71,75,77,81,82,83,84,85,86,87,88,90,93,94,95,96,97,98,99,100,101,102,103,104,105],[1.0,1.0,1.0,1.0,1.0,1.0,1.0,1.0,1.0,1.0,1.0,1.0,1.0,1.0,1.0,1.0,1.0,1.0,1.0,1.0,1.18865543757249,0.09,0.375,8794.0,6.0,1493.0,4.0,6.0,5.2,4300.0,1790.0,1635.0,1720.0])                           |0.0  |\n",
            "|(106,[2,29,36,47,55,64,68,69,70,71,73,74,76,77,78,79,82,83,84,85,87,88,93,94,95,96,97,98,99,100,101,102,103,104,105],[1.0,1.0,1.0,1.0,1.0,1.0,1.0,1.0,1.0,1.0,1.0,1.0,1.0,1.0,1.0,1.0,1.0,1.0,1.0,1.0,1.0,1.0,1.00434518625804,0.01,0.413461538461538,34738.0,2.0,1498.0,4.0,5.0,4.9,3995.0,1695.0,1501.0,1051.0])|0.0  |\n",
            "+------------------------------------------------------------------------------------------------------------------------------------------------------------------------------------------------------------------------------------------------------------------------------------------------------------------+-----+\n",
            "only showing top 3 rows\n",
            "\n"
          ]
        }
      ]
    },
    {
      "cell_type": "code",
      "source": [
        "# split data into training and test datasets\n",
        "train, test = df02.randomSplit([0.8, 0.2], seed=42)  # remeber to fix seed \n",
        "train.show(3)"
      ],
      "metadata": {
        "colab": {
          "base_uri": "https://localhost:8080/"
        },
        "id": "PhPv7GwiEdV3",
        "outputId": "62b9aa4c-2b98-4f5a-9a61-66555a2a81ea"
      },
      "execution_count": null,
      "outputs": [
        {
          "output_type": "stream",
          "name": "stdout",
          "text": [
            "+--------------------+-----+\n",
            "|            features|label|\n",
            "+--------------------+-----+\n",
            "|(106,[0,21,25,31,...|  0.0|\n",
            "|(106,[0,21,25,31,...|  0.0|\n",
            "|(106,[0,21,25,31,...|  0.0|\n",
            "+--------------------+-----+\n",
            "only showing top 3 rows\n",
            "\n"
          ]
        }
      ]
    },
    {
      "cell_type": "markdown",
      "source": [
        "### 6.2 Build model - Logistic Regression (Baseline)"
      ],
      "metadata": {
        "id": "6OskkzXWFvFb"
      }
    },
    {
      "cell_type": "code",
      "source": [
        "from pyspark.ml.classification import LogisticRegression\n",
        "logr_baseline = LogisticRegression(featuresCol='features', labelCol='label')"
      ],
      "metadata": {
        "id": "c95GgTNWEdTP"
      },
      "execution_count": null,
      "outputs": []
    },
    {
      "cell_type": "markdown",
      "source": [
        "### 6.3 Train the model - Logistic Regression (Baseline)"
      ],
      "metadata": {
        "nteract": {
          "transient": {
            "deleting": false
          }
        },
        "id": "feKT0Pk8ykfs"
      }
    },
    {
      "cell_type": "code",
      "source": [
        "logr_model_baseline = logr_baseline.fit(train)"
      ],
      "outputs": [],
      "execution_count": null,
      "metadata": {
        "jupyter": {
          "source_hidden": false,
          "outputs_hidden": false
        },
        "nteract": {
          "transient": {
            "deleting": false
          }
        },
        "gather": {
          "logged": 1639395515083
        },
        "id": "g8cNwC56ykfs"
      }
    },
    {
      "cell_type": "code",
      "source": [
        "# Make predictions\n",
        "logr_predictions_baseline = logr_model_baseline.transform(train)\n",
        "logr_predictions_baseline.show(5)\n"
      ],
      "outputs": [
        {
          "output_type": "stream",
          "name": "stdout",
          "text": [
            "+--------------------+-----+--------------------+--------------------+----------+\n",
            "|            features|label|       rawPrediction|         probability|prediction|\n",
            "+--------------------+-----+--------------------+--------------------+----------+\n",
            "|(106,[0,21,25,31,...|  0.0|[0.51018181104521...|[0.62484909425440...|       0.0|\n",
            "|(106,[0,21,25,31,...|  0.0|[0.13322103543548...|[0.53325608807889...|       0.0|\n",
            "|(106,[0,21,25,31,...|  0.0|[0.26189412556903...|[0.56510185268490...|       0.0|\n",
            "|(106,[0,21,25,31,...|  0.0|[0.19247808601315...|[0.54797150957569...|       0.0|\n",
            "|(106,[0,21,25,31,...|  0.0|[0.36043778843395...|[0.58914640616079...|       0.0|\n",
            "+--------------------+-----+--------------------+--------------------+----------+\n",
            "only showing top 5 rows\n",
            "\n"
          ]
        }
      ],
      "execution_count": null,
      "metadata": {
        "jupyter": {
          "source_hidden": false,
          "outputs_hidden": false
        },
        "nteract": {
          "transient": {
            "deleting": false
          }
        },
        "gather": {
          "logged": 1639395522767
        },
        "id": "rp9yUJ3tykfs",
        "colab": {
          "base_uri": "https://localhost:8080/"
        },
        "outputId": "fc8a5926-1fe5-4c05-e742-63e16640eb1b"
      }
    },
    {
      "cell_type": "markdown",
      "source": [
        "### 6.4 Model evaluation - Logistic Regression (Baseline) "
      ],
      "metadata": {
        "id": "u0uIFbdBLWWs"
      }
    },
    {
      "cell_type": "markdown",
      "source": [
        "#### ROC"
      ],
      "metadata": {
        "id": "JgcF8QlHD_lC"
      }
    },
    {
      "cell_type": "code",
      "source": [
        "from pyspark.ml.evaluation import BinaryClassificationEvaluator\n",
        "\n",
        "roc_evaluator = BinaryClassificationEvaluator(labelCol=\"label\", \n",
        "                                          rawPredictionCol=\"prediction\", \n",
        "                                          metricName=\"areaUnderROC\")\n",
        "\n",
        "logr_areaUnderROC_baseline = roc_evaluator.evaluate(logr_predictions_baseline)\n",
        "\n",
        "print(\"Here are the results!\")\n",
        "print('-'*80)\n",
        "print('A Logistic Regression baseline model had ROC of: {0:2.2f}%'.format(logr_areaUnderROC_baseline*100))"
      ],
      "metadata": {
        "id": "2ZZyCaklOm2m",
        "colab": {
          "base_uri": "https://localhost:8080/"
        },
        "outputId": "9038718a-4bff-4462-a917-37badf299f17"
      },
      "execution_count": null,
      "outputs": [
        {
          "output_type": "stream",
          "name": "stdout",
          "text": [
            "Here are the results!\n",
            "--------------------------------------------------------------------------------\n",
            "A Logistic Regression baseline model had ROC of: 58.62%\n"
          ]
        }
      ]
    },
    {
      "cell_type": "markdown",
      "source": [
        "#### Accuracy & F-score"
      ],
      "metadata": {
        "id": "TlScLG3VGNCw"
      }
    },
    {
      "cell_type": "code",
      "source": [
        "from pyspark.ml.evaluation import MulticlassClassificationEvaluator\n",
        "\n",
        "# evaluate\n",
        "acc_evaluator = MulticlassClassificationEvaluator(labelCol='label', \n",
        "                                                  predictionCol='prediction', \n",
        "                                                  metricName='accuracy')\n",
        "logr_acc_baseline_tr = acc_evaluator.evaluate(logr_predictions_baseline)\n",
        "\n",
        "f1_evaluator = MulticlassClassificationEvaluator(labelCol='label', \n",
        "                                                  predictionCol='prediction', \n",
        "                                                  metricName='f1')\n",
        "logr_f1_baseline_tr = f1_evaluator.evaluate(logr_predictions_baseline)\n",
        "\n",
        "print(\"Here are the results!\")\n",
        "print('-'*80)\n",
        "print('A Logistic Regression baseline model had an accuracy of: {0:2.2f}%'.format(logr_acc_baseline_tr*100))\n",
        "print('A Logistic Regression baseline model had F-score of: {0:2.2f}%'.format(logr_f1_baseline_tr*100))"
      ],
      "metadata": {
        "colab": {
          "base_uri": "https://localhost:8080/"
        },
        "id": "6fLXaQduZqHM",
        "outputId": "147b837f-6bff-4446-daa6-56dd152895ba"
      },
      "execution_count": null,
      "outputs": [
        {
          "output_type": "stream",
          "name": "stdout",
          "text": [
            "Here are the results!\n",
            "--------------------------------------------------------------------------------\n",
            "A Logistic Regression baseline model had an accuracy of: 58.63%\n",
            "A Logistic Regression baseline model had F-score of: 58.61%\n"
          ]
        }
      ]
    },
    {
      "cell_type": "markdown",
      "source": [
        "### 6.5 Plot Confusion Matrix - Logistic Regression (Baseline)"
      ],
      "metadata": {
        "nteract": {
          "transient": {
            "deleting": false
          }
        },
        "id": "tY2LcE4Qykf-"
      }
    },
    {
      "cell_type": "code",
      "source": [
        "# show the unique class name as string list\n",
        "class_temp = logr_predictions_baseline.select(\"label\").groupBy(\"label\")\\\n",
        "                        .count().sort('count', ascending=False).toPandas()\n",
        "class_temp = class_temp[\"label\"].values.tolist()\n",
        "class_names = map(str, class_temp)\n",
        "class_names"
      ],
      "outputs": [
        {
          "output_type": "execute_result",
          "data": {
            "text/plain": [
              "<map at 0x7f8f26a63a00>"
            ]
          },
          "metadata": {},
          "execution_count": 169
        }
      ],
      "execution_count": null,
      "metadata": {
        "jupyter": {
          "source_hidden": false,
          "outputs_hidden": false
        },
        "nteract": {
          "transient": {
            "deleting": false
          }
        },
        "gather": {
          "logged": 1639395646632
        },
        "id": "kzt4i4_-ykf-",
        "colab": {
          "base_uri": "https://localhost:8080/"
        },
        "outputId": "ef848ee4-b5ff-47c3-b363-cbe71b9381ae"
      }
    },
    {
      "cell_type": "code",
      "source": [
        "## get the unique class name as string list \n",
        "class_temp = logr_predictions_baseline.select(\"label\").groupBy(\"label\")\\\n",
        "                        .count().sort('count', ascending=False).toPandas()\n",
        "class_temp = class_temp[\"label\"].values.tolist()\n",
        "class_names = map(str, class_temp)\n",
        "class_names = list(class_names)"
      ],
      "outputs": [],
      "execution_count": null,
      "metadata": {
        "jupyter": {
          "source_hidden": false,
          "outputs_hidden": false
        },
        "nteract": {
          "transient": {
            "deleting": false
          }
        },
        "gather": {
          "logged": 1639395654144
        },
        "id": "0ge2W8jEykf_"
      }
    },
    {
      "cell_type": "code",
      "source": [
        "## a function to plot Confusion Matrix\n",
        "import matplotlib.pyplot as plt\n",
        "import numpy as np\n",
        "import itertools\n",
        "\n",
        "def plot_confusion_matrix(cm, classes,\n",
        "                          normalize=False,\n",
        "                          title='Confusion matrix',\n",
        "                          cmap=plt.cm.Blues):\n",
        "    \"\"\"\n",
        "    This function prints and plots the confusion matrix.\n",
        "    Normalization can be applied by setting `normalize=True`.\n",
        "    \"\"\"\n",
        "    if normalize:\n",
        "        cm = cm.astype('float') / cm.sum(axis=1)[:, np.newaxis]\n",
        "        print(\"Normalized confusion matrix\")\n",
        "    else:\n",
        "        print('Confusion matrix, without normalization')\n",
        "\n",
        "    print(cm)\n",
        "\n",
        "    plt.imshow(cm, interpolation='nearest', cmap=cmap)\n",
        "    plt.title(title)\n",
        "    plt.colorbar()\n",
        "    tick_marks = np.arange(len(classes))\n",
        "    plt.xticks(tick_marks, classes, rotation=45)\n",
        "    plt.yticks(tick_marks, classes)\n",
        "\n",
        "    fmt = '.2f'\n",
        "    thresh = cm.max() / 2.\n",
        "    for i, j in itertools.product(range(cm.shape[0]), range(cm.shape[1])):\n",
        "        plt.text(j, i, format(cm[i, j], fmt),\n",
        "                 horizontalalignment=\"center\",\n",
        "                 color=\"white\" if cm[i, j] > thresh else \"black\")\n",
        "\n",
        "    plt.tight_layout()\n",
        "    plt.ylabel('True label')\n",
        "    plt.xlabel('Predicted label')"
      ],
      "outputs": [],
      "execution_count": null,
      "metadata": {
        "jupyter": {
          "source_hidden": false,
          "outputs_hidden": false
        },
        "nteract": {
          "transient": {
            "deleting": false
          }
        },
        "gather": {
          "logged": 1639395658107
        },
        "id": "8siO8m0gykf_"
      }
    },
    {
      "cell_type": "code",
      "source": [
        "from pyspark.mllib.evaluation import MulticlassMetrics\n",
        "import matplotlib.pyplot as plt\n",
        "\n",
        "res = logr_predictions_baseline.select(\"label\", \"prediction\")\n",
        "\n",
        "# convert result dataframe to rdd\n",
        "results = res.rdd.map(lambda pl: (pl.prediction, pl.label * 1.0))\n",
        "results.take(10)\n",
        "\n",
        "# instantiate metrics object (there is another object for categorial evaluation!!!)\n",
        "metrics = MulticlassMetrics(results)\n",
        "\n",
        "# show confusion matrix\n",
        "cmat = metrics.confusionMatrix().toArray()\n",
        "\n",
        "# Plot non-normalized confusion matrix\n",
        "plt.figure()\n",
        "plot_confusion_matrix(cmat, classes=class_names, normalize=True,\n",
        "                      title='Logistic Regression Baseline Confusion Matrix')\n",
        "\n",
        "plt.savefig('lr_confusionMa.png', dpi=300)\n",
        "files.download('lr_confusionMa.png')\n",
        "\n",
        "plt.show()"
      ],
      "outputs": [
        {
          "output_type": "stream",
          "name": "stderr",
          "text": [
            "/usr/local/lib/python3.9/dist-packages/pyspark/sql/context.py:157: FutureWarning: Deprecated in 3.0.0. Use SparkSession.builder.getOrCreate() instead.\n",
            "  warnings.warn(\n"
          ]
        },
        {
          "output_type": "stream",
          "name": "stdout",
          "text": [
            "Normalized confusion matrix\n",
            "[[0.53752535 0.46247465]\n",
            " [0.44731183 0.55268817]]\n"
          ]
        },
        {
          "output_type": "display_data",
          "data": {
            "text/plain": [
              "<IPython.core.display.Javascript object>"
            ],
            "application/javascript": [
              "\n",
              "    async function download(id, filename, size) {\n",
              "      if (!google.colab.kernel.accessAllowed) {\n",
              "        return;\n",
              "      }\n",
              "      const div = document.createElement('div');\n",
              "      const label = document.createElement('label');\n",
              "      label.textContent = `Downloading \"${filename}\": `;\n",
              "      div.appendChild(label);\n",
              "      const progress = document.createElement('progress');\n",
              "      progress.max = size;\n",
              "      div.appendChild(progress);\n",
              "      document.body.appendChild(div);\n",
              "\n",
              "      const buffers = [];\n",
              "      let downloaded = 0;\n",
              "\n",
              "      const channel = await google.colab.kernel.comms.open(id);\n",
              "      // Send a message to notify the kernel that we're ready.\n",
              "      channel.send({})\n",
              "\n",
              "      for await (const message of channel.messages) {\n",
              "        // Send a message to notify the kernel that we're ready.\n",
              "        channel.send({})\n",
              "        if (message.buffers) {\n",
              "          for (const buffer of message.buffers) {\n",
              "            buffers.push(buffer);\n",
              "            downloaded += buffer.byteLength;\n",
              "            progress.value = downloaded;\n",
              "          }\n",
              "        }\n",
              "      }\n",
              "      const blob = new Blob(buffers, {type: 'application/binary'});\n",
              "      const a = document.createElement('a');\n",
              "      a.href = window.URL.createObjectURL(blob);\n",
              "      a.download = filename;\n",
              "      div.appendChild(a);\n",
              "      a.click();\n",
              "      div.remove();\n",
              "    }\n",
              "  "
            ]
          },
          "metadata": {}
        },
        {
          "output_type": "display_data",
          "data": {
            "text/plain": [
              "<IPython.core.display.Javascript object>"
            ],
            "application/javascript": [
              "download(\"download_a3e6a369-3563-499f-8ba8-accd6674fe0a\", \"lr_confusionMa.png\", 85584)"
            ]
          },
          "metadata": {}
        },
        {
          "output_type": "display_data",
          "data": {
            "text/plain": [
              "<Figure size 640x480 with 2 Axes>"
            ],
            "image/png": "[encoded data removed]"
          },
          "metadata": {}
        }
      ],
      "execution_count": null,
      "metadata": {
        "jupyter": {
          "source_hidden": false,
          "outputs_hidden": false
        },
        "nteract": {
          "transient": {
            "deleting": false
          }
        },
        "gather": {
          "logged": 1639395669610
        },
        "id": "fKpJoTU4ykgA",
        "colab": {
          "base_uri": "https://localhost:8080/",
          "height": 617
        },
        "outputId": "413338e7-2412-4d95-a8e3-adbef22fc891"
      }
    },
    {
      "cell_type": "markdown",
      "source": [
        "### 6.6 Run the model on the test set"
      ],
      "metadata": {
        "id": "0pPmnA0LLaZE"
      }
    },
    {
      "cell_type": "code",
      "source": [
        "logr_predictions_baseline = logr_model_baseline.transform(test)\n",
        "from pyspark.ml.evaluation import MulticlassClassificationEvaluator\n",
        "\n",
        "# evaluate\n",
        "acc_evaluator = MulticlassClassificationEvaluator(labelCol='label', \n",
        "                                                  predictionCol='prediction', \n",
        "                                                  metricName='accuracy')\n",
        "logr_acc_baseline_test = acc_evaluator.evaluate(logr_predictions_baseline)\n",
        "\n",
        "f1_evaluator = MulticlassClassificationEvaluator(labelCol='label', \n",
        "                                                  predictionCol='prediction', \n",
        "                                                  metricName='f1')\n",
        "logr_f1_baseline_test = f1_evaluator.evaluate(logr_predictions_baseline)\n",
        "\n",
        "logr_areaUnderROC_test_baseline = roc_evaluator.evaluate(logr_predictions_baseline)\n",
        "\n",
        "\n",
        "print(\"Here are the results!\")\n",
        "print('-'*80)\n",
        "print('The accuracy of the baseline model for logistic regression on the test set is: {0:2.2f}%'.format(logr_acc_baseline_test*100))\n",
        "print('The F-score of the baseline model for logistic regression on the test set is: {0:2.2f}%'.format(logr_f1_baseline_test*100))\n",
        "print('A Logistic Regression baseline model had ROC for test set of: {0:2.2f}%'.format(roc_evaluator.evaluate(logr_model_baseline.transform(test))*100))"
      ],
      "metadata": {
        "colab": {
          "base_uri": "https://localhost:8080/"
        },
        "id": "kphtoituLfQN",
        "outputId": "74b12310-08c2-47cc-e077-b90636636f57"
      },
      "execution_count": null,
      "outputs": [
        {
          "output_type": "stream",
          "name": "stdout",
          "text": [
            "Here are the results!\n",
            "--------------------------------------------------------------------------------\n",
            "The accuracy of the baseline model for logistic regression on the test set is: 54.49%\n",
            "The F-score of the baseline model for logistic regression on the test set is: 54.50%\n",
            "A Logistic Regression baseline model had ROC for test set of: 54.51%\n"
          ]
        }
      ]
    },
    {
      "cell_type": "code",
      "source": [],
      "metadata": {
        "id": "ZIF4krBNCsBL"
      },
      "execution_count": null,
      "outputs": []
    },
    {
      "cell_type": "markdown",
      "source": [
        "### 6.7 Logistic Regression Model Performance Visualization"
      ],
      "metadata": {
        "id": "ggkyq9XkCskK"
      }
    },
    {
      "cell_type": "code",
      "source": [
        "plt.style.use('ggplot')\n",
        "\n",
        "model_dataset = ('LogR_Train_B', 'LogR_Test_B')\n",
        "metric_score = {\n",
        "    'ROC': (round(logr_areaUnderROC_baseline,2), round(logr_areaUnderROC_test_baseline,2)),\n",
        "    'Accuracy': (round(logr_acc_baseline_tr,2), round(logr_acc_baseline_test,2)),\n",
        "    'F-score': (round(logr_f1_baseline_tr,2), round(logr_f1_baseline_test,2)),\n",
        "}\n",
        "\n",
        "x = np.arange(len(model_dataset))  # the label locations\n",
        "width = 0.22  # the width of the bars\n",
        "multiplier = 0\n",
        "\n",
        "fig, ax = plt.subplots(figsize=(8,5), layout='constrained')\n",
        "\n",
        "for attribute, measurement in metric_score.items():\n",
        "    offset = width * multiplier\n",
        "    rects = ax.bar(x + offset, measurement, width, label=attribute, edgecolor='white')\n",
        "    ax.bar_label(rects, padding=3)\n",
        "    multiplier += 1\n",
        "\n",
        "# Add some text for labels, title and custom x-axis tick labels, etc.\n",
        "ax.set_ylabel('Score')\n",
        "ax.set_title('Logistic Regression Baseline Model Perfomance')\n",
        "ax.set_xticks(x + width, model_dataset)\n",
        "ax.legend(loc='upper right', ncols=3)\n",
        "ax.set_ylim(0, 1)\n",
        "#plt.savefig('logistic_regression.png', dpi=300)\n",
        "#files.download('logistic_regression.png')\n",
        "plt.show()\n"
      ],
      "metadata": {
        "colab": {
          "base_uri": "https://localhost:8080/",
          "height": 528
        },
        "outputId": "0bb5f0e0-592f-40f1-883f-145ac70aed44",
        "id": "VXmqBHh_-zay"
      },
      "execution_count": null,
      "outputs": [
        {
          "output_type": "display_data",
          "data": {
            "text/plain": [
              "<IPython.core.display.Javascript object>"
            ],
            "application/javascript": [
              "\n",
              "    async function download(id, filename, size) {\n",
              "      if (!google.colab.kernel.accessAllowed) {\n",
              "        return;\n",
              "      }\n",
              "      const div = document.createElement('div');\n",
              "      const label = document.createElement('label');\n",
              "      label.textContent = `Downloading \"${filename}\": `;\n",
              "      div.appendChild(label);\n",
              "      const progress = document.createElement('progress');\n",
              "      progress.max = size;\n",
              "      div.appendChild(progress);\n",
              "      document.body.appendChild(div);\n",
              "\n",
              "      const buffers = [];\n",
              "      let downloaded = 0;\n",
              "\n",
              "      const channel = await google.colab.kernel.comms.open(id);\n",
              "      // Send a message to notify the kernel that we're ready.\n",
              "      channel.send({})\n",
              "\n",
              "      for await (const message of channel.messages) {\n",
              "        // Send a message to notify the kernel that we're ready.\n",
              "        channel.send({})\n",
              "        if (message.buffers) {\n",
              "          for (const buffer of message.buffers) {\n",
              "            buffers.push(buffer);\n",
              "            downloaded += buffer.byteLength;\n",
              "            progress.value = downloaded;\n",
              "          }\n",
              "        }\n",
              "      }\n",
              "      const blob = new Blob(buffers, {type: 'application/binary'});\n",
              "      const a = document.createElement('a');\n",
              "      a.href = window.URL.createObjectURL(blob);\n",
              "      a.download = filename;\n",
              "      div.appendChild(a);\n",
              "      a.click();\n",
              "      div.remove();\n",
              "    }\n",
              "  "
            ]
          },
          "metadata": {}
        },
        {
          "output_type": "display_data",
          "data": {
            "text/plain": [
              "<IPython.core.display.Javascript object>"
            ],
            "application/javascript": [
              "download(\"download_2abd972c-9026-4d39-8c31-04417252c912\", \"logistic_regression.png\", 91721)"
            ]
          },
          "metadata": {}
        },
        {
          "output_type": "display_data",
          "data": {
            "text/plain": [
              "<Figure size 800x500 with 1 Axes>"
            ],
            "image/png": "[encoded data removed]"
          },
          "metadata": {}
        }
      ]
    },
    {
      "cell_type": "markdown",
      "source": [
        "## 7 Feature Selection"
      ],
      "metadata": {
        "id": "Ft13cy918r6G"
      }
    },
    {
      "cell_type": "markdown",
      "source": [
        "### 7.1 Univariate Selection"
      ],
      "metadata": {
        "id": "Y_oW9aKU-Jeb"
      }
    },
    {
      "cell_type": "code",
      "execution_count": null,
      "metadata": {
        "id": "kInjSSfM9E8C",
        "outputId": "24ddc28f-689b-4c2d-8fb4-c61b876232ee"
      },
      "outputs": [
        {
          "name": "stdout",
          "output_type": "stream",
          "text": [
            "                               Space      Score\n",
            "0                      policy_tenure  17.924952\n",
            "4                 population_density   3.252299\n",
            "1                         age_of_car   2.238939\n",
            "14            is_adjustable_steering   1.763799\n",
            "20                          cylinder   1.661130\n",
            "29               is_front_fog_lights   1.259726\n",
            "37  is_driver_seat_height_adjustable   0.920420\n",
            "33                   is_brake_assist   0.823471\n",
            "9                         max_torque   0.709222\n",
            "19                      displacement   0.590138\n",
            "2                age_of_policyholder   0.517649\n",
            "23                     steering_type   0.412305\n",
            "6                            segment   0.398320\n",
            "26                             width   0.375564\n",
            "25                            length   0.345260\n",
            "42                            volume   0.280119\n",
            "8                          fuel_type   0.277079\n",
            "15                           is_tpms   0.258394\n",
            "38     is_day_night_rear_view_mirror   0.251152\n",
            "3                       area_cluster   0.228666\n",
            "41                       ncap_rating   0.205652\n",
            "34               is_power_door_locks   0.149800\n",
            "35                is_central_locking   0.149800\n",
            "39                            is_ecw   0.149800\n",
            "10                         max_power   0.133018\n",
            "7                              model   0.129781\n",
            "5                               make   0.127689\n",
            "28                      gross_weight   0.114151\n",
            "30              is_rear_window_wiper   0.113642\n",
            "31             is_rear_window_washer   0.113642\n"
          ]
        }
      ],
      "source": [
        "import pandas as pd\n",
        "import numpy as np\n",
        "from sklearn.feature_selection import SelectKBest\n",
        "from sklearn.feature_selection import chi2\n",
        "from sklearn.preprocessing import MinMaxScaler\n",
        "\n",
        "train = pd.read_csv('train.csv')\n",
        "test = pd.read_csv('test.csv')\n",
        "\n",
        "X=train.drop('is_claim',axis=1)\n",
        "y=train['is_claim']\n",
        "min_max_scaler = MinMaxScaler()\n",
        "X_minmax = min_max_scaler.fit_transform(X)\n",
        "\n",
        "bestfeatures = SelectKBest(score_func=chi2, k=2)\n",
        "fit = bestfeatures.fit(X_minmax,y)\n",
        "dfscores = pd.DataFrame(fit.scores_)\n",
        "dfcolumns = pd.DataFrame(X.columns)\n",
        "\n",
        "featureScores = pd.concat([dfcolumns,dfscores],axis=1)\n",
        "featureScores.columns = ['Space','Score']\n",
        "print(featureScores.nlargest(30,'Score'))"
      ]
    },
    {
      "cell_type": "code",
      "source": [
        "df = ss.read.csv(data_path + 'Lab_Car_Insurance_Claim_Prediction_dataset.csv', inferSchema=True, header=True)\n",
        "\n",
        "\n",
        "df = df.select('is_claim','policy_tenure','population_density','age_of_car','is_adjustable_steering',\n",
        "               'cylinder')\n",
        "# df = df.select('is_claim','policy_tenure','population_density','age_of_car')\n",
        "\n",
        "# df = df.select('is_claim','policy_tenure','population_density','age_of_car','area_cluster','age_of_policyholder')\n",
        "stringColList = [i[0] for i in df.dtypes if i[1] == 'string']\n",
        "numericColList = [i[0] for i in df.dtypes if i[1] != 'string']\n",
        "numericColList.remove('is_claim')"
      ],
      "metadata": {
        "id": "AtUs7VIH8zmK"
      },
      "execution_count": null,
      "outputs": []
    },
    {
      "cell_type": "markdown",
      "source": [
        "### 7.2 Data Preprocessing"
      ],
      "metadata": {
        "id": "3o7caYDFRIjK"
      }
    },
    {
      "cell_type": "code",
      "source": [
        "from pyspark.ml.feature import StringIndexer, OneHotEncoder, VectorAssembler\n",
        "from pyspark.ml import Pipeline\n",
        "\n",
        "# Build StringIndexer stages to convert categorical columns to numeric by StringIndexer.\n",
        "stringindexer_stages = [StringIndexer(inputCol=c, outputCol='strindexed_' + c) for c in stringColList]\n",
        "\n",
        "# encode label column and add it to stringindexer_stages\n",
        "stringindexer_stages += [StringIndexer(inputCol='is_claim', outputCol='label')]\n",
        "\n",
        "# Build OneHotEncoder stages\n",
        "onehotencoder_stages = [OneHotEncoder(inputCol='strindexed_' + c, outputCol='onehot_' + c) for c in stringColList]\n"
      ],
      "metadata": {
        "id": "cy9jHJZTRIjK"
      },
      "execution_count": null,
      "outputs": []
    },
    {
      "cell_type": "code",
      "source": [
        "# Build VectorAssembler stage for categorical columns - 1 \n",
        "\n",
        "feature_columns_str = ['onehot_' + c for c in stringColList]\n",
        "vectorassembler_stage_str = VectorAssembler(inputCols=feature_columns_str, outputCol='features_str')"
      ],
      "metadata": {
        "id": "0Zvr1_vlRIjK"
      },
      "execution_count": null,
      "outputs": []
    },
    {
      "cell_type": "code",
      "source": [
        "# Build VectorAssembler stage for numerical columns - 2\n",
        "\n",
        "vectorassembler_stage_num = VectorAssembler(inputCols=numericColList, outputCol='features_num')            "
      ],
      "metadata": {
        "id": "FMwNmyoWRIjK"
      },
      "execution_count": null,
      "outputs": []
    },
    {
      "cell_type": "code",
      "source": [
        "# assemble stages - 1\n",
        "stages01 = stringindexer_stages + onehotencoder_stages  + [vectorassembler_stage_str] + [vectorassembler_stage_num]\n",
        "\n",
        "pipeline01 = Pipeline(stages=stages01)\n",
        "\n",
        "# fit and transform data - 1\n",
        "pipeline_model01 = pipeline01.fit(df)\n",
        "\n",
        "asm_columns01 = ['features_str', 'features_num', 'label']\n",
        "df01 = pipeline_model01.transform(df).\\\n",
        "            select(asm_columns01)\n",
        "            \n",
        "df01.show(3, truncate=False)"
      ],
      "metadata": {
        "colab": {
          "base_uri": "https://localhost:8080/"
        },
        "outputId": "31a5181e-cf29-4462-f330-64cec0d61279",
        "id": "c--sbVbfRIjL"
      },
      "execution_count": null,
      "outputs": [
        {
          "output_type": "stream",
          "name": "stdout",
          "text": [
            "+------------+-------------------------------+-----+\n",
            "|features_str|features_num                   |label|\n",
            "+------------+-------------------------------+-----+\n",
            "|[]          |[0.631560391803943,8794.0,0.15]|0.0  |\n",
            "|[]          |[1.18865543757249,8794.0,0.09] |0.0  |\n",
            "|[]          |[1.00434518625804,34738.0,0.01]|0.0  |\n",
            "+------------+-------------------------------+-----+\n",
            "only showing top 3 rows\n",
            "\n"
          ]
        }
      ]
    },
    {
      "cell_type": "code",
      "source": [
        "# Build VectorAssembler stage - 3\n",
        "feature_columns = ['features_str', 'features_num']\n",
        "vectorassembler_stage = VectorAssembler(inputCols=feature_columns, outputCol='features')"
      ],
      "metadata": {
        "id": "uDSfPqaARIjL"
      },
      "execution_count": null,
      "outputs": []
    },
    {
      "cell_type": "code",
      "source": [
        "# assemble stages - 2\n",
        "\n",
        "pipeline02 = Pipeline(stages=[vectorassembler_stage])\n",
        "\n",
        "# fit and transform data - 2\n",
        "pipeline_model02 = pipeline02.fit(df01)\n",
        "\n",
        "asm_columns02 = ['features', 'label']\n",
        "df02 = pipeline_model02.transform(df01).\\\n",
        "            select(asm_columns02)\n",
        "            \n",
        "df02.show(3, truncate=False)"
      ],
      "metadata": {
        "colab": {
          "base_uri": "https://localhost:8080/"
        },
        "outputId": "cc7cc55a-eba9-41a1-e603-522a1cf9a5e5",
        "id": "am0Of00HRIjL"
      },
      "execution_count": null,
      "outputs": [
        {
          "output_type": "stream",
          "name": "stdout",
          "text": [
            "+-------------------------------+-----+\n",
            "|features                       |label|\n",
            "+-------------------------------+-----+\n",
            "|[0.631560391803943,8794.0,0.15]|0.0  |\n",
            "|[1.18865543757249,8794.0,0.09] |0.0  |\n",
            "|[1.00434518625804,34738.0,0.01]|0.0  |\n",
            "+-------------------------------+-----+\n",
            "only showing top 3 rows\n",
            "\n"
          ]
        }
      ]
    },
    {
      "cell_type": "code",
      "source": [
        "# split data into training and test datasets\n",
        "train, test = df02.randomSplit([0.8, 0.2], seed=42)  # remeber to fix seed \n",
        "train.show(3)"
      ],
      "metadata": {
        "colab": {
          "base_uri": "https://localhost:8080/"
        },
        "outputId": "f013cdc5-4c24-48ce-b1c8-803d26b59a06",
        "id": "4Vd4YmSoRIjL"
      },
      "execution_count": null,
      "outputs": [
        {
          "output_type": "stream",
          "name": "stdout",
          "text": [
            "+--------------------+-----+\n",
            "|            features|label|\n",
            "+--------------------+-----+\n",
            "|[0.00277191758933...|  0.0|\n",
            "|[0.00285005309425...|  1.0|\n",
            "|[0.00301558695401...|  0.0|\n",
            "+--------------------+-----+\n",
            "only showing top 3 rows\n",
            "\n"
          ]
        }
      ]
    },
    {
      "cell_type": "code",
      "source": [
        "# split data into training and test datasets\n",
        "train, test = df02.randomSplit([0.8, 0.2], seed=42)  # remeber to fix seed \n",
        "train.show(3)"
      ],
      "metadata": {
        "colab": {
          "base_uri": "https://localhost:8080/"
        },
        "outputId": "f26a824c-c537-4ab0-ef96-cd67a4eefdc2",
        "id": "Xper_6vi-91W"
      },
      "execution_count": null,
      "outputs": [
        {
          "output_type": "stream",
          "name": "stdout",
          "text": [
            "+--------------------+-----+\n",
            "|            features|label|\n",
            "+--------------------+-----+\n",
            "|[0.00277191758933...|  0.0|\n",
            "|[0.00285005309425...|  1.0|\n",
            "|[0.00301558695401...|  0.0|\n",
            "+--------------------+-----+\n",
            "only showing top 3 rows\n",
            "\n"
          ]
        }
      ]
    },
    {
      "cell_type": "markdown",
      "source": [
        "## 8 Model01 - Decision Tree"
      ],
      "metadata": {
        "id": "NWmenTHoAP4A"
      }
    },
    {
      "cell_type": "markdown",
      "source": [
        "### 8.1 Train and Test Model - Decision Tree (Baseline)"
      ],
      "metadata": {
        "id": "nVz4OjdVAP4C"
      }
    },
    {
      "cell_type": "code",
      "source": [
        "from pyspark.ml.classification import DecisionTreeClassifier\n",
        "\n",
        "dt_baseline = DecisionTreeClassifier(featuresCol='features', labelCol='label')\n",
        "dt_model_baseline = dt_baseline.fit(train)\n",
        "# Make predictions\n",
        "dt_predictions_baseline = dt_model_baseline.transform(train)\n",
        "dt_predictions_baseline.show(5)\n"
      ],
      "metadata": {
        "colab": {
          "base_uri": "https://localhost:8080/"
        },
        "id": "rJFXUVicAP4C",
        "outputId": "8c42c507-8896-4e29-f80e-b141f73ecd54"
      },
      "execution_count": null,
      "outputs": [
        {
          "output_type": "stream",
          "name": "stdout",
          "text": [
            "+--------------------+-----+-------------+--------------------+----------+\n",
            "|            features|label|rawPrediction|         probability|prediction|\n",
            "+--------------------+-----+-------------+--------------------+----------+\n",
            "|[0.00277191758933...|  0.0| [245.0,65.0]|[0.79032258064516...|       0.0|\n",
            "|[0.00285005309425...|  1.0| [245.0,65.0]|[0.79032258064516...|       0.0|\n",
            "|[0.00301558695401...|  0.0| [245.0,65.0]|[0.79032258064516...|       0.0|\n",
            "|[0.00303067369617...|  0.0| [245.0,65.0]|[0.79032258064516...|       0.0|\n",
            "|[0.00304534509251...|  0.0| [245.0,65.0]|[0.79032258064516...|       0.0|\n",
            "+--------------------+-----+-------------+--------------------+----------+\n",
            "only showing top 5 rows\n",
            "\n"
          ]
        }
      ]
    },
    {
      "cell_type": "markdown",
      "source": [
        "### 8.2 Model evaluation - Decision Tree (Baseline)"
      ],
      "metadata": {
        "nteract": {
          "transient": {
            "deleting": false
          }
        },
        "id": "stP22q-QAP4C"
      }
    },
    {
      "cell_type": "markdown",
      "source": [
        "#### ROC"
      ],
      "metadata": {
        "id": "RFJld8GmAP4C"
      }
    },
    {
      "cell_type": "code",
      "source": [
        "from pyspark.ml.evaluation import BinaryClassificationEvaluator\n",
        "\n",
        "roc_evaluator = BinaryClassificationEvaluator(labelCol=\"label\", \n",
        "                                          rawPredictionCol=\"prediction\", \n",
        "                                          metricName=\"areaUnderROC\")\n",
        "\n",
        "dt_areaUnderROC_baseline = roc_evaluator.evaluate(dt_predictions_baseline)\n",
        "\n",
        "print(\"Here are the results!\")\n",
        "print('-'*80)\n",
        "print('A Decision Tree baseline model had ROC of: {0:2.2f}%'.format(dt_areaUnderROC_baseline*100))"
      ],
      "metadata": {
        "colab": {
          "base_uri": "https://localhost:8080/"
        },
        "outputId": "0f650103-5217-442f-a89b-5525b5cbe536",
        "id": "DSIdzytQAP4C"
      },
      "execution_count": null,
      "outputs": [
        {
          "output_type": "stream",
          "name": "stdout",
          "text": [
            "Here are the results!\n",
            "--------------------------------------------------------------------------------\n",
            "A Decision Tree baseline model had ROC of: 61.82%\n"
          ]
        }
      ]
    },
    {
      "cell_type": "markdown",
      "source": [
        "#### Accuracy & F-score"
      ],
      "metadata": {
        "id": "89jpiNv-AP4D"
      }
    },
    {
      "cell_type": "code",
      "source": [
        "from pyspark.ml.evaluation import MulticlassClassificationEvaluator\n",
        "\n",
        "# evaluate\n",
        "acc_evaluator = MulticlassClassificationEvaluator(labelCol='label', \n",
        "                                                  predictionCol='prediction', \n",
        "                                                  metricName='accuracy')\n",
        "dt_acc_baseline = acc_evaluator.evaluate(dt_predictions_baseline)\n",
        "\n",
        "f1_evaluator = MulticlassClassificationEvaluator(labelCol='label', \n",
        "                                                  predictionCol='prediction', \n",
        "                                                  metricName='f1')\n",
        "dt_f1_baseline = f1_evaluator.evaluate(dt_predictions_baseline)\n",
        "\n",
        "print(\"Here are the results!\")\n",
        "print('-'*80)\n",
        "print('A Decision Tree baseline model had an accuracy of: {0:2.2f}%'.format(dt_acc_baseline*100))\n",
        "print('A Decision Tree baseline model had F-score of: {0:2.2f}%'.format(dt_f1_baseline*100))"
      ],
      "metadata": {
        "colab": {
          "base_uri": "https://localhost:8080/"
        },
        "outputId": "2900246d-9651-4014-96fa-8f845dae6f8d",
        "id": "HKq36CYVAP4D"
      },
      "execution_count": null,
      "outputs": [
        {
          "output_type": "stream",
          "name": "stdout",
          "text": [
            "Here are the results!\n",
            "--------------------------------------------------------------------------------\n",
            "A Decision Tree baseline model had an accuracy of: 61.78%\n",
            "A Decision Tree baseline model had F-score of: 61.37%\n"
          ]
        }
      ]
    },
    {
      "cell_type": "markdown",
      "source": [
        "### 8.3 Plot Confusion Matrix - Decision Tree (Baseline)"
      ],
      "metadata": {
        "nteract": {
          "transient": {
            "deleting": false
          }
        },
        "id": "7dlVOx8HAP4D"
      }
    },
    {
      "cell_type": "code",
      "source": [
        "# show the unique class name as string list\n",
        "class_temp = dt_predictions_baseline.select(\"label\").groupBy(\"label\")\\\n",
        "                        .count().sort('count', ascending=False).toPandas()\n",
        "class_temp = class_temp[\"label\"].values.tolist()\n",
        "class_names = map(str, class_temp)\n",
        "class_names"
      ],
      "outputs": [
        {
          "output_type": "execute_result",
          "data": {
            "text/plain": [
              "<map at 0x7faf497b5c70>"
            ]
          },
          "metadata": {},
          "execution_count": 100
        }
      ],
      "execution_count": null,
      "metadata": {
        "jupyter": {
          "source_hidden": false,
          "outputs_hidden": false
        },
        "nteract": {
          "transient": {
            "deleting": false
          }
        },
        "gather": {
          "logged": 1639395646632
        },
        "colab": {
          "base_uri": "https://localhost:8080/"
        },
        "outputId": "0ae57894-49f6-4ce3-f2f1-2218a3c6a677",
        "id": "ds0IfZS1AP4D"
      }
    },
    {
      "cell_type": "code",
      "source": [
        "## get the unique class name as string list \n",
        "class_temp = dt_predictions_baseline.select(\"label\").groupBy(\"label\")\\\n",
        "                        .count().sort('count', ascending=False).toPandas()\n",
        "class_temp = class_temp[\"label\"].values.tolist()\n",
        "class_names = map(str, class_temp)\n",
        "class_names = list(class_names)"
      ],
      "outputs": [],
      "execution_count": null,
      "metadata": {
        "jupyter": {
          "source_hidden": false,
          "outputs_hidden": false
        },
        "nteract": {
          "transient": {
            "deleting": false
          }
        },
        "gather": {
          "logged": 1639395654144
        },
        "id": "PgzOrodPAP4D"
      }
    },
    {
      "cell_type": "code",
      "source": [
        "## a function to plot Confusion Matrix\n",
        "import matplotlib.pyplot as plt\n",
        "import numpy as np\n",
        "import itertools\n",
        "\n",
        "def plot_confusion_matrix(cm, classes,\n",
        "                          normalize=False,\n",
        "                          title='Confusion matrix',\n",
        "                          cmap=plt.cm.Blues):\n",
        "    \"\"\"\n",
        "    This function prints and plots the confusion matrix.\n",
        "    Normalization can be applied by setting `normalize=True`.\n",
        "    \"\"\"\n",
        "    if normalize:\n",
        "        cm = cm.astype('float') / cm.sum(axis=1)[:, np.newaxis]\n",
        "        print(\"Normalized confusion matrix\")\n",
        "    else:\n",
        "        print('Confusion matrix, without normalization')\n",
        "\n",
        "    print(cm)\n",
        "\n",
        "    plt.imshow(cm, interpolation='nearest', cmap=cmap)\n",
        "    plt.title(title)\n",
        "    plt.colorbar()\n",
        "    tick_marks = np.arange(len(classes))\n",
        "    plt.xticks(tick_marks, classes, rotation=45)\n",
        "    plt.yticks(tick_marks, classes)\n",
        "\n",
        "    fmt = '.2f'\n",
        "    thresh = cm.max() / 2.\n",
        "    for i, j in itertools.product(range(cm.shape[0]), range(cm.shape[1])):\n",
        "        plt.text(j, i, format(cm[i, j], fmt),\n",
        "                 horizontalalignment=\"center\",\n",
        "                 color=\"white\" if cm[i, j] > thresh else \"black\")\n",
        "\n",
        "    plt.tight_layout()\n",
        "    plt.ylabel('True label')\n",
        "    plt.xlabel('Predicted label')"
      ],
      "outputs": [],
      "execution_count": null,
      "metadata": {
        "jupyter": {
          "source_hidden": false,
          "outputs_hidden": false
        },
        "nteract": {
          "transient": {
            "deleting": false
          }
        },
        "gather": {
          "logged": 1639395658107
        },
        "id": "fDktmZMhAP4D"
      }
    },
    {
      "cell_type": "code",
      "source": [
        "from pyspark.mllib.evaluation import MulticlassMetrics\n",
        "import matplotlib.pyplot as plt\n",
        "\n",
        "res = dt_predictions_baseline.select(\"label\", \"prediction\")\n",
        "\n",
        "# convert result dataframe to rdd\n",
        "results = res.rdd.map(lambda pl: (pl.prediction, pl.label * 1.0))\n",
        "results.take(10)\n",
        "\n",
        "# instantiate metrics object (there is another object for categorial evaluation!!!)\n",
        "metrics = MulticlassMetrics(results)\n",
        "\n",
        "# show confusion matrix\n",
        "cmat = metrics.confusionMatrix().toArray()\n",
        "\n",
        "# Plot non-normalized confusion matrix\n",
        "plt.figure()\n",
        "plot_confusion_matrix(cmat, classes=class_names, normalize=True,\n",
        "                      title='Model01 Decision Tree Baseline Confusion matrix, without normalization')\n",
        "plt.show()"
      ],
      "outputs": [
        {
          "output_type": "stream",
          "name": "stderr",
          "text": [
            "/usr/local/lib/python3.9/dist-packages/pyspark/sql/context.py:157: FutureWarning: Deprecated in 3.0.0. Use SparkSession.builder.getOrCreate() instead.\n",
            "  warnings.warn(\n"
          ]
        },
        {
          "output_type": "stream",
          "name": "stdout",
          "text": [
            "Normalized confusion matrix\n",
            "[[0.51503204 0.48496796]\n",
            " [0.27868852 0.72131148]]\n"
          ]
        },
        {
          "output_type": "display_data",
          "data": {
            "text/plain": [
              "<Figure size 640x480 with 2 Axes>"
            ],
            "image/png": "[encoded data removed]"
          },
          "metadata": {}
        }
      ],
      "execution_count": null,
      "metadata": {
        "jupyter": {
          "source_hidden": false,
          "outputs_hidden": false
        },
        "nteract": {
          "transient": {
            "deleting": false
          }
        },
        "gather": {
          "logged": 1639395669610
        },
        "colab": {
          "base_uri": "https://localhost:8080/",
          "height": 596
        },
        "outputId": "8fa2a9f0-7dff-439b-975d-e20e5cc96505",
        "id": "-P3c4bWlAP4D"
      }
    },
    {
      "cell_type": "markdown",
      "source": [
        "### 8.4 Model Evaluation (Baseline)"
      ],
      "metadata": {
        "id": "dbZJux7mv5WY"
      }
    },
    {
      "cell_type": "code",
      "source": [
        "from pyspark.ml.evaluation import MulticlassClassificationEvaluator\n",
        "\n",
        "evaluator = BinaryClassificationEvaluator()\n",
        "evaluator_f = MulticlassClassificationEvaluator(labelCol='label', \n",
        "                                                predictionCol='prediction', \n",
        "                                                  metricName='f1')\n",
        "evaluator_acc = MulticlassClassificationEvaluator(labelCol='label', \n",
        "                                                  predictionCol='prediction', \n",
        "                                                  metricName='accuracy')\n",
        "\n",
        "test_roc = evaluator.evaluate(dt_model_baseline.transform(test), {evaluator.metricName: \"areaUnderROC\"})\n",
        "f1_score_train = evaluator_f.evaluate(dt_model_baseline.transform(train))\n",
        "acc_train = evaluator_acc.evaluate(dt_model_baseline.transform(train))\n",
        "f1_score_test = evaluator_f.evaluate(dt_model_baseline.transform(test))\n",
        "acc_test = evaluator_acc.evaluate(dt_model_baseline.transform(test))\n",
        "\n",
        "print('The train_accuracy: {0:2.2f}%'.format(acc_train*100))\n",
        "print('The train_F-score: {0:2.2f}%'.format(f1_score_train*100))\n",
        "print('The test_accuracy: {0:2.2f}%'.format(f1_score_test*100))\n",
        "print('The test_F-score: {0:2.2f}%'.format(acc_test*100))\n",
        "print(\"Test_SET Area Under ROC: \" + str(test_roc))"
      ],
      "metadata": {
        "colab": {
          "base_uri": "https://localhost:8080/"
        },
        "id": "_Dnan4EcwLEy",
        "outputId": "b311bfb3-8f65-456d-f1fb-58f6f0b732e1"
      },
      "execution_count": null,
      "outputs": [
        {
          "output_type": "stream",
          "name": "stdout",
          "text": [
            "The train_accuracy: 61.78%\n",
            "The train_F-score: 61.37%\n",
            "The test_accuracy: 59.75%\n",
            "The test_F-score: 60.23%\n",
            "Test_SET Area Under ROC: 0.5660114135244598\n"
          ]
        }
      ]
    },
    {
      "cell_type": "markdown",
      "source": [
        "### 8.5 Optimize Parameters by Grid Search"
      ],
      "metadata": {
        "id": "LBxirQfO3UxC"
      }
    },
    {
      "cell_type": "code",
      "source": [
        "from pyspark.ml.tuning import ParamGridBuilder\n",
        "\n",
        "paramGrid = (ParamGridBuilder()\n",
        "             .addGrid(dt_baseline.maxDepth, [5,30])\n",
        "             .build())\n"
      ],
      "metadata": {
        "id": "--TDf2Oo19RX"
      },
      "execution_count": null,
      "outputs": []
    },
    {
      "cell_type": "code",
      "source": [
        "from pyspark.ml.evaluation import BinaryClassificationEvaluator\n",
        "from pyspark.ml.tuning import CrossValidator\n",
        "\n",
        "evaluator = BinaryClassificationEvaluator()\n",
        "cv_dt = CrossValidator(estimator=dt_baseline, estimatorParamMaps=paramGrid,\n",
        "                       evaluator=evaluator, numFolds=5)"
      ],
      "metadata": {
        "id": "1F6WDvVT2ajy"
      },
      "execution_count": null,
      "outputs": []
    },
    {
      "cell_type": "code",
      "source": [
        "cvModel_dt = cv_dt.fit(train)\n",
        "avgMetrics_dt = cvModel_dt.avgMetrics\n",
        "bestModel_dt = cvModel_dt.bestModel\n",
        "print(\"Best maxDepth: \", bestModel_dt.getMaxDepth())\n",
        "bestModel_dt"
      ],
      "metadata": {
        "id": "hmQPDn4h2sSe",
        "colab": {
          "base_uri": "https://localhost:8080/"
        },
        "outputId": "2306a635-8c95-4ee0-d0ad-e3ef501ac29c"
      },
      "execution_count": null,
      "outputs": [
        {
          "output_type": "stream",
          "name": "stdout",
          "text": [
            "Best maxDepth:  30\n"
          ]
        },
        {
          "output_type": "execute_result",
          "data": {
            "text/plain": [
              "DecisionTreeClassificationModel: uid=DecisionTreeClassifier_337b233084cf, depth=27, numNodes=2679, numClasses=2, numFeatures=3"
            ]
          },
          "metadata": {},
          "execution_count": 107
        }
      ]
    },
    {
      "cell_type": "code",
      "source": [
        "from pyspark.ml.evaluation import MulticlassClassificationEvaluator\n",
        "evaluator_f = MulticlassClassificationEvaluator(labelCol='label', \n",
        "                                                predictionCol='prediction', \n",
        "                                                  metricName='f1')\n",
        "evaluator_acc = MulticlassClassificationEvaluator(labelCol='label', \n",
        "                                                  predictionCol='prediction', \n",
        "                                                  metricName='accuracy')\n",
        "\n",
        "test_roc = evaluator.evaluate(cvModel_dt.transform(test), {evaluator.metricName: \"areaUnderROC\"})\n",
        "train_roc = evaluator.evaluate(cvModel_dt.transform(train), {evaluator.metricName: \"areaUnderROC\"})\n",
        "f1_score_train = evaluator_f.evaluate(cvModel_dt.transform(train))\n",
        "acc_train = evaluator_acc.evaluate(cvModel_dt.transform(train))\n",
        "f1_score_test = evaluator_f.evaluate(cvModel_dt.transform(test))\n",
        "acc_test = evaluator_acc.evaluate(cvModel_dt.transform(test))\n",
        "print('The train_accuracy: {0:2.2f}%'.format(acc_train*100))\n",
        "print('The train_F-score: {0:2.2f}%'.format(f1_score_train*100))\n",
        "print('The test_accuracy: {0:2.2f}%'.format(f1_score_test*100))\n",
        "print('The test_F-score: {0:2.2f}%'.format(acc_test*100))\n",
        "print(\"Test_SET Area Under ROC: \" + str(test_roc))\n",
        "print(\"train_SET Area Under ROC: \" + str(train_roc))"
      ],
      "metadata": {
        "colab": {
          "base_uri": "https://localhost:8080/"
        },
        "id": "dULPSgWP24s-",
        "outputId": "6c9327c1-7328-44fd-a975-628920bc6efa"
      },
      "execution_count": null,
      "outputs": [
        {
          "output_type": "stream",
          "name": "stdout",
          "text": [
            "The train_accuracy: 86.49%\n",
            "The train_F-score: 86.45%\n",
            "The test_accuracy: 55.59%\n",
            "The test_F-score: 55.64%\n",
            "Test_SET Area Under ROC: 0.5702184613104191\n",
            "train_SET Area Under ROC: 0.8299503204527887\n"
          ]
        }
      ]
    },
    {
      "cell_type": "markdown",
      "source": [
        "### 8.6 Plot Confusion Matrix - Decision Tree (Optimized)"
      ],
      "metadata": {
        "nteract": {
          "transient": {
            "deleting": false
          }
        },
        "id": "ZEzJUd9NyPSJ"
      }
    },
    {
      "cell_type": "code",
      "source": [
        "# show the unique class name as string list\n",
        "class_temp = cvModel_dt.transform(test).select(\"label\").groupBy(\"label\")\\\n",
        "                        .count().sort('count', ascending=False).toPandas()\n",
        "class_temp = class_temp[\"label\"].values.tolist()\n",
        "class_names = map(str, class_temp)\n",
        "class_names"
      ],
      "outputs": [
        {
          "output_type": "execute_result",
          "data": {
            "text/plain": [
              "<map at 0x7faf14116790>"
            ]
          },
          "metadata": {},
          "execution_count": 109
        }
      ],
      "execution_count": null,
      "metadata": {
        "jupyter": {
          "source_hidden": false,
          "outputs_hidden": false
        },
        "nteract": {
          "transient": {
            "deleting": false
          }
        },
        "gather": {
          "logged": 1639395646632
        },
        "colab": {
          "base_uri": "https://localhost:8080/"
        },
        "outputId": "95aaf977-9fbd-4a06-b610-ffa5d04eddf5",
        "id": "iizkzaHkyPSJ"
      }
    },
    {
      "cell_type": "code",
      "source": [
        "## get the unique class name as string list \n",
        "class_temp = cvModel_dt.transform(test).select(\"label\").groupBy(\"label\")\\\n",
        "                        .count().sort('count', ascending=False).toPandas()\n",
        "class_temp = class_temp[\"label\"].values.tolist()\n",
        "class_names = map(str, class_temp)\n",
        "class_names = list(class_names)"
      ],
      "outputs": [],
      "execution_count": null,
      "metadata": {
        "jupyter": {
          "source_hidden": false,
          "outputs_hidden": false
        },
        "nteract": {
          "transient": {
            "deleting": false
          }
        },
        "gather": {
          "logged": 1639395654144
        },
        "id": "djJMlUjCyPSK"
      }
    },
    {
      "cell_type": "code",
      "source": [
        "## a function to plot Confusion Matrix\n",
        "import matplotlib.pyplot as plt\n",
        "import numpy as np\n",
        "import itertools\n",
        "\n",
        "def plot_confusion_matrix(cm, classes,\n",
        "                          normalize=False,\n",
        "                          title='Confusion matrix',\n",
        "                          cmap=plt.cm.Blues):\n",
        "    \"\"\"\n",
        "    This function prints and plots the confusion matrix.\n",
        "    Normalization can be applied by setting `normalize=True`.\n",
        "    \"\"\"\n",
        "    if normalize:\n",
        "        cm = cm.astype('float') / cm.sum(axis=1)[:, np.newaxis]\n",
        "        print(\"Normalized confusion matrix\")\n",
        "    else:\n",
        "        print('Confusion matrix, without normalization')\n",
        "\n",
        "    print(cm)\n",
        "\n",
        "    plt.imshow(cm, interpolation='nearest', cmap=cmap)\n",
        "    plt.title(title)\n",
        "    plt.colorbar()\n",
        "    tick_marks = np.arange(len(classes))\n",
        "    plt.xticks(tick_marks, classes, rotation=45)\n",
        "    plt.yticks(tick_marks, classes)\n",
        "\n",
        "    fmt = '.2f'\n",
        "    thresh = cm.max() / 2.\n",
        "    for i, j in itertools.product(range(cm.shape[0]), range(cm.shape[1])):\n",
        "        plt.text(j, i, format(cm[i, j], fmt),\n",
        "                 horizontalalignment=\"center\",\n",
        "                 color=\"white\" if cm[i, j] > thresh else \"black\")\n",
        "\n",
        "    plt.tight_layout()\n",
        "    plt.ylabel('True label')\n",
        "    plt.xlabel('Predicted label')"
      ],
      "outputs": [],
      "execution_count": null,
      "metadata": {
        "jupyter": {
          "source_hidden": false,
          "outputs_hidden": false
        },
        "nteract": {
          "transient": {
            "deleting": false
          }
        },
        "gather": {
          "logged": 1639395658107
        },
        "id": "558AZ3V7yPSK"
      }
    },
    {
      "cell_type": "code",
      "source": [
        "from pyspark.mllib.evaluation import MulticlassMetrics\n",
        "import matplotlib.pyplot as plt\n",
        "\n",
        "res = cvModel_dt.transform(test).select(\"label\", \"prediction\")\n",
        "\n",
        "# convert result dataframe to rdd\n",
        "results = res.rdd.map(lambda pl: (pl.prediction, pl.label * 1.0))\n",
        "results.take(10)\n",
        "\n",
        "# instantiate metrics object (there is another object for categorial evaluation!!!)\n",
        "metrics = MulticlassMetrics(results)\n",
        "\n",
        "# show confusion matrix\n",
        "cmat = metrics.confusionMatrix().toArray()\n",
        "\n",
        "# Plot non-normalized confusion matrix\n",
        "plt.figure()\n",
        "plot_confusion_matrix(cmat, classes=class_names, normalize=True,\n",
        "                      title='Model01 Decision Tree Optimization Confusion Matrix')\n",
        "plt.show()"
      ],
      "outputs": [
        {
          "output_type": "stream",
          "name": "stderr",
          "text": [
            "/usr/local/lib/python3.9/dist-packages/pyspark/sql/context.py:157: FutureWarning: Deprecated in 3.0.0. Use SparkSession.builder.getOrCreate() instead.\n",
            "  warnings.warn(\n"
          ]
        },
        {
          "output_type": "stream",
          "name": "stdout",
          "text": [
            "Normalized confusion matrix\n",
            "[[0.59235669 0.40764331]\n",
            " [0.47843943 0.52156057]]\n"
          ]
        },
        {
          "output_type": "display_data",
          "data": {
            "text/plain": [
              "<Figure size 640x480 with 2 Axes>"
            ],
            "image/png": "[encoded data removed]"
          },
          "metadata": {}
        }
      ],
      "execution_count": null,
      "metadata": {
        "jupyter": {
          "source_hidden": false,
          "outputs_hidden": false
        },
        "nteract": {
          "transient": {
            "deleting": false
          }
        },
        "gather": {
          "logged": 1639395669610
        },
        "colab": {
          "base_uri": "https://localhost:8080/",
          "height": 596
        },
        "outputId": "d2d310e8-43d8-4070-d89c-34db38fbe33b",
        "id": "fA3i2zwiyPSK"
      }
    },
    {
      "cell_type": "markdown",
      "source": [
        "### 8.7 Decision Tree Model Performance Visualization"
      ],
      "metadata": {
        "id": "ToChCYUq501A"
      }
    },
    {
      "cell_type": "code",
      "source": [
        "# plt.style.use('ggplot')\n",
        "\n",
        "model_dataset = (\"DT_Train_B\", \"DT_Test_B\", \"DT_Train_O\", \"DT_Test_O\")\n",
        "\n",
        "metric_score=pd.read_csv('/content/drive/MyDrive/gp_527/dt.csv')\n",
        "\n",
        "x = np.arange(len(model_dataset))  # the label locations\n",
        "width = 0.22  # the width of the bars\n",
        "multiplier = 0\n",
        "\n",
        "fig, ax = plt.subplots(figsize=(10,5), layout='constrained')\n",
        "\n",
        "for attribute, measurement in metric_score.items():\n",
        "    offset = width * multiplier\n",
        "    rects = ax.bar(x + offset, measurement, width, label=attribute, edgecolor='white')\n",
        "    ax.bar_label(rects, padding=3)\n",
        "    multiplier += 1\n",
        "\n",
        "# Add some text for labels, title and custom x-axis tick labels, etc.\n",
        "ax.set_ylabel('Score')\n",
        "ax.set_title('Decision Tree Model Perfomance')\n",
        "ax.set_xticks(x + width, model_dataset)\n",
        "ax.legend(loc='upper right', ncols=3)\n",
        "ax.set_ylim(0, 1)\n",
        "plt.savefig('decision_tree.png', dpi=300)\n",
        "# files.download('decision_tree.png')\n",
        "plt.show()"
      ],
      "metadata": {
        "colab": {
          "base_uri": "https://localhost:8080/",
          "height": 528
        },
        "id": "bFrcDMvqmiQg",
        "outputId": "77ab6d16-1bc6-49f9-df14-73cc0b32d994"
      },
      "execution_count": null,
      "outputs": [
        {
          "output_type": "display_data",
          "data": {
            "text/plain": [
              "<Figure size 1000x500 with 1 Axes>"
            ],
            "image/png": "[encoded data removed]"
          },
          "metadata": {}
        }
      ]
    },
    {
      "cell_type": "markdown",
      "source": [],
      "metadata": {
        "id": "S55kmKcSBOlq"
      }
    },
    {
      "cell_type": "markdown",
      "source": [
        "## 9 Model02 - Random Forest"
      ],
      "metadata": {
        "id": "OpHANECvBO8c"
      }
    },
    {
      "cell_type": "markdown",
      "source": [
        "### 9.1 Train and Test Model - Random Forest (Baseline)"
      ],
      "metadata": {
        "id": "jShEAnYtBO8d"
      }
    },
    {
      "cell_type": "code",
      "source": [
        "from pyspark.ml.classification import RandomForestClassifier\n",
        "\n",
        "rf_baseline = RandomForestClassifier(featuresCol='features', labelCol='label')\n",
        "\n",
        "rf_model_baseline = rf_baseline.fit(train)\n",
        "\n",
        "# Make predictions\n",
        "rf_predictions_baseline = rf_model_baseline.transform(train)\n",
        "rf_predictions_baseline.show(5)\n"
      ],
      "metadata": {
        "colab": {
          "base_uri": "https://localhost:8080/"
        },
        "outputId": "9d67c767-f168-4385-efdc-23768fc77c27",
        "id": "gd-uY_r6BO8d"
      },
      "execution_count": null,
      "outputs": [
        {
          "output_type": "stream",
          "name": "stdout",
          "text": [
            "+--------------------+-----+--------------------+--------------------+----------+\n",
            "|            features|label|       rawPrediction|         probability|prediction|\n",
            "+--------------------+-----+--------------------+--------------------+----------+\n",
            "|[0.0,0.0028500530...|  1.0|[15.2736666618748...|[0.76368333309374...|       0.0|\n",
            "|[0.0,0.0030453450...|  0.0|[15.2736666618748...|[0.76368333309374...|       0.0|\n",
            "|[0.0,0.0031932162...|  0.0|[14.5065825737436...|[0.72532912868718...|       0.0|\n",
            "|[0.0,0.0032321567...|  0.0|[7.02957962328912...|[0.35147898116445...|       1.0|\n",
            "|[0.0,0.0032722277...|  0.0|[15.4718013650240...|[0.77359006825120...|       0.0|\n",
            "+--------------------+-----+--------------------+--------------------+----------+\n",
            "only showing top 5 rows\n",
            "\n"
          ]
        }
      ]
    },
    {
      "cell_type": "markdown",
      "source": [
        "### 9.2 Model evaluation - Random Forest (Baseline)"
      ],
      "metadata": {
        "nteract": {
          "transient": {
            "deleting": false
          }
        },
        "id": "m9lDXU-SBO8d"
      }
    },
    {
      "cell_type": "markdown",
      "source": [
        "#### ROC"
      ],
      "metadata": {
        "id": "Q03HkatEBO8e"
      }
    },
    {
      "cell_type": "code",
      "source": [
        "from pyspark.ml.evaluation import BinaryClassificationEvaluator\n",
        "\n",
        "roc_evaluator = BinaryClassificationEvaluator(labelCol=\"label\", \n",
        "                                          rawPredictionCol=\"prediction\", \n",
        "                                          metricName=\"areaUnderROC\")\n",
        "\n",
        "rf_areaUnderROC_baseline = roc_evaluator.evaluate(rf_predictions_baseline)\n",
        "\n",
        "print(\"Here are the results!\")\n",
        "print('-'*80)\n",
        "print('A Random Forest baseline model had ROC of: {0:2.2f}%'.format(rf_areaUnderROC_baseline*100))"
      ],
      "metadata": {
        "colab": {
          "base_uri": "https://localhost:8080/"
        },
        "outputId": "8421067a-0414-4297-f406-18194c604d03",
        "id": "cHjpIK6ABO8e"
      },
      "execution_count": null,
      "outputs": [
        {
          "output_type": "stream",
          "name": "stdout",
          "text": [
            "Here are the results!\n",
            "--------------------------------------------------------------------------------\n",
            "A Random Forest baseline model had ROC of: 63.82%\n"
          ]
        }
      ]
    },
    {
      "cell_type": "markdown",
      "source": [
        "#### Accuracy & F-score"
      ],
      "metadata": {
        "id": "Qk5mqin_BO8e"
      }
    },
    {
      "cell_type": "code",
      "source": [
        "from pyspark.ml.evaluation import MulticlassClassificationEvaluator\n",
        "\n",
        "# evaluate\n",
        "acc_evaluator = MulticlassClassificationEvaluator(labelCol='label', \n",
        "                                                  predictionCol='prediction', \n",
        "                                                  metricName='accuracy')\n",
        "rf_acc_baseline = acc_evaluator.evaluate(rf_predictions_baseline)\n",
        "\n",
        "f1_evaluator = MulticlassClassificationEvaluator(labelCol='label', \n",
        "                                                  predictionCol='prediction', \n",
        "                                                  metricName='f1')\n",
        "rf_f1_baseline = f1_evaluator.evaluate(rf_predictions_baseline)\n",
        "\n",
        "print(\"Here are the results!\")\n",
        "print('-'*80)\n",
        "print('A Random Forest baseline model had an accuracy of: {0:2.2f}%'.format(rf_acc_baseline*100))\n",
        "print('A Random Forest baseline model had F-score of: {0:2.2f}%'.format(rf_f1_baseline*100))"
      ],
      "metadata": {
        "colab": {
          "base_uri": "https://localhost:8080/"
        },
        "outputId": "de9b5207-a766-470b-dacc-7a9ffefc909f",
        "id": "86YOoouKBO8e"
      },
      "execution_count": null,
      "outputs": [
        {
          "output_type": "stream",
          "name": "stdout",
          "text": [
            "Here are the results!\n",
            "--------------------------------------------------------------------------------\n",
            "A Random Forest baseline model had an accuracy of: 63.73%\n",
            "A Random Forest baseline model had F-score of: 63.18%\n"
          ]
        }
      ]
    },
    {
      "cell_type": "markdown",
      "source": [
        "### 9.3 Plot Confusion Matrix - Random Forest (Baseline)"
      ],
      "metadata": {
        "nteract": {
          "transient": {
            "deleting": false
          }
        },
        "id": "KzlBBDNRBO8e"
      }
    },
    {
      "cell_type": "code",
      "source": [
        "# show the unique class name as string list\n",
        "class_temp = rf_predictions_baseline.select(\"label\").groupBy(\"label\")\\\n",
        "                        .count().sort('count', ascending=False).toPandas()\n",
        "class_temp = class_temp[\"label\"].values.tolist()\n",
        "class_names = map(str, class_temp)\n",
        "class_names"
      ],
      "outputs": [
        {
          "output_type": "execute_result",
          "data": {
            "text/plain": [
              "<map at 0x7faf1bf06b50>"
            ]
          },
          "metadata": {},
          "execution_count": 33
        }
      ],
      "execution_count": null,
      "metadata": {
        "jupyter": {
          "source_hidden": false,
          "outputs_hidden": false
        },
        "nteract": {
          "transient": {
            "deleting": false
          }
        },
        "gather": {
          "logged": 1639395646632
        },
        "colab": {
          "base_uri": "https://localhost:8080/"
        },
        "outputId": "b04cccfb-5ab3-4b5e-8a69-76bba4e237a4",
        "id": "zCFCt8SiBO8f"
      }
    },
    {
      "cell_type": "code",
      "source": [
        "## get the unique class name as string list \n",
        "class_temp = rf_predictions_baseline.select(\"label\").groupBy(\"label\")\\\n",
        "                        .count().sort('count', ascending=False).toPandas()\n",
        "class_temp = class_temp[\"label\"].values.tolist()\n",
        "class_names = map(str, class_temp)\n",
        "class_names = list(class_names)"
      ],
      "outputs": [],
      "execution_count": null,
      "metadata": {
        "jupyter": {
          "source_hidden": false,
          "outputs_hidden": false
        },
        "nteract": {
          "transient": {
            "deleting": false
          }
        },
        "gather": {
          "logged": 1639395654144
        },
        "id": "mMPwpykhBO8f"
      }
    },
    {
      "cell_type": "code",
      "source": [
        "## a function to plot Confusion Matrix\n",
        "import matplotlib.pyplot as plt\n",
        "import numpy as np\n",
        "import itertools\n",
        "\n",
        "def plot_confusion_matrix(cm, classes,\n",
        "                          normalize=False,\n",
        "                          title='Confusion matrix',\n",
        "                          cmap=plt.cm.Blues):\n",
        "    \"\"\"\n",
        "    This function prints and plots the confusion matrix.\n",
        "    Normalization can be applied by setting `normalize=True`.\n",
        "    \"\"\"\n",
        "    if normalize:\n",
        "        cm = cm.astype('float') / cm.sum(axis=1)[:, np.newaxis]\n",
        "        print(\"Normalized confusion matrix\")\n",
        "    else:\n",
        "        print('Confusion matrix, without normalization')\n",
        "\n",
        "    print(cm)\n",
        "\n",
        "    plt.imshow(cm, interpolation='nearest', cmap=cmap)\n",
        "    plt.title(title)\n",
        "    plt.colorbar()\n",
        "    tick_marks = np.arange(len(classes))\n",
        "    plt.xticks(tick_marks, classes, rotation=45)\n",
        "    plt.yticks(tick_marks, classes)\n",
        "\n",
        "    fmt = '.2f'\n",
        "    thresh = cm.max() / 2.\n",
        "    for i, j in itertools.product(range(cm.shape[0]), range(cm.shape[1])):\n",
        "        plt.text(j, i, format(cm[i, j], fmt),\n",
        "                 horizontalalignment=\"center\",\n",
        "                 color=\"white\" if cm[i, j] > thresh else \"black\")\n",
        "\n",
        "    plt.tight_layout()\n",
        "    plt.ylabel('True label')\n",
        "    plt.xlabel('Predicted label')"
      ],
      "outputs": [],
      "execution_count": null,
      "metadata": {
        "jupyter": {
          "source_hidden": false,
          "outputs_hidden": false
        },
        "nteract": {
          "transient": {
            "deleting": false
          }
        },
        "gather": {
          "logged": 1639395658107
        },
        "id": "qsh8-rnfBO8f"
      }
    },
    {
      "cell_type": "code",
      "source": [
        "from pyspark.mllib.evaluation import MulticlassMetrics\n",
        "import matplotlib.pyplot as plt\n",
        "\n",
        "res = rf_predictions_baseline.select(\"label\", \"prediction\")\n",
        "\n",
        "# convert result dataframe to rdd\n",
        "results = res.rdd.map(lambda pl: (pl.prediction, pl.label * 1.0))\n",
        "results.take(10)\n",
        "\n",
        "# instantiate metrics object (there is another object for categorial evaluation!!!)\n",
        "metrics = MulticlassMetrics(results)\n",
        "\n",
        "# show confusion matrix\n",
        "cmat = metrics.confusionMatrix().toArray()\n",
        "\n",
        "# Plot non-normalized confusion matrix\n",
        "plt.figure()\n",
        "plot_confusion_matrix(cmat, classes=class_names, normalize=True,\n",
        "                      title='Model02 Random Forest Baseline Confusion matrix, without normalization')\n",
        "plt.show()"
      ],
      "outputs": [
        {
          "output_type": "stream",
          "name": "stderr",
          "text": [
            "/usr/local/lib/python3.9/dist-packages/pyspark/sql/context.py:157: FutureWarning: Deprecated in 3.0.0. Use SparkSession.builder.getOrCreate() instead.\n",
            "  warnings.warn(\n"
          ]
        },
        {
          "output_type": "stream",
          "name": "stdout",
          "text": [
            "Normalized confusion matrix\n",
            "[[0.51522593 0.48477407]\n",
            " [0.23878365 0.76121635]]\n"
          ]
        },
        {
          "output_type": "display_data",
          "data": {
            "text/plain": [
              "<Figure size 640x480 with 2 Axes>"
            ],
            "image/png": "[encoded data removed]"
          },
          "metadata": {}
        }
      ],
      "execution_count": null,
      "metadata": {
        "jupyter": {
          "source_hidden": false,
          "outputs_hidden": false
        },
        "nteract": {
          "transient": {
            "deleting": false
          }
        },
        "gather": {
          "logged": 1639395669610
        },
        "colab": {
          "base_uri": "https://localhost:8080/",
          "height": 596
        },
        "outputId": "0e204328-51c6-4a70-c6f8-f97ade75bb52",
        "id": "dJ-OzJu8BO81"
      }
    },
    {
      "cell_type": "code",
      "source": [],
      "metadata": {
        "id": "f1Gvuz0TBO82"
      },
      "execution_count": null,
      "outputs": []
    },
    {
      "cell_type": "markdown",
      "source": [
        "### 9.4 Model Evaluation (Baseline)"
      ],
      "metadata": {
        "id": "4dl0Zv2BBO82"
      }
    },
    {
      "cell_type": "code",
      "source": [
        "from pyspark.ml.evaluation import MulticlassClassificationEvaluator\n",
        "\n",
        "evaluator = BinaryClassificationEvaluator()\n",
        "evaluator_f = MulticlassClassificationEvaluator(labelCol='label', \n",
        "                                                predictionCol='prediction', \n",
        "                                                  metricName='f1')\n",
        "evaluator_acc = MulticlassClassificationEvaluator(labelCol='label', \n",
        "                                                  predictionCol='prediction', \n",
        "                                                  metricName='accuracy')\n",
        "\n",
        "test_roc = evaluator.evaluate(rf_model_baseline.transform(test), {evaluator.metricName: \"areaUnderROC\"})\n",
        "f1_score_train = evaluator_f.evaluate(rf_model_baseline.transform(train))\n",
        "acc_train = evaluator_acc.evaluate(rf_model_baseline.transform(train))\n",
        "f1_score_test = evaluator_f.evaluate(rf_model_baseline.transform(test))\n",
        "acc_test = evaluator_acc.evaluate(rf_model_baseline.transform(test))\n",
        "\n",
        "print('The train_accuracy: {0:2.2f}%'.format(acc_train*100))\n",
        "print('The train_F-score: {0:2.2f}%'.format(f1_score_train*100))\n",
        "print('The test_accuracy: {0:2.2f}%'.format(f1_score_test*100))\n",
        "print('The test_F-score: {0:2.2f}%'.format(acc_test*100))\n",
        "print(\"Test_SET Area Under ROC: \" + str(test_roc))"
      ],
      "metadata": {
        "colab": {
          "base_uri": "https://localhost:8080/"
        },
        "outputId": "afe51f60-89d2-4dde-d1f6-36ae69f18c84",
        "id": "KfLZVUoHBO82"
      },
      "execution_count": null,
      "outputs": [
        {
          "output_type": "stream",
          "name": "stdout",
          "text": [
            "The train_accuracy: 63.73%\n",
            "The train_F-score: 63.18%\n",
            "The test_accuracy: 58.87%\n",
            "The test_F-score: 59.50%\n",
            "Test_SET Area Under ROC: 0.6309027293033648\n"
          ]
        }
      ]
    },
    {
      "cell_type": "markdown",
      "source": [
        "### 9.5 Optimize Parameters by Grid Search"
      ],
      "metadata": {
        "id": "pAQy9GUXBO82"
      }
    },
    {
      "cell_type": "code",
      "source": [
        "from pyspark.ml.tuning import ParamGridBuilder\n",
        "\n",
        "paramGrid = (ParamGridBuilder()\n",
        "             .addGrid(rf_baseline.numTrees, [5，10，20])\n",
        "             .addGrid(rf_baseline.maxDepth, [5，10，20])\n",
        "             .build())"
      ],
      "metadata": {
        "id": "b-FvAdYTBO83"
      },
      "execution_count": null,
      "outputs": []
    },
    {
      "cell_type": "code",
      "source": [
        "from pyspark.ml.evaluation import BinaryClassificationEvaluator\n",
        "from pyspark.ml.tuning import CrossValidator\n",
        "\n",
        "evaluator = BinaryClassificationEvaluator()\n",
        "cv_rf = CrossValidator(estimator=rf_baseline, estimatorParamMaps=paramGrid, evaluator=evaluator, numFolds=5)"
      ],
      "metadata": {
        "id": "tTQFeXWSBO83"
      },
      "execution_count": null,
      "outputs": []
    },
    {
      "cell_type": "code",
      "source": [
        "cvModel_rf = cv_rf.fit(train)"
      ],
      "metadata": {
        "id": "mdQ7gdbIBO83"
      },
      "execution_count": null,
      "outputs": []
    },
    {
      "cell_type": "code",
      "source": [
        "avgMetrics_rf = cvModel_rf.avgMetrics\n",
        "bestModel_rf = cvModel_rf.bestModel\n",
        "print(\"Best maxDepth: \", bestModel_rf.getMaxDepth())\n",
        "bestModel_rf"
      ],
      "metadata": {
        "colab": {
          "base_uri": "https://localhost:8080/"
        },
        "outputId": "5bbe5fc0-a785-485d-a95b-b1d2460526f0",
        "id": "jJxcSEhEBO83"
      },
      "execution_count": null,
      "outputs": [
        {
          "output_type": "stream",
          "name": "stdout",
          "text": [
            "Best maxDepth:  5\n"
          ]
        },
        {
          "output_type": "execute_result",
          "data": {
            "text/plain": [
              "RandomForestClassificationModel: uid=RandomForestClassifier_afe4a6f5e371, numTrees=20, numClasses=2, numFeatures=5"
            ]
          },
          "metadata": {},
          "execution_count": 41
        }
      ]
    },
    {
      "cell_type": "code",
      "source": [
        "avgMetrics_rf"
      ],
      "metadata": {
        "colab": {
          "base_uri": "https://localhost:8080/"
        },
        "outputId": "2a83cfb2-e65b-41cf-add6-74a2ed842cb3",
        "id": "8oU2PwJ1BO83"
      },
      "execution_count": null,
      "outputs": [
        {
          "output_type": "execute_result",
          "data": {
            "text/plain": [
              "[0.6527857084098251]"
            ]
          },
          "metadata": {},
          "execution_count": 42
        }
      ]
    },
    {
      "cell_type": "code",
      "source": [
        "from pyspark.ml.evaluation import MulticlassClassificationEvaluator\n",
        "evaluator_f = MulticlassClassificationEvaluator(labelCol='label', \n",
        "                                                predictionCol='prediction', \n",
        "                                                  metricName='f1')\n",
        "evaluator_acc = MulticlassClassificationEvaluator(labelCol='label', \n",
        "                                                  predictionCol='prediction',\n",
        "                                                  metricName='accuracy')\n",
        "test_roc = evaluator.evaluate(cvModel_rf.transform(test), {evaluator.metricName: \"areaUnderROC\"})\n",
        "f1_score_train = evaluator_f.evaluate(cvModel_rf.transform(train))\n",
        "acc_train = evaluator_acc.evaluate(cvModel_rf.transform(train))\n",
        "f1_score_test = evaluator_f.evaluate(cvModel_rf.transform(test))\n",
        "acc_test = evaluator_acc.evaluate(cvModel_rf.transform(test))\n",
        "\n",
        "\n",
        "print('The train_accuracy: {0:2.2f}%'.format(acc_train*100))\n",
        "print('The train_F-score: {0:2.2f}%'.format(f1_score_train*100))\n",
        "print('The test_accuracy: {0:2.2f}%'.format(f1_score_test*100))\n",
        "print('The test_F-score: {0:2.2f}%'.format(acc_test*100))\n",
        "print(\"Test_SET Area Under ROC: \" + str(test_roc))\n",
        "train_roc = evaluator.evaluate(cvModel_rf.transform(train), {evaluator.metricName: \"areaUnderROC\"})\n",
        "print(\"train_SET Area Under ROC: \" + str(train_roc))"
      ],
      "metadata": {
        "colab": {
          "base_uri": "https://localhost:8080/"
        },
        "outputId": "c465fb83-3d17-478b-e76b-3976d024e4a0",
        "id": "yUcNSQdIBO84"
      },
      "execution_count": null,
      "outputs": [
        {
          "output_type": "stream",
          "name": "stdout",
          "text": [
            "The train_accuracy: 63.73%\n",
            "The train_F-score: 63.18%\n",
            "The test_accuracy: 58.87%\n",
            "The test_F-score: 59.50%\n",
            "Test_SET Area Under ROC: 0.6309027293033648\n",
            "train_SET Area Under ROC: 0.6856168968536434\n"
          ]
        }
      ]
    },
    {
      "cell_type": "code",
      "source": [],
      "metadata": {
        "id": "qxed3vyaBO84"
      },
      "execution_count": null,
      "outputs": []
    },
    {
      "cell_type": "markdown",
      "source": [
        "### 9.6 Plot Confusion Matrix (Optimized)"
      ],
      "metadata": {
        "nteract": {
          "transient": {
            "deleting": false
          }
        },
        "id": "mSHTu64ZBO84"
      }
    },
    {
      "cell_type": "code",
      "source": [
        "# show the unique class name as string list\n",
        "class_temp = cvModel_rf.transform(test).select(\"label\").groupBy(\"label\")\\\n",
        "                        .count().sort('count', ascending=False).toPandas()\n",
        "class_temp = class_temp[\"label\"].values.tolist()\n",
        "class_names = map(str, class_temp)\n",
        "class_names"
      ],
      "outputs": [
        {
          "output_type": "execute_result",
          "data": {
            "text/plain": [
              "<map at 0x7faf14110d00>"
            ]
          },
          "metadata": {},
          "execution_count": 44
        }
      ],
      "execution_count": null,
      "metadata": {
        "jupyter": {
          "source_hidden": false,
          "outputs_hidden": false
        },
        "nteract": {
          "transient": {
            "deleting": false
          }
        },
        "gather": {
          "logged": 1639395646632
        },
        "colab": {
          "base_uri": "https://localhost:8080/"
        },
        "outputId": "8f9417be-b2a5-41b5-edc0-0d5858343cb8",
        "id": "bwqj3iUBBO84"
      }
    },
    {
      "cell_type": "code",
      "source": [
        "## get the unique class name as string list \n",
        "class_temp = cvModel_rf.transform(test).select(\"label\").groupBy(\"label\")\\\n",
        "                        .count().sort('count', ascending=False).toPandas()\n",
        "class_temp = class_temp[\"label\"].values.tolist()\n",
        "class_names = map(str, class_temp)\n",
        "class_names = list(class_names)"
      ],
      "outputs": [],
      "execution_count": null,
      "metadata": {
        "jupyter": {
          "source_hidden": false,
          "outputs_hidden": false
        },
        "nteract": {
          "transient": {
            "deleting": false
          }
        },
        "gather": {
          "logged": 1639395654144
        },
        "id": "YFwkaO3-BO84"
      }
    },
    {
      "cell_type": "code",
      "source": [
        "## a function to plot Confusion Matrix\n",
        "import matplotlib.pyplot as plt\n",
        "import numpy as np\n",
        "import itertools\n",
        "\n",
        "def plot_confusion_matrix(cm, classes,\n",
        "                          normalize=False,\n",
        "                          title='Confusion matrix',\n",
        "                          cmap=plt.cm.Blues):\n",
        "    \"\"\"\n",
        "    This function prints and plots the confusion matrix.\n",
        "    Normalization can be applied by setting `normalize=True`.\n",
        "    \"\"\"\n",
        "    if normalize:\n",
        "        cm = cm.astype('float') / cm.sum(axis=1)[:, np.newaxis]\n",
        "        print(\"Normalized confusion matrix\")\n",
        "    else:\n",
        "        print('Confusion matrix, without normalization')\n",
        "\n",
        "    print(cm)\n",
        "\n",
        "    plt.imshow(cm, interpolation='nearest', cmap=cmap)\n",
        "    plt.title(title)\n",
        "    plt.colorbar()\n",
        "    tick_marks = np.arange(len(classes))\n",
        "    plt.xticks(tick_marks, classes, rotation=45)\n",
        "    plt.yticks(tick_marks, classes)\n",
        "\n",
        "    fmt = '.2f'\n",
        "    thresh = cm.max() / 2.\n",
        "    for i, j in itertools.product(range(cm.shape[0]), range(cm.shape[1])):\n",
        "        plt.text(j, i, format(cm[i, j], fmt),\n",
        "                 horizontalalignment=\"center\",\n",
        "                 color=\"white\" if cm[i, j] > thresh else \"black\")\n",
        "\n",
        "    plt.tight_layout()\n",
        "    plt.ylabel('True label')\n",
        "    plt.xlabel('Predicted label')"
      ],
      "outputs": [],
      "execution_count": null,
      "metadata": {
        "jupyter": {
          "source_hidden": false,
          "outputs_hidden": false
        },
        "nteract": {
          "transient": {
            "deleting": false
          }
        },
        "gather": {
          "logged": 1639395658107
        },
        "id": "nbuKTVtaBO85"
      }
    },
    {
      "cell_type": "code",
      "source": [
        "from pyspark.mllib.evaluation import MulticlassMetrics\n",
        "import matplotlib.pyplot as plt\n",
        "\n",
        "res = cvModel_rf.transform(test).select(\"label\", \"prediction\")\n",
        "\n",
        "# convert result dataframe to rdd\n",
        "results = res.rdd.map(lambda pl: (pl.prediction, pl.label * 1.0))\n",
        "results.take(10)\n",
        "\n",
        "# instantiate metrics object (there is another object for categorial evaluation!!!)\n",
        "metrics = MulticlassMetrics(results)\n",
        "\n",
        "# show confusion matrix\n",
        "cmat = metrics.confusionMatrix().toArray()\n",
        "\n",
        "# Plot non-normalized confusion matrix\n",
        "plt.figure()\n",
        "plot_confusion_matrix(cmat, classes=class_names, normalize=True,\n",
        "                      title='Model02 Rondom Forest Optimization Confusion Matrix')\n",
        "plt.show()\n",
        "plt.savefig('rfcm.png')"
      ],
      "outputs": [
        {
          "output_type": "stream",
          "name": "stderr",
          "text": [
            "/usr/local/lib/python3.9/dist-packages/pyspark/sql/context.py:157: FutureWarning: Deprecated in 3.0.0. Use SparkSession.builder.getOrCreate() instead.\n",
            "  warnings.warn(\n"
          ]
        },
        {
          "output_type": "stream",
          "name": "stdout",
          "text": [
            "Normalized confusion matrix\n",
            "[[0.46982759 0.53017241]\n",
            " [0.28744939 0.71255061]]\n"
          ]
        },
        {
          "output_type": "display_data",
          "data": {
            "text/plain": [
              "<Figure size 640x480 with 2 Axes>"
            ],
            "image/png": "[encoded data removed]"
          },
          "metadata": {}
        },
        {
          "output_type": "display_data",
          "data": {
            "text/plain": [
              "<Figure size 640x480 with 0 Axes>"
            ]
          },
          "metadata": {}
        }
      ],
      "execution_count": null,
      "metadata": {
        "jupyter": {
          "source_hidden": false,
          "outputs_hidden": false
        },
        "nteract": {
          "transient": {
            "deleting": false
          }
        },
        "gather": {
          "logged": 1639395669610
        },
        "colab": {
          "base_uri": "https://localhost:8080/",
          "height": 614
        },
        "outputId": "aee97b58-a83b-4672-9eda-f81ad5ea6373",
        "id": "z7J8by45BO85"
      }
    },
    {
      "cell_type": "markdown",
      "source": [
        "### 9.7 Random Forest Model Performance Visualization"
      ],
      "metadata": {
        "id": "NbXXwQMLBO85"
      }
    },
    {
      "cell_type": "code",
      "source": [
        "import matplotlib.pyplot as plt\n",
        "import numpy as np\n",
        "import itertools\n",
        "# plt.style.use('ggplot')\n",
        "\n",
        "model_dataset = (\"RF_Train_B\", \"RF_Test_B\", \"RF_Train_O\", \"RF_Test_O\")\n",
        "metric_score=pd.read_csv('/content/drive/MyDrive/gp_527/rf.csv')\n",
        "\n",
        "x = np.arange(len(model_dataset))  # the label locations\n",
        "width = 0.22  # the width of the bars\n",
        "multiplier = 0\n",
        "\n",
        "fig, ax = plt.subplots(figsize=(10,5), layout='constrained')\n",
        "\n",
        "for attribute, measurement in metric_score.items():\n",
        "    offset = width * multiplier\n",
        "    rects = ax.bar(x + offset, measurement, width, label=attribute, edgecolor='white')\n",
        "    ax.bar_label(rects, padding=3)\n",
        "    multiplier += 1\n",
        "\n",
        "# Add some text for labels, title and custom x-axis tick labels, etc.\n",
        "ax.set_ylabel('Score')\n",
        "ax.set_title('Random Forest Model Perfomance')\n",
        "ax.set_xticks(x + width, model_dataset)\n",
        "ax.legend(loc='upper right', ncols=3)\n",
        "ax.set_ylim(0, 1)\n",
        "plt.savefig('rf.png', dpi=300)\n",
        "# files.download('decision_tree.png')\n",
        "plt.show()"
      ],
      "metadata": {
        "colab": {
          "base_uri": "https://localhost:8080/",
          "height": 528
        },
        "outputId": "2c4e3a6b-dae6-489a-c94f-0f6c1ef37bab",
        "id": "EHTSK2EwBO85"
      },
      "execution_count": null,
      "outputs": [
        {
          "output_type": "display_data",
          "data": {
            "text/plain": [
              "<Figure size 1000x500 with 1 Axes>"
            ],
            "image/png": "[encoded data removed]"
          },
          "metadata": {}
        }
      ]
    },
    {
      "cell_type": "code",
      "source": [],
      "metadata": {
        "id": "YQ1JIriOBO85"
      },
      "execution_count": null,
      "outputs": []
    },
    {
      "cell_type": "markdown",
      "source": [
        "## 10 Model03 - GBT (Baseline)"
      ],
      "metadata": {
        "id": "VlTG9de9Bmwn"
      }
    },
    {
      "cell_type": "markdown",
      "source": [
        "### 10.1 Train and Test Model - GBT (Baseline)"
      ],
      "metadata": {
        "id": "k6ponQevBmwo"
      }
    },
    {
      "cell_type": "code",
      "source": [
        "from pyspark.ml.classification import GBTClassifier\n",
        "\n",
        "gbt_baseline = GBTClassifier(featuresCol='features', labelCol='label')\n",
        "\n",
        "gbt_model_baseline = gbt_baseline.fit(train)\n",
        "\n",
        "# Make predictions\n",
        "gbt_predictions_baseline = gbt_model_baseline.transform(train)\n",
        "gbt_predictions_baseline.show(5)\n"
      ],
      "metadata": {
        "colab": {
          "base_uri": "https://localhost:8080/"
        },
        "outputId": "7773dfb2-1465-43d1-8cea-d629b5fd78ec",
        "id": "9FPeJVmpBmwo"
      },
      "execution_count": null,
      "outputs": [
        {
          "output_type": "stream",
          "name": "stdout",
          "text": [
            "+--------------------+-----+--------------------+--------------------+----------+\n",
            "|            features|label|       rawPrediction|         probability|prediction|\n",
            "+--------------------+-----+--------------------+--------------------+----------+\n",
            "|[0.0,0.0028500530...|  1.0|[0.61716655038616...|[0.77457606830947...|       0.0|\n",
            "|[0.0,0.0030453450...|  0.0|[0.72738343418541...|[0.81073097577518...|       0.0|\n",
            "|[0.0,0.0031932162...|  0.0|[1.03924525479205...|[0.88879492504796...|       0.0|\n",
            "|[0.0,0.0032321567...|  0.0|[0.02537142953770...|[0.51268299349809...|       0.0|\n",
            "|[0.0,0.0032722277...|  0.0|[0.73015730907557...|[0.81158079009568...|       0.0|\n",
            "+--------------------+-----+--------------------+--------------------+----------+\n",
            "only showing top 5 rows\n",
            "\n"
          ]
        }
      ]
    },
    {
      "cell_type": "markdown",
      "source": [
        "### 10.2 Model evaluation - GBT (Baseline)"
      ],
      "metadata": {
        "nteract": {
          "transient": {
            "deleting": false
          }
        },
        "id": "qSCkEXUEBmwo"
      }
    },
    {
      "cell_type": "markdown",
      "source": [
        "#### ROC"
      ],
      "metadata": {
        "id": "gOxQH5ceBmwo"
      }
    },
    {
      "cell_type": "code",
      "source": [
        "from pyspark.ml.evaluation import BinaryClassificationEvaluator\n",
        "\n",
        "roc_evaluator = BinaryClassificationEvaluator(labelCol=\"label\", \n",
        "                                          rawPredictionCol=\"prediction\", \n",
        "                                          metricName=\"areaUnderROC\")\n",
        "\n",
        "gbt_areaUnderROC_baseline = roc_evaluator.evaluate(gbt_predictions_baseline)\n",
        "\n",
        "print(\"Here are the results!\")\n",
        "print('-'*80)\n",
        "print('A GBTClassifer baseline model had ROC of: {0:2.2f}%'.format(gbt_areaUnderROC_baseline*100))"
      ],
      "metadata": {
        "colab": {
          "base_uri": "https://localhost:8080/"
        },
        "outputId": "34d2516b-cb98-4d79-969b-36290327efab",
        "id": "SoYcbX3gBmwp"
      },
      "execution_count": null,
      "outputs": [
        {
          "output_type": "stream",
          "name": "stdout",
          "text": [
            "Here are the results!\n",
            "--------------------------------------------------------------------------------\n",
            "A GBTClassifer baseline model had ROC of: 67.72%\n"
          ]
        }
      ]
    },
    {
      "cell_type": "markdown",
      "source": [
        "#### Accuracy & F-score"
      ],
      "metadata": {
        "id": "loB8PQ_pBmwp"
      }
    },
    {
      "cell_type": "code",
      "source": [
        "from pyspark.ml.evaluation import MulticlassClassificationEvaluator\n",
        "\n",
        "# evaluate\n",
        "acc_evaluator = MulticlassClassificationEvaluator(labelCol='label', \n",
        "                                                  predictionCol='prediction', \n",
        "                                                  metricName='accuracy')\n",
        "gbt_acc_baseline = acc_evaluator.evaluate(gbt_predictions_baseline)\n",
        "\n",
        "f1_evaluator = MulticlassClassificationEvaluator(labelCol='label', \n",
        "                                                  predictionCol='prediction', \n",
        "                                                  metricName='f1')\n",
        "gbt_f1_baseline = f1_evaluator.evaluate(gbt_predictions_baseline)\n",
        "\n",
        "print(\"Here are the results!\")\n",
        "print('-'*80)\n",
        "print('A GBTClassifier baseline model had an accuracy of: {0:2.2f}%'.format(gbt_acc_baseline*100))\n",
        "print('A GBTClassifier baseline model had F-score of: {0:2.2f}%'.format(gbt_f1_baseline*100))"
      ],
      "metadata": {
        "colab": {
          "base_uri": "https://localhost:8080/"
        },
        "outputId": "8f8ae9e9-36d6-4fe3-af9e-fda30ba0ffba",
        "id": "RLcZx17ABmwp"
      },
      "execution_count": null,
      "outputs": [
        {
          "output_type": "stream",
          "name": "stdout",
          "text": [
            "Here are the results!\n",
            "--------------------------------------------------------------------------------\n",
            "A GBTClassifier baseline model had an accuracy of: 67.66%\n",
            "A GBTClassifier baseline model had F-score of: 67.51%\n"
          ]
        }
      ]
    },
    {
      "cell_type": "markdown",
      "source": [
        "### 10.3 Plot Confusion Matrix - GBTClassifier (Baseline)"
      ],
      "metadata": {
        "nteract": {
          "transient": {
            "deleting": false
          }
        },
        "id": "E3_vvGkRBmwp"
      }
    },
    {
      "cell_type": "code",
      "source": [
        "# show the unique class name as string list\n",
        "class_temp = gbt_predictions_baseline.select(\"label\").groupBy(\"label\")\\\n",
        "                        .count().sort('count', ascending=False).toPandas()\n",
        "class_temp = class_temp[\"label\"].values.tolist()\n",
        "class_names = map(str, class_temp)\n",
        "class_names"
      ],
      "outputs": [
        {
          "output_type": "execute_result",
          "data": {
            "text/plain": [
              "<map at 0x7faf0c7ee4c0>"
            ]
          },
          "metadata": {},
          "execution_count": 52
        }
      ],
      "execution_count": null,
      "metadata": {
        "jupyter": {
          "source_hidden": false,
          "outputs_hidden": false
        },
        "nteract": {
          "transient": {
            "deleting": false
          }
        },
        "gather": {
          "logged": 1639395646632
        },
        "colab": {
          "base_uri": "https://localhost:8080/"
        },
        "outputId": "d54052ac-d141-4da0-cac7-f417b7c65d80",
        "id": "ehFgdYPjBmwp"
      }
    },
    {
      "cell_type": "code",
      "source": [
        "## get the unique class name as string list \n",
        "class_temp = gbt_predictions_baseline.select(\"label\").groupBy(\"label\")\\\n",
        "                        .count().sort('count', ascending=False).toPandas()\n",
        "class_temp = class_temp[\"label\"].values.tolist()\n",
        "class_names = map(str, class_temp)\n",
        "class_names = list(class_names)"
      ],
      "outputs": [],
      "execution_count": null,
      "metadata": {
        "jupyter": {
          "source_hidden": false,
          "outputs_hidden": false
        },
        "nteract": {
          "transient": {
            "deleting": false
          }
        },
        "gather": {
          "logged": 1639395654144
        },
        "id": "kL0A9jvRBmwp"
      }
    },
    {
      "cell_type": "code",
      "source": [
        "## a function to plot Confusion Matrix\n",
        "import matplotlib.pyplot as plt\n",
        "import numpy as np\n",
        "import itertools\n",
        "\n",
        "def plot_confusion_matrix(cm, classes,\n",
        "                          normalize=False,\n",
        "                          title='Confusion matrix',\n",
        "                          cmap=plt.cm.Blues):\n",
        "    \"\"\"\n",
        "    This function prints and plots the confusion matrix.\n",
        "    Normalization can be applied by setting `normalize=True`.\n",
        "    \"\"\"\n",
        "    if normalize:\n",
        "        cm = cm.astype('float') / cm.sum(axis=1)[:, np.newaxis]\n",
        "        print(\"Normalized confusion matrix\")\n",
        "    else:\n",
        "        print('Confusion matrix, without normalization')\n",
        "\n",
        "    print(cm)\n",
        "\n",
        "    plt.imshow(cm, interpolation='nearest', cmap=cmap)\n",
        "    plt.title(title)\n",
        "    plt.colorbar()\n",
        "    tick_marks = np.arange(len(classes))\n",
        "    plt.xticks(tick_marks, classes, rotation=45)\n",
        "    plt.yticks(tick_marks, classes)\n",
        "\n",
        "    fmt = '.2f'\n",
        "    thresh = cm.max() / 2.\n",
        "    for i, j in itertools.product(range(cm.shape[0]), range(cm.shape[1])):\n",
        "        plt.text(j, i, format(cm[i, j], fmt),\n",
        "                 horizontalalignment=\"center\",\n",
        "                 color=\"white\" if cm[i, j] > thresh else \"black\")\n",
        "\n",
        "    plt.tight_layout()\n",
        "    plt.ylabel('True label')\n",
        "    plt.xlabel('Predicted label')"
      ],
      "outputs": [],
      "execution_count": null,
      "metadata": {
        "jupyter": {
          "source_hidden": false,
          "outputs_hidden": false
        },
        "nteract": {
          "transient": {
            "deleting": false
          }
        },
        "gather": {
          "logged": 1639395658107
        },
        "id": "2Nssj5rdBmwq"
      }
    },
    {
      "cell_type": "code",
      "source": [
        "from pyspark.mllib.evaluation import MulticlassMetrics\n",
        "import matplotlib.pyplot as plt\n",
        "\n",
        "res = gbt_predictions_baseline.select(\"label\", \"prediction\")\n",
        "\n",
        "# convert result dataframe to rdd\n",
        "results = res.rdd.map(lambda pl: (pl.prediction, pl.label * 1.0))\n",
        "results.take(10)\n",
        "\n",
        "# instantiate metrics object (there is another object for categorial evaluation!!!)\n",
        "metrics = MulticlassMetrics(results)\n",
        "\n",
        "# show confusion matrix\n",
        "cmat = metrics.confusionMatrix().toArray()\n",
        "\n",
        "# Plot non-normalized confusion matrix\n",
        "plt.figure()\n",
        "plot_confusion_matrix(cmat, classes=class_names, normalize=True,\n",
        "                      title='Model03 GBTClassifier Baseline Confusion matrix, without normalization')\n",
        "plt.show()"
      ],
      "outputs": [
        {
          "output_type": "stream",
          "name": "stderr",
          "text": [
            "/usr/local/lib/python3.9/dist-packages/pyspark/sql/context.py:157: FutureWarning: Deprecated in 3.0.0. Use SparkSession.builder.getOrCreate() instead.\n",
            "  warnings.warn(\n"
          ]
        },
        {
          "output_type": "stream",
          "name": "stdout",
          "text": [
            "Normalized confusion matrix\n",
            "[[0.60658153 0.39341847]\n",
            " [0.25224327 0.74775673]]\n"
          ]
        },
        {
          "output_type": "display_data",
          "data": {
            "text/plain": [
              "<Figure size 640x480 with 2 Axes>"
            ],
            "image/png": "[encoded data removed]"
          },
          "metadata": {}
        }
      ],
      "execution_count": null,
      "metadata": {
        "jupyter": {
          "source_hidden": false,
          "outputs_hidden": false
        },
        "nteract": {
          "transient": {
            "deleting": false
          }
        },
        "gather": {
          "logged": 1639395669610
        },
        "colab": {
          "base_uri": "https://localhost:8080/",
          "height": 596
        },
        "outputId": "3912dbc4-3816-494b-a501-ea20cc97296a",
        "id": "ExH5acbEBmwq"
      }
    },
    {
      "cell_type": "code",
      "source": [],
      "metadata": {
        "id": "GGC51FTE6NG8"
      },
      "execution_count": null,
      "outputs": []
    },
    {
      "cell_type": "markdown",
      "source": [
        "### 10.4 Model Evaluation (Baseline)"
      ],
      "metadata": {
        "id": "Okky0p-l6Nn2"
      }
    },
    {
      "cell_type": "code",
      "source": [
        "from pyspark.ml.evaluation import MulticlassClassificationEvaluator\n",
        "\n",
        "evaluator = BinaryClassificationEvaluator()\n",
        "evaluator_f = MulticlassClassificationEvaluator(labelCol='label', \n",
        "                                                predictionCol='prediction', \n",
        "                                                  metricName='f1')\n",
        "evaluator_acc = MulticlassClassificationEvaluator(labelCol='label', \n",
        "                                                  predictionCol='prediction', \n",
        "                                                  metricName='accuracy')\n",
        "\n",
        "test_roc = evaluator.evaluate(gbt_model_baseline.transform(test), {evaluator.metricName: \"areaUnderROC\"})\n",
        "f1_score_train = evaluator_f.evaluate(gbt_model_baseline.transform(train))\n",
        "acc_train = evaluator_acc.evaluate(gbt_model_baseline.transform(train))\n",
        "f1_score_test = evaluator_f.evaluate(gbt_model_baseline.transform(test))\n",
        "acc_test = evaluator_acc.evaluate(gbt_model_baseline.transform(test))\n",
        "\n",
        "print('The train_accuracy: {0:2.2f}%'.format(acc_train*100))\n",
        "print('The train_F-score: {0:2.2f}%'.format(f1_score_train*100))\n",
        "print('The test_accuracy: {0:2.2f}%'.format(f1_score_test*100))\n",
        "print('The test_F-score: {0:2.2f}%'.format(acc_test*100))\n",
        "print(\"Test_SET Area Under ROC: \" + str(test_roc))"
      ],
      "metadata": {
        "colab": {
          "base_uri": "https://localhost:8080/"
        },
        "outputId": "f3d281ec-c4ab-4f77-bbf0-46b8f1f98a09",
        "id": "XNiQbcYv6Nn2"
      },
      "execution_count": null,
      "outputs": [
        {
          "output_type": "stream",
          "name": "stdout",
          "text": [
            "The train_accuracy: 67.66%\n",
            "The train_F-score: 67.51%\n",
            "The test_accuracy: 59.36%\n",
            "The test_F-score: 59.60%\n",
            "Test_SET Area Under ROC: 0.6340744101633395\n"
          ]
        }
      ]
    },
    {
      "cell_type": "markdown",
      "source": [
        "### 10.5 Optimize Parameters by Grid Search"
      ],
      "metadata": {
        "id": "SBMbX2CfBmwr"
      }
    },
    {
      "cell_type": "code",
      "source": [
        "from pyspark.ml.tuning import ParamGridBuilder\n",
        "\n",
        "paramGrid = (ParamGridBuilder()\n",
        "             .addGrid(gbt_baseline.maxIter, [5])\n",
        "             .addGrid(gbt_baseline.maxDepth, [5])\n",
        "             .build())"
      ],
      "metadata": {
        "id": "zTyGuIUk4fem"
      },
      "execution_count": null,
      "outputs": []
    },
    {
      "cell_type": "code",
      "source": [
        "from pyspark.ml.evaluation import BinaryClassificationEvaluator\n",
        "from pyspark.ml.tuning import CrossValidator\n",
        "\n",
        "evaluator = BinaryClassificationEvaluator()\n",
        "cv_gbt = CrossValidator(estimator=gbt_baseline, estimatorParamMaps=paramGrid, evaluator=evaluator, numFolds=5)"
      ],
      "metadata": {
        "id": "DsLznAV5Bmwr"
      },
      "execution_count": null,
      "outputs": []
    },
    {
      "cell_type": "code",
      "source": [
        "cvModel_gbt = cv_gbt.fit(train)\n",
        "avgMetrics_gbt = cvModel_gbt.avgMetrics\n",
        "bestModel_gbt = cvModel_gbt.bestModel\n",
        "bestModel_gbt"
      ],
      "metadata": {
        "colab": {
          "base_uri": "https://localhost:8080/"
        },
        "outputId": "9b3fbbff-3006-459a-d62f-a212add894aa",
        "id": "ppWNaQjXBmwr"
      },
      "execution_count": null,
      "outputs": [
        {
          "output_type": "execute_result",
          "data": {
            "text/plain": [
              "GBTClassificationModel: uid = GBTClassifier_de11057a7bec, numTrees=5, numClasses=2, numFeatures=5"
            ]
          },
          "metadata": {},
          "execution_count": 59
        }
      ]
    },
    {
      "cell_type": "code",
      "source": [
        "print('maxDepth: ',bestModel_gbt.getMaxDepth())\n",
        "print('maxIter: ',bestModel_gbt.getMaxIter())"
      ],
      "metadata": {
        "colab": {
          "base_uri": "https://localhost:8080/"
        },
        "id": "gKAC-s_w6fmm",
        "outputId": "59b06e9d-27b5-4e01-9024-b1b770cd3f5a"
      },
      "execution_count": null,
      "outputs": [
        {
          "output_type": "stream",
          "name": "stdout",
          "text": [
            "maxDepth:  5\n",
            "maxIter:  5\n"
          ]
        }
      ]
    },
    {
      "cell_type": "code",
      "source": [
        "from pyspark.ml.evaluation import MulticlassClassificationEvaluator\n",
        "evaluator_f = MulticlassClassificationEvaluator(labelCol='label', \n",
        "                                                predictionCol='prediction', \n",
        "                                                  metricName='f1')\n",
        "evaluator_acc = MulticlassClassificationEvaluator(labelCol='label', \n",
        "                                                  predictionCol='prediction', \n",
        "                                                  metricName='accuracy')\n",
        "\n",
        "test_roc = evaluator.evaluate(cvModel_gbt.transform(test), {evaluator.metricName: \"areaUnderROC\"})\n",
        "f1_score_train = evaluator_f.evaluate(cvModel_gbt.transform(train))\n",
        "acc_train = evaluator_acc.evaluate(cvModel_gbt.transform(train))\n",
        "f1_score_test = evaluator_f.evaluate(cvModel_gbt.transform(test))\n",
        "acc_test = evaluator_acc.evaluate(cvModel_gbt.transform(test))\n",
        "print('The train_accuracy: {0:2.2f}%'.format(acc_train*100))\n",
        "print('The train_F-score: {0:2.2f}%'.format(f1_score_train*100))\n",
        "print('The test_accuracy: {0:2.2f}%'.format(f1_score_test*100))\n",
        "print('The test_F-score: {0:2.2f}%'.format(acc_test*100))\n",
        "print(\"Test_SET Area Under ROC: \" + str(test_roc))\n",
        "train_roc = evaluator.evaluate(cvModel_gbt.transform(train), {evaluator.metricName: \"areaUnderROC\"})\n",
        "print(\"train_SET Area Under ROC: \" + str(train_roc))"
      ],
      "metadata": {
        "colab": {
          "base_uri": "https://localhost:8080/"
        },
        "outputId": "506c0f3a-3605-4af6-f110-d6c2c627319e",
        "id": "lt8ZwZfSBmwr"
      },
      "execution_count": null,
      "outputs": [
        {
          "output_type": "stream",
          "name": "stdout",
          "text": [
            "The train_accuracy: 64.57%\n",
            "The train_F-score: 64.27%\n",
            "The test_accuracy: 59.75%\n",
            "The test_F-score: 60.13%\n",
            "Test_SET Area Under ROC: 0.6385025478151617\n",
            "train_SET Area Under ROC: 0.7046544551022759\n"
          ]
        }
      ]
    },
    {
      "cell_type": "markdown",
      "source": [
        "### 10.6 Plot Confusion Matrix (Optimized)"
      ],
      "metadata": {
        "nteract": {
          "transient": {
            "deleting": false
          }
        },
        "id": "-eq_Yl4M6jmk"
      }
    },
    {
      "cell_type": "code",
      "source": [
        "# show the unique class name as string list\n",
        "class_temp = cvModel_gbt.transform(test).select(\"label\").groupBy(\"label\")\\\n",
        "                        .count().sort('count', ascending=False).toPandas()\n",
        "class_temp = class_temp[\"label\"].values.tolist()\n",
        "class_names = map(str, class_temp)\n",
        "class_names"
      ],
      "outputs": [
        {
          "output_type": "execute_result",
          "data": {
            "text/plain": [
              "<map at 0x7faf0c64c4f0>"
            ]
          },
          "metadata": {},
          "execution_count": 62
        }
      ],
      "execution_count": null,
      "metadata": {
        "jupyter": {
          "source_hidden": false,
          "outputs_hidden": false
        },
        "nteract": {
          "transient": {
            "deleting": false
          }
        },
        "gather": {
          "logged": 1639395646632
        },
        "id": "hulGP_3X6jmk",
        "colab": {
          "base_uri": "https://localhost:8080/"
        },
        "outputId": "75216e15-fd71-4ea3-d110-9727de3bb663"
      }
    },
    {
      "cell_type": "code",
      "source": [
        "## get the unique class name as string list \n",
        "class_temp = cvModel_gbt.transform(test).select(\"label\").groupBy(\"label\")\\\n",
        "                        .count().sort('count', ascending=False).toPandas()\n",
        "class_temp = class_temp[\"label\"].values.tolist()\n",
        "class_names = map(str, class_temp)\n",
        "class_names = list(class_names)"
      ],
      "outputs": [],
      "execution_count": null,
      "metadata": {
        "jupyter": {
          "source_hidden": false,
          "outputs_hidden": false
        },
        "nteract": {
          "transient": {
            "deleting": false
          }
        },
        "gather": {
          "logged": 1639395654144
        },
        "id": "KsAw1zzr6jmk"
      }
    },
    {
      "cell_type": "code",
      "source": [
        "## a function to plot Confusion Matrix\n",
        "import matplotlib.pyplot as plt\n",
        "import numpy as np\n",
        "import itertools\n",
        "\n",
        "def plot_confusion_matrix(cm, classes,\n",
        "                          normalize=False,\n",
        "                          title='Confusion matrix',\n",
        "                          cmap=plt.cm.Blues):\n",
        "    \"\"\"\n",
        "    This function prints and plots the confusion matrix.\n",
        "    Normalization can be applied by setting `normalize=True`.\n",
        "    \"\"\"\n",
        "    if normalize:\n",
        "        cm = cm.astype('float') / cm.sum(axis=1)[:, np.newaxis]\n",
        "        print(\"Normalized confusion matrix\")\n",
        "    else:\n",
        "        print('Confusion matrix, without normalization')\n",
        "\n",
        "    print(cm)\n",
        "\n",
        "    plt.imshow(cm, interpolation='nearest', cmap=cmap)\n",
        "    plt.title(title)\n",
        "    plt.colorbar()\n",
        "    tick_marks = np.arange(len(classes))\n",
        "    plt.xticks(tick_marks, classes, rotation=45)\n",
        "    plt.yticks(tick_marks, classes)\n",
        "\n",
        "    fmt = '.2f'\n",
        "    thresh = cm.max() / 2.\n",
        "    for i, j in itertools.product(range(cm.shape[0]), range(cm.shape[1])):\n",
        "        plt.text(j, i, format(cm[i, j], fmt),\n",
        "                 horizontalalignment=\"center\",\n",
        "                 color=\"white\" if cm[i, j] > thresh else \"black\")\n",
        "\n",
        "    plt.tight_layout()\n",
        "    plt.ylabel('True label')\n",
        "    plt.xlabel('Predicted label')"
      ],
      "outputs": [],
      "execution_count": null,
      "metadata": {
        "jupyter": {
          "source_hidden": false,
          "outputs_hidden": false
        },
        "nteract": {
          "transient": {
            "deleting": false
          }
        },
        "gather": {
          "logged": 1639395658107
        },
        "id": "ydiYQ4Lw6jmk"
      }
    },
    {
      "cell_type": "code",
      "source": [
        "from pyspark.mllib.evaluation import MulticlassMetrics\n",
        "import matplotlib.pyplot as plt\n",
        "\n",
        "res = cvModel_gbt.transform(test).select(\"label\", \"prediction\")\n",
        "\n",
        "# convert result dataframe to rdd\n",
        "results = res.rdd.map(lambda pl: (pl.prediction, pl.label * 1.0))\n",
        "results.take(10)\n",
        "\n",
        "# instantiate metrics object (there is another object for categorial evaluation!!!)\n",
        "metrics = MulticlassMetrics(results)\n",
        "\n",
        "# show confusion matrix\n",
        "cmat = metrics.confusionMatrix().toArray()\n",
        "\n",
        "# Plot non-normalized confusion matrix\n",
        "plt.figure()\n",
        "plot_confusion_matrix(cmat, classes=class_names, normalize=True,\n",
        "                      title='Model03 GBT Optimization Confusion Matrix')\n",
        "plt.show()\n",
        "plt.savefig('gbtcm.png')"
      ],
      "outputs": [
        {
          "output_type": "stream",
          "name": "stderr",
          "text": [
            "/usr/local/lib/python3.9/dist-packages/pyspark/sql/context.py:157: FutureWarning: Deprecated in 3.0.0. Use SparkSession.builder.getOrCreate() instead.\n",
            "  warnings.warn(\n"
          ]
        },
        {
          "output_type": "stream",
          "name": "stdout",
          "text": [
            "Normalized confusion matrix\n",
            "[[0.50431034 0.49568966]\n",
            " [0.30769231 0.69230769]]\n"
          ]
        },
        {
          "output_type": "display_data",
          "data": {
            "text/plain": [
              "<Figure size 640x480 with 2 Axes>"
            ],
            "image/png": "[encoded data removed]"
          },
          "metadata": {}
        },
        {
          "output_type": "display_data",
          "data": {
            "text/plain": [
              "<Figure size 640x480 with 0 Axes>"
            ]
          },
          "metadata": {}
        }
      ],
      "execution_count": null,
      "metadata": {
        "jupyter": {
          "source_hidden": false,
          "outputs_hidden": false
        },
        "nteract": {
          "transient": {
            "deleting": false
          }
        },
        "gather": {
          "logged": 1639395669610
        },
        "id": "omn9VdY36jmk",
        "colab": {
          "base_uri": "https://localhost:8080/",
          "height": 614
        },
        "outputId": "ec41a733-ea50-4591-c8bb-72a08fa0ad9f"
      }
    },
    {
      "cell_type": "markdown",
      "source": [
        "### 10.7 GBT Model Performance Visualization"
      ],
      "metadata": {
        "id": "8hJbJQ1t6KDr"
      }
    },
    {
      "cell_type": "code",
      "source": [
        "# plt.style.use('ggplot')\n",
        "\n",
        "model_dataset = (\"GBT_Train_B\", \"GBT_Test_B\", \"GBT_Train_O\", \"GBT_Test_O\")\n",
        "metric_score=pd.read_csv('/content/drive/MyDrive/gp_527/gbt.csv')\n",
        "\n",
        "x = np.arange(len(model_dataset))  # the label locations\n",
        "width = 0.22  # the width of the bars\n",
        "multiplier = 0\n",
        "\n",
        "fig, ax = plt.subplots(figsize=(10,5), layout='constrained')\n",
        "\n",
        "for attribute, measurement in metric_score.items():\n",
        "    offset = width * multiplier\n",
        "    rects = ax.bar(x + offset, measurement, width, label=attribute, edgecolor='white')\n",
        "    ax.bar_label(rects, padding=3)\n",
        "    multiplier += 1\n",
        "\n",
        "# Add some text for labels, title and custom x-axis tick labels, etc.\n",
        "ax.set_ylabel('Score')\n",
        "ax.set_title('GBT Model Perfomance')\n",
        "ax.set_xticks(x + width, model_dataset)\n",
        "ax.legend(loc='upper right', ncols=3)\n",
        "ax.set_ylim(0, 1)\n",
        "plt.savefig('gbt.png', dpi=300)\n",
        "# files.download('decision_tree.png')\n",
        "plt.show()"
      ],
      "metadata": {
        "colab": {
          "base_uri": "https://localhost:8080/",
          "height": 528
        },
        "id": "EfQDoh_Qshw_",
        "outputId": "d72a84d7-636d-4cc8-d53c-311debdcb8fe"
      },
      "execution_count": null,
      "outputs": [
        {
          "output_type": "display_data",
          "data": {
            "text/plain": [
              "<Figure size 1000x500 with 1 Axes>"
            ],
            "image/png": "[encoded data removed]"
          },
          "metadata": {}
        }
      ]
    },
    {
      "cell_type": "code",
      "source": [],
      "metadata": {
        "id": "cX7Go983B20D"
      },
      "execution_count": null,
      "outputs": []
    },
    {
      "cell_type": "markdown",
      "source": [
        "## 11 Models Comparison and Visualization"
      ],
      "metadata": {
        "id": "3SI341GA6x7_"
      }
    },
    {
      "cell_type": "code",
      "source": [
        "# plt.style.use('ggplot')\n",
        "\n",
        "model_dataset = (\"LR_Test(Baseline)\", \"DT_Test\", \"RF_Test\", \"GBT_Test\")\n",
        "metric_score=pd.read_csv('/content/drive/MyDrive/gp_527/all.csv')\n",
        "\n",
        "x = np.arange(len(model_dataset))  # the label locations\n",
        "width = 0.22  # the width of the bars\n",
        "multiplier = 0\n",
        "\n",
        "fig, ax = plt.subplots(figsize=(10,5), layout='constrained')\n",
        "\n",
        "for attribute, measurement in metric_score.items():\n",
        "    offset = width * multiplier\n",
        "    rects = ax.bar(x + offset, measurement, width, label=attribute, edgecolor='white')\n",
        "    ax.bar_label(rects, padding=3)\n",
        "    multiplier += 1\n",
        "\n",
        "# Add some text for labels, title and custom x-axis tick labels, etc.\n",
        "ax.set_ylabel('Score')\n",
        "ax.set_title('4 Models Perfomance')\n",
        "ax.set_xticks(x + width, model_dataset)\n",
        "ax.legend(loc='upper right', ncols=3)\n",
        "ax.set_ylim(0, 1)\n",
        "plt.savefig('models.png', dpi=300)\n",
        "# files.download('decision_tree.png')\n",
        "plt.show()"
      ],
      "metadata": {
        "colab": {
          "base_uri": "https://localhost:8080/",
          "height": 528
        },
        "id": "pCSY5ywAAp_n",
        "outputId": "060f78fb-6cbf-48b7-b042-43c76909bcb0"
      },
      "execution_count": null,
      "outputs": [
        {
          "output_type": "display_data",
          "data": {
            "text/plain": [
              "<Figure size 1000x500 with 1 Axes>"
            ],
            "image/png": "[encoded data removed]"
          },
          "metadata": {}
        }
      ]
    },
    {
      "cell_type": "markdown",
      "source": [
        "## 10 Model Ensemble"
      ],
      "metadata": {
        "id": "0ntxTLKEQ2iw"
      }
    },
    {
      "cell_type": "code",
      "source": [
        "from pyspark.ml.classification import RandomForestClassifier, LogisticRegression\n",
        "from pyspark.ml.classification import MultilayerPerceptronClassifier\n",
        "from pyspark.ml.classification import DecisionTreeClassifier, RandomForestClassifier, GBTClassifier\n",
        "\n",
        "from pyspark.ml.evaluation import MulticlassClassificationEvaluator\n",
        "from pyspark.ml import Pipeline\n",
        "\n",
        "'''\n",
        "Important Step !!\n",
        "Rename the model output, incase they repeat and overlap with each other \n",
        "if not rename, both model output will call prediction\n",
        "'''\n"
      ],
      "metadata": {
        "id": "Qu6ckK7ur52P"
      },
      "execution_count": null,
      "outputs": []
    },
    {
      "cell_type": "code",
      "source": [
        "# Ensemble RandomForest and LogisticRegression\n",
        "\n",
        "rf = RandomForestClassifier(numTrees=20, featuresCol='features', labelCol='label', \n",
        "                            predictionCol='prediction_rf', rawPredictionCol='rawPrediction_rf', probabilityCol='probability_rf')\n",
        "\n",
        "rf2 =LogisticRegression(maxIter=20, regParam=0.3, elasticNetParam=0.2, featuresCol='probability_rf', labelCol='label',\n",
        "                            predictionCol='prediction_rf2', rawPredictionCol='rawPrediction_rf2', probabilityCol='probability_rf2')\n",
        "\n",
        "# evaluator, also need to rename to match the rf output name (i.e., prediction_rf)\n",
        "evaluator= MulticlassClassificationEvaluator(labelCol=\"label\", predictionCol=\"prediction_rf2\", metricName=\"accuracy\")\n",
        "\n",
        "pipeline = Pipeline(stages = [rf, rf2]) # first use rf to predict, then lr take the prediction\n",
        "model = pipeline.fit(train)\n",
        "result = model.transform(test)\n",
        "# result.show()\n",
        "\n",
        "ensemble_acc = evaluator.evaluate(result)\n",
        "\n",
        "print(\"Here are the results!\")\n",
        "print('-'*80)\n",
        "print('A ensemble model had an accuracy of: {0:2.2f}%'.format(ensemble_acc*100))"
      ],
      "metadata": {
        "colab": {
          "base_uri": "https://localhost:8080/"
        },
        "id": "P6YdBzjsHz_C",
        "outputId": "93d43f54-c857-46b7-ef8b-6f673475758f"
      },
      "execution_count": null,
      "outputs": [
        {
          "output_type": "stream",
          "name": "stdout",
          "text": [
            "Here are the results!\n",
            "--------------------------------------------------------------------------------\n",
            "A ensemble model had an accuracy of: 60.96%\n"
          ]
        }
      ]
    },
    {
      "cell_type": "code",
      "source": [],
      "metadata": {
        "id": "K0czgOzvUxMB"
      },
      "execution_count": null,
      "outputs": []
    },
    {
      "cell_type": "code",
      "source": [],
      "metadata": {
        "id": "GjQAxTTuUxF2"
      },
      "execution_count": null,
      "outputs": []
    },
    {
      "cell_type": "code",
      "source": [],
      "metadata": {
        "id": "KqL85CZkVgsF"
      },
      "execution_count": null,
      "outputs": []
    },
    {
      "cell_type": "code",
      "source": [],
      "metadata": {
        "id": "8i04MW6fVgmK"
      },
      "execution_count": null,
      "outputs": []
    }
  ],
  "metadata": {
    "kernelspec": {
      "name": "python3-azureml",
      "language": "python",
      "display_name": "Python 3.6 - AzureML"
    },
    "language_info": {
      "name": "python",
      "version": "3.6.9",
      "mimetype": "text/x-python",
      "codemirror_mode": {
        "name": "ipython",
        "version": 3
      },
      "pygments_lexer": "ipython3",
      "nbconvert_exporter": "python",
      "file_extension": ".py"
    },
    "kernel_info": {
      "name": "python3-azureml"
    },
    "microsoft": {
      "host": {
        "AzureML": {
          "notebookHasBeenCompleted": true
        }
      }
    },
    "nteract": {
      "version": "nteract-front-end@1.0.0"
    },
    "colab": {
      "provenance": [],
      "toc_visible": true,
      "collapsed_sections": [
        "ggkyq9XkCskK",
        "nVz4OjdVAP4C",
        "RFJld8GmAP4C",
        "89jpiNv-AP4D"
      ]
    }
  },
  "nbformat": 4,
  "nbformat_minor": 0
}